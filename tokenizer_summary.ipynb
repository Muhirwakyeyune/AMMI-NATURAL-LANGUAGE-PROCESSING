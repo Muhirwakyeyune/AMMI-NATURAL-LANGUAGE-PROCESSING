{
  "cells": [
    {
      "cell_type": "markdown",
      "metadata": {
        "id": "view-in-github",
        "colab_type": "text"
      },
      "source": [
        "<a href=\"https://colab.research.google.com/github/Muhirwakyeyune/AMMI-NATURAL-LANGUAGE-PROCESSING/blob/main/tokenizer_summary.ipynb\" target=\"_parent\"><img src=\"https://colab.research.google.com/assets/colab-badge.svg\" alt=\"Open In Colab\"/></a>"
      ]
    },
    {
      "cell_type": "code",
      "execution_count": 1,
      "metadata": {
        "id": "z0U5euBt6Q2b",
        "colab": {
          "base_uri": "https://localhost:8080/"
        },
        "outputId": "1c5f0db8-ddf7-4586-c3b8-3e9a9f9c5184"
      },
      "outputs": [
        {
          "output_type": "stream",
          "name": "stdout",
          "text": [
            "Looking in indexes: https://pypi.org/simple, https://us-python.pkg.dev/colab-wheels/public/simple/\n",
            "Collecting transformers\n",
            "  Downloading transformers-4.30.1-py3-none-any.whl (7.2 MB)\n",
            "\u001b[2K     \u001b[90m━━━━━━━━━━━━━━━━━━━━━━━━━━━━━━━━━━━━━━━━\u001b[0m \u001b[32m7.2/7.2 MB\u001b[0m \u001b[31m55.2 MB/s\u001b[0m eta \u001b[36m0:00:00\u001b[0m\n",
            "\u001b[?25hCollecting datasets\n",
            "  Downloading datasets-2.12.0-py3-none-any.whl (474 kB)\n",
            "\u001b[2K     \u001b[90m━━━━━━━━━━━━━━━━━━━━━━━━━━━━━━━━━━━━━━\u001b[0m \u001b[32m474.6/474.6 kB\u001b[0m \u001b[31m40.2 MB/s\u001b[0m eta \u001b[36m0:00:00\u001b[0m\n",
            "\u001b[?25hRequirement already satisfied: filelock in /usr/local/lib/python3.10/dist-packages (from transformers) (3.12.0)\n",
            "Collecting huggingface-hub<1.0,>=0.14.1 (from transformers)\n",
            "  Downloading huggingface_hub-0.15.1-py3-none-any.whl (236 kB)\n",
            "\u001b[2K     \u001b[90m━━━━━━━━━━━━━━━━━━━━━━━━━━━━━━━━━━━━━━\u001b[0m \u001b[32m236.8/236.8 kB\u001b[0m \u001b[31m21.8 MB/s\u001b[0m eta \u001b[36m0:00:00\u001b[0m\n",
            "\u001b[?25hRequirement already satisfied: numpy>=1.17 in /usr/local/lib/python3.10/dist-packages (from transformers) (1.22.4)\n",
            "Requirement already satisfied: packaging>=20.0 in /usr/local/lib/python3.10/dist-packages (from transformers) (23.1)\n",
            "Requirement already satisfied: pyyaml>=5.1 in /usr/local/lib/python3.10/dist-packages (from transformers) (6.0)\n",
            "Requirement already satisfied: regex!=2019.12.17 in /usr/local/lib/python3.10/dist-packages (from transformers) (2022.10.31)\n",
            "Requirement already satisfied: requests in /usr/local/lib/python3.10/dist-packages (from transformers) (2.27.1)\n",
            "Collecting tokenizers!=0.11.3,<0.14,>=0.11.1 (from transformers)\n",
            "  Downloading tokenizers-0.13.3-cp310-cp310-manylinux_2_17_x86_64.manylinux2014_x86_64.whl (7.8 MB)\n",
            "\u001b[2K     \u001b[90m━━━━━━━━━━━━━━━━━━━━━━━━━━━━━━━━━━━━━━━━\u001b[0m \u001b[32m7.8/7.8 MB\u001b[0m \u001b[31m64.4 MB/s\u001b[0m eta \u001b[36m0:00:00\u001b[0m\n",
            "\u001b[?25hCollecting safetensors>=0.3.1 (from transformers)\n",
            "  Downloading safetensors-0.3.1-cp310-cp310-manylinux_2_17_x86_64.manylinux2014_x86_64.whl (1.3 MB)\n",
            "\u001b[2K     \u001b[90m━━━━━━━━━━━━━━━━━━━━━━━━━━━━━━━━━━━━━━━━\u001b[0m \u001b[32m1.3/1.3 MB\u001b[0m \u001b[31m59.8 MB/s\u001b[0m eta \u001b[36m0:00:00\u001b[0m\n",
            "\u001b[?25hRequirement already satisfied: tqdm>=4.27 in /usr/local/lib/python3.10/dist-packages (from transformers) (4.65.0)\n",
            "Requirement already satisfied: pyarrow>=8.0.0 in /usr/local/lib/python3.10/dist-packages (from datasets) (9.0.0)\n",
            "Collecting dill<0.3.7,>=0.3.0 (from datasets)\n",
            "  Downloading dill-0.3.6-py3-none-any.whl (110 kB)\n",
            "\u001b[2K     \u001b[90m━━━━━━━━━━━━━━━━━━━━━━━━━━━━━━━━━━━━━━━\u001b[0m \u001b[32m110.5/110.5 kB\u001b[0m \u001b[31m8.8 MB/s\u001b[0m eta \u001b[36m0:00:00\u001b[0m\n",
            "\u001b[?25hRequirement already satisfied: pandas in /usr/local/lib/python3.10/dist-packages (from datasets) (1.5.3)\n",
            "Collecting xxhash (from datasets)\n",
            "  Downloading xxhash-3.2.0-cp310-cp310-manylinux_2_17_x86_64.manylinux2014_x86_64.whl (212 kB)\n",
            "\u001b[2K     \u001b[90m━━━━━━━━━━━━━━━━━━━━━━━━━━━━━━━━━━━━━━\u001b[0m \u001b[32m212.5/212.5 kB\u001b[0m \u001b[31m10.4 MB/s\u001b[0m eta \u001b[36m0:00:00\u001b[0m\n",
            "\u001b[?25hCollecting multiprocess (from datasets)\n",
            "  Downloading multiprocess-0.70.14-py310-none-any.whl (134 kB)\n",
            "\u001b[2K     \u001b[90m━━━━━━━━━━━━━━━━━━━━━━━━━━━━━━━━━━━━━━\u001b[0m \u001b[32m134.3/134.3 kB\u001b[0m \u001b[31m10.7 MB/s\u001b[0m eta \u001b[36m0:00:00\u001b[0m\n",
            "\u001b[?25hRequirement already satisfied: fsspec[http]>=2021.11.1 in /usr/local/lib/python3.10/dist-packages (from datasets) (2023.4.0)\n",
            "Collecting aiohttp (from datasets)\n",
            "  Downloading aiohttp-3.8.4-cp310-cp310-manylinux_2_17_x86_64.manylinux2014_x86_64.whl (1.0 MB)\n",
            "\u001b[2K     \u001b[90m━━━━━━━━━━━━━━━━━━━━━━━━━━━━━━━━━━━━━━━━\u001b[0m \u001b[32m1.0/1.0 MB\u001b[0m \u001b[31m46.2 MB/s\u001b[0m eta \u001b[36m0:00:00\u001b[0m\n",
            "\u001b[?25hCollecting responses<0.19 (from datasets)\n",
            "  Downloading responses-0.18.0-py3-none-any.whl (38 kB)\n",
            "Requirement already satisfied: attrs>=17.3.0 in /usr/local/lib/python3.10/dist-packages (from aiohttp->datasets) (23.1.0)\n",
            "Requirement already satisfied: charset-normalizer<4.0,>=2.0 in /usr/local/lib/python3.10/dist-packages (from aiohttp->datasets) (2.0.12)\n",
            "Collecting multidict<7.0,>=4.5 (from aiohttp->datasets)\n",
            "  Downloading multidict-6.0.4-cp310-cp310-manylinux_2_17_x86_64.manylinux2014_x86_64.whl (114 kB)\n",
            "\u001b[2K     \u001b[90m━━━━━━━━━━━━━━━━━━━━━━━━━━━━━━━━━━━━━━\u001b[0m \u001b[32m114.5/114.5 kB\u001b[0m \u001b[31m14.1 MB/s\u001b[0m eta \u001b[36m0:00:00\u001b[0m\n",
            "\u001b[?25hCollecting async-timeout<5.0,>=4.0.0a3 (from aiohttp->datasets)\n",
            "  Downloading async_timeout-4.0.2-py3-none-any.whl (5.8 kB)\n",
            "Collecting yarl<2.0,>=1.0 (from aiohttp->datasets)\n",
            "  Downloading yarl-1.9.2-cp310-cp310-manylinux_2_17_x86_64.manylinux2014_x86_64.whl (268 kB)\n",
            "\u001b[2K     \u001b[90m━━━━━━━━━━━━━━━━━━━━━━━━━━━━━━━━━━━━━━\u001b[0m \u001b[32m268.8/268.8 kB\u001b[0m \u001b[31m25.5 MB/s\u001b[0m eta \u001b[36m0:00:00\u001b[0m\n",
            "\u001b[?25hCollecting frozenlist>=1.1.1 (from aiohttp->datasets)\n",
            "  Downloading frozenlist-1.3.3-cp310-cp310-manylinux_2_5_x86_64.manylinux1_x86_64.manylinux_2_17_x86_64.manylinux2014_x86_64.whl (149 kB)\n",
            "\u001b[2K     \u001b[90m━━━━━━━━━━━━━━━━━━━━━━━━━━━━━━━━━━━━━━\u001b[0m \u001b[32m149.6/149.6 kB\u001b[0m \u001b[31m16.2 MB/s\u001b[0m eta \u001b[36m0:00:00\u001b[0m\n",
            "\u001b[?25hCollecting aiosignal>=1.1.2 (from aiohttp->datasets)\n",
            "  Downloading aiosignal-1.3.1-py3-none-any.whl (7.6 kB)\n",
            "Requirement already satisfied: typing-extensions>=3.7.4.3 in /usr/local/lib/python3.10/dist-packages (from huggingface-hub<1.0,>=0.14.1->transformers) (4.5.0)\n",
            "Requirement already satisfied: urllib3<1.27,>=1.21.1 in /usr/local/lib/python3.10/dist-packages (from requests->transformers) (1.26.15)\n",
            "Requirement already satisfied: certifi>=2017.4.17 in /usr/local/lib/python3.10/dist-packages (from requests->transformers) (2022.12.7)\n",
            "Requirement already satisfied: idna<4,>=2.5 in /usr/local/lib/python3.10/dist-packages (from requests->transformers) (3.4)\n",
            "Requirement already satisfied: python-dateutil>=2.8.1 in /usr/local/lib/python3.10/dist-packages (from pandas->datasets) (2.8.2)\n",
            "Requirement already satisfied: pytz>=2020.1 in /usr/local/lib/python3.10/dist-packages (from pandas->datasets) (2022.7.1)\n",
            "Requirement already satisfied: six>=1.5 in /usr/local/lib/python3.10/dist-packages (from python-dateutil>=2.8.1->pandas->datasets) (1.16.0)\n",
            "Installing collected packages: tokenizers, safetensors, xxhash, multidict, frozenlist, dill, async-timeout, yarl, responses, multiprocess, huggingface-hub, aiosignal, transformers, aiohttp, datasets\n",
            "Successfully installed aiohttp-3.8.4 aiosignal-1.3.1 async-timeout-4.0.2 datasets-2.12.0 dill-0.3.6 frozenlist-1.3.3 huggingface-hub-0.15.1 multidict-6.0.4 multiprocess-0.70.14 responses-0.18.0 safetensors-0.3.1 tokenizers-0.13.3 transformers-4.30.1 xxhash-3.2.0 yarl-1.9.2\n"
          ]
        }
      ],
      "source": [
        "# Transformers installation\n",
        "! pip install transformers datasets\n",
        "# To install from source instead of the last release, comment the command above and uncomment the following one.\n",
        "# ! pip install git+https://github.com/huggingface/transformers.git"
      ]
    },
    {
      "cell_type": "markdown",
      "metadata": {
        "id": "d5e7-t_g6Q2c"
      },
      "source": [
        "# Summary of the tokenizers"
      ]
    },
    {
      "cell_type": "markdown",
      "metadata": {
        "id": "SuH_sMFm6Q2d"
      },
      "source": [
        "On this page, we will have a closer look at tokenization."
      ]
    },
    {
      "cell_type": "code",
      "execution_count": 5,
      "metadata": {
        "hide_input": true,
        "id": "1KtZ4xNA6Q2d"
      },
      "outputs": [],
      "source": [
        "# #@title\n",
        "# from IPython.display import HTML\n",
        "\n",
        "# HTML('<iframe width=\"560\" height=\"315\" src=\"https://www.youtube.com/embed/VFp38yj8h3A?rel=0&amp;controls=0&amp;showinfo=0\" frameborder=\"0\" allowfullscreen></iframe>')"
      ]
    },
    {
      "cell_type": "code",
      "source": [
        "#@title\n",
        "from IPython.display import HTML\n",
        "\n",
        "HTML('<iframe width=\"560\" height=\"315\" src=\"https://www.youtube.com/watch?v=0jlWtU79X1E\" frameborder=\"0\" allowfullscreen></iframe>')"
      ],
      "metadata": {
        "colab": {
          "base_uri": "https://localhost:8080/",
          "height": 336
        },
        "id": "KoQ-Hvfu7P3J",
        "outputId": "a2306af3-5a9c-4caf-cdf6-436713d28eb6"
      },
      "execution_count": 6,
      "outputs": [
        {
          "output_type": "execute_result",
          "data": {
            "text/plain": [
              "<IPython.core.display.HTML object>"
            ],
            "text/html": [
              "<iframe width=\"560\" height=\"315\" src=\"https://www.youtube.com/watch?v=0jlWtU79X1E\" frameborder=\"0\" allowfullscreen></iframe>"
            ]
          },
          "metadata": {},
          "execution_count": 6
        }
      ]
    },
    {
      "cell_type": "markdown",
      "metadata": {
        "id": "DhMkPOYq6Q2e"
      },
      "source": [
        "As we saw in [the preprocessing tutorial](https://huggingface.co/docs/transformers/main/en/preprocessing), tokenizing a text is splitting it into words or\n",
        "subwords, which then are converted to ids through a look-up table. Converting words or subwords to ids is\n",
        "straightforward, so in this summary, we will focus on splitting a text into words or subwords (i.e. tokenizing a text).\n",
        "More specifically, we will look at the three main types of tokenizers used in 🤗 Transformers: [Byte-Pair Encoding\n",
        "(BPE)](#byte-pair-encoding), [WordPiece](#wordpiece), and [SentencePiece](#sentencepiece), and show examples\n",
        "of which tokenizer type is used by which model.\n",
        "\n",
        "Note that on each model page, you can look at the documentation of the associated tokenizer to know which tokenizer\n",
        "type was used by the pretrained model. For instance, if we look at [BertTokenizer](https://huggingface.co/docs/transformers/main/en/model_doc/bert#transformers.BertTokenizer), we can see\n",
        "that the model uses [WordPiece](#wordpiece)."
      ]
    },
    {
      "cell_type": "markdown",
      "metadata": {
        "id": "cecjqVSD6Q2e"
      },
      "source": [
        "## Introduction"
      ]
    },
    {
      "cell_type": "markdown",
      "metadata": {
        "id": "MTmkPTz_6Q2e"
      },
      "source": [
        "Splitting a text into smaller chunks is a task that is harder than it looks, and there are multiple ways of doing so.\n",
        "For instance, let's look at the sentence `\"Don't you love 🤗 Transformers? We sure do.\"`"
      ]
    },
    {
      "cell_type": "code",
      "execution_count": 7,
      "metadata": {
        "hide_input": true,
        "id": "ddkrwgBz6Q2e"
      },
      "outputs": [],
      "source": [
        "# #@title\n",
        "# from IPython.display import HTML\n",
        "\n",
        "# HTML('<iframe width=\"560\" height=\"315\" src=\"https://www.youtube.com/embed/nhJxYji1aho?rel=0&amp;controls=0&amp;showinfo=0\" frameborder=\"0\" allowfullscreen></iframe>')"
      ]
    },
    {
      "cell_type": "markdown",
      "metadata": {
        "id": "jeMuhzcJ6Q2f"
      },
      "source": [
        "A simple way of tokenizing this text is to split it by spaces, which would give:\n",
        "\n",
        "```\n",
        "[\"Don't\", \"you\", \"love\", \"🤗\", \"Transformers?\", \"We\", \"sure\", \"do.\"]\n",
        "```\n",
        "\n",
        "This is a sensible first step, but if we look at the tokens `\"Transformers?\"` and `\"do.\"`, we notice that the\n",
        "punctuation is attached to the words `\"Transformer\"` and `\"do\"`, which is suboptimal. We should take the\n",
        "punctuation into account so that a model does not have to learn a different representation of a word and every possible\n",
        "punctuation symbol that could follow it, which would explode the number of representations the model has to learn.\n",
        "Taking punctuation into account, tokenizing our exemplary text would give:\n",
        "\n",
        "```\n",
        "[\"Don\", \"'\", \"t\", \"you\", \"love\", \"🤗\", \"Transformers\", \"?\", \"We\", \"sure\", \"do\", \".\"]\n",
        "```\n",
        "\n",
        "Better. However, it is disadvantageous, how the tokenization dealt with the word `\"Don't\"`. `\"Don't\"` stands for\n",
        "`\"do not\"`, so it would be better tokenized as `[\"Do\", \"n't\"]`. This is where things start getting complicated, and\n",
        "part of the reason each model has its own tokenizer type. Depending on the rules we apply for tokenizing a text, a\n",
        "different tokenized output is generated for the same text. A pretrained model only performs properly if you feed it an\n",
        "input that was tokenized with the same rules that were used to tokenize its training data.\n",
        "\n",
        "[spaCy](https://spacy.io/) and [Moses](http://www.statmt.org/moses/?n=Development.GetStarted) are two popular\n",
        "rule-based tokenizers. Applying them on our example, *spaCy* and *Moses* would output something like:\n",
        "\n",
        "```\n",
        "[\"Do\", \"n't\", \"you\", \"love\", \"🤗\", \"Transformers\", \"?\", \"We\", \"sure\", \"do\", \".\"]\n",
        "```\n",
        "\n",
        "As can be seen space and punctuation tokenization, as well as rule-based tokenization, is used here. Space and\n",
        "punctuation tokenization and rule-based tokenization are both examples of word tokenization, which is loosely defined\n",
        "as splitting sentences into words. While it's the most intuitive way to split texts into smaller chunks, this\n",
        "tokenization method can lead to problems for massive text corpora. In this case, space and punctuation tokenization\n",
        "usually generates a very big vocabulary (the set of all unique words and tokens used). *E.g.*, [Transformer XL](https://huggingface.co/docs/transformers/main/en/model_doc/transformerxl) uses space and punctuation tokenization, resulting in a vocabulary size of 267,735!\n",
        "\n",
        "Such a big vocabulary size forces the model to have an enormous embedding matrix as the input and output layer, which\n",
        "causes both an increased memory and time complexity. In general, transformers models rarely have a vocabulary size\n",
        "greater than 50,000, especially if they are pretrained only on a single language.\n",
        "\n",
        "So if simple space and punctuation tokenization is unsatisfactory, why not simply tokenize on characters?"
      ]
    },
    {
      "cell_type": "code",
      "execution_count": 8,
      "metadata": {
        "hide_input": true,
        "id": "7QAm2Lbg6Q2f"
      },
      "outputs": [],
      "source": [
        "# #@title\n",
        "# from IPython.display import HTML\n",
        "\n",
        "# HTML('<iframe width=\"560\" height=\"315\" src=\"https://www.youtube.com/embed/ssLq_EK2jLE?rel=0&amp;controls=0&amp;showinfo=0\" frameborder=\"0\" allowfullscreen></iframe>')"
      ]
    },
    {
      "cell_type": "markdown",
      "metadata": {
        "id": "Wg0Mn6Ez6Q2f"
      },
      "source": [
        "While character tokenization is very simple and would greatly reduce memory and time complexity it makes it much harder\n",
        "for the model to learn meaningful input representations. *E.g.* learning a meaningful context-independent\n",
        "representation for the letter `\"t\"` is much harder than learning a context-independent representation for the word\n",
        "`\"today\"`. Therefore, character tokenization is often accompanied by a loss of performance. So to get the best of\n",
        "both worlds, transformers models use a hybrid between word-level and character-level tokenization called **subword**\n",
        "tokenization."
      ]
    },
    {
      "cell_type": "markdown",
      "metadata": {
        "id": "w_T-Rt7g6Q2f"
      },
      "source": [
        "## Subword tokenization"
      ]
    },
    {
      "cell_type": "code",
      "execution_count": 9,
      "metadata": {
        "hide_input": true,
        "id": "gkEYX0Wc6Q2f"
      },
      "outputs": [],
      "source": [
        "# #@title\n",
        "# from IPython.display import HTML\n",
        "\n",
        "# HTML('<iframe width=\"560\" height=\"315\" src=\"https://www.youtube.com/embed/zHvTiHr506c?rel=0&amp;controls=0&amp;showinfo=0\" frameborder=\"0\" allowfullscreen></iframe>')"
      ]
    },
    {
      "cell_type": "markdown",
      "metadata": {
        "id": "fgoHqcWa6Q2g"
      },
      "source": [
        "Subword tokenization algorithms rely on the principle that frequently used words should not be split into smaller\n",
        "subwords, but rare words should be decomposed into meaningful subwords. For instance `\"annoyingly\"` might be\n",
        "considered a rare word and could be decomposed into `\"annoying\"` and `\"ly\"`. Both `\"annoying\"` and `\"ly\"` as\n",
        "stand-alone subwords would appear more frequently while at the same time the meaning of `\"annoyingly\"` is kept by the\n",
        "composite meaning of `\"annoying\"` and `\"ly\"`. This is especially useful in agglutinative languages such as Turkish,\n",
        "where you can form (almost) arbitrarily long complex words by stringing together subwords.\n",
        "\n",
        "Subword tokenization allows the model to have a reasonable vocabulary size while being able to learn meaningful\n",
        "context-independent representations. In addition, subword tokenization enables the model to process words it has never\n",
        "seen before, by decomposing them into known subwords. For instance, the [BertTokenizer](https://huggingface.co/docs/transformers/main/en/model_doc/bert#transformers.BertTokenizer) tokenizes\n",
        "`\"I have a new GPU!\"` as follows:"
      ]
    },
    {
      "cell_type": "code",
      "execution_count": null,
      "metadata": {
        "id": "qOSwl3Jw6Q2g",
        "outputId": "e9b19e83-6bd9-4aae-84a1-652ad8c62bda"
      },
      "outputs": [
        {
          "data": {
            "text/plain": [
              "[\"i\", \"have\", \"a\", \"new\", \"gp\", \"##u\", \"!\"]"
            ]
          },
          "execution_count": null,
          "metadata": {},
          "output_type": "execute_result"
        }
      ],
      "source": [
        "from transformers import BertTokenizer\n",
        "\n",
        "tokenizer = BertTokenizer.from_pretrained(\"bert-base-uncased\")\n",
        "tokenizer.tokenize(\"I have a new GPU!\")"
      ]
    },
    {
      "cell_type": "markdown",
      "metadata": {
        "id": "t9WVmgc26Q2g"
      },
      "source": [
        "Because we are considering the uncased model, the sentence was lowercased first. We can see that the words `[\"i\", \"have\", \"a\", \"new\"]` are present in the tokenizer's vocabulary, but the word `\"gpu\"` is not. Consequently, the\n",
        "tokenizer splits `\"gpu\"` into known subwords: `[\"gp\" and \"##u\"]`. `\"##\"` means that the rest of the token should\n",
        "be attached to the previous one, without space (for decoding or reversal of the tokenization).\n",
        "\n",
        "As another example, [XLNetTokenizer](https://huggingface.co/docs/transformers/main/en/model_doc/xlnet#transformers.XLNetTokenizer) tokenizes our previously exemplary text as follows:"
      ]
    },
    {
      "cell_type": "code",
      "execution_count": null,
      "metadata": {
        "id": "W0GYvaLW6Q2g",
        "outputId": "0bbd24b3-1b0e-4569-ef61-a8b34e19910c"
      },
      "outputs": [
        {
          "data": {
            "text/plain": [
              "[\"▁Don\", \"'\", \"t\", \"▁you\", \"▁love\", \"▁\", \"🤗\", \"▁\", \"Transform\", \"ers\", \"?\", \"▁We\", \"▁sure\", \"▁do\", \".\"]"
            ]
          },
          "execution_count": null,
          "metadata": {},
          "output_type": "execute_result"
        }
      ],
      "source": [
        "from transformers import XLNetTokenizer\n",
        "\n",
        "tokenizer = XLNetTokenizer.from_pretrained(\"xlnet-base-cased\")\n",
        "tokenizer.tokenize(\"Don't you love 🤗 Transformers? We sure do.\")"
      ]
    },
    {
      "cell_type": "markdown",
      "metadata": {
        "id": "7v5cDgM76Q2g"
      },
      "source": [
        "We'll get back to the meaning of those `\"▁\"` when we look at [SentencePiece](#sentencepiece). As one can see,\n",
        "the rare word `\"Transformers\"` has been split into the more frequent subwords `\"Transform\"` and `\"ers\"`.\n",
        "\n",
        "Let's now look at how the different subword tokenization algorithms work. Note that all of those tokenization\n",
        "algorithms rely on some form of training which is usually done on the corpus the corresponding model will be trained\n",
        "on.\n",
        "\n",
        "<a id='byte-pair-encoding'></a>"
      ]
    },
    {
      "cell_type": "markdown",
      "metadata": {
        "id": "REQHPNt56Q2g"
      },
      "source": [
        "### Byte-Pair Encoding (BPE)"
      ]
    },
    {
      "cell_type": "markdown",
      "metadata": {
        "id": "7d7wb24B6Q2g"
      },
      "source": [
        "Byte-Pair Encoding (BPE) was introduced in [Neural Machine Translation of Rare Words with Subword Units (Sennrich et\n",
        "al., 2015)](https://arxiv.org/abs/1508.07909). BPE relies on a pre-tokenizer that splits the training data into\n",
        "words. Pretokenization can be as simple as space tokenization, e.g. [GPT-2](https://huggingface.co/docs/transformers/main/en/model_doc/gpt2), [Roberta](https://huggingface.co/docs/transformers/main/en/model_doc/roberta). More advanced pre-tokenization include rule-based tokenization, e.g. [XLM](https://huggingface.co/docs/transformers/main/en/model_doc/xlm),\n",
        "[FlauBERT](https://huggingface.co/docs/transformers/main/en/model_doc/flaubert) which uses Moses for most languages, or [GPT](https://huggingface.co/docs/transformers/main/en/model_doc/gpt) which uses\n",
        "Spacy and ftfy, to count the frequency of each word in the training corpus.\n",
        "\n",
        "After pre-tokenization, a set of unique words has been created and the frequency of each word it occurred in the\n",
        "training data has been determined. Next, BPE creates a base vocabulary consisting of all symbols that occur in the set\n",
        "of unique words and learns merge rules to form a new symbol from two symbols of the base vocabulary. It does so until\n",
        "the vocabulary has attained the desired vocabulary size. Note that the desired vocabulary size is a hyperparameter to\n",
        "define before training the tokenizer.\n",
        "\n",
        "As an example, let's assume that after pre-tokenization, the following set of words including their frequency has been\n",
        "determined:\n",
        "\n",
        "```\n",
        "(\"hug\", 10), (\"pug\", 5), (\"pun\", 12), (\"bun\", 4), (\"hugs\", 5)\n",
        "```\n",
        "\n",
        "Consequently, the base vocabulary is `[\"b\", \"g\", \"h\", \"n\", \"p\", \"s\", \"u\"]`. Splitting all words into symbols of the\n",
        "base vocabulary, we obtain:\n",
        "\n",
        "```\n",
        "(\"h\" \"u\" \"g\", 10), (\"p\" \"u\" \"g\", 5), (\"p\" \"u\" \"n\", 12), (\"b\" \"u\" \"n\", 4), (\"h\" \"u\" \"g\" \"s\", 5)\n",
        "```\n",
        "\n",
        "BPE then counts the frequency of each possible symbol pair and picks the symbol pair that occurs most frequently. In\n",
        "the example above `\"h\"` followed by `\"u\"` is present _10 + 5 = 15_ times (10 times in the 10 occurrences of\n",
        "`\"hug\"`, 5 times in the 5 occurrences of `\"hugs\"`). However, the most frequent symbol pair is `\"u\"` followed by\n",
        "`\"g\"`, occurring _10 + 5 + 5 = 20_ times in total. Thus, the first merge rule the tokenizer learns is to group all\n",
        "`\"u\"` symbols followed by a `\"g\"` symbol together. Next, `\"ug\"` is added to the vocabulary. The set of words then\n",
        "becomes\n",
        "\n",
        "```\n",
        "(\"h\" \"ug\", 10), (\"p\" \"ug\", 5), (\"p\" \"u\" \"n\", 12), (\"b\" \"u\" \"n\", 4), (\"h\" \"ug\" \"s\", 5)\n",
        "```\n",
        "\n",
        "BPE then identifies the next most common symbol pair. It's `\"u\"` followed by `\"n\"`, which occurs 16 times. `\"u\"`,\n",
        "`\"n\"` is merged to `\"un\"` and added to the vocabulary. The next most frequent symbol pair is `\"h\"` followed by\n",
        "`\"ug\"`, occurring 15 times. Again the pair is merged and `\"hug\"` can be added to the vocabulary.\n",
        "\n",
        "At this stage, the vocabulary is `[\"b\", \"g\", \"h\", \"n\", \"p\", \"s\", \"u\", \"ug\", \"un\", \"hug\"]` and our set of unique words\n",
        "is represented as\n",
        "\n",
        "```\n",
        "(\"hug\", 10), (\"p\" \"ug\", 5), (\"p\" \"un\", 12), (\"b\" \"un\", 4), (\"hug\" \"s\", 5)\n",
        "```\n",
        "\n",
        "Assuming, that the Byte-Pair Encoding training would stop at this point, the learned merge rules would then be applied\n",
        "to new words (as long as those new words do not include symbols that were not in the base vocabulary). For instance,\n",
        "the word `\"bug\"` would be tokenized to `[\"b\", \"ug\"]` but `\"mug\"` would be tokenized as `[\"<unk>\", \"ug\"]` since\n",
        "the symbol `\"m\"` is not in the base vocabulary. In general, single letters such as `\"m\"` are not replaced by the\n",
        "`\"<unk>\"` symbol because the training data usually includes at least one occurrence of each letter, but it is likely\n",
        "to happen for very special characters like emojis.\n",
        "\n",
        "As mentioned earlier, the vocabulary size, *i.e.* the base vocabulary size + the number of merges, is a hyperparameter\n",
        "to choose. For instance [GPT](https://huggingface.co/docs/transformers/main/en/model_doc/gpt) has a vocabulary size of 40,478 since they have 478 base characters\n",
        "and chose to stop training after 40,000 merges."
      ]
    },
    {
      "cell_type": "markdown",
      "metadata": {
        "id": "dSiv_yPx6Q2g"
      },
      "source": [
        "#### Byte-level BPE"
      ]
    },
    {
      "cell_type": "markdown",
      "metadata": {
        "id": "K8fduiDU6Q2g"
      },
      "source": [
        "A base vocabulary that includes all possible base characters can be quite large if *e.g.* all unicode characters are\n",
        "considered as base characters. To have a better base vocabulary, [GPT-2](https://cdn.openai.com/better-language-models/language_models_are_unsupervised_multitask_learners.pdf) uses bytes\n",
        "as the base vocabulary, which is a clever trick to force the base vocabulary to be of size 256 while ensuring that\n",
        "every base character is included in the vocabulary. With some additional rules to deal with punctuation, the GPT2's\n",
        "tokenizer can tokenize every text without the need for the <unk> symbol. [GPT-2](https://huggingface.co/docs/transformers/main/en/model_doc/gpt) has a vocabulary\n",
        "size of 50,257, which corresponds to the 256 bytes base tokens, a special end-of-text token and the symbols learned\n",
        "with 50,000 merges.\n",
        "\n",
        "<a id='wordpiece'></a>"
      ]
    },
    {
      "cell_type": "markdown",
      "metadata": {
        "id": "Y22jhP5I6Q2g"
      },
      "source": [
        "### WordPiece"
      ]
    },
    {
      "cell_type": "markdown",
      "metadata": {
        "id": "xYMqGSvD6Q2g"
      },
      "source": [
        "WordPiece is the subword tokenization algorithm used for [BERT](https://huggingface.co/docs/transformers/main/en/model_doc/bert), [DistilBERT](https://huggingface.co/docs/transformers/main/en/model_doc/distilbert), and [Electra](https://huggingface.co/docs/transformers/main/en/model_doc/electra). The algorithm was outlined in [Japanese and Korean\n",
        "Voice Search (Schuster et al., 2012)](https://static.googleusercontent.com/media/research.google.com/ja//pubs/archive/37842.pdf) and is very similar to\n",
        "BPE. WordPiece first initializes the vocabulary to include every character present in the training data and\n",
        "progressively learns a given number of merge rules. In contrast to BPE, WordPiece does not choose the most frequent\n",
        "symbol pair, but the one that maximizes the likelihood of the training data once added to the vocabulary.\n",
        "\n",
        "So what does this mean exactly? Referring to the previous example, maximizing the likelihood of the training data is\n",
        "equivalent to finding the symbol pair, whose probability divided by the probabilities of its first symbol followed by\n",
        "its second symbol is the greatest among all symbol pairs. *E.g.* `\"u\"`, followed by `\"g\"` would have only been\n",
        "merged if the probability of `\"ug\"` divided by `\"u\"`, `\"g\"` would have been greater than for any other symbol\n",
        "pair. Intuitively, WordPiece is slightly different to BPE in that it evaluates what it _loses_ by merging two symbols\n",
        "to ensure it's _worth it_.\n",
        "\n",
        "<a id='unigram'></a>"
      ]
    },
    {
      "cell_type": "markdown",
      "metadata": {
        "id": "m1Jig2mr6Q2g"
      },
      "source": [
        "### Unigram"
      ]
    },
    {
      "cell_type": "markdown",
      "metadata": {
        "id": "6AweuyKi6Q2g"
      },
      "source": [
        "Unigram is a subword tokenization algorithm introduced in [Subword Regularization: Improving Neural Network Translation\n",
        "Models with Multiple Subword Candidates (Kudo, 2018)](https://arxiv.org/pdf/1804.10959.pdf). In contrast to BPE or\n",
        "WordPiece, Unigram initializes its base vocabulary to a large number of symbols and progressively trims down each\n",
        "symbol to obtain a smaller vocabulary. The base vocabulary could for instance correspond to all pre-tokenized words and\n",
        "the most common substrings. Unigram is not used directly for any of the models in the transformers, but it's used in\n",
        "conjunction with [SentencePiece](#sentencepiece).\n",
        "\n",
        "At each training step, the Unigram algorithm defines a loss (often defined as the log-likelihood) over the training\n",
        "data given the current vocabulary and a unigram language model. Then, for each symbol in the vocabulary, the algorithm\n",
        "computes how much the overall loss would increase if the symbol was to be removed from the vocabulary. Unigram then\n",
        "removes p (with p usually being 10% or 20%) percent of the symbols whose loss increase is the lowest, *i.e.* those\n",
        "symbols that least affect the overall loss over the training data. This process is repeated until the vocabulary has\n",
        "reached the desired size. The Unigram algorithm always keeps the base characters so that any word can be tokenized.\n",
        "\n",
        "Because Unigram is not based on merge rules (in contrast to BPE and WordPiece), the algorithm has several ways of\n",
        "tokenizing new text after training. As an example, if a trained Unigram tokenizer exhibits the vocabulary:\n",
        "\n",
        "```\n",
        "[\"b\", \"g\", \"h\", \"n\", \"p\", \"s\", \"u\", \"ug\", \"un\", \"hug\"],\n",
        "```\n",
        "\n",
        "`\"hugs\"` could be tokenized both as `[\"hug\", \"s\"]`, `[\"h\", \"ug\", \"s\"]` or `[\"h\", \"u\", \"g\", \"s\"]`. So which one\n",
        "to choose? Unigram saves the probability of each token in the training corpus on top of saving the vocabulary so that\n",
        "the probability of each possible tokenization can be computed after training. The algorithm simply picks the most\n",
        "likely tokenization in practice, but also offers the possibility to sample a possible tokenization according to their\n",
        "probabilities.\n",
        "\n",
        "Those probabilities are defined by the loss the tokenizer is trained on. Assuming that the training data consists of\n",
        "the words $x_{1}, \\dots, x_{N}$ and that the set of all possible tokenizations for a word $x_{i}$ is\n",
        "defined as $S(x_{i})$, then the overall loss is defined as\n",
        "\n",
        "$$\\mathcal{L} = -\\sum_{i=1}^{N} \\log \\left ( \\sum_{x \\in S(x_{i})} p(x) \\right )$$\n",
        "\n",
        "<a id='sentencepiece'></a>"
      ]
    },
    {
      "cell_type": "markdown",
      "metadata": {
        "id": "suS2xbxV6Q2g"
      },
      "source": [
        "### SentencePiece"
      ]
    },
    {
      "cell_type": "markdown",
      "metadata": {
        "id": "F5VcDvcu6Q2g"
      },
      "source": [
        "All tokenization algorithms described so far have the same problem: It is assumed that the input text uses spaces to\n",
        "separate words. However, not all languages use spaces to separate words. One possible solution is to use language\n",
        "specific pre-tokenizers, *e.g.* [XLM](https://huggingface.co/docs/transformers/main/en/model_doc/xlm) uses a specific Chinese, Japanese, and Thai pre-tokenizer).\n",
        "To solve this problem more generally, [SentencePiece: A simple and language independent subword tokenizer and\n",
        "detokenizer for Neural Text Processing (Kudo et al., 2018)](https://arxiv.org/pdf/1808.06226.pdf) treats the input\n",
        "as a raw input stream, thus including the space in the set of characters to use. It then uses the BPE or unigram\n",
        "algorithm to construct the appropriate vocabulary.\n",
        "\n",
        "The [XLNetTokenizer](https://huggingface.co/docs/transformers/main/en/model_doc/xlnet#transformers.XLNetTokenizer) uses SentencePiece for example, which is also why in the example earlier the\n",
        "`\"▁\"` character was included in the vocabulary. Decoding with SentencePiece is very easy since all tokens can just be\n",
        "concatenated and `\"▁\"` is replaced by a space.\n",
        "\n",
        "All transformers models in the library that use SentencePiece use it in combination with unigram. Examples of models\n",
        "using SentencePiece are [ALBERT](https://huggingface.co/docs/transformers/main/en/model_doc/albert), [XLNet](https://huggingface.co/docs/transformers/main/en/model_doc/xlnet), [Marian](https://huggingface.co/docs/transformers/main/en/model_doc/marian), and [T5](https://huggingface.co/docs/transformers/main/en/model_doc/t5)."
      ]
    }
  ],
  "metadata": {
    "colab": {
      "provenance": [],
      "include_colab_link": true
    },
    "language_info": {
      "name": "python"
    },
    "kernelspec": {
      "name": "python3",
      "display_name": "Python 3"
    }
  },
  "nbformat": 4,
  "nbformat_minor": 0
}