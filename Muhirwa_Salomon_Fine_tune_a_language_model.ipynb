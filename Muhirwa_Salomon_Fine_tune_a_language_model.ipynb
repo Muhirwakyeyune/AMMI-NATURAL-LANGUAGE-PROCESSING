{
  "cells": [
    {
      "cell_type": "markdown",
      "metadata": {
        "id": "view-in-github",
        "colab_type": "text"
      },
      "source": [
        "<a href=\"https://colab.research.google.com/github/Muhirwakyeyune/AMMI-NATURAL-LANGUAGE-PROCESSING/blob/main/Muhirwa_Salomon_Fine_tune_a_language_model.ipynb\" target=\"_parent\"><img src=\"https://colab.research.google.com/assets/colab-badge.svg\" alt=\"Open In Colab\"/></a>"
      ]
    },
    {
      "cell_type": "markdown",
      "metadata": {
        "id": "X4cRE8IbIrIV"
      },
      "source": [
        "If you're opening this Notebook on colab, you will probably need to install 🤗 Transformers and 🤗 Datasets. Uncomment the following cell and run it."
      ]
    },
    {
      "cell_type": "code",
      "execution_count": 2,
      "metadata": {
        "id": "MOsHUjgdIrIW",
        "colab": {
          "base_uri": "https://localhost:8080/"
        },
        "outputId": "990efb5a-2184-4719-98ce-333fdcc00c41"
      },
      "outputs": [
        {
          "output_type": "stream",
          "name": "stdout",
          "text": [
            "Looking in indexes: https://pypi.org/simple, https://us-python.pkg.dev/colab-wheels/public/simple/\n",
            "Requirement already satisfied: datasets in /usr/local/lib/python3.10/dist-packages (2.13.1)\n",
            "Requirement already satisfied: transformers in /usr/local/lib/python3.10/dist-packages (4.30.2)\n",
            "Requirement already satisfied: numpy>=1.17 in /usr/local/lib/python3.10/dist-packages (from datasets) (1.22.4)\n",
            "Requirement already satisfied: pyarrow>=8.0.0 in /usr/local/lib/python3.10/dist-packages (from datasets) (9.0.0)\n",
            "Requirement already satisfied: dill<0.3.7,>=0.3.0 in /usr/local/lib/python3.10/dist-packages (from datasets) (0.3.6)\n",
            "Requirement already satisfied: pandas in /usr/local/lib/python3.10/dist-packages (from datasets) (1.5.3)\n",
            "Requirement already satisfied: requests>=2.19.0 in /usr/local/lib/python3.10/dist-packages (from datasets) (2.27.1)\n",
            "Requirement already satisfied: tqdm>=4.62.1 in /usr/local/lib/python3.10/dist-packages (from datasets) (4.65.0)\n",
            "Requirement already satisfied: xxhash in /usr/local/lib/python3.10/dist-packages (from datasets) (3.2.0)\n",
            "Requirement already satisfied: multiprocess in /usr/local/lib/python3.10/dist-packages (from datasets) (0.70.14)\n",
            "Requirement already satisfied: fsspec[http]>=2021.11.1 in /usr/local/lib/python3.10/dist-packages (from datasets) (2023.6.0)\n",
            "Requirement already satisfied: aiohttp in /usr/local/lib/python3.10/dist-packages (from datasets) (3.8.4)\n",
            "Requirement already satisfied: huggingface-hub<1.0.0,>=0.11.0 in /usr/local/lib/python3.10/dist-packages (from datasets) (0.15.1)\n",
            "Requirement already satisfied: packaging in /usr/local/lib/python3.10/dist-packages (from datasets) (23.1)\n",
            "Requirement already satisfied: pyyaml>=5.1 in /usr/local/lib/python3.10/dist-packages (from datasets) (6.0)\n",
            "Requirement already satisfied: filelock in /usr/local/lib/python3.10/dist-packages (from transformers) (3.12.2)\n",
            "Requirement already satisfied: regex!=2019.12.17 in /usr/local/lib/python3.10/dist-packages (from transformers) (2022.10.31)\n",
            "Requirement already satisfied: tokenizers!=0.11.3,<0.14,>=0.11.1 in /usr/local/lib/python3.10/dist-packages (from transformers) (0.13.3)\n",
            "Requirement already satisfied: safetensors>=0.3.1 in /usr/local/lib/python3.10/dist-packages (from transformers) (0.3.1)\n",
            "Requirement already satisfied: attrs>=17.3.0 in /usr/local/lib/python3.10/dist-packages (from aiohttp->datasets) (23.1.0)\n",
            "Requirement already satisfied: charset-normalizer<4.0,>=2.0 in /usr/local/lib/python3.10/dist-packages (from aiohttp->datasets) (2.0.12)\n",
            "Requirement already satisfied: multidict<7.0,>=4.5 in /usr/local/lib/python3.10/dist-packages (from aiohttp->datasets) (6.0.4)\n",
            "Requirement already satisfied: async-timeout<5.0,>=4.0.0a3 in /usr/local/lib/python3.10/dist-packages (from aiohttp->datasets) (4.0.2)\n",
            "Requirement already satisfied: yarl<2.0,>=1.0 in /usr/local/lib/python3.10/dist-packages (from aiohttp->datasets) (1.9.2)\n",
            "Requirement already satisfied: frozenlist>=1.1.1 in /usr/local/lib/python3.10/dist-packages (from aiohttp->datasets) (1.3.3)\n",
            "Requirement already satisfied: aiosignal>=1.1.2 in /usr/local/lib/python3.10/dist-packages (from aiohttp->datasets) (1.3.1)\n",
            "Requirement already satisfied: typing-extensions>=3.7.4.3 in /usr/local/lib/python3.10/dist-packages (from huggingface-hub<1.0.0,>=0.11.0->datasets) (4.6.3)\n",
            "Requirement already satisfied: urllib3<1.27,>=1.21.1 in /usr/local/lib/python3.10/dist-packages (from requests>=2.19.0->datasets) (1.26.16)\n",
            "Requirement already satisfied: certifi>=2017.4.17 in /usr/local/lib/python3.10/dist-packages (from requests>=2.19.0->datasets) (2023.5.7)\n",
            "Requirement already satisfied: idna<4,>=2.5 in /usr/local/lib/python3.10/dist-packages (from requests>=2.19.0->datasets) (3.4)\n",
            "Requirement already satisfied: python-dateutil>=2.8.1 in /usr/local/lib/python3.10/dist-packages (from pandas->datasets) (2.8.2)\n",
            "Requirement already satisfied: pytz>=2020.1 in /usr/local/lib/python3.10/dist-packages (from pandas->datasets) (2022.7.1)\n",
            "Requirement already satisfied: six>=1.5 in /usr/local/lib/python3.10/dist-packages (from python-dateutil>=2.8.1->pandas->datasets) (1.16.0)\n"
          ]
        }
      ],
      "source": [
        "! pip install datasets transformers"
      ]
    },
    {
      "cell_type": "markdown",
      "metadata": {
        "id": "8QsK0kh7t0kb"
      },
      "source": [
        "If you're opening this notebook locally, make sure your environment has an install from the last version of those libraries.\n",
        "\n",
        "To be able to share your model with the community and generate results like the one shown in the picture below via the inference API, there are a few more steps to follow.\n",
        "\n",
        "First you have to store your authentication token from the Hugging Face website (sign up [here](https://huggingface.co/join) if you haven't already!) then execute the following cell and input your username and password:"
      ]
    },
    {
      "cell_type": "code",
      "execution_count": 3,
      "metadata": {
        "id": "waXBUNFBt0kc",
        "colab": {
          "base_uri": "https://localhost:8080/",
          "height": 145,
          "referenced_widgets": [
            "9104f286aea446e8ab9ed840f609666c",
            "7950baede16342939144518b70c2e5b7",
            "e7b6c6bb3e6c44b1a1b23ae3a68140ea",
            "76d031e60b82446a8ed04ec3f3e1288c",
            "885ec82cd6bf409d88b5f7afd1ee0cac",
            "b18c2f8cf0d545f6a278631eb28ddca5",
            "a22379ad4f934eb0bc7e8e6d481d8643",
            "ab490f0003494883a3cc493e41768afb",
            "d57d0b6165bd40b0a7123d87babdae0c",
            "790860af5c174f47adb4bd9e2057bd68",
            "19384eba494a48bf9a77d01f96a4f76b",
            "dafb3c5514594d199c073c834b9f05af",
            "7001dbce7aa340e8ba45b0d8e9e32add",
            "149552c84fd747b581467d477bca8ac2",
            "3827fd6657bf4d2f8de0183c576a09fe",
            "ff498c282e7e49a0a947c1b9077bee56",
            "cb0b8fdbccf6497eb35a2f7263efaa26",
            "9774a5e5fb3146689e4557e81e1f71fe",
            "80e50c2622384edca8385f6d81d83d3c",
            "a2e966ed7ad54ba383efc96c1f73d482",
            "650a7cb573c843fa8d035ce8b7305b19",
            "2a28bb7b8bae47e982ca06ed641d9ec6",
            "bed36f0028f54ccc989ffcdc977c5c33",
            "fec40e24ba1943e18bcb1ea898656925",
            "d271cbed571e4143b2afb8def9521501",
            "dc996c35116f4c99a505ea2c93e54131",
            "383cd5fd49e4431091dcc666e95ed44b",
            "45187674214046ae8642fa6f417c3709",
            "02839b6e45a248c783b9cf4b5f2106c3",
            "5da3d531a27c47418c4f7f77e39e7041",
            "158bdbc06d0f4da18ea5caabdbdbee1f",
            "72f62e1c1f4f4968aee33ac1c81261f8"
          ]
        },
        "outputId": "5ca69df0-4bdc-46ef-e2c6-10d1b8813724"
      },
      "outputs": [
        {
          "output_type": "display_data",
          "data": {
            "text/plain": [
              "VBox(children=(HTML(value='<center> <img\\nsrc=https://huggingface.co/front/assets/huggingface_logo-noborder.sv…"
            ],
            "application/vnd.jupyter.widget-view+json": {
              "version_major": 2,
              "version_minor": 0,
              "model_id": "9104f286aea446e8ab9ed840f609666c"
            }
          },
          "metadata": {}
        }
      ],
      "source": [
        "from huggingface_hub import notebook_login\n",
        "\n",
        "notebook_login()"
      ]
    },
    {
      "cell_type": "markdown",
      "metadata": {
        "id": "RruRW-jUt0kc"
      },
      "source": [
        "Then you need to install Git-LFS. Uncomment the following instructions:"
      ]
    },
    {
      "cell_type": "code",
      "execution_count": 4,
      "metadata": {
        "id": "TsHheTust0kc",
        "colab": {
          "base_uri": "https://localhost:8080/"
        },
        "outputId": "f8e57b9c-0204-4307-ce79-323240377f38"
      },
      "outputs": [
        {
          "output_type": "stream",
          "name": "stdout",
          "text": [
            "Reading package lists... Done\n",
            "Building dependency tree       \n",
            "Reading state information... Done\n",
            "git-lfs is already the newest version (2.9.2-1).\n",
            "0 upgraded, 0 newly installed, 0 to remove and 13 not upgraded.\n"
          ]
        }
      ],
      "source": [
        " !apt install git-lfs"
      ]
    },
    {
      "cell_type": "markdown",
      "metadata": {
        "id": "b6waGzCVt0kc"
      },
      "source": [
        "Make sure your version of Transformers is at least 4.11.0 since the functionality was introduced in that version:"
      ]
    },
    {
      "cell_type": "code",
      "execution_count": 5,
      "metadata": {
        "id": "1zP6KA8vt0kc",
        "colab": {
          "base_uri": "https://localhost:8080/"
        },
        "outputId": "14bd92a8-d20d-4607-dccf-04982a6c06ae"
      },
      "outputs": [
        {
          "output_type": "stream",
          "name": "stdout",
          "text": [
            "4.30.2\n"
          ]
        }
      ],
      "source": [
        "import transformers\n",
        "\n",
        "print(transformers.__version__)"
      ]
    },
    {
      "cell_type": "markdown",
      "metadata": {
        "id": "HFASsisvIrIb"
      },
      "source": [
        "You can find a script version of this notebook to fine-tune your model in a distributed fashion using multiple GPUs or TPUs [here](https://github.com/huggingface/transformers/tree/master/examples/language-modeling)."
      ]
    },
    {
      "cell_type": "markdown",
      "metadata": {
        "id": "rdvb5V-At0kd"
      },
      "source": [
        "We also quickly upload some telemetry - this tells us which examples and software versions are getting used so we know where to prioritize our maintenance efforts. We don't collect (or care about) any personally identifiable information, but if you'd prefer not to be counted, feel free to skip this step or delete this cell entirely."
      ]
    },
    {
      "cell_type": "code",
      "execution_count": 6,
      "metadata": {
        "id": "NZtIinawt0kd"
      },
      "outputs": [],
      "source": [
        "from transformers.utils import send_example_telemetry\n",
        "\n",
        "send_example_telemetry(\"language_modeling_notebook\", framework=\"pytorch\")"
      ]
    },
    {
      "cell_type": "markdown",
      "metadata": {
        "id": "a3KD3WXU3l-O"
      },
      "source": [
        "# Fine-tuning a language model"
      ]
    },
    {
      "cell_type": "markdown",
      "metadata": {
        "id": "JAscNNUD3l-P"
      },
      "source": [
        "In this notebook, we'll see how to fine-tune one of the [🤗 Transformers](https://github.com/huggingface/transformers) model on a language modeling tasks. We will cover two types of language modeling tasks which are:\n",
        "\n",
        "- Causal language modeling: the model has to predict the next token in the sentence (so the labels are the same as the inputs shifted to the right). To make sure the model does not cheat, it gets an attention mask that will prevent it to access the tokens after token i when trying to predict the token i+1 in the sentence.\n",
        "\n",
        "![Widget inference representing the causal language modeling task](https://github.com/huggingface/notebooks/blob/main/examples/images/causal_language_modeling.png?raw=1)\n",
        "\n",
        "- Masked language modeling: the model has to predict some tokens that are masked in the input. It still has access to the whole sentence, so it can use the tokens before and after the tokens masked to predict their value.\n",
        "\n",
        "![Widget inference representing the masked language modeling task](https://github.com/huggingface/notebooks/blob/main/examples/images/masked_language_modeling.png?raw=1)\n",
        "\n",
        "We will see how to easily load and preprocess the dataset for each one of those tasks, and how to use the `Trainer` API to fine-tune a model on it.\n",
        "\n",
        "A script version of this notebook you can directly run on a distributed environment or on TPU is available in our [examples folder](https://github.com/huggingface/transformers/tree/master/examples)."
      ]
    },
    {
      "cell_type": "markdown",
      "metadata": {
        "id": "1r_n9OWV3l-Q"
      },
      "source": [
        "## Preparing the dataset"
      ]
    },
    {
      "cell_type": "markdown",
      "metadata": {
        "id": "kswRMhPc3l-Q"
      },
      "source": [
        "For each of those tasks, we will use the [Wikitext 2]() dataset as an example. You can load it very easily with the 🤗 Datasets library."
      ]
    },
    {
      "cell_type": "code",
      "execution_count": 7,
      "metadata": {
        "id": "n2ZRs1cL3l-R",
        "outputId": "b731dcde-4052-4fe7-b796-71ac0885ca76",
        "colab": {
          "base_uri": "https://localhost:8080/",
          "height": 232,
          "referenced_widgets": [
            "d16098fa585a458f8d537785018d722c",
            "5b483ea92e584c9a99d3f3bcce91f169",
            "778bffe0bb244f0f9d044bd166d4eabe",
            "b93360b3d23f42f3ab1245c48f058c85",
            "2336ead224844dfc81d3dd86c796f96d",
            "d17da9af095f409abf0c7da05b696758",
            "d86c01e3984c483bae980dbd3e4ff7bc",
            "13c3f4cfc69a42a99ce3a4e120c54afe",
            "4c5fac866f72452eae235d78181fd802",
            "b316e413f57140498aff998bbf463ebf",
            "c82a4d334a0c4e30bbbf1ffdc9a0befa",
            "76f8b84b34484d8ea3e04f0f0b070aa6",
            "1dce253bf0e5489a84cec4d01ed4e256",
            "b172b16335d84193bfbc931e3f604ab8",
            "91dbbc2236a64f7c9b5a0c52826e2e94",
            "4f74a76b0b834b87ac39339ea8b56262",
            "72f05cfebbdc42e48fbbe92b6942086f",
            "4819f7c54e5d40ceab680da954058395",
            "08fcfead9f7848e7a3d94ad60cd24bb2",
            "a41c7880e311420aae544711b3330654",
            "405597b011b74fc59d089a4daf7f3519",
            "e7351693ed4541e6866db19b91682619",
            "2d557c66d1ec48909efb3aa74b6e35f3",
            "63b709e126444c3188f3cffe635d4c55",
            "1338d76c970d4cd893733a8ebca60e63",
            "6677d263d1014d5492edd2c02929b46a",
            "17703e75c8bd4a0b9a8a46cedef2b345",
            "5ab026aa05284fcfb6c947005406149a",
            "291106ac5b5146af8ab0447ff23851db",
            "4a1b889953904984aa85b196e24a1ab6",
            "f9f14bb982cf41409fe1dd223e715f64",
            "6c7578e6c9f94369a2b4e7b146218cbb",
            "f1017c481b994f899e880d38f8ea89c5",
            "7cf6920a2b954e8c9f2135f955570d14",
            "cc2e072623bb477d9f74a75c731df4ab",
            "1d1e83039cb7470e887cc0bfae2aa773",
            "8e55b2aa84644440b2e9c48726406b5e",
            "4e156759903043a2a93eea63561b1451",
            "f22785d6a4304cdbbc6475caed7fab21",
            "ac77801ad961427ea264e546ef6c960f",
            "282a0c29d9ba4a89bdb3b3518dc4b9cc",
            "8a9eb7c104eb44d4ba946ffe506f59b3",
            "1c6202db1088471c88914250226a571c",
            "b730f4e66b3f40b2951a71e20c841ac1",
            "20bc9bc9736341dd984493834ef53607",
            "407aa51501d14292b417d9448976adaa",
            "57b5a34607bb4cde86d8ac90511c783e",
            "6429116ca5f44db3b01f3adaf29095ea",
            "fb4ed63a6b9447d5975d7b43cc6aa943",
            "265b5a8efc2a43c3bb2c33f6bd21ef41",
            "a1c3d662d3ab4178bb27af5f59367311",
            "f61be81e1e8a4d30a09dcc0c5c726305",
            "5d3cb884d86143e680287d13b4931df1",
            "d00787167dfe4b9ea00b6e78452267d5",
            "198249abd68a423088c56cd386af7182",
            "ea761171fccc44a19bc2ae8da4d252a3",
            "4a6318e793b2427e9f1fb87ea4745927",
            "576a204142854840979c47fd2bd020dc",
            "d90fe01c9aae41ae9aceda1daf64c31a",
            "fd41b495563d4331a2ec09840c1f050a",
            "d270456eae01458bb184ea81b422bf8f",
            "7f2402ef7add4a97a3983d7fa039be38",
            "d7c5dbf94afa4f5ab0295d6b6cc841a1",
            "1e17a578a64c4c95bd679072be4a3076",
            "2459d46ae8c14a9eab312640ad67e70f",
            "64eb86b7e8ea4a93a786b24ec8e5a1a6",
            "3f45df23b1ce4c9694bd4bfff045e80e",
            "07ddb303425b4329aaf7ea5a7b8eec1c",
            "28f872ab4c814737ad859b7b6079acea",
            "c7f8d584773d4c03acdea30cbf0bafa2",
            "d3e7627f90114cddab59738817d91f58",
            "06a3ecd707fd4b4fbcf98e6203444050",
            "4214a269767c40dfb6e2b5cbe32250e4",
            "e3b782ebee99413bb2a557892370f77c",
            "1981800ab58240bea04ad06755ee86e8",
            "2626e0b206d74b328275c54bd4688b5a",
            "549185537d924f3bbb4487e7ed36e405",
            "71c0de5291a1422ea865824cab489143",
            "0a9a5d99422e448da1559af456ac7460",
            "965084cf0e9f43eea8dcb692aeef8295",
            "468b69f8dcfb433c830447340662ddac",
            "13dbd065a14d47139a8cd5ac2f506aef",
            "28e296c4034f4820828ada34b4e16945",
            "ff40d6ea2c064b08ad61f86c49d66618",
            "980c032bb396425abe23461a15092d7b",
            "9f8b7071505b4601b38bcaf65a4d28ab",
            "4c547c460de44508b58c8cb3b42897e2",
            "bca29aa53a6b4c28904ecc5103cdc5bf"
          ]
        }
      },
      "outputs": [
        {
          "output_type": "display_data",
          "data": {
            "text/plain": [
              "Downloading builder script: 0.00B [00:00, ?B/s]"
            ],
            "application/vnd.jupyter.widget-view+json": {
              "version_major": 2,
              "version_minor": 0,
              "model_id": "d16098fa585a458f8d537785018d722c"
            }
          },
          "metadata": {}
        },
        {
          "output_type": "display_data",
          "data": {
            "text/plain": [
              "Downloading metadata: 0.00B [00:00, ?B/s]"
            ],
            "application/vnd.jupyter.widget-view+json": {
              "version_major": 2,
              "version_minor": 0,
              "model_id": "76f8b84b34484d8ea3e04f0f0b070aa6"
            }
          },
          "metadata": {}
        },
        {
          "output_type": "display_data",
          "data": {
            "text/plain": [
              "Downloading readme: 0.00B [00:00, ?B/s]"
            ],
            "application/vnd.jupyter.widget-view+json": {
              "version_major": 2,
              "version_minor": 0,
              "model_id": "2d557c66d1ec48909efb3aa74b6e35f3"
            }
          },
          "metadata": {}
        },
        {
          "output_type": "stream",
          "name": "stdout",
          "text": [
            "Downloading and preparing dataset wikitext/wikitext-2-raw-v1 to /root/.cache/huggingface/datasets/wikitext/wikitext-2-raw-v1/1.0.0/a241db52902eaf2c6aa732210bead40c090019a499ceb13bcbfa3f8ab646a126...\n"
          ]
        },
        {
          "output_type": "display_data",
          "data": {
            "text/plain": [
              "Downloading data:   0%|          | 0.00/4.72M [00:00<?, ?B/s]"
            ],
            "application/vnd.jupyter.widget-view+json": {
              "version_major": 2,
              "version_minor": 0,
              "model_id": "7cf6920a2b954e8c9f2135f955570d14"
            }
          },
          "metadata": {}
        },
        {
          "output_type": "display_data",
          "data": {
            "text/plain": [
              "Generating test split:   0%|          | 0/4358 [00:00<?, ? examples/s]"
            ],
            "application/vnd.jupyter.widget-view+json": {
              "version_major": 2,
              "version_minor": 0,
              "model_id": "20bc9bc9736341dd984493834ef53607"
            }
          },
          "metadata": {}
        },
        {
          "output_type": "display_data",
          "data": {
            "text/plain": [
              "Generating train split:   0%|          | 0/36718 [00:00<?, ? examples/s]"
            ],
            "application/vnd.jupyter.widget-view+json": {
              "version_major": 2,
              "version_minor": 0,
              "model_id": "ea761171fccc44a19bc2ae8da4d252a3"
            }
          },
          "metadata": {}
        },
        {
          "output_type": "display_data",
          "data": {
            "text/plain": [
              "Generating validation split:   0%|          | 0/3760 [00:00<?, ? examples/s]"
            ],
            "application/vnd.jupyter.widget-view+json": {
              "version_major": 2,
              "version_minor": 0,
              "model_id": "3f45df23b1ce4c9694bd4bfff045e80e"
            }
          },
          "metadata": {}
        },
        {
          "output_type": "stream",
          "name": "stdout",
          "text": [
            "Dataset wikitext downloaded and prepared to /root/.cache/huggingface/datasets/wikitext/wikitext-2-raw-v1/1.0.0/a241db52902eaf2c6aa732210bead40c090019a499ceb13bcbfa3f8ab646a126. Subsequent calls will reuse this data.\n"
          ]
        },
        {
          "output_type": "display_data",
          "data": {
            "text/plain": [
              "  0%|          | 0/3 [00:00<?, ?it/s]"
            ],
            "application/vnd.jupyter.widget-view+json": {
              "version_major": 2,
              "version_minor": 0,
              "model_id": "71c0de5291a1422ea865824cab489143"
            }
          },
          "metadata": {}
        }
      ],
      "source": [
        "from datasets import load_dataset\n",
        "datasets = load_dataset('wikitext', 'wikitext-2-raw-v1')"
      ]
    },
    {
      "cell_type": "markdown",
      "metadata": {
        "id": "f1-9jepM3l-W"
      },
      "source": [
        "You can replace the dataset above with any dataset hosted on [the hub](https://huggingface.co/datasets) or use your own files. Just uncomment the following cell and replace the paths with values that will lead to your files:"
      ]
    },
    {
      "cell_type": "code",
      "execution_count": 8,
      "metadata": {
        "id": "uxSaGa_l3l-W"
      },
      "outputs": [],
      "source": [
        "# datasets = load_dataset(\"text\", data_files={\"train\": path_to_train.txt, \"validation\": path_to_validation.txt}"
      ]
    },
    {
      "cell_type": "markdown",
      "metadata": {
        "id": "jY1SwIrY3l-a"
      },
      "source": [
        "You can also load datasets from a csv or a JSON file, see the [full documentation](https://huggingface.co/docs/datasets/loading_datasets.html#from-local-files) for more information."
      ]
    },
    {
      "cell_type": "markdown",
      "metadata": {
        "id": "u3EtYfeHIrIz"
      },
      "source": [
        "To access an actual element, you need to select a split first, then give an index:"
      ]
    },
    {
      "cell_type": "code",
      "execution_count": 9,
      "metadata": {
        "id": "X6HrpprwIrIz",
        "outputId": "0135ae80-0262-4b5e-cebd-9bcbdd9ad845",
        "colab": {
          "base_uri": "https://localhost:8080/"
        }
      },
      "outputs": [
        {
          "output_type": "execute_result",
          "data": {
            "text/plain": [
              "{'text': ''}"
            ]
          },
          "metadata": {},
          "execution_count": 9
        }
      ],
      "source": [
        "datasets[\"train\"][41]"
      ]
    },
    {
      "cell_type": "code",
      "source": [
        "len(\"text\")"
      ],
      "metadata": {
        "colab": {
          "base_uri": "https://localhost:8080/"
        },
        "id": "iY61hrYINq0Z",
        "outputId": "aa776a61-2861-4b09-ccc3-8d85cfdeb1d0"
      },
      "execution_count": 10,
      "outputs": [
        {
          "output_type": "execute_result",
          "data": {
            "text/plain": [
              "4"
            ]
          },
          "metadata": {},
          "execution_count": 10
        }
      ]
    },
    {
      "cell_type": "code",
      "source": [
        "datasets[\"train\"]"
      ],
      "metadata": {
        "colab": {
          "base_uri": "https://localhost:8080/"
        },
        "id": "G8N0N-ZsNuzj",
        "outputId": "a1cc75cb-2373-4101-aa59-ee8bfb8e7ce7"
      },
      "execution_count": 11,
      "outputs": [
        {
          "output_type": "execute_result",
          "data": {
            "text/plain": [
              "Dataset({\n",
              "    features: ['text'],\n",
              "    num_rows: 36718\n",
              "})"
            ]
          },
          "metadata": {},
          "execution_count": 11
        }
      ]
    },
    {
      "cell_type": "code",
      "source": [
        "length_sequence = [len(i) for i in datasets[\"train\"][\"text\"]]\n",
        "print(\"length_sequence:\", length_sequence)"
      ],
      "metadata": {
        "colab": {
          "base_uri": "https://localhost:8080/"
        },
        "id": "uDKcrmzkPE2K",
        "outputId": "d32e391b-0d65-4744-fe65-e999c5ba08aa"
      },
      "execution_count": 12,
      "outputs": [
        {
          "output_type": "stream",
          "name": "stdout",
          "text": [
            "length_sequence: [0, 30, 0, 706, 524, 574, 0, 19, 0, 1221, 1623, 496, 0, 15, 0, 1059, 1229, 1097, 0, 22, 0, 1512, 1433, 0, 20, 0, 1658, 0, 22, 0, 1421, 497, 0, 20, 0, 316, 736, 857, 500, 0, 17, 0, 374, 0, 26, 0, 1037, 1189, 658, 0, 0, 48, 0, 548, 503, 0, 23, 0, 1121, 0, 20, 0, 1584, 494, 46, 981, 755, 265, 87, 131, 121, 391, 479, 303, 40, 48, 46, 38, 26, 43, 20, 23, 41, 19, 944, 445, 346, 1082, 929, 690, 652, 418, 366, 274, 97, 49, 44, 18, 43, 39, 30, 13, 74, 55, 22, 97, 25, 18, 14, 39, 504, 625, 191, 113, 0, 26, 0, 661, 829, 0, 24, 0, 597, 355, 0, 21, 0, 952, 246, 658, 618, 0, 0, 25, 0, 507, 442, 458, 0, 20, 0, 0, 25, 0, 418, 410, 0, 56, 0, 242, 430, 428, 0, 50, 0, 437, 455, 0, 27, 0, 533, 985, 0, 27, 0, 216, 414, 687, 0, 35, 0, 401, 329, 0, 14, 0, 393, 471, 385, 0, 37, 0, 1167, 0, 41, 0, 700, 1135, 0, 16, 0, 0, 20, 0, 56, 80, 56, 57, 44, 39, 78, 61, 61, 44, 0, 20, 0, 48, 43, 48, 77, 48, 43, 50, 43, 44, 63, 95, 48, 38, 43, 47, 82, 55, 48, 47, 53, 75, 48, 74, 49, 59, 36, 49, 36, 36, 49, 0, 41, 0, 48, 34, 59, 62, 53, 39, 91, 54, 49, 0, 26, 0, 78, 39, 0, 30, 0, 30, 54, 51, 89, 77, 73, 71, 122, 56, 50, 80, 99, 0, 0, 45, 0, 706, 0, 19, 0, 562, 997, 209, 0, 37, 0, 501, 591, 0, 0, 20, 0, 660, 614, 0, 33, 0, 847, 607, 0, 22, 0, 696, 926, 0, 35, 0, 630, 0, 30, 0, 455, 564, 0, 29, 0, 799, 0, 0, 45, 0, 544, 604, 453, 0, 25, 0, 1145, 1143, 0, 25, 0, 0, 33, 0, 2029, 1223, 0, 33, 0, 1010, 1822, 1403, 1832, 0, 28, 0, 1023, 877, 189, 0, 26, 0, 522, 408, 0, 20, 0, 372, 59, 104, 0, 31, 0, 0, 29, 0, 0, 29, 0, 48, 58, 69, 0, 28, 0, 489, 0, 22, 0, 13, 20, 22, 16, 16, 19, 41, 0, 26, 0, 12, 25, 30, 15, 14, 27, 72, 19, 34, 150, 0, 21, 0, 1156, 0, 23, 0, 1115, 0, 22, 0, 937, 0, 24, 0, 1103, 0, 23, 0, 1863, 0, 22, 0, 1449, 0, 23, 0, 1243, 0, 19, 0, 420, 1157, 277, 0, 0, 31, 0, 879, 0, 33, 0, 1226, 0, 22, 0, 566, 0, 29, 0, 1016, 0, 22, 0, 830, 0, 25, 0, 67, 45, 46, 61, 0, 17, 0, 0, 0, 26, 0, 530, 0, 28, 0, 1645, 0, 18, 0, 704, 0, 30, 0, 0, 0, 27, 0, 768, 0, 43, 0, 837, 1579, 819, 0, 21, 0, 742, 701, 1215, 692, 1503, 726, 539, 2116, 0, 28, 0, 1475, 1011, 0, 0, 27, 0, 379, 738, 251, 0, 41, 0, 971, 794, 0, 24, 0, 0, 26, 0, 716, 820, 1104, 802, 0, 29, 0, 733, 692, 960, 656, 0, 39, 0, 520, 405, 1153, 549, 0, 23, 0, 897, 815, 0, 22, 0, 0, 25, 0, 0, 17, 0, 0, 0, 18, 0, 676, 571, 0, 21, 0, 314, 372, 455, 0, 25, 0, 574, 779, 0, 37, 0, 747, 717, 939, 664, 596, 0, 34, 0, 782, 454, 561, 545, 590, 204, 0, 22, 0, 792, 339, 160, 0, 28, 0, 0, 42, 0, 0, 28, 0, 0, 17, 0, 90, 0, 0, 34, 0, 112, 309, 929, 0, 17, 0, 700, 1220, 0, 26, 0, 917, 1466, 280, 0, 0, 31, 0, 662, 374, 725, 447, 0, 21, 0, 443, 1010, 726, 758, 0, 18, 0, 946, 628, 529, 323, 773, 551, 0, 26, 0, 805, 0, 20, 0, 1530, 339, 720, 1050, 0, 23, 0, 399, 897, 602, 1129, 1282, 0, 24, 0, 913, 1344, 0, 33, 0, 647, 414, 476, 663, 0, 28, 0, 350, 1002, 1227, 428, 923, 0, 46, 0, 1239, 724, 1567, 0, 47, 0, 1304, 0, 58, 0, 1083, 1001, 1396, 0, 38, 0, 1142, 932, 865, 740, 900, 0, 35, 0, 0, 44, 0, 851, 869, 0, 42, 0, 326, 897, 871, 857, 0, 42, 0, 393, 1518, 704, 1514, 0, 22, 0, 226, 571, 963, 926, 1601, 1164, 1268, 937, 0, 0, 22, 0, 298, 563, 475, 0, 21, 0, 1007, 1001, 994, 0, 39, 0, 540, 0, 29, 0, 1003, 1387, 508, 0, 25, 0, 382, 1213, 504, 0, 28, 0, 1580, 685, 634, 0, 24, 0, 0, 20, 0, 0, 21, 0, 33, 41, 55, 24, 0, 36, 0, 0, 0, 45, 0, 1249, 1044, 1254, 0, 22, 0, 586, 855, 0, 18, 0, 732, 661, 997, 0, 21, 0, 405, 0, 36, 0, 1218, 0, 29, 0, 1639, 0, 29, 0, 538, 862, 641, 0, 21, 0, 1056, 717, 714, 425, 0, 21, 0, 717, 0, 45, 0, 616, 1178, 0, 34, 0, 1342, 0, 30, 0, 413, 494, 630, 277, 0, 17, 0, 909, 705, 600, 0, 21, 0, 1256, 0, 47, 0, 1580, 0, 28, 0, 961, 0, 30, 0, 1512, 0, 17, 0, 432, 267, 0, 17, 0, 638, 0, 30, 0, 363, 721, 813, 0, 31, 0, 681, 776, 0, 30, 0, 1297, 0, 20, 0, 649, 1114, 0, 0, 17, 0, 374, 534, 585, 0, 34, 0, 544, 760, 609, 0, 26, 0, 524, 854, 358, 0, 26, 0, 793, 1585, 451, 795, 0, 32, 0, 1794, 363, 0, 0, 26, 0, 910, 0, 19, 0, 1088, 265, 0, 22, 0, 719, 0, 42, 0, 579, 0, 30, 0, 813, 0, 35, 0, 961, 239, 0, 18, 0, 1313, 607, 0, 0, 18, 0, 328, 654, 365, 0, 21, 0, 419, 449, 761, 576, 0, 20, 0, 751, 1018, 1769, 0, 22, 0, 401, 644, 419, 0, 26, 0, 327, 955, 0, 24, 0, 1456, 978, 1553, 1017, 1111, 0, 45, 0, 717, 442, 0, 20, 0, 454, 1372, 353, 735, 0, 51, 0, 1425, 1183, 905, 1229, 0, 37, 0, 304, 0, 0, 44, 0, 752, 334, 0, 18, 0, 381, 308, 0, 20, 0, 509, 430, 184, 137, 92, 200, 191, 0, 16, 0, 408, 0, 30, 0, 380, 501, 170, 527, 357, 199, 275, 0, 36, 0, 257, 251, 0, 38, 0, 479, 0, 41, 0, 427, 0, 30, 0, 211, 282, 114, 186, 0, 38, 0, 797, 0, 38, 0, 637, 448, 0, 33, 0, 688, 308, 0, 0, 30, 0, 323, 570, 416, 384, 0, 57, 0, 609, 436, 173, 0, 50, 0, 1427, 0, 49, 0, 1242, 729, 447, 0, 25, 0, 779, 551, 805, 623, 848, 431, 0, 30, 0, 212, 46, 125, 215, 126, 99, 137, 0, 37, 0, 166, 1019, 982, 580, 0, 0, 28, 0, 599, 860, 967, 727, 221, 208, 0, 21, 0, 453, 785, 324, 856, 0, 23, 0, 420, 1065, 895, 1180, 574, 0, 21, 0, 0, 25, 0, 1481, 0, 34, 0, 1171, 961, 522, 0, 27, 0, 1958, 0, 23, 0, 289, 0, 35, 0, 924, 739, 0, 23, 0, 658, 792, 334, 0, 21, 0, 1226, 601, 640, 0, 32, 0, 546, 431, 531, 0, 27, 0, 746, 991, 560, 0, 29, 0, 301, 1208, 544, 146, 0, 22, 0, 630, 570, 0, 0, 37, 0, 864, 925, 0, 37, 0, 604, 1086, 0, 27, 0, 1435, 2248, 1879, 1800, 0, 23, 0, 1450, 1844, 1752, 1138, 0, 41, 0, 1947, 1484, 0, 0, 15, 0, 613, 1034, 897, 0, 21, 0, 555, 569, 36, 209, 657, 126, 0, 17, 0, 0, 50, 0, 783, 476, 986, 263, 468, 595, 0, 38, 0, 853, 231, 1516, 0, 40, 0, 588, 344, 0, 28, 0, 540, 448, 161, 779, 786, 462, 495, 0, 41, 0, 404, 1144, 417, 0, 25, 0, 109, 580, 214, 161, 118, 252, 244, 0, 35, 0, 1055, 2878, 1206, 0, 23, 0, 494, 772, 440, 443, 114, 99, 248, 0, 23, 0, 213, 552, 0, 24, 0, 539, 373, 0, 22, 0, 0, 19, 0, 0, 25, 0, 0, 26, 0, 0, 33, 0, 0, 0, 18, 0, 797, 0, 32, 0, 664, 479, 248, 494, 0, 26, 0, 637, 101, 0, 27, 0, 580, 0, 0, 22, 0, 556, 303, 380, 0, 20, 0, 603, 777, 465, 0, 18, 0, 350, 895, 353, 675, 535, 938, 455, 0, 19, 0, 813, 282, 0, 20, 0, 1046, 792, 257, 11, 0, 70, 0, 1075, 1005, 551, 0, 56, 0, 1681, 1730, 905, 0, 57, 0, 1590, 1536, 0, 38, 0, 1359, 1353, 0, 31, 0, 1024, 0, 24, 0, 443, 1059, 0, 24, 0, 1626, 0, 30, 0, 806, 637, 346, 701, 430, 0, 23, 0, 532, 875, 1139, 688, 386, 0, 0, 21, 0, 270, 690, 727, 521, 0, 20, 0, 0, 51, 0, 844, 899, 680, 1036, 0, 77, 0, 923, 1134, 1170, 594, 0, 51, 0, 1024, 585, 0, 69, 0, 964, 1287, 897, 635, 0, 64, 0, 200, 706, 548, 0, 53, 0, 505, 435, 398, 266, 522, 802, 705, 398, 0, 59, 0, 582, 870, 833, 672, 485, 330, 416, 138, 0, 24, 0, 190, 0, 24, 0, 0, 23, 0, 803, 0, 31, 0, 822, 0, 28, 0, 619, 0, 21, 0, 183, 0, 25, 0, 1034, 0, 22, 0, 0, 0, 23, 0, 373, 372, 401, 0, 18, 0, 421, 624, 0, 38, 0, 468, 419, 442, 392, 0, 42, 0, 219, 101, 521, 0, 45, 0, 513, 657, 398, 760, 293, 391, 0, 33, 0, 0, 26, 0, 562, 576, 770, 0, 29, 0, 771, 642, 726, 608, 179, 0, 0, 35, 0, 1388, 0, 33, 0, 1411, 0, 17, 0, 223, 1755, 1689, 0, 0, 32, 0, 598, 695, 0, 30, 0, 819, 611, 199, 287, 300, 650, 0, 23, 0, 266, 828, 447, 0, 33, 0, 579, 0, 28, 0, 430, 0, 20, 0, 197, 1262, 347, 761, 1091, 181, 0, 31, 0, 1578, 0, 0, 30, 0, 1170, 694, 0, 21, 0, 1056, 1110, 0, 19, 0, 1165, 1011, 0, 23, 0, 1268, 0, 0, 21, 0, 650, 1208, 1107, 564, 0, 22, 0, 232, 317, 0, 29, 0, 388, 514, 254, 0, 25, 0, 1651, 0, 30, 0, 0, 46, 0, 943, 641, 666, 0, 48, 0, 635, 708, 583, 0, 51, 0, 924, 741, 1345, 1005, 0, 39, 0, 919, 0, 67, 0, 813, 424, 585, 558, 0, 57, 0, 453, 621, 1079, 0, 52, 0, 509, 790, 1085, 645, 1780, 0, 48, 0, 942, 626, 0, 58, 0, 890, 1328, 588, 1010, 0, 25, 0, 391, 538, 0, 30, 0, 703, 744, 0, 42, 0, 695, 650, 618, 297, 517, 0, 25, 0, 1389, 1097, 920, 0, 32, 0, 0, 29, 0, 0, 23, 0, 0, 17, 0, 389, 1012, 610, 740, 860, 294, 338, 1157, 0, 24, 0, 640, 865, 477, 462, 159, 0, 46, 0, 453, 765, 544, 524, 290, 704, 0, 28, 0, 0, 0, 41, 0, 518, 268, 564, 0, 21, 0, 445, 1098, 0, 40, 0, 0, 32, 0, 0, 25, 0, 871, 957, 1549, 852, 960, 0, 26, 0, 1424, 0, 30, 0, 731, 804, 869, 2079, 296, 526, 1607, 217, 1256, 639, 0, 44, 0, 307, 1062, 1843, 709, 287, 0, 32, 0, 589, 540, 971, 1202, 600, 922, 785, 563, 0, 30, 0, 0, 22, 0, 1243, 443, 0, 24, 0, 2120, 964, 1235, 0, 20, 0, 1004, 1494, 1681, 0, 36, 0, 1106, 960, 1714, 0, 30, 0, 731, 191, 0, 27, 0, 1112, 0, 39, 0, 767, 444, 704, 489, 0, 0, 34, 0, 301, 326, 0, 18, 0, 720, 539, 0, 22, 0, 750, 409, 0, 22, 0, 933, 791, 0, 25, 0, 747, 0, 19, 0, 0, 0, 19, 0, 668, 615, 692, 0, 34, 0, 573, 690, 766, 0, 26, 0, 484, 937, 1308, 0, 32, 0, 878, 834, 1414, 955, 773, 857, 1401, 555, 681, 0, 36, 0, 758, 744, 0, 31, 0, 1068, 541, 912, 605, 0, 19, 0, 1008, 781, 957, 938, 0, 0, 26, 0, 324, 764, 926, 624, 0, 28, 0, 556, 0, 18, 0, 0, 38, 0, 1093, 1265, 0, 42, 0, 658, 929, 1050, 1153, 0, 35, 0, 750, 718, 563, 808, 1061, 0, 34, 0, 1126, 572, 1309, 459, 455, 458, 633, 672, 0, 24, 0, 0, 27, 0, 595, 764, 601, 430, 609, 788, 0, 41, 0, 766, 785, 409, 0, 34, 0, 762, 1256, 0, 38, 0, 588, 994, 343, 0, 55, 0, 0, 45, 0, 1512, 886, 1270, 1638, 1083, 0, 40, 0, 797, 1187, 1152, 0, 47, 0, 952, 0, 0, 36, 0, 597, 0, 26, 0, 766, 1132, 274, 1120, 0, 27, 0, 1171, 993, 932, 0, 35, 0, 211, 0, 0, 27, 0, 795, 943, 0, 28, 0, 749, 819, 1120, 0, 18, 0, 431, 913, 1161, 731, 490, 565, 0, 17, 0, 939, 883, 266, 0, 20, 0, 39, 0, 0, 21, 0, 461, 463, 397, 210, 0, 21, 0, 0, 39, 0, 198, 750, 537, 259, 0, 31, 0, 368, 660, 677, 0, 29, 0, 914, 346, 294, 0, 22, 0, 879, 583, 588, 0, 28, 0, 439, 378, 569, 560, 0, 37, 0, 0, 32, 0, 33, 42, 37, 46, 44, 41, 25, 26, 28, 0, 36, 0, 0, 30, 0, 0, 34, 0, 0, 29, 0, 0, 26, 0, 104, 0, 29, 0, 6, 44, 41, 0, 21, 0, 0, 0, 21, 0, 662, 931, 1116, 0, 21, 0, 1030, 1023, 0, 20, 0, 1137, 1112, 0, 22, 0, 0, 35, 0, 1161, 669, 0, 28, 0, 1299, 1427, 1432, 0, 18, 0, 1702, 0, 24, 0, 1191, 1478, 1588, 0, 20, 0, 0, 32, 0, 1575, 2762, 0, 37, 0, 1334, 2219, 1139, 0, 24, 0, 114, 7, 114, 122, 0, 32, 0, 49, 14, 13, 0, 17, 0, 0, 25, 0, 0, 26, 0, 0, 0, 33, 0, 715, 741, 0, 33, 0, 862, 1470, 0, 18, 0, 0, 38, 0, 965, 414, 0, 31, 0, 746, 317, 1005, 0, 26, 0, 1183, 1146, 1287, 0, 0, 13, 0, 725, 791, 761, 0, 15, 0, 468, 644, 368, 568, 476, 0, 15, 0, 22, 73, 25, 37, 60, 29, 46, 57, 36, 52, 51, 107, 74, 49, 94, 50, 62, 67, 0, 21, 0, 0, 26, 0, 683, 861, 796, 0, 22, 0, 1207, 689, 0, 22, 0, 667, 730, 924, 0, 32, 0, 1059, 0, 17, 0, 238, 1046, 1289, 1400, 464, 0, 16, 0, 497, 938, 684, 766, 0, 20, 0, 0, 25, 0, 923, 394, 1115, 0, 32, 0, 899, 1120, 0, 21, 0, 480, 0, 17, 0, 479, 432, 1058, 1102, 767, 430, 1149, 0, 28, 0, 523, 597, 448, 0, 0, 22, 0, 294, 984, 391, 0, 34, 0, 567, 0, 17, 0, 0, 27, 0, 688, 0, 26, 0, 701, 395, 485, 0, 30, 0, 725, 0, 26, 0, 264, 530, 293, 473, 0, 35, 0, 648, 0, 28, 0, 471, 502, 200, 188, 0, 37, 0, 199, 457, 273, 342, 0, 28, 0, 0, 18, 0, 14, 24, 34, 18, 43, 14, 43, 32, 33, 0, 0, 27, 0, 582, 434, 666, 393, 0, 37, 0, 0, 24, 0, 754, 0, 27, 0, 211, 339, 237, 674, 0, 24, 0, 444, 1055, 424, 0, 30, 0, 312, 0, 44, 0, 492, 0, 34, 0, 580, 272, 545, 971, 261, 428, 649, 0, 35, 0, 0, 44, 0, 325, 0, 39, 0, 360, 955, 384, 885, 0, 33, 0, 1030, 0, 40, 0, 356, 207, 493, 0, 33, 0, 281, 82, 583, 298, 0, 38, 0, 539, 616, 0, 51, 0, 487, 645, 0, 40, 0, 584, 0, 33, 0, 795, 227, 277, 495, 419, 1340, 0, 17, 0, 276, 354, 313, 0, 17, 0, 84, 0, 0, 48, 0, 598, 759, 0, 21, 0, 1106, 0, 21, 0, 1439, 1630, 0, 0, 16, 0, 737, 867, 0, 21, 0, 1211, 138, 462, 626, 679, 791, 0, 22, 0, 690, 921, 737, 1032, 815, 0, 27, 0, 667, 643, 0, 16, 0, 1159, 0, 0, 28, 0, 632, 784, 0, 21, 0, 1046, 873, 0, 17, 0, 829, 716, 0, 20, 0, 1425, 923, 0, 0, 36, 0, 677, 762, 668, 0, 21, 0, 1146, 0, 20, 0, 873, 1233, 724, 0, 30, 0, 1065, 1123, 0, 27, 0, 838, 1436, 0, 16, 0, 843, 1110, 0, 18, 0, 1218, 1159, 1120, 0, 32, 0, 295, 97, 686, 1050, 0, 33, 0, 824, 558, 1037, 0, 29, 0, 1027, 739, 0, 17, 0, 1137, 1215, 1383, 526, 0, 24, 0, 0, 23, 0, 8, 33, 0, 20, 0, 0, 25, 0, 47, 0, 17, 0, 0, 25, 0, 0, 26, 0, 0, 0, 38, 0, 379, 568, 471, 0, 40, 0, 636, 968, 327, 0, 17, 0, 0, 21, 0, 1186, 0, 24, 0, 981, 0, 22, 0, 939, 0, 23, 0, 998, 842, 0, 23, 0, 1307, 0, 22, 0, 1167, 935, 0, 23, 0, 651, 0, 20, 0, 1008, 772, 0, 20, 0, 1166, 0, 18, 0, 889, 0, 32, 0, 697, 609, 0, 24, 0, 104, 0, 34, 0, 0, 36, 0, 0, 21, 0, 0, 25, 0, 0, 37, 0, 0, 48, 0, 0, 20, 0, 0, 17, 0, 110, 0, 18, 0, 98, 0, 22, 0, 0, 23, 0, 0, 32, 0, 11, 60, 89, 118, 102, 86, 0, 0, 15, 0, 646, 278, 495, 0, 26, 0, 0, 25, 0, 348, 326, 1132, 500, 0, 23, 0, 540, 0, 25, 0, 441, 0, 20, 0, 146, 0, 36, 0, 25, 5, 94, 5, 67, 5, 141, 5, 218, 28, 65, 7, 6, 44, 5, 105, 64, 74, 60, 5, 25, 7, 218, 5, 20, 5, 13, 0, 22, 0, 45, 12, 25, 11, 11, 14, 79, 22, 38, 5, 14, 5, 5, 19, 10, 5, 88, 15, 17, 58, 33, 5, 27, 5, 5, 21, 10, 5, 23, 13, 98, 32, 23, 94, 178, 6, 6, 0, 68, 0, 179, 174, 6, 22, 4, 301, 507, 0, 18, 0, 170, 593, 409, 401, 179, 669, 250, 184, 294, 0, 24, 0, 105, 244, 622, 608, 399, 399, 0, 21, 0, 0, 51, 0, 338, 178, 520, 87, 286, 164, 289, 86, 0, 23, 0, 167, 0, 33, 0, 433, 5, 5, 26, 330, 7, 5, 24, 4, 129, 0, 23, 0, 131, 0, 31, 0, 847, 0, 21, 0, 661, 0, 33, 0, 458, 439, 637, 528, 405, 155, 0, 22, 0, 920, 537, 276, 402, 152, 845, 40, 20, 115, 59, 162, 0, 0, 23, 0, 492, 1219, 1267, 546, 0, 21, 0, 0, 38, 0, 1014, 1099, 835, 0, 54, 0, 879, 645, 744, 806, 0, 42, 0, 901, 790, 1368, 0, 17, 0, 0, 51, 0, 1164, 1087, 1014, 1144, 1123, 0, 40, 0, 838, 1037, 925, 744, 1594, 0, 51, 0, 1526, 1457, 1319, 1012, 791, 1262, 0, 43, 0, 1466, 1051, 1070, 904, 847, 0, 57, 0, 1188, 1164, 1044, 927, 1015, 1003, 926, 0, 21, 0, 0, 55, 0, 1411, 814, 680, 893, 1024, 0, 39, 0, 1127, 0, 52, 0, 1793, 875, 799, 759, 1228, 0, 45, 0, 890, 798, 970, 638, 885, 0, 38, 0, 844, 893, 0, 24, 0, 876, 650, 1184, 0, 31, 0, 755, 818, 1180, 1549, 997, 0, 38, 0, 867, 872, 0, 0, 28, 0, 428, 429, 0, 36, 0, 795, 0, 36, 0, 868, 561, 443, 618, 1115, 0, 60, 0, 815, 1113, 0, 41, 0, 1245, 901, 0, 30, 0, 813, 670, 510, 542, 0, 82, 0, 287, 1101, 0, 0, 29, 0, 1195, 875, 0, 44, 0, 861, 917, 384, 584, 1069, 403, 0, 22, 0, 1229, 936, 1412, 0, 24, 0, 325, 939, 0, 26, 0, 1193, 1390, 0, 47, 0, 1257, 262, 0, 30, 0, 836, 840, 479, 0, 30, 0, 532, 0, 0, 27, 0, 334, 536, 505, 178, 0, 21, 0, 679, 893, 0, 17, 0, 0, 27, 0, 440, 717, 0, 20, 0, 0, 29, 0, 799, 0, 32, 0, 797, 0, 27, 0, 912, 0, 20, 0, 0, 39, 0, 803, 0, 38, 0, 1228, 0, 20, 0, 0, 29, 0, 724, 0, 32, 0, 633, 0, 24, 0, 367, 0, 34, 0, 190, 0, 25, 0, 486, 0, 31, 0, 0, 25, 0, 359, 0, 31, 0, 1195, 570, 673, 0, 37, 0, 1092, 0, 24, 0, 436, 0, 22, 0, 0, 33, 0, 1820, 0, 0, 44, 0, 465, 745, 0, 17, 0, 707, 410, 0, 19, 0, 0, 19, 0, 1313, 874, 0, 24, 0, 376, 0, 19, 0, 1317, 680, 0, 29, 0, 148, 0, 0, 17, 0, 676, 925, 0, 23, 0, 444, 0, 25, 0, 922, 240, 0, 30, 0, 0, 28, 0, 901, 0, 51, 0, 570, 871, 858, 0, 46, 0, 0, 23, 0, 1934, 0, 23, 0, 1401, 0, 23, 0, 480, 1619, 0, 23, 0, 449, 239, 0, 23, 0, 270, 812, 0, 23, 0, 951, 0, 23, 0, 241, 0, 23, 0, 427, 138, 158, 67, 0, 44, 0, 206, 517, 324, 0, 45, 0, 1291, 561, 149, 0, 46, 0, 347, 0, 41, 0, 0, 24, 0, 286, 0, 25, 0, 527, 0, 0, 15, 0, 947, 705, 379, 0, 21, 0, 688, 0, 25, 0, 0, 24, 0, 1557, 1415, 0, 24, 0, 1754, 1255, 994, 1068, 0, 28, 0, 0, 24, 0, 1251, 1226, 1966, 989, 0, 24, 0, 1957, 819, 0, 21, 0, 1046, 713, 145, 0, 24, 0, 1185, 0, 28, 0, 0, 42, 0, 36, 0, 30, 0, 37, 0, 17, 0, 0, 18, 0, 34, 0, 0, 59, 0, 261, 428, 370, 0, 18, 0, 546, 695, 598, 0, 26, 0, 925, 342, 560, 0, 26, 0, 630, 354, 192, 600, 237, 0, 26, 0, 389, 366, 902, 231, 247, 0, 29, 0, 415, 197, 801, 173, 0, 23, 0, 616, 0, 21, 0, 420, 481, 407, 0, 27, 0, 595, 761, 191, 380, 133, 934, 476, 293, 332, 0, 22, 0, 294, 310, 313, 134, 0, 25, 0, 256, 668, 499, 0, 0, 40, 0, 478, 0, 17, 0, 578, 535, 0, 26, 0, 495, 988, 739, 0, 0, 22, 0, 1309, 995, 738, 0, 31, 0, 863, 365, 0, 32, 0, 0, 31, 0, 1069, 491, 423, 0, 47, 0, 914, 1966, 656, 990, 0, 34, 0, 1096, 779, 2033, 0, 30, 0, 1000, 624, 0, 24, 0, 1135, 1148, 360, 1309, 0, 21, 0, 1606, 612, 1240, 0, 20, 0, 1331, 1218, 0, 0, 24, 0, 371, 685, 573, 0, 15, 0, 462, 756, 809, 582, 0, 21, 0, 871, 0, 20, 0, 0, 22, 0, 1117, 0, 22, 0, 1124, 1356, 0, 0, 13, 0, 241, 539, 339, 142, 0, 20, 0, 721, 0, 19, 0, 543, 0, 17, 0, 77, 94, 0, 18, 0, 0, 28, 0, 352, 258, 255, 0, 27, 0, 0, 38, 0, 403, 0, 26, 0, 644, 0, 43, 0, 619, 0, 26, 0, 695, 0, 43, 0, 657, 0, 31, 0, 502, 161, 749, 253, 421, 0, 29, 0, 686, 357, 99, 0, 27, 0, 393, 594, 157, 0, 25, 0, 449, 119, 137, 354, 0, 39, 0, 467, 107, 456, 166, 279, 130, 95, 212, 97, 109, 109, 70, 171, 166, 216, 118, 136, 962, 0, 30, 0, 314, 342, 0, 0, 36, 0, 577, 0, 18, 0, 935, 609, 747, 0, 20, 0, 927, 0, 0, 17, 0, 1030, 810, 566, 0, 19, 0, 719, 782, 0, 22, 0, 1663, 682, 0, 20, 0, 1242, 930, 0, 35, 0, 544, 670, 810, 1444, 704, 0, 20, 0, 1430, 699, 0, 23, 0, 866, 1112, 1113, 862, 0, 22, 0, 1241, 0, 34, 0, 641, 261, 331, 0, 17, 0, 1216, 1056, 1002, 1201, 0, 21, 0, 301, 0, 20, 0, 840, 0, 28, 0, 531, 478, 83, 347, 0, 0, 29, 0, 602, 518, 282, 698, 0, 29, 0, 505, 417, 344, 390, 0, 23, 0, 162, 0, 26, 0, 189, 0, 32, 0, 434, 370, 0, 24, 0, 569, 0, 23, 0, 347, 0, 20, 0, 589, 573, 567, 388, 958, 564, 0, 40, 0, 447, 32, 237, 0, 46, 0, 554, 45, 182, 0, 26, 0, 652, 352, 578, 526, 561, 0, 20, 0, 698, 0, 24, 0, 864, 514, 536, 0, 28, 0, 390, 971, 343, 0, 27, 0, 490, 126, 171, 0, 20, 0, 133, 0, 27, 0, 517, 90, 215, 0, 39, 0, 355, 0, 39, 0, 285, 0, 27, 0, 681, 585, 0, 34, 0, 371, 0, 23, 0, 272, 452, 405, 0, 17, 0, 129, 0, 18, 0, 748, 488, 933, 264, 0, 20, 0, 385, 0, 0, 23, 0, 615, 732, 0, 33, 0, 900, 1254, 0, 22, 0, 545, 1116, 0, 29, 0, 1066, 0, 28, 0, 816, 0, 22, 0, 1392, 897, 0, 28, 0, 1147, 0, 24, 0, 19, 32, 36, 50, 25, 60, 54, 53, 56, 49, 0, 36, 0, 0, 0, 24, 0, 501, 352, 0, 21, 0, 1499, 997, 0, 28, 0, 338, 455, 974, 0, 27, 0, 518, 0, 20, 0, 1412, 633, 912, 786, 518, 0, 0, 24, 0, 398, 530, 388, 532, 0, 18, 0, 0, 55, 0, 554, 571, 656, 463, 362, 381, 552, 768, 986, 0, 45, 0, 650, 129, 1075, 502, 663, 783, 0, 34, 0, 601, 777, 337, 230, 209, 375, 0, 20, 0, 356, 382, 388, 662, 465, 0, 33, 0, 602, 618, 0, 22, 0, 818, 389, 0, 23, 0, 0, 31, 0, 1191, 771, 0, 18, 0, 0, 32, 0, 486, 871, 0, 22, 0, 757, 0, 26, 0, 477, 364, 500, 195, 406, 0, 22, 0, 991, 594, 0, 27, 0, 0, 22, 0, 24, 456, 539, 0, 21, 0, 20, 728, 0, 40, 0, 31, 199, 19, 290, 0, 48, 0, 29, 355, 34, 574, 504, 0, 27, 0, 257, 2313, 409, 0, 20, 0, 853, 0, 24, 0, 104, 40, 27, 41, 29, 29, 32, 44, 41, 0, 29, 0, 1149, 955, 142, 290, 170, 259, 369, 0, 40, 0, 0, 31, 0, 1304, 0, 28, 0, 278, 330, 0, 54, 0, 1188, 797, 0, 29, 0, 508, 708, 96, 522, 0, 20, 0, 0, 40, 0, 616, 275, 0, 44, 0, 270, 356, 407, 0, 44, 0, 96, 110, 454, 165, 380, 181, 102, 107, 0, 24, 0, 84, 20, 29, 20, 21, 18, 0, 0, 13, 0, 685, 831, 726, 665, 0, 15, 0, 1040, 0, 18, 0, 540, 623, 954, 1185, 406, 1183, 458, 378, 1246, 0, 20, 0, 909, 0, 29, 0, 980, 0, 22, 0, 499, 1152, 0, 23, 0, 268, 379, 935, 0, 37, 0, 308, 817, 717, 936, 300, 358, 732, 0, 37, 0, 451, 0, 29, 0, 719, 630, 0, 26, 0, 434, 0, 18, 0, 0, 41, 0, 1589, 337, 571, 0, 22, 0, 672, 320, 232, 412, 362, 1062, 0, 17, 0, 643, 291, 202, 0, 21, 0, 281, 362, 387, 305, 0, 20, 0, 327, 305, 480, 284, 0, 16, 0, 337, 33, 43, 49, 28, 224, 1012, 0, 25, 0, 1358, 0, 0, 27, 0, 362, 0, 33, 0, 401, 538, 653, 695, 0, 18, 0, 410, 0, 0, 25, 0, 627, 596, 99, 0, 44, 0, 560, 840, 1069, 381, 578, 491, 617, 384, 143, 0, 26, 0, 0, 38, 0, 941, 199, 163, 264, 1053, 34, 238, 321, 745, 446, 79, 223, 150, 0, 37, 0, 817, 687, 574, 585, 0, 66, 0, 405, 1294, 362, 664, 205, 655, 165, 787, 117, 612, 36, 313, 773, 339, 192, 193, 720, 0, 24, 0, 0, 44, 0, 732, 340, 1100, 508, 674, 1035, 0, 45, 0, 435, 742, 0, 20, 0, 397, 794, 792, 440, 0, 42, 0, 583, 0, 24, 0, 1484, 214, 498, 710, 0, 31, 0, 975, 80, 521, 122, 597, 317, 99, 0, 34, 0, 402, 832, 271, 522, 410, 0, 41, 0, 491, 544, 118, 1162, 920, 0, 20, 0, 108, 95, 162, 139, 156, 159, 384, 128, 170, 151, 105, 126, 0, 36, 0, 329, 155, 116, 138, 111, 129, 263, 80, 121, 152, 181, 96, 84, 179, 172, 170, 0, 46, 0, 0, 55, 0, 164, 159, 244, 234, 233, 306, 0, 46, 0, 87, 83, 104, 178, 97, 132, 242, 108, 172, 131, 0, 38, 0, 114, 84, 71, 74, 0, 49, 0, 106, 45, 89, 121, 202, 0, 20, 0, 52, 162, 98, 109, 55, 150, 126, 78, 230, 73, 77, 85, 0, 22, 0, 1111, 0, 19, 0, 738, 0, 22, 0, 1318, 486, 0, 24, 0, 320, 0, 30, 0, 681, 0, 35, 0, 535, 259, 0, 30, 0, 371, 0, 0, 25, 0, 366, 0, 21, 0, 945, 564, 0, 16, 0, 938, 0, 15, 0, 664, 0, 0, 44, 0, 773, 866, 793, 0, 20, 0, 898, 0, 18, 0, 504, 1083, 1433, 1232, 499, 0, 28, 0, 652, 921, 0, 28, 0, 1519, 561, 0, 29, 0, 921, 714, 314, 0, 28, 0, 279, 831, 401, 715, 173, 528, 0, 29, 0, 588, 92, 67, 170, 196, 167, 118, 83, 68, 75, 134, 47, 85, 0, 32, 0, 770, 100, 85, 138, 96, 178, 115, 104, 59, 0, 28, 0, 1416, 0, 23, 0, 591, 466, 806, 387, 0, 63, 0, 991, 0, 35, 0, 739, 0, 33, 0, 1461, 849, 0, 53, 0, 406, 283, 631, 0, 39, 0, 1049, 125, 47, 88, 121, 71, 165, 195, 0, 22, 0, 600, 0, 28, 0, 569, 594, 251, 0, 35, 0, 952, 0, 44, 0, 99, 466, 153, 263, 148, 313, 89, 196, 0, 32, 0, 790, 415, 330, 0, 39, 0, 648, 0, 74, 0, 843, 504, 1202, 608, 0, 59, 0, 134, 308, 954, 210, 0, 58, 0, 81, 134, 216, 593, 755, 0, 30, 0, 464, 0, 31, 0, 747, 0, 20, 0, 722, 372, 0, 29, 0, 460, 603, 485, 196, 0, 29, 0, 315, 196, 99, 76, 128, 60, 99, 400, 285, 0, 28, 0, 318, 720, 231, 85, 132, 125, 101, 94, 355, 0, 28, 0, 509, 63, 162, 856, 0, 0, 23, 0, 433, 510, 0, 18, 0, 485, 690, 747, 279, 327, 0, 34, 0, 435, 455, 272, 0, 26, 0, 383, 461, 303, 547, 0, 28, 0, 303, 625, 533, 0, 20, 0, 547, 0, 30, 0, 1139, 0, 20, 0, 445, 385, 0, 0, 26, 0, 451, 0, 28, 0, 723, 532, 501, 0, 18, 0, 531, 0, 30, 0, 40, 0, 0, 14, 0, 788, 525, 585, 0, 21, 0, 1150, 481, 0, 32, 0, 1664, 1413, 0, 22, 0, 815, 603, 0, 34, 0, 1092, 870, 427, 0, 18, 0, 560, 613, 629, 0, 16, 0, 610, 142, 0, 0, 20, 0, 508, 490, 606, 280, 0, 21, 0, 865, 846, 1027, 308, 864, 398, 0, 23, 0, 567, 1108, 552, 986, 0, 21, 0, 825, 893, 585, 1300, 599, 503, 0, 24, 0, 62, 0, 0, 22, 0, 658, 311, 339, 0, 19, 0, 512, 0, 32, 0, 570, 0, 19, 0, 990, 499, 0, 23, 0, 817, 579, 175, 0, 21, 0, 0, 0, 23, 0, 988, 0, 18, 0, 638, 805, 557, 1137, 1088, 937, 0, 0, 25, 0, 623, 713, 0, 15, 0, 518, 731, 830, 0, 21, 0, 537, 949, 0, 20, 0, 714, 1373, 1295, 0, 0, 17, 0, 331, 315, 127, 0, 21, 0, 449, 476, 383, 400, 0, 46, 0, 452, 787, 538, 556, 858, 363, 175, 0, 21, 0, 551, 730, 293, 497, 0, 0, 21, 0, 642, 332, 0, 20, 0, 162, 0, 35, 0, 526, 351, 0, 27, 0, 439, 656, 278, 0, 27, 0, 467, 241, 423, 0, 25, 0, 313, 0, 0, 24, 0, 442, 450, 495, 0, 21, 0, 1178, 1215, 1407, 0, 22, 0, 1024, 971, 680, 721, 0, 32, 0, 1051, 1088, 1272, 1247, 1129, 1580, 0, 24, 0, 40, 11, 26, 27, 27, 24, 11, 47, 23, 26, 28, 0, 20, 0, 54, 0, 24, 0, 26, 48, 28, 20, 35, 24, 0, 35, 0, 35, 33, 27, 34, 38, 39, 36, 33, 0, 0, 31, 0, 855, 0, 37, 0, 922, 0, 33, 0, 889, 806, 552, 0, 36, 0, 1007, 0, 19, 0, 15, 19, 12, 19, 10, 18, 22, 18, 17, 28, 16, 26, 19, 26, 18, 31, 26, 15, 24, 17, 28, 20, 0, 21, 0, 0, 0, 27, 0, 850, 1096, 807, 808, 0, 18, 0, 0, 44, 0, 790, 392, 254, 0, 23, 0, 806, 191, 916, 262, 0, 20, 0, 1580, 721, 0, 18, 0, 819, 350, 708, 0, 39, 0, 1163, 898, 724, 864, 0, 32, 0, 1067, 1165, 1049, 379, 220, 385, 0, 21, 0, 653, 419, 435, 1126, 0, 35, 0, 280, 529, 460, 687, 570, 0, 23, 0, 0, 39, 0, 594, 925, 841, 878, 492, 0, 26, 0, 912, 1280, 1082, 0, 27, 0, 535, 1104, 432, 0, 29, 0, 1423, 1061, 1197, 1092, 1385, 751, 0, 0, 27, 0, 262, 668, 569, 0, 18, 0, 224, 264, 218, 0, 18, 0, 315, 0, 43, 0, 649, 0, 32, 0, 404, 0, 26, 0, 1827, 0, 49, 0, 348, 1060, 0, 27, 0, 1463, 410, 818, 0, 23, 0, 955, 600, 512, 626, 1128, 733, 702, 0, 37, 0, 971, 0, 31, 0, 0, 23, 0, 294, 213, 0, 28, 0, 617, 405, 0, 24, 0, 893, 216, 0, 20, 0, 396, 288, 22, 0, 25, 0, 355, 551, 469, 405, 0, 33, 0, 45, 133, 50, 301, 0, 19, 0, 485, 510, 0, 29, 0, 595, 0, 0, 70, 0, 515, 783, 313, 0, 19, 0, 1021, 0, 23, 0, 87, 0, 21, 0, 1250, 0, 18, 0, 630, 227, 0, 20, 0, 1753, 140, 0, 37, 0, 0, 27, 0, 78, 0, 21, 0, 123, 0, 0, 30, 0, 378, 704, 0, 21, 0, 969, 0, 22, 0, 754, 0, 20, 0, 1418, 696, 0, 44, 0, 421, 399, 0, 24, 0, 0, 32, 0, 32, 0, 17, 0, 0, 0, 30, 0, 944, 669, 0, 33, 0, 981, 1271, 1053, 662, 0, 23, 0, 915, 1065, 466, 0, 17, 0, 151, 1055, 774, 1163, 347, 998, 704, 0, 20, 0, 343, 711, 873, 0, 0, 28, 0, 206, 0, 32, 0, 1004, 0, 31, 0, 72, 279, 214, 111, 212, 77, 89, 117, 125, 117, 100, 162, 114, 117, 96, 170, 99, 137, 144, 154, 99, 102, 219, 191, 105, 92, 117, 196, 139, 95, 121, 111, 90, 110, 86, 275, 309, 148, 117, 123, 182, 165, 88, 89, 117, 119, 122, 193, 0, 24, 0, 170, 112, 118, 126, 118, 117, 180, 135, 123, 139, 146, 0, 81, 0, 1213, 241, 189, 159, 144, 0, 19, 0, 636, 402, 1174, 1350, 541, 0, 37, 0, 119, 92, 91, 92, 92, 89, 89, 88, 89, 89, 89, 88, 88, 89, 90, 90, 90, 90, 91, 92, 91, 92, 92, 0, 34, 0, 331, 396, 0, 0, 44, 0, 644, 278, 0, 18, 0, 1370, 1016, 1862, 0, 18, 0, 508, 0, 0, 39, 0, 404, 355, 430, 0, 15, 0, 834, 538, 0, 21, 0, 1095, 0, 20, 0, 0, 22, 0, 1088, 0, 31, 0, 1686, 0, 0, 18, 0, 513, 482, 240, 0, 15, 0, 770, 658, 783, 1326, 639, 1176, 960, 915, 606, 372, 0, 22, 0, 778, 927, 288, 0, 19, 0, 0, 32, 0, 467, 318, 0, 21, 0, 0, 30, 0, 959, 0, 39, 0, 218, 318, 0, 20, 0, 1496, 500, 231, 0, 20, 0, 425, 501, 0, 19, 0, 23, 0, 24, 0, 1223, 0, 26, 0, 844, 0, 0, 23, 0, 400, 820, 804, 0, 18, 0, 0, 38, 0, 1026, 0, 63, 0, 918, 0, 43, 0, 198, 329, 869, 0, 28, 0, 0, 25, 0, 347, 561, 732, 177, 732, 0, 40, 0, 0, 31, 0, 1120, 1037, 763, 954, 0, 34, 0, 1317, 0, 29, 0, 922, 0, 22, 0, 449, 525, 410, 161, 242, 520, 0, 22, 0, 341, 893, 969, 446, 0, 48, 0, 698, 415, 0, 22, 0, 1081, 0, 0, 37, 0, 678, 861, 0, 19, 0, 1447, 1624, 0, 18, 0, 0, 25, 0, 1427, 1834, 0, 26, 0, 784, 915, 965, 458, 606, 1291, 0, 28, 0, 996, 838, 1317, 0, 22, 0, 424, 451, 594, 577, 0, 29, 0, 311, 0, 0, 15, 0, 401, 786, 280, 0, 18, 0, 620, 205, 0, 19, 0, 471, 652, 152, 0, 24, 0, 520, 577, 0, 38, 0, 509, 439, 802, 0, 29, 0, 1088, 0, 29, 0, 499, 0, 0, 40, 0, 577, 575, 372, 594, 413, 0, 30, 0, 623, 387, 740, 441, 747, 1544, 769, 0, 31, 0, 811, 792, 582, 689, 379, 658, 608, 363, 0, 21, 0, 0, 35, 0, 973, 215, 0, 35, 0, 856, 68, 0, 30, 0, 373, 0, 46, 0, 667, 0, 28, 0, 956, 604, 0, 23, 0, 1366, 932, 0, 40, 0, 68, 0, 38, 0, 1160, 658, 0, 38, 0, 947, 1427, 1080, 112, 0, 40, 0, 1290, 635, 1071, 446, 0, 43, 0, 451, 798, 933, 514, 970, 320, 2354, 128, 1065, 116, 0, 36, 0, 854, 870, 0, 24, 0, 310, 468, 1416, 307, 1020, 545, 0, 20, 0, 117, 0, 0, 23, 0, 427, 409, 602, 0, 21, 0, 577, 413, 507, 130, 343, 513, 889, 0, 32, 0, 669, 646, 419, 0, 68, 0, 552, 21, 4, 773, 163, 4, 21, 838, 949, 907, 414, 874, 837, 0, 16, 0, 263, 0, 23, 0, 304, 520, 297, 329, 169, 0, 0, 32, 0, 398, 581, 506, 0, 18, 0, 0, 31, 0, 893, 0, 33, 0, 952, 1528, 0, 33, 0, 894, 1059, 801, 1093, 604, 452, 537, 0, 32, 0, 1273, 681, 676, 667, 0, 21, 0, 1351, 384, 723, 561, 0, 20, 0, 291, 632, 970, 0, 22, 0, 843, 0, 23, 0, 513, 528, 265, 301, 297, 0, 18, 0, 574, 1203, 0, 54, 0, 846, 274, 926, 411, 0, 31, 0, 889, 341, 0, 21, 0, 366, 325, 266, 0, 20, 0, 681, 438, 295, 0, 25, 0, 643, 539, 548, 1023, 603, 0, 25, 0, 644, 0, 0, 19, 0, 904, 772, 1012, 387, 0, 15, 0, 931, 813, 860, 671, 268, 0, 22, 0, 0, 37, 0, 1259, 2035, 2179, 0, 22, 0, 1598, 2564, 2425, 0, 38, 0, 1622, 2638, 2454, 0, 31, 0, 0, 32, 0, 1956, 869, 2120, 3692, 0, 28, 0, 1831, 1585, 1285, 0, 22, 0, 895, 796, 0, 41, 0, 924, 1568, 925, 708, 251, 0, 0, 26, 0, 755, 1122, 1061, 0, 20, 0, 669, 0, 19, 0, 664, 595, 0, 18, 0, 555, 666, 950, 1017, 420, 1380, 495, 936, 969, 860, 1174, 1039, 0, 24, 0, 731, 997, 1008, 263, 0, 31, 0, 699, 0, 23, 0, 665, 1068, 0, 25, 0, 721, 1150, 563, 0, 21, 0, 1181, 0, 25, 0, 888, 1117, 719, 0, 23, 0, 1002, 0, 0, 38, 0, 862, 722, 517, 0, 22, 0, 971, 699, 1399, 0, 22, 0, 0, 23, 0, 681, 17, 42, 40, 45, 25, 25, 33, 42, 33, 36, 778, 505, 0, 33, 0, 973, 1161, 445, 0, 23, 0, 566, 527, 766, 1190, 273, 359, 308, 533, 195, 0, 19, 0, 53, 0, 20, 0, 53, 1066, 859, 0, 21, 0, 42, 436, 222, 260, 0, 22, 0, 48, 407, 715, 769, 0, 17, 0, 0, 25, 0, 1816, 0, 37, 0, 709, 438, 159, 63, 562, 792, 0, 43, 0, 549, 585, 234, 511, 518, 0, 28, 0, 0, 30, 0, 1167, 715, 0, 31, 0, 921, 0, 34, 0, 439, 599, 0, 22, 0, 0, 28, 0, 1012, 204, 0, 29, 0, 1247, 1551, 0, 22, 0, 0, 19, 0, 1406, 0, 34, 0, 230, 98, 134, 578, 288, 0, 35, 0, 524, 467, 428, 150, 338, 45, 0, 36, 0, 270, 433, 0, 0, 20, 0, 749, 1115, 522, 0, 32, 0, 994, 0, 41, 0, 1284, 1066, 725, 893, 0, 25, 0, 1418, 902, 962, 0, 31, 0, 0, 20, 0, 1254, 0, 19, 0, 941, 670, 0, 21, 0, 389, 0, 0, 25, 0, 883, 0, 22, 0, 849, 746, 612, 0, 35, 0, 1485, 1100, 535, 871, 629, 0, 0, 22, 0, 521, 1103, 0, 18, 0, 1209, 587, 882, 0, 32, 0, 1173, 0, 39, 0, 668, 1339, 1965, 999, 0, 0, 36, 0, 597, 747, 0, 21, 0, 1062, 0, 22, 0, 1678, 0, 29, 0, 1214, 1285, 0, 28, 0, 1016, 1392, 0, 25, 0, 0, 32, 0, 149, 0, 17, 0, 0, 25, 0, 0, 26, 0, 0, 0, 39, 0, 629, 546, 0, 26, 0, 1181, 674, 165, 707, 187, 909, 275, 861, 0, 27, 0, 1351, 602, 589, 602, 449, 779, 890, 16, 0, 18, 0, 963, 1210, 215, 830, 0, 18, 0, 656, 434, 584, 1296, 318, 0, 46, 0, 1037, 748, 0, 21, 0, 1381, 379, 0, 28, 0, 735, 1785, 0, 39, 0, 0, 0, 42, 0, 574, 544, 0, 16, 0, 887, 689, 1171, 0, 20, 0, 0, 31, 0, 1402, 1134, 0, 34, 0, 696, 0, 24, 0, 0, 32, 0, 0, 17, 0, 0, 16, 0, 463, 355, 0, 22, 0, 399, 920, 239, 396, 388, 0, 40, 0, 770, 794, 0, 37, 0, 396, 332, 127, 0, 0, 32, 0, 211, 558, 0, 34, 0, 299, 620, 895, 164, 0, 26, 0, 0, 30, 0, 1020, 1389, 0, 27, 0, 753, 256, 935, 918, 298, 0, 0, 19, 0, 675, 112, 435, 0, 15, 0, 472, 324, 288, 0, 21, 0, 233, 1129, 0, 20, 0, 363, 655, 0, 0, 22, 0, 788, 0, 22, 0, 880, 0, 20, 0, 444, 858, 0, 30, 0, 382, 0, 0, 29, 0, 298, 638, 1089, 387, 0, 21, 0, 572, 1508, 1124, 0, 17, 0, 365, 0, 25, 0, 763, 721, 899, 0, 26, 0, 659, 1032, 1207, 577, 0, 21, 0, 728, 565, 0, 19, 0, 987, 1183, 885, 0, 24, 0, 802, 1132, 0, 33, 0, 735, 0, 27, 0, 926, 791, 982, 0, 21, 0, 917, 437, 1013, 959, 0, 19, 0, 809, 953, 0, 16, 0, 1293, 940, 921, 1068, 2060, 612, 0, 26, 0, 1670, 1359, 484, 781, 0, 29, 0, 1482, 688, 0, 20, 0, 632, 0, 21, 0, 1123, 721, 0, 22, 0, 1064, 1862, 432, 887, 0, 0, 31, 0, 487, 0, 28, 0, 785, 0, 18, 0, 553, 0, 30, 0, 55, 0, 0, 37, 0, 291, 0, 28, 0, 503, 0, 18, 0, 430, 0, 30, 0, 59, 0, 0, 24, 0, 358, 0, 22, 0, 561, 110, 84, 50, 106, 107, 130, 78, 38, 211, 0, 37, 0, 1437, 548, 428, 0, 20, 0, 15, 19, 0, 39, 0, 50, 26, 11, 41, 43, 46, 43, 49, 94, 14, 41, 43, 51, 11, 29, 47, 41, 0, 0, 30, 0, 796, 619, 0, 21, 0, 375, 0, 41, 0, 521, 850, 0, 43, 0, 551, 473, 0, 36, 0, 319, 180, 775, 150, 0, 23, 0, 1188, 528, 0, 24, 0, 681, 613, 665, 313, 280, 462, 410, 613, 0, 23, 0, 579, 515, 0, 24, 0, 286, 0, 48, 0, 493, 0, 42, 0, 335, 679, 0, 28, 0, 510, 441, 203, 462, 594, 220, 67, 544, 402, 385, 922, 0, 34, 0, 446, 492, 175, 522, 340, 172, 671, 268, 807, 223, 0, 29, 0, 361, 401, 380, 338, 0, 0, 14, 0, 384, 494, 766, 1291, 450, 0, 15, 0, 230, 0, 18, 0, 0, 34, 0, 646, 636, 754, 0, 46, 0, 363, 1121, 365, 1267, 0, 54, 0, 574, 419, 506, 695, 840, 671, 440, 0, 43, 0, 384, 627, 576, 616, 551, 576, 445, 0, 37, 0, 400, 833, 963, 668, 531, 0, 39, 0, 594, 604, 338, 779, 915, 608, 702, 468, 480, 0, 24, 0, 753, 0, 31, 0, 592, 337, 578, 507, 484, 0, 35, 0, 592, 806, 737, 696, 808, 477, 0, 19, 0, 238, 195, 0, 34, 0, 471, 423, 0, 31, 0, 324, 345, 217, 0, 42, 0, 156, 599, 622, 242, 0, 18, 0, 477, 66, 42, 46, 71, 157, 150, 0, 21, 0, 517, 929, 625, 797, 0, 20, 0, 784, 541, 463, 647, 552, 582, 583, 537, 13, 0, 33, 0, 234, 300, 349, 550, 23, 0, 26, 0, 739, 598, 543, 487, 141, 31, 51, 33, 41, 26, 49, 38, 37, 33, 59, 101, 108, 97, 136, 96, 131, 381, 0, 36, 0, 299, 922, 650, 0, 23, 0, 141, 265, 354, 223, 829, 415, 0, 40, 0, 575, 605, 786, 0, 24, 0, 496, 336, 374, 520, 0, 24, 0, 562, 652, 479, 632, 793, 0, 18, 0, 774, 703, 167, 334, 0, 19, 0, 495, 616, 1400, 1187, 517, 0, 22, 0, 635, 301, 667, 911, 299, 0, 21, 0, 332, 861, 197, 0, 31, 0, 966, 1231, 667, 1124, 0, 31, 0, 335, 516, 738, 1011, 0, 29, 0, 652, 592, 0, 29, 0, 496, 611, 658, 886, 682, 533, 473, 0, 0, 22, 0, 712, 415, 380, 510, 0, 21, 0, 424, 490, 521, 717, 346, 478, 479, 0, 15, 0, 425, 357, 347, 628, 474, 543, 0, 43, 0, 678, 648, 653, 654, 823, 348, 573, 992, 548, 0, 24, 0, 491, 311, 556, 976, 0, 19, 0, 0, 30, 0, 491, 326, 484, 767, 584, 677, 0, 35, 0, 482, 666, 732, 0, 58, 0, 802, 506, 584, 515, 161, 42, 59, 46, 463, 0, 26, 0, 964, 553, 747, 738, 224, 485, 604, 0, 29, 0, 703, 524, 699, 0, 35, 0, 591, 331, 615, 0, 20, 0, 737, 740, 721, 172, 0, 17, 0, 271, 79, 490, 148, 107, 0, 43, 0, 292, 114, 122, 268, 126, 153, 0, 0, 17, 0, 952, 469, 0, 29, 0, 540, 693, 0, 33, 0, 353, 442, 0, 24, 0, 0, 38, 0, 695, 898, 923, 207, 0, 61, 0, 798, 971, 1083, 518, 592, 0, 100, 0, 733, 738, 1822, 1010, 827, 1077, 450, 0, 26, 0, 0, 47, 0, 537, 625, 0, 50, 0, 640, 0, 63, 0, 524, 758, 1388, 412, 236, 0, 26, 0, 0, 46, 0, 1020, 0, 46, 0, 296, 906, 0, 49, 0, 375, 1157, 880, 1284, 739, 0, 61, 0, 587, 812, 0, 27, 0, 1134, 961, 544, 0, 20, 0, 1168, 495, 697, 409, 336, 0, 21, 0, 1133, 528, 0, 23, 0, 0, 29, 0, 0, 31, 0, 0, 22, 0, 0, 19, 0, 335, 895, 0, 25, 0, 937, 0, 21, 0, 393, 379, 0, 0, 23, 0, 583, 512, 374, 770, 0, 17, 0, 0, 45, 0, 1087, 0, 30, 0, 1742, 0, 34, 0, 956, 0, 24, 0, 1168, 0, 27, 0, 1064, 0, 31, 0, 1143, 0, 47, 0, 1020, 1423, 765, 921, 1230, 0, 28, 0, 271, 399, 0, 24, 0, 748, 0, 28, 0, 26, 0, 37, 0, 0, 0, 28, 0, 418, 759, 611, 1028, 0, 21, 0, 845, 767, 0, 18, 0, 1313, 1207, 901, 0, 26, 0, 429, 1359, 0, 22, 0, 619, 0, 35, 0, 0, 33, 0, 309, 401, 344, 556, 740, 0, 37, 0, 699, 423, 288, 377, 398, 268, 0, 38, 0, 817, 810, 813, 673, 752, 478, 412, 333, 256, 0, 21, 0, 698, 721, 802, 1121, 0, 25, 0, 487, 1378, 1195, 622, 1114, 594, 1364, 0, 36, 0, 579, 397, 776, 895, 626, 570, 697, 514, 507, 467, 442, 302, 527, 282, 616, 571, 483, 801, 962, 681, 184, 222, 0, 19, 0, 641, 267, 1023, 1874, 703, 178, 781, 732, 596, 204, 493, 835, 223, 0, 37, 0, 1091, 931, 411, 469, 606, 279, 0, 23, 0, 1586, 926, 0, 23, 0, 942, 698, 610, 499, 323, 0, 23, 0, 203, 899, 1169, 0, 23, 0, 1456, 0, 24, 0, 102, 0, 87, 102, 0, 0, 18, 0, 647, 0, 21, 0, 80, 0, 27, 0, 775, 770, 0, 23, 0, 948, 72, 0, 24, 0, 775, 520, 0, 0, 39, 0, 417, 444, 483, 0, 19, 0, 386, 640, 725, 0, 45, 0, 424, 676, 0, 19, 0, 0, 22, 0, 573, 401, 539, 0, 25, 0, 603, 0, 19, 0, 499, 513, 0, 22, 0, 301, 453, 1085, 301, 0, 20, 0, 1324, 870, 0, 0, 25, 0, 682, 0, 28, 0, 590, 610, 0, 18, 0, 815, 583, 0, 30, 0, 45, 0, 0, 22, 0, 468, 623, 646, 0, 15, 0, 1154, 1155, 1040, 0, 19, 0, 1074, 1673, 0, 22, 0, 1027, 1459, 441, 0, 31, 0, 945, 698, 1354, 304, 0, 0, 27, 0, 546, 0, 28, 0, 777, 565, 0, 18, 0, 678, 0, 30, 0, 0, 0, 26, 0, 379, 806, 251, 0, 21, 0, 954, 766, 1774, 0, 18, 0, 1068, 1077, 0, 21, 0, 578, 315, 1348, 824, 919, 0, 17, 0, 330, 562, 1044, 0, 19, 0, 596, 433, 0, 23, 0, 0, 0, 30, 0, 430, 504, 235, 0, 18, 0, 206, 441, 208, 600, 420, 566, 742, 376, 0, 15, 0, 599, 316, 0, 20, 0, 449, 369, 251, 249, 388, 0, 33, 0, 220, 197, 102, 81, 0, 0, 41, 0, 320, 839, 0, 22, 0, 729, 965, 0, 25, 0, 0, 25, 0, 248, 0, 30, 0, 2259, 0, 30, 0, 1766, 0, 30, 0, 1110, 794, 0, 44, 0, 1145, 1067, 653, 0, 24, 0, 415, 972, 433, 0, 21, 0, 0, 0, 38, 0, 440, 0, 31, 0, 50, 33, 29, 39, 33, 271, 36, 30, 40, 33, 153, 34, 30, 37, 33, 119, 41, 33, 43, 37, 57, 37, 33, 33, 33, 684, 0, 30, 0, 929, 708, 0, 25, 0, 1125, 655, 567, 0, 0, 29, 0, 605, 0, 28, 0, 1099, 763, 894, 0, 16, 0, 965, 0, 18, 0, 958, 683, 0, 20, 0, 76, 0, 0, 20, 0, 759, 872, 803, 230, 0, 35, 0, 1269, 1199, 1161, 0, 24, 0, 0, 39, 0, 1249, 1392, 1004, 0, 40, 0, 1990, 830, 1590, 0, 28, 0, 1422, 785, 1402, 0, 28, 0, 1237, 1468, 1025, 1790, 1022, 0, 49, 0, 1319, 1485, 1611, 0, 33, 0, 1529, 840, 692, 0, 25, 0, 621, 1262, 58, 599, 0, 24, 0, 1472, 955, 690, 206, 1063, 164, 0, 33, 0, 0, 27, 0, 121, 106, 67, 0, 0, 20, 0, 636, 751, 619, 0, 37, 0, 424, 830, 652, 768, 314, 0, 49, 0, 1115, 1638, 0, 30, 0, 1169, 685, 0, 20, 0, 0, 32, 0, 1625, 1116, 0, 24, 0, 1250, 0, 17, 0, 2068, 0, 28, 0, 1302, 1430, 0, 22, 0, 0, 38, 0, 476, 1196, 0, 24, 0, 1623, 0, 28, 0, 1021, 1035, 1280, 1521, 0, 26, 0, 0, 29, 0, 1142, 903, 1924, 0, 29, 0, 1030, 755, 0, 37, 0, 0, 18, 0, 27, 64, 56, 77, 217, 83, 320, 12, 0, 36, 0, 0, 0, 26, 0, 610, 798, 463, 0, 21, 0, 847, 628, 0, 49, 0, 852, 403, 968, 0, 44, 0, 614, 0, 28, 0, 760, 974, 1136, 0, 27, 0, 810, 540, 0, 25, 0, 779, 0, 30, 0, 521, 884, 685, 845, 0, 29, 0, 539, 735, 0, 70, 0, 559, 0, 20, 0, 0, 30, 0, 664, 576, 998, 0, 27, 0, 1260, 0, 58, 0, 819, 1326, 586, 741, 311, 407, 0, 27, 0, 504, 429, 1195, 817, 0, 23, 0, 857, 587, 0, 37, 0, 453, 731, 0, 17, 0, 536, 578, 761, 0, 20, 0, 1050, 519, 0, 0, 21, 0, 329, 430, 341, 0, 21, 0, 533, 788, 0, 27, 0, 0, 35, 0, 558, 439, 0, 34, 0, 725, 860, 0, 29, 0, 718, 615, 0, 49, 0, 358, 550, 0, 32, 0, 1026, 799, 0, 26, 0, 537, 0, 25, 0, 528, 421, 360, 0, 0, 25, 0, 588, 432, 0, 15, 0, 1199, 584, 1332, 0, 21, 0, 1023, 560, 0, 30, 0, 429, 436, 836, 0, 20, 0, 614, 690, 0, 36, 0, 728, 810, 1056, 0, 0, 20, 0, 350, 503, 574, 0, 21, 0, 601, 0, 26, 0, 0, 30, 0, 462, 287, 1142, 161, 834, 291, 0, 30, 0, 687, 0, 31, 0, 397, 398, 1007, 655, 0, 21, 0, 513, 0, 25, 0, 374, 0, 0, 21, 0, 918, 473, 0, 26, 0, 0, 34, 0, 990, 0, 23, 0, 1345, 326, 0, 27, 0, 347, 687, 536, 0, 24, 0, 1272, 574, 681, 0, 42, 0, 817, 1032, 0, 31, 0, 1335, 0, 39, 0, 1361, 0, 25, 0, 141, 0, 22, 0, 0, 21, 0, 0, 22, 0, 0, 0, 18, 0, 505, 0, 21, 0, 631, 415, 0, 17, 0, 340, 383, 715, 303, 0, 0, 16, 0, 474, 352, 0, 18, 0, 349, 894, 531, 0, 32, 0, 476, 606, 0, 31, 0, 254, 492, 384, 430, 0, 27, 0, 441, 0, 19, 0, 550, 557, 338, 0, 36, 0, 833, 0, 20, 0, 728, 495, 155, 0, 32, 0, 254, 204, 0, 30, 0, 389, 0, 46, 0, 208, 0, 0, 37, 0, 1335, 1408, 0, 17, 0, 0, 33, 0, 1149, 0, 28, 0, 938, 1346, 0, 30, 0, 950, 702, 0, 29, 0, 1186, 1143, 0, 29, 0, 1020, 1073, 0, 33, 0, 1303, 759, 0, 30, 0, 1441, 1028, 0, 30, 0, 1519, 0, 34, 0, 1610, 0, 35, 0, 1375, 1014, 647, 0, 25, 0, 0, 0, 27, 0, 562, 342, 717, 0, 21, 0, 1398, 981, 10, 0, 20, 0, 652, 1092, 803, 778, 166, 16, 319, 0, 15, 0, 47, 48, 44, 51, 45, 43, 52, 25, 46, 51, 46, 52, 47, 52, 45, 47, 44, 33, 52, 51, 46, 48, 43, 51, 56, 61, 45, 33, 47, 53, 41, 43, 39, 48, 47, 50, 43, 31, 50, 55, 45, 48, 48, 40, 61, 48, 50, 36, 49, 51, 44, 48, 49, 41, 47, 44, 47, 23, 54, 40, 49, 42, 48, 41, 54, 57, 43, 30, 49, 49, 41, 46, 41, 42, 48, 50, 51, 34, 40, 49, 0, 17, 0, 1687, 1127, 1210, 1031, 1254, 1362, 0, 29, 0, 1158, 199, 1404, 466, 1102, 0, 41, 0, 1243, 1826, 1675, 0, 39, 0, 1887, 1351, 1243, 618, 0, 21, 0, 102, 413, 196, 0, 0, 19, 0, 1293, 0, 18, 0, 450, 796, 675, 700, 0, 26, 0, 1196, 0, 16, 0, 481, 738, 685, 0, 37, 0, 545, 0, 40, 0, 594, 0, 0, 31, 0, 456, 650, 521, 0, 17, 0, 779, 949, 0, 26, 0, 646, 0, 30, 0, 1341, 882, 841, 566, 0, 36, 0, 816, 986, 1118, 827, 834, 1066, 1244, 1100, 0, 35, 0, 803, 922, 780, 0, 29, 0, 1062, 1076, 844, 879, 912, 1196, 183, 0, 0, 58, 0, 634, 595, 433, 0, 23, 0, 792, 0, 18, 0, 0, 22, 0, 1088, 1077, 768, 0, 23, 0, 809, 926, 0, 22, 0, 1321, 721, 666, 0, 25, 0, 974, 1143, 829, 600, 0, 26, 0, 563, 808, 553, 649, 0, 0, 19, 0, 337, 382, 0, 18, 0, 325, 916, 481, 0, 19, 0, 25, 14, 37, 17, 30, 41, 45, 35, 35, 36, 41, 19, 37, 37, 28, 33, 39, 37, 38, 15, 36, 45, 89, 35, 36, 38, 0, 22, 0, 949, 683, 289, 0, 19, 0, 0, 23, 0, 783, 865, 0, 23, 0, 256, 1654, 1096, 168, 0, 23, 0, 1006, 0, 23, 0, 273, 0, 23, 0, 1236, 262, 0, 20, 0, 0, 33, 0, 1378, 1958, 0, 22, 0, 1237, 0, 21, 0, 0, 0, 35, 0, 443, 593, 422, 129, 0, 15, 0, 384, 949, 891, 735, 649, 462, 153, 0, 15, 0, 46, 79, 83, 159, 68, 88, 83, 39, 70, 57, 53, 61, 58, 56, 83, 76, 0, 21, 0, 561, 799, 416, 0, 22, 0, 656, 823, 525, 0, 22, 0, 503, 712, 336, 669, 0, 22, 0, 366, 528, 414, 612, 499, 590, 0, 20, 0, 683, 465, 588, 702, 0, 20, 0, 533, 0, 32, 0, 242, 446, 420, 442, 682, 0, 0, 19, 0, 322, 591, 0, 20, 0, 699, 615, 211, 863, 0, 20, 0, 747, 115, 0, 26, 0, 784, 120, 0, 0, 29, 0, 307, 702, 857, 0, 21, 0, 0, 30, 0, 1326, 0, 29, 0, 1094, 1181, 1701, 1717, 1519, 0, 38, 0, 923, 952, 1632, 972, 1102, 0, 27, 0, 811, 404, 1175, 1141, 1182, 284, 0, 19, 0, 1435, 1287, 0, 17, 0, 245, 559, 607, 0, 0, 18, 0, 964, 717, 0, 21, 0, 948, 610, 0, 20, 0, 879, 511, 770, 1177, 1377, 0, 24, 0, 1061, 676, 392, 0, 17, 0, 957, 763, 575, 766, 603, 0, 18, 0, 608, 1459, 0, 17, 0, 848, 429, 0, 0, 14, 0, 627, 1206, 486, 747, 478, 0, 23, 0, 1047, 1060, 0, 33, 0, 662, 367, 0, 20, 0, 0, 27, 0, 1417, 561, 512, 0, 33, 0, 792, 0, 20, 0, 415, 75, 296, 531, 195, 688, 528, 169, 0, 38, 0, 1471, 810, 0, 29, 0, 516, 1093, 1192, 0, 22, 0, 805, 449, 133, 0, 48, 0, 626, 548, 810, 521, 0, 34, 0, 631, 424, 0, 27, 0, 616, 0, 35, 0, 1152, 819, 0, 36, 0, 758, 610, 624, 528, 402, 0, 25, 0, 975, 0, 29, 0, 126, 974, 0, 54, 0, 1143, 609, 0, 62, 0, 282, 0, 20, 0, 663, 706, 0, 32, 0, 347, 798, 970, 576, 392, 345, 456, 0, 20, 0, 0, 37, 0, 29, 22, 31, 34, 35, 21, 41, 171, 99, 113, 152, 127, 41, 101, 126, 0, 49, 0, 114, 94, 33, 0, 45, 0, 835, 483, 0, 17, 0, 0, 42, 0, 665, 809, 1127, 727, 0, 29, 0, 1361, 2022, 0, 39, 0, 410, 1383, 788, 685, 1016, 0, 22, 0, 115, 16, 28, 21, 20, 0, 0, 23, 0, 633, 485, 425, 0, 18, 0, 732, 684, 1258, 1363, 922, 978, 1978, 0, 28, 0, 727, 110, 102, 254, 522, 307, 0, 30, 0, 533, 768, 0, 18, 0, 857, 947, 197, 0, 20, 0, 862, 885, 91, 417, 0, 32, 0, 552, 470, 0, 35, 0, 1051, 1092, 1227, 0, 21, 0, 725, 494, 177, 0, 23, 0, 135, 0, 23, 0, 16, 105, 44, 31, 7, 13, 84, 17, 60, 24, 7, 30, 18, 0, 23, 0, 19, 12, 25, 7, 20, 14, 0, 27, 0, 32, 7, 0, 18, 0, 0, 35, 0, 23, 138, 0, 26, 0, 138, 0, 24, 0, 23, 138, 0, 30, 0, 802, 1089, 331, 0, 21, 0, 0, 38, 0, 20, 0, 33, 0, 21, 0, 31, 0, 189, 0, 29, 0, 677, 432, 0, 0, 28, 0, 602, 586, 758, 0, 16, 0, 642, 741, 520, 0, 26, 0, 742, 599, 552, 821, 232, 0, 38, 0, 937, 0, 20, 0, 914, 0, 33, 0, 452, 551, 628, 0, 21, 0, 362, 117, 218, 48, 310, 0, 30, 0, 675, 0, 0, 23, 0, 1035, 0, 36, 0, 830, 359, 395, 0, 22, 0, 1086, 549, 824, 560, 0, 35, 0, 1336, 0, 30, 0, 853, 0, 20, 0, 662, 341, 0, 35, 0, 601, 233, 0, 47, 0, 811, 594, 946, 0, 31, 0, 165, 163, 0, 0, 34, 0, 565, 496, 350, 0, 15, 0, 0, 25, 0, 739, 0, 22, 0, 871, 754, 484, 0, 21, 0, 1295, 1631, 1297, 874, 737, 0, 20, 0, 0, 22, 0, 1552, 0, 33, 0, 1293, 1152, 0, 0, 38, 0, 450, 572, 0, 15, 0, 910, 611, 825, 0, 21, 0, 709, 386, 474, 0, 30, 0, 587, 542, 655, 229, 0, 20, 0, 600, 567, 567, 0, 22, 0, 472, 0, 0, 19, 0, 706, 781, 485, 564, 582, 0, 22, 0, 0, 25, 0, 887, 295, 733, 0, 33, 0, 547, 590, 0, 38, 0, 298, 493, 260, 362, 0, 27, 0, 0, 35, 0, 351, 465, 495, 425, 853, 0, 33, 0, 583, 710, 986, 0, 25, 0, 1046, 0, 32, 0, 778, 717, 155, 0, 34, 0, 722, 1285, 315, 451, 0, 26, 0, 828, 0, 34, 0, 888, 408, 732, 392, 683, 294, 566, 490, 0, 37, 0, 0, 37, 0, 1127, 454, 1011, 670, 0, 48, 0, 1089, 618, 560, 510, 0, 36, 0, 500, 251, 344, 437, 654, 1309, 207, 559, 0, 28, 0, 1210, 514, 918, 1140, 457, 0, 0, 33, 0, 717, 508, 0, 33, 0, 941, 860, 781, 0, 34, 0, 888, 1447, 623, 0, 0, 14, 0, 760, 603, 152, 0, 26, 0, 0, 34, 0, 400, 0, 34, 0, 841, 41, 112, 0, 23, 0, 1005, 41, 61, 330, 381, 232, 0, 18, 0, 968, 251, 330, 429, 668, 0, 21, 0, 1102, 71, 296, 0, 21, 0, 192, 630, 0, 23, 0, 99, 0, 24, 0, 505, 0, 29, 0, 543, 277, 0, 30, 0, 490, 0, 24, 0, 234, 749, 418, 0, 30, 0, 519, 307, 214, 0, 44, 0, 130, 0, 26, 0, 376, 176, 164, 0, 22, 0, 155, 536, 0, 17, 0, 68, 294, 378, 666, 1399, 680, 620, 963, 132, 0, 26, 0, 165, 271, 442, 0, 30, 0, 436, 285, 0, 0, 34, 0, 947, 952, 0, 21, 0, 0, 33, 0, 913, 806, 1342, 0, 18, 0, 0, 30, 0, 1052, 707, 1299, 1083, 0, 37, 0, 944, 1149, 0, 17, 0, 0, 51, 0, 914, 1098, 1230, 0, 82, 0, 1298, 1053, 608, 0, 51, 0, 1177, 951, 1506, 1232, 1521, 1493, 0, 45, 0, 1151, 1117, 1495, 1488, 1240, 1221, 711, 0, 20, 0, 0, 25, 0, 1470, 0, 25, 0, 835, 755, 740, 0, 36, 0, 1500, 1149, 0, 0, 23, 0, 537, 549, 724, 0, 33, 0, 1162, 0, 22, 0, 534, 315, 0, 19, 0, 908, 919, 0, 34, 0, 228, 325, 0, 26, 0, 0, 40, 0, 403, 767, 1158, 552, 0, 31, 0, 737, 651, 438, 505, 740, 435, 0, 40, 0, 491, 865, 758, 693, 623, 771, 0, 17, 0, 0, 54, 0, 540, 129, 655, 1314, 0, 43, 0, 308, 346, 777, 566, 0, 0, 21, 0, 359, 402, 397, 0, 21, 0, 0, 20, 0, 749, 1074, 0, 22, 0, 927, 624, 0, 22, 0, 746, 0, 20, 0, 0, 32, 0, 1194, 0, 37, 0, 346, 0, 24, 0, 0, 25, 0, 0, 0, 57, 0, 515, 433, 0, 18, 0, 462, 765, 615, 495, 250, 789, 0, 36, 0, 490, 809, 813, 359, 0, 0, 38, 0, 867, 961, 957, 805, 0, 21, 0, 896, 552, 903, 0, 37, 0, 1618, 1132, 1395, 1602, 1352, 370, 0, 29, 0, 2215, 1769, 0, 28, 0, 874, 684, 579, 0, 18, 0, 1507, 1060, 0, 20, 0, 1323, 657, 220, 705, 532, 846, 0, 31, 0, 982, 0, 33, 0, 1229, 0, 23, 0, 739, 273, 396, 423, 819, 0, 24, 0, 8, 49, 72, 0, 24, 0, 0, 17, 0, 0, 25, 0, 0, 0, 24, 0, 535, 839, 552, 652, 0, 21, 0, 985, 793, 679, 0, 33, 0, 0, 22, 0, 1662, 0, 47, 0, 1328, 864, 1235, 0, 36, 0, 1104, 869, 885, 2203, 0, 32, 0, 2077, 0, 36, 0, 1325, 1354, 769, 0, 32, 0, 1257, 892, 1586, 0, 0, 58, 0, 509, 500, 604, 0, 21, 0, 655, 162, 0, 22, 0, 275, 987, 904, 0, 32, 0, 0, 27, 0, 409, 425, 262, 0, 22, 0, 300, 535, 153, 0, 19, 0, 454, 399, 0, 29, 0, 269, 493, 914, 529, 83, 0, 33, 0, 596, 631, 450, 0, 24, 0, 62, 8, 39, 37, 26, 0, 32, 0, 62, 0, 17, 0, 0, 25, 0, 0, 26, 0, 0, 0, 34, 0, 494, 510, 1226, 0, 25, 0, 0, 20, 0, 593, 699, 0, 28, 0, 297, 1169, 0, 26, 0, 0, 28, 0, 771, 368, 0, 28, 0, 612, 0, 36, 0, 602, 327, 0, 36, 0, 277, 241, 693, 0, 23, 0, 784, 0, 28, 0, 952, 948, 815, 510, 0, 29, 0, 415, 730, 872, 1056, 0, 28, 0, 1056, 1074, 238, 0, 29, 0, 621, 436, 968, 481, 0, 30, 0, 495, 355, 646, 408, 0, 27, 0, 359, 663, 574, 0, 26, 0, 257, 0, 0, 27, 0, 1244, 1143, 564, 0, 22, 0, 1085, 541, 1535, 610, 716, 887, 0, 30, 0, 1017, 1268, 637, 1420, 667, 705, 0, 22, 0, 902, 734, 738, 458, 0, 32, 0, 522, 562, 1142, 780, 0, 18, 0, 0, 0, 35, 0, 432, 415, 0, 20, 0, 854, 681, 640, 0, 21, 0, 1464, 0, 20, 0, 643, 1198, 354, 0, 0, 20, 0, 435, 476, 450, 0, 21, 0, 0, 24, 0, 1125, 0, 24, 0, 631, 853, 1331, 0, 33, 0, 1518, 1249, 304, 0, 20, 0, 0, 24, 0, 706, 0, 32, 0, 1072, 807, 0, 37, 0, 729, 603, 0, 24, 0, 56, 0, 32, 0, 0, 36, 0, 0, 21, 0, 0, 0, 21, 0, 418, 699, 815, 0, 18, 0, 0, 37, 0, 348, 588, 529, 0, 36, 0, 120, 435, 421, 410, 512, 0, 32, 0, 643, 450, 583, 470, 162, 0, 36, 0, 0, 26, 0, 711, 584, 571, 0, 29, 0, 1138, 749, 0, 33, 0, 652, 713, 668, 377, 228, 0, 47, 0, 796, 850, 545, 157, 613, 538, 341, 0, 35, 0, 0, 34, 0, 878, 689, 247, 0, 23, 0, 586, 320, 608, 268, 381, 0, 0, 30, 0, 582, 0, 20, 0, 183, 0, 31, 0, 199, 351, 711, 216, 0, 22, 0, 249, 613, 589, 202, 475, 0, 35, 0, 550, 458, 0, 19, 0, 363, 399, 0, 27, 0, 296, 169, 0, 21, 0, 257, 0, 0, 22, 0, 418, 468, 940, 610, 0, 25, 0, 854, 1026, 312, 0, 28, 0, 458, 285, 538, 0, 23, 0, 519, 465, 720, 0, 26, 0, 1294, 0, 22, 0, 575, 687, 539, 396, 0, 22, 0, 700, 357, 0, 28, 0, 427, 0, 23, 0, 811, 0, 28, 0, 1063, 814, 992, 379, 0, 29, 0, 803, 807, 756, 86, 0, 28, 0, 702, 814, 861, 290, 0, 29, 0, 1147, 799, 545, 779, 1666, 566, 0, 30, 0, 461, 606, 0, 27, 0, 320, 820, 387, 0, 26, 0, 199, 0, 0, 25, 0, 1039, 0, 17, 0, 936, 651, 1226, 0, 18, 0, 682, 207, 0, 21, 0, 262, 312, 0, 26, 0, 103, 0, 0, 34, 0, 1078, 1117, 0, 21, 0, 1150, 1562, 1383, 0, 39, 0, 1292, 738, 0, 21, 0, 690, 965, 890, 809, 0, 31, 0, 883, 833, 0, 20, 0, 697, 1180, 1902, 0, 0, 37, 0, 690, 0, 18, 0, 901, 795, 0, 28, 0, 700, 0, 30, 0, 12, 42, 11, 66, 12, 42, 0, 0, 46, 0, 582, 948, 0, 30, 0, 965, 346, 0, 21, 0, 812, 727, 1231, 0, 43, 0, 1292, 1091, 0, 47, 0, 1263, 826, 1295, 0, 19, 0, 0, 0, 22, 0, 1483, 1536, 0, 44, 0, 1774, 0, 36, 0, 1308, 580, 588, 1323, 915, 0, 36, 0, 782, 852, 599, 791, 0, 32, 0, 2134, 1885, 253, 0, 33, 0, 1849, 986, 799, 0, 33, 0, 1001, 501, 1147, 900, 729, 556, 0, 26, 0, 0, 39, 0, 765, 1085, 463, 0, 61, 0, 964, 2400, 0, 50, 0, 1430, 0, 18, 0, 93, 41, 42, 30, 40, 86, 0, 29, 0, 0, 0, 42, 0, 349, 531, 200, 0, 18, 0, 1005, 0, 23, 0, 0, 23, 0, 976, 0, 23, 0, 1238, 876, 956, 0, 28, 0, 344, 144, 717, 0, 35, 0, 464, 0, 29, 0, 228, 0, 0, 24, 0, 718, 748, 672, 0, 33, 0, 792, 776, 0, 35, 0, 935, 526, 0, 22, 0, 914, 901, 658, 0, 30, 0, 725, 462, 0, 22, 0, 567, 0, 27, 0, 985, 664, 0, 29, 0, 691, 1082, 722, 0, 0, 33, 0, 585, 0, 28, 0, 733, 937, 0, 18, 0, 585, 845, 0, 30, 0, 616, 0, 38, 0, 484, 0, 0, 15, 0, 579, 587, 0, 35, 0, 831, 745, 0, 32, 0, 843, 1017, 1015, 0, 33, 0, 857, 820, 0, 18, 0, 30, 20, 24, 25, 0, 22, 0, 0, 20, 0, 0, 21, 0, 0, 0, 29, 0, 943, 753, 667, 191, 262, 0, 33, 0, 1076, 309, 1316, 0, 25, 0, 0, 48, 0, 876, 0, 39, 0, 840, 657, 355, 834, 0, 31, 0, 1074, 0, 31, 0, 476, 714, 788, 0, 36, 0, 408, 423, 580, 0, 27, 0, 0, 38, 0, 833, 745, 792, 60, 165, 177, 145, 102, 84, 134, 121, 262, 91, 381, 0, 28, 0, 617, 0, 49, 0, 579, 0, 28, 0, 511, 0, 32, 0, 656, 683, 0, 28, 0, 181, 647, 0, 41, 0, 908, 665, 463, 358, 0, 0, 39, 0, 793, 1428, 689, 0, 30, 0, 726, 1552, 1644, 1621, 749, 0, 21, 0, 1361, 1058, 352, 0, 20, 0, 1765, 493, 138, 204, 0, 20, 0, 688, 1042, 0, 28, 0, 1909, 513, 0, 29, 0, 1131, 529, 0, 24, 0, 878, 814, 684, 0, 19, 0, 1243, 0, 31, 0, 545, 937, 426, 0, 34, 0, 1035, 818, 292, 0, 29, 0, 683, 980, 1664, 0, 31, 0, 674, 494, 664, 0, 23, 0, 1873, 652, 1463, 858, 0, 30, 0, 1225, 887, 1121, 297, 0, 0, 46, 0, 235, 588, 396, 0, 21, 0, 328, 441, 154, 399, 751, 0, 18, 0, 379, 826, 708, 801, 878, 0, 29, 0, 0, 26, 0, 1248, 796, 1022, 0, 30, 0, 1330, 0, 30, 0, 1421, 617, 0, 39, 0, 1405, 415, 0, 14, 0, 132, 338, 243, 600, 0, 26, 0, 1533, 722, 0, 30, 0, 451, 341, 866, 0, 17, 0, 899, 0, 0, 35, 0, 825, 700, 0, 18, 0, 764, 268, 481, 133, 0, 20, 0, 890, 439, 444, 0, 0, 30, 0, 829, 0, 17, 0, 894, 455, 0, 26, 0, 1107, 949, 932, 0, 0, 35, 0, 802, 1145, 0, 28, 0, 1947, 1453, 318, 0, 18, 0, 0, 35, 0, 362, 875, 0, 30, 0, 0, 27, 0, 1030, 1107, 1003, 723, 787, 965, 0, 26, 0, 1494, 862, 0, 36, 0, 873, 1524, 0, 37, 0, 560, 1219, 558, 782, 576, 339, 0, 20, 0, 0, 0, 22, 0, 267, 523, 712, 0, 15, 0, 1058, 1087, 861, 0, 21, 0, 673, 523, 0, 20, 0, 0, 22, 0, 149, 0, 22, 0, 971, 826, 0, 0, 17, 0, 546, 646, 433, 0, 18, 0, 869, 1329, 0, 27, 0, 1613, 557, 0, 25, 0, 843, 0, 23, 0, 461, 117, 13, 30, 57, 27, 41, 26, 53, 38, 26, 40, 16, 51, 50, 49, 34, 31, 51, 30, 36, 30, 27, 51, 32, 40, 29, 54, 37, 35, 31, 40, 42, 25, 29, 30, 31, 30, 30, 27, 31, 33, 44, 31, 28, 34, 37, 22, 27, 59, 34, 56, 38, 38, 34, 53, 34, 34, 33, 55, 38, 26, 36, 34, 56, 38, 25, 50, 27, 33, 34, 39, 41, 38, 43, 33, 35, 33, 37, 53, 39, 34, 32, 38, 23, 39, 35, 37, 40, 43, 40, 106, 78, 476, 0, 24, 0, 338, 578, 1100, 0, 34, 0, 589, 167, 0, 54, 0, 575, 444, 498, 451, 0, 41, 0, 403, 604, 0, 23, 0, 0, 27, 0, 1030, 0, 35, 0, 488, 0, 30, 0, 434, 372, 226, 0, 37, 0, 359, 0, 38, 0, 296, 0, 29, 0, 155, 0, 29, 0, 0, 0, 25, 0, 327, 524, 506, 0, 19, 0, 962, 1026, 0, 21, 0, 0, 25, 0, 930, 0, 22, 0, 898, 636, 0, 27, 0, 1000, 0, 18, 0, 522, 720, 232, 0, 20, 0, 1631, 837, 886, 0, 0, 19, 0, 535, 0, 28, 0, 1007, 0, 22, 0, 226, 0, 18, 0, 867, 0, 26, 0, 53, 0, 27, 0, 500, 0, 0, 23, 0, 653, 789, 901, 0, 19, 0, 748, 615, 0, 22, 0, 759, 806, 600, 0, 20, 0, 1277, 809, 139, 0, 17, 0, 650, 874, 1073, 297, 0, 0, 32, 0, 790, 731, 589, 0, 15, 0, 1161, 871, 1215, 0, 25, 0, 699, 916, 598, 270, 501, 212, 116, 198, 294, 334, 281, 292, 278, 0, 16, 0, 0, 20, 0, 949, 1362, 860, 850, 0, 20, 0, 792, 0, 31, 0, 791, 902, 398, 0, 0, 18, 0, 1371, 904, 1060, 512, 277, 0, 18, 0, 0, 68, 0, 1012, 0, 80, 0, 1632, 1464, 0, 51, 0, 1050, 630, 1475, 557, 729, 0, 31, 0, 1060, 234, 0, 16, 0, 0, 26, 0, 1289, 663, 539, 1089, 501, 788, 629, 0, 32, 0, 369, 798, 1059, 519, 454, 484, 632, 486, 0, 32, 0, 633, 505, 839, 233, 0, 36, 0, 922, 100, 0, 26, 0, 222, 844, 0, 28, 0, 1612, 341, 189, 0, 19, 0, 572, 1307, 1549, 1768, 736, 741, 0, 25, 0, 1140, 1434, 986, 985, 0, 43, 0, 1050, 657, 799, 0, 26, 0, 466, 1412, 929, 927, 0, 30, 0, 986, 927, 237, 0, 26, 0, 879, 0, 37, 0, 0, 44, 0, 1371, 0, 32, 0, 1682, 183, 533, 0, 29, 0, 1240, 1823, 1720, 834, 0, 24, 0, 147, 0, 0, 16, 0, 519, 402, 436, 0, 20, 0, 162, 212, 0, 22, 0, 283, 2124, 476, 660, 0, 35, 0, 727, 613, 0, 20, 0, 1000, 351, 607, 0, 19, 0, 1489, 0, 34, 0, 699, 197, 0, 0, 27, 0, 528, 648, 0, 18, 0, 1825, 0, 17, 0, 1897, 0, 31, 0, 851, 0, 22, 0, 586, 0, 18, 0, 831, 0, 31, 0, 917, 0, 0, 12, 0, 614, 783, 291, 0, 18, 0, 0, 54, 0, 742, 778, 383, 0, 26, 0, 421, 1152, 0, 26, 0, 1393, 973, 0, 27, 0, 657, 542, 137, 0, 32, 0, 618, 657, 500, 0, 23, 0, 428, 547, 397, 0, 23, 0, 402, 378, 408, 0, 18, 0, 357, 372, 520, 0, 31, 0, 444, 720, 0, 18, 0, 0, 25, 0, 287, 556, 443, 436, 0, 24, 0, 576, 387, 0, 21, 0, 858, 0, 20, 0, 469, 0, 0, 22, 0, 829, 0, 20, 0, 0, 38, 0, 786, 914, 0, 34, 0, 643, 723, 303, 0, 20, 0, 0, 21, 0, 1456, 1140, 669, 0, 20, 0, 540, 0, 0, 19, 0, 410, 836, 959, 848, 0, 21, 0, 1445, 0, 22, 0, 0, 22, 0, 1138, 308, 570, 0, 22, 0, 1339, 1599, 0, 27, 0, 1428, 0, 22, 0, 1062, 0, 27, 0, 1011, 758, 626, 0, 24, 0, 958, 0, 22, 0, 822, 959, 0, 31, 0, 1031, 675, 873, 0, 24, 0, 695, 0, 41, 0, 775, 861, 939, 988, 726, 237, 0, 24, 0, 1131, 422, 0, 28, 0, 0, 38, 0, 103, 0, 47, 0, 75, 0, 36, 0, 103, 8, 46, 0, 18, 0, 10, 82, 10, 54, 15, 60, 10, 31, 17, 48, 0, 23, 0, 0, 22, 0, 0, 36, 0, 631, 430, 509, 643, 560, 0, 15, 0, 788, 1123, 793, 0, 21, 0, 0, 34, 0, 888, 802, 714, 823, 0, 51, 0, 933, 1070, 1123, 0, 32, 0, 1407, 970, 961, 0, 34, 0, 802, 735, 0, 20, 0, 670, 913, 1078, 399, 0, 29, 0, 636, 0, 0, 26, 0, 773, 1095, 0, 19, 0, 422, 950, 1047, 0, 18, 0, 0, 25, 0, 734, 894, 583, 1029, 0, 47, 0, 1025, 896, 0, 36, 0, 438, 878, 613, 0, 45, 0, 573, 694, 0, 28, 0, 1576, 593, 1000, 0, 20, 0, 0, 21, 0, 1160, 1130, 720, 1416, 650, 1821, 339, 0, 41, 0, 854, 501, 0, 0, 33, 0, 639, 562, 0, 18, 0, 0, 54, 0, 1534, 561, 0, 36, 0, 1454, 1001, 0, 24, 0, 483, 1089, 502, 0, 31, 0, 833, 555, 0, 24, 0, 524, 240, 0, 22, 0, 16, 0, 0, 40, 0, 509, 447, 909, 0, 44, 0, 1259, 998, 352, 817, 1030, 0, 46, 0, 411, 0, 28, 0, 933, 601, 478, 646, 0, 30, 0, 477, 890, 1223, 583, 0, 27, 0, 1122, 0, 18, 0, 841, 1375, 224, 0, 20, 0, 185, 0, 50, 0, 508, 0, 33, 0, 1532, 836, 0, 24, 0, 782, 0, 24, 0, 216, 98, 0, 20, 0, 377, 27, 74, 61, 23, 576, 12, 18, 16, 13, 17, 30, 343, 45, 146, 21, 93, 116, 29, 378, 0, 0, 26, 0, 1384, 0, 49, 0, 586, 467, 264, 0, 22, 0, 809, 1008, 956, 0, 24, 0, 608, 0, 30, 0, 1180, 0, 45, 0, 964, 511, 0, 31, 0, 113, 0, 0, 24, 0, 72, 649, 451, 0, 19, 0, 683, 1068, 525, 0, 15, 0, 0, 25, 0, 1145, 0, 20, 0, 528, 516, 753, 1000, 0, 22, 0, 773, 384, 0, 20, 0, 1392, 0, 0, 43, 0, 714, 794, 872, 780, 0, 39, 0, 725, 751, 362, 1228, 473, 0, 17, 0, 284, 979, 1088, 0, 25, 0, 296, 757, 658, 0, 20, 0, 294, 1136, 335, 0, 25, 0, 267, 743, 2669, 0, 24, 0, 331, 970, 576, 0, 24, 0, 379, 806, 0, 0, 31, 0, 329, 237, 81, 0, 15, 0, 303, 348, 436, 0, 25, 0, 260, 862, 598, 360, 284, 323, 0, 20, 0, 476, 261, 152, 186, 0, 21, 0, 183, 138, 282, 84, 177, 0, 41, 0, 94, 65, 138, 129, 137, 50, 141, 192, 0, 26, 0, 193, 354, 0, 0, 24, 0, 843, 1004, 0, 21, 0, 705, 630, 0, 35, 0, 1322, 861, 1340, 0, 49, 0, 1375, 732, 938, 0, 32, 0, 802, 776, 870, 0, 33, 0, 796, 600, 814, 0, 22, 0, 0, 38, 0, 700, 527, 0, 37, 0, 1381, 977, 980, 396, 0, 26, 0, 851, 1020, 1037, 737, 0, 39, 0, 1251, 743, 538, 0, 17, 0, 0, 25, 0, 0, 26, 0, 0, 0, 43, 0, 447, 409, 606, 0, 15, 0, 660, 735, 860, 0, 21, 0, 497, 1071, 512, 0, 35, 0, 464, 903, 530, 216, 0, 0, 22, 0, 291, 990, 0, 32, 0, 946, 0, 27, 0, 915, 0, 33, 0, 1352, 686, 0, 18, 0, 584, 892, 630, 740, 0, 25, 0, 1530, 0, 32, 0, 532, 420, 463, 58, 0, 18, 0, 28, 41, 10, 53, 17, 61, 0, 0, 16, 0, 621, 462, 0, 21, 0, 549, 700, 0, 27, 0, 818, 0, 31, 0, 414, 0, 22, 0, 368, 0, 29, 0, 1005, 0, 24, 0, 0, 32, 0, 44, 0, 34, 0, 0, 32, 0, 0, 28, 0, 0, 0, 39, 0, 529, 388, 0, 31, 0, 1089, 586, 0, 36, 0, 1314, 730, 1270, 761, 0, 21, 0, 620, 565, 0, 0, 25, 0, 769, 0, 15, 0, 611, 0, 15, 0, 12, 13, 15, 19, 46, 0, 21, 0, 893, 0, 20, 0, 672, 257, 0, 0, 15, 0, 352, 863, 601, 0, 20, 0, 415, 735, 0, 29, 0, 443, 574, 932, 507, 0, 32, 0, 0, 28, 0, 0, 40, 0, 538, 643, 541, 625, 958, 1155, 0, 60, 0, 228, 290, 314, 0, 38, 0, 621, 820, 0, 31, 0, 565, 368, 284, 0, 23, 0, 838, 483, 659, 434, 0, 30, 0, 570, 335, 0, 23, 0, 464, 430, 0, 23, 0, 907, 0, 19, 0, 77, 0, 20, 0, 491, 1089, 521, 541, 180, 0, 0, 28, 0, 942, 1044, 540, 0, 30, 0, 1260, 1892, 675, 753, 474, 836, 0, 33, 0, 1202, 1183, 1063, 896, 635, 834, 415, 0, 32, 0, 1152, 0, 44, 0, 853, 1094, 684, 313, 0, 0, 26, 0, 687, 0, 22, 0, 819, 481, 0, 18, 0, 840, 1378, 563, 0, 0, 27, 0, 1089, 0, 32, 0, 1390, 1208, 0, 18, 0, 1018, 982, 844, 481, 0, 0, 43, 0, 546, 904, 452, 0, 21, 0, 482, 881, 931, 0, 16, 0, 211, 0, 30, 0, 1394, 1205, 1451, 1097, 0, 31, 0, 12, 17, 11, 17, 12, 15, 21, 27, 23, 36, 11, 16, 95, 83, 85, 97, 50, 81, 0, 39, 0, 0, 35, 0, 1040, 769, 613, 569, 0, 31, 0, 12, 17, 11, 15, 14, 22, 32, 10, 67, 56, 0, 40, 0, 0, 23, 0, 476, 1013, 641, 1355, 739, 0, 31, 0, 12, 17, 11, 17, 12, 22, 32, 10, 67, 56, 0, 40, 0, 0, 24, 0, 923, 797, 0, 31, 0, 12, 17, 11, 15, 14, 22, 32, 10, 44, 0, 40, 0, 0, 36, 0, 737, 606, 712, 0, 31, 0, 12, 17, 11, 17, 12, 22, 32, 0, 40, 0, 0, 19, 0, 711, 496, 614, 0, 0, 33, 0, 788, 0, 18, 0, 621, 793, 344, 914, 455, 1136, 0, 16, 0, 350, 313, 0, 23, 0, 459, 450, 171, 0, 20, 0, 24, 19, 25, 15, 10, 14, 14, 26, 21, 15, 20, 18, 13, 0, 0, 25, 0, 473, 430, 0, 28, 0, 302, 832, 363, 764, 0, 18, 0, 380, 423, 0, 30, 0, 172, 0, 0, 29, 0, 946, 0, 28, 0, 1084, 1113, 0, 18, 0, 1117, 0, 24, 0, 43, 0, 0, 21, 0, 926, 0, 36, 0, 1297, 500, 0, 24, 0, 873, 979, 871, 717, 0, 17, 0, 299, 0, 0, 62, 0, 751, 0, 17, 0, 668, 654, 676, 731, 320, 0, 21, 0, 536, 0, 0, 13, 0, 388, 626, 415, 0, 18, 0, 0, 23, 0, 613, 0, 28, 0, 1014, 584, 0, 47, 0, 460, 1041, 720, 957, 945, 0, 30, 0, 2008, 716, 648, 0, 30, 0, 1731, 0, 29, 0, 665, 834, 808, 1006, 0, 21, 0, 0, 28, 0, 485, 707, 583, 477, 0, 43, 0, 258, 692, 0, 20, 0, 777, 370, 397, 593, 358, 72, 269, 465, 772, 0, 36, 0, 515, 423, 429, 514, 323, 0, 21, 0, 523, 597, 318, 424, 641, 253, 0, 18, 0, 445, 342, 714, 117, 604, 221, 0, 20, 0, 0, 24, 0, 804, 858, 123, 0, 27, 0, 678, 291, 42, 72, 54, 0, 27, 0, 609, 0, 28, 0, 451, 1187, 0, 20, 0, 452, 1411, 968, 450, 252, 417, 0, 17, 0, 591, 341, 385, 540, 218, 0, 20, 0, 241, 368, 462, 0, 26, 0, 505, 633, 527, 0, 18, 0, 745, 526, 0, 34, 0, 682, 521, 600, 352, 0, 23, 0, 775, 466, 0, 27, 0, 110, 0, 25, 0, 150, 133, 231, 264, 98, 0, 0, 30, 0, 487, 519, 368, 0, 29, 0, 0, 24, 0, 500, 714, 756, 0, 26, 0, 422, 339, 296, 390, 0, 16, 0, 0, 25, 0, 363, 551, 314, 0, 22, 0, 726, 679, 452, 840, 0, 22, 0, 0, 0, 30, 0, 1285, 981, 0, 18, 0, 0, 31, 0, 1098, 1204, 0, 53, 0, 410, 1082, 1382, 0, 66, 0, 846, 1314, 0, 65, 0, 1744, 0, 27, 0, 1111, 1022, 973, 0, 21, 0, 1281, 865, 0, 33, 0, 1595, 476, 0, 25, 0, 1590, 0, 27, 0, 896, 0, 42, 0, 1618, 0, 20, 0, 1283, 415, 0, 28, 0, 972, 668, 796, 0, 22, 0, 579, 329, 0, 32, 0, 1332, 0, 0, 28, 0, 644, 964, 0, 33, 0, 973, 585, 419, 311, 109, 0, 22, 0, 1118, 653, 0, 29, 0, 1613, 0, 36, 0, 966, 0, 33, 0, 762, 494, 558, 0, 47, 0, 1116, 473, 1200, 639, 0, 24, 0, 19, 61, 0, 36, 0, 0, 0, 29, 0, 835, 975, 0, 33, 0, 1116, 1331, 0, 17, 0, 358, 644, 1853, 1505, 2150, 1040, 0, 20, 0, 260, 1116, 1002, 0, 0, 25, 0, 769, 615, 704, 0, 19, 0, 573, 1257, 1915, 0, 19, 0, 0, 22, 0, 1006, 0, 25, 0, 332, 326, 320, 264, 256, 283, 296, 357, 0, 19, 0, 1063, 1120, 1367, 0, 22, 0, 1501, 1669, 0, 20, 0, 1013, 0, 18, 0, 1186, 795, 860, 0, 20, 0, 1208, 1251, 0, 31, 0, 849, 0, 0, 15, 0, 66, 205, 490, 0, 35, 0, 921, 935, 702, 0, 22, 0, 790, 646, 0, 32, 0, 656, 597, 0, 22, 0, 864, 1446, 691, 0, 24, 0, 37, 17, 24, 30, 12, 24, 62, 61, 0, 26, 0, 0, 17, 0, 102, 0, 0, 29, 0, 277, 705, 538, 654, 0, 23, 0, 0, 34, 0, 1631, 0, 56, 0, 653, 823, 0, 64, 0, 667, 192, 107, 447, 0, 53, 0, 1391, 52, 795, 0, 36, 0, 168, 332, 305, 253, 480, 743, 0, 35, 0, 512, 0, 17, 0, 428, 0, 27, 0, 0, 31, 0, 838, 1213, 1787, 0, 45, 0, 941, 0, 28, 0, 950, 900, 603, 0, 33, 0, 633, 1327, 384, 0, 23, 0, 548, 0, 39, 0, 513, 485, 228, 659, 0, 0, 26, 0, 1455, 472, 0, 18, 0, 514, 659, 789, 1174, 1162, 2079, 0, 28, 0, 710, 0, 18, 0, 660, 473, 718, 0, 21, 0, 802, 0, 33, 0, 1129, 502, 0, 18, 0, 23, 138, 0, 29, 0, 117, 0, 19, 0, 329, 0, 18, 0, 18, 51, 40, 18, 39, 41, 18, 20, 19, 33, 0, 20, 0, 575, 0, 0, 16, 0, 819, 479, 0, 16, 0, 627, 364, 0, 20, 0, 0, 22, 0, 648, 542, 875, 363, 0, 21, 0, 182, 880, 328, 109, 98, 0, 20, 0, 153, 0, 28, 0, 416, 515, 425, 0, 0, 19, 0, 399, 367, 0, 15, 0, 597, 0, 21, 0, 525, 502, 452, 440, 0, 32, 0, 458, 623, 0, 17, 0, 698, 631, 0, 28, 0, 0, 0, 44, 0, 396, 335, 0, 21, 0, 709, 439, 0, 18, 0, 1047, 0, 36, 0, 767, 724, 0, 28, 0, 1115, 0, 22, 0, 1167, 469, 0, 24, 0, 10, 26, 39, 10, 26, 39, 78, 42, 0, 17, 0, 0, 25, 0, 0, 0, 54, 0, 578, 604, 586, 590, 0, 22, 0, 1438, 1462, 1684, 1666, 0, 25, 0, 1636, 1604, 0, 23, 0, 1627, 1539, 0, 22, 0, 1405, 1365, 1325, 0, 23, 0, 1603, 1578, 0, 28, 0, 1605, 1577, 0, 22, 0, 1368, 1416, 846, 0, 29, 0, 1681, 0, 22, 0, 1658, 0, 0, 26, 0, 539, 513, 0, 28, 0, 763, 596, 0, 18, 0, 1105, 0, 30, 0, 50, 0, 0, 24, 0, 739, 906, 551, 402, 0, 22, 0, 646, 928, 619, 1521, 584, 0, 17, 0, 0, 23, 0, 898, 1094, 0, 26, 0, 510, 760, 1372, 1058, 486, 0, 39, 0, 0, 30, 0, 534, 1628, 880, 464, 468, 0, 28, 0, 683, 734, 1118, 996, 0, 29, 0, 934, 477, 429, 173, 0, 34, 0, 757, 678, 381, 394, 437, 939, 0, 28, 0, 0, 20, 0, 453, 1185, 871, 891, 0, 22, 0, 179, 250, 1045, 430, 1021, 0, 20, 0, 0, 32, 0, 1050, 546, 750, 0, 33, 0, 243, 308, 640, 114, 357, 502, 471, 0, 51, 0, 556, 496, 1090, 955, 747, 358, 0, 27, 0, 358, 708, 540, 1339, 109, 0, 18, 0, 82, 0, 21, 0, 150, 93, 0, 0, 33, 0, 417, 0, 28, 0, 555, 470, 0, 18, 0, 313, 198, 0, 30, 0, 62, 0, 0, 37, 0, 1065, 0, 18, 0, 0, 52, 0, 1374, 308, 696, 0, 64, 0, 410, 375, 315, 0, 26, 0, 0, 32, 0, 657, 0, 21, 0, 684, 0, 23, 0, 810, 0, 20, 0, 401, 0, 18, 0, 610, 0, 0, 27, 0, 694, 406, 743, 382, 0, 21, 0, 790, 0, 36, 0, 742, 782, 541, 0, 17, 0, 1380, 519, 776, 0, 20, 0, 504, 516, 297, 0, 17, 0, 453, 0, 17, 0, 330, 0, 0, 17, 0, 756, 952, 618, 716, 0, 41, 0, 418, 519, 749, 950, 0, 15, 0, 661, 628, 0, 29, 0, 819, 757, 973, 536, 0, 41, 0, 437, 543, 523, 0, 21, 0, 1046, 0, 16, 0, 261, 0, 42, 0, 422, 771, 0, 36, 0, 186, 245, 672, 566, 490, 503, 639, 0, 45, 0, 761, 633, 891, 0, 28, 0, 846, 0, 37, 0, 666, 828, 429, 0, 33, 0, 498, 308, 0, 46, 0, 652, 0, 37, 0, 623, 0, 24, 0, 431, 354, 219, 158, 0, 21, 0, 498, 0, 37, 0, 868, 628, 772, 360, 0, 32, 0, 192, 98, 670, 47, 97, 293, 290, 934, 465, 0, 17, 0, 599, 517, 375, 167, 0, 0, 23, 0, 629, 528, 0, 22, 0, 2222, 465, 0, 19, 0, 994, 377, 444, 1047, 10, 20, 75, 35, 23, 65, 37, 39, 21, 34, 15, 12, 16, 33, 12, 15, 14, 12, 14, 15, 31, 28, 36, 703, 439, 0, 35, 0, 541, 0, 18, 0, 403, 806, 229, 0, 22, 0, 865, 0, 0, 17, 0, 928, 669, 653, 0, 21, 0, 410, 898, 1714, 593, 0, 30, 0, 808, 875, 1480, 1450, 0, 28, 0, 0, 0, 12, 0, 747, 696, 597, 0, 19, 0, 781, 301, 50, 198, 0, 22, 0, 808, 538, 0, 32, 0, 583, 978, 0, 19, 0, 427, 0, 27, 0, 906, 0, 35, 0, 924, 298, 0, 35, 0, 641, 736, 0, 0, 19, 0, 630, 721, 0, 33, 0, 949, 571, 0, 22, 0, 756, 0, 20, 0, 0, 32, 0, 1671, 0, 32, 0, 658, 0, 22, 0, 0, 25, 0, 507, 0, 23, 0, 589, 790, 0, 28, 0, 1186, 1180, 0, 24, 0, 0, 32, 0, 12, 130, 50, 12, 51, 0, 17, 0, 0, 25, 0, 0, 36, 0, 0, 0, 38, 0, 365, 426, 0, 31, 0, 306, 529, 0, 36, 0, 584, 475, 484, 0, 21, 0, 798, 384, 0, 0, 42, 0, 488, 585, 0, 34, 0, 380, 810, 365, 0, 23, 0, 667, 1254, 824, 0, 27, 0, 568, 594, 0, 29, 0, 1085, 0, 29, 0, 1106, 0, 0, 41, 0, 744, 787, 666, 1304, 527, 0, 23, 0, 239, 400, 431, 294, 331, 629, 407, 0, 19, 0, 0, 34, 0, 746, 229, 235, 384, 120, 0, 26, 0, 728, 479, 417, 418, 485, 0, 25, 0, 369, 611, 615, 474, 749, 0, 19, 0, 0, 21, 0, 0, 39, 0, 325, 505, 84, 0, 37, 0, 517, 1163, 53, 0, 23, 0, 131, 501, 399, 187, 106, 0, 22, 0, 469, 0, 63, 0, 694, 0, 42, 0, 422, 0, 54, 0, 897, 0, 50, 0, 567, 0, 48, 0, 495, 0, 44, 0, 1030, 805, 0, 58, 0, 1430, 0, 59, 0, 1001, 0, 52, 0, 636, 0, 41, 0, 639, 0, 49, 0, 513, 0, 42, 0, 611, 0, 48, 0, 830, 0, 50, 0, 769, 0, 21, 0, 1143, 0, 20, 0, 521, 0, 20, 0, 629, 284, 119, 0, 22, 0, 508, 0, 27, 0, 1534, 759, 533, 0, 41, 0, 632, 445, 0, 25, 0, 412, 360, 543, 510, 415, 0, 22, 0, 0, 0, 32, 0, 525, 893, 0, 22, 0, 686, 582, 416, 0, 26, 0, 905, 1162, 761, 1018, 955, 579, 0, 25, 0, 484, 0, 0, 42, 0, 366, 1089, 337, 0, 21, 0, 1060, 474, 0, 19, 0, 376, 1060, 1681, 804, 1402, 1732, 0, 36, 0, 0, 31, 0, 563, 430, 0, 32, 0, 762, 516, 0, 0, 46, 0, 969, 1524, 0, 19, 0, 963, 639, 1011, 1101, 0, 21, 0, 657, 1409, 715, 788, 879, 0, 36, 0, 1014, 0, 31, 0, 741, 972, 1087, 1399, 1186, 0, 35, 0, 385, 0, 21, 0, 1080, 418, 712, 1436, 1113, 449, 0, 18, 0, 989, 1063, 0, 27, 0, 620, 957, 773, 698, 0, 24, 0, 852, 533, 1208, 0, 25, 0, 373, 0, 26, 0, 1764, 1106, 587, 763, 1412, 0, 22, 0, 1089, 1005, 1308, 0, 24, 0, 497, 0, 37, 0, 593, 832, 859, 736, 0, 31, 0, 898, 1172, 1015, 0, 22, 0, 910, 1097, 887, 0, 0, 36, 0, 668, 742, 591, 0, 32, 0, 507, 0, 29, 0, 1064, 890, 0, 21, 0, 1520, 663, 1636, 600, 1145, 0, 27, 0, 1155, 530, 0, 0, 39, 0, 493, 665, 762, 0, 15, 0, 1036, 1092, 1403, 1249, 0, 21, 0, 0, 37, 0, 667, 1469, 0, 22, 0, 1290, 1197, 0, 22, 0, 1031, 1077, 781, 0, 34, 0, 831, 0, 33, 0, 1437, 1236, 1917, 0, 0, 39, 0, 687, 519, 0, 19, 0, 1169, 1010, 0, 27, 0, 1322, 0, 15, 0, 1091, 1062, 0, 22, 0, 789, 826, 1047, 0, 32, 0, 1122, 0, 20, 0, 708, 897, 687, 0, 0, 24, 0, 789, 708, 430, 0, 17, 0, 763, 796, 514, 0, 19, 0, 669, 790, 0, 38, 0, 0, 36, 0, 61, 70, 55, 22, 15, 36, 41, 16, 44, 0, 35, 0, 15, 25, 15, 96, 16, 44, 216, 0, 27, 0, 729, 623, 840, 680, 641, 0, 20, 0, 720, 666, 0, 0, 22, 0, 670, 0, 35, 0, 459, 640, 0, 22, 0, 1243, 0, 20, 0, 0, 32, 0, 671, 0, 32, 0, 308, 0, 32, 0, 78, 12, 48, 59, 0, 17, 0, 0, 0, 29, 0, 891, 964, 0, 33, 0, 683, 1020, 945, 0, 48, 0, 1059, 881, 1719, 463, 0, 0, 19, 0, 274, 414, 0, 25, 0, 395, 704, 651, 0, 30, 0, 0, 36, 0, 678, 762, 352, 0, 36, 0, 0, 23, 0, 817, 763, 515, 0, 23, 0, 607, 764, 171, 0, 23, 0, 316, 0, 24, 0, 354, 195, 168, 0, 0, 37, 0, 335, 778, 301, 0, 21, 0, 528, 0, 29, 0, 1549, 0, 22, 0, 546, 759, 582, 0, 18, 0, 1631, 449, 464, 898, 476, 353, 0, 20, 0, 367, 420, 473, 0, 0, 37, 0, 611, 405, 0, 31, 0, 793, 614, 765, 324, 0, 36, 0, 814, 1038, 547, 546, 0, 21, 0, 483, 641, 401, 0, 0, 23, 0, 307, 418, 548, 0, 35, 0, 518, 606, 534, 398, 442, 486, 0, 40, 0, 483, 1558, 712, 0, 36, 0, 1279, 464, 728, 482, 987, 569, 629, 0, 22, 0, 308, 527, 0, 0, 23, 0, 687, 399, 0, 21, 0, 1068, 282, 454, 0, 35, 0, 1247, 497, 719, 441, 1743, 0, 19, 0, 1632, 607, 0, 54, 0, 703, 1213, 884, 402, 0, 28, 0, 564, 0, 0, 25, 0, 354, 594, 912, 0, 22, 0, 702, 0, 41, 0, 893, 0, 18, 0, 0, 42, 0, 453, 250, 266, 0, 51, 0, 681, 314, 517, 1334, 429, 648, 0, 54, 0, 673, 445, 734, 0, 51, 0, 625, 1355, 820, 0, 25, 0, 0, 58, 0, 784, 695, 0, 67, 0, 739, 610, 820, 0, 26, 0, 0, 0, 16, 0, 947, 1001, 818, 0, 26, 0, 0, 45, 0, 811, 1013, 178, 425, 151, 419, 0, 20, 0, 0, 57, 0, 813, 1602, 711, 611, 444, 805, 851, 587, 395, 424, 0, 43, 0, 340, 877, 453, 1029, 674, 0, 33, 0, 774, 422, 1005, 837, 0, 60, 0, 1406, 426, 839, 359, 916, 860, 0, 52, 0, 303, 801, 1235, 946, 484, 379, 0, 20, 0, 917, 662, 344, 0, 36, 0, 567, 802, 365, 933, 1010, 503, 366, 353, 988, 553, 0, 35, 0, 934, 375, 404, 0, 20, 0, 344, 769, 288, 777, 992, 583, 781, 851, 672, 0, 20, 0, 591, 628, 665, 203, 831, 447, 427, 371, 0, 20, 0, 319, 569, 579, 521, 596, 599, 0, 31, 0, 837, 658, 502, 821, 420, 760, 926, 0, 67, 0, 542, 455, 440, 357, 707, 305, 0, 20, 0, 0, 26, 0, 984, 659, 703, 410, 302, 777, 730, 902, 518, 563, 572, 611, 0, 57, 0, 752, 849, 336, 908, 701, 863, 0, 28, 0, 1057, 861, 475, 0, 24, 0, 779, 854, 475, 605, 73, 0, 22, 0, 0, 20, 0, 581, 0, 24, 0, 0, 21, 0, 663, 435, 172, 0, 32, 0, 522, 447, 547, 474, 172, 505, 524, 302, 0, 17, 0, 1006, 686, 336, 443, 497, 1087, 1052, 668, 869, 225, 346, 473, 467, 0, 0, 30, 0, 794, 0, 19, 0, 447, 23, 22, 23, 42, 67, 0, 34, 0, 735, 641, 0, 18, 0, 343, 261, 133, 0, 15, 0, 650, 0, 0, 16, 0, 344, 1330, 1378, 1064, 0, 20, 0, 407, 0, 18, 0, 0, 28, 0, 910, 417, 514, 927, 421, 616, 0, 43, 0, 739, 0, 57, 0, 250, 492, 309, 198, 0, 46, 0, 907, 510, 572, 372, 463, 0, 24, 0, 713, 677, 510, 897, 727, 916, 463, 0, 29, 0, 759, 786, 0, 20, 0, 727, 307, 0, 22, 0, 297, 885, 0, 21, 0, 0, 22, 0, 208, 314, 0, 24, 0, 1473, 616, 0, 34, 0, 425, 897, 492, 0, 18, 0, 310, 570, 572, 532, 1327, 341, 1031, 0, 23, 0, 447, 588, 536, 654, 0, 20, 0, 0, 32, 0, 359, 634, 524, 0, 22, 0, 396, 0, 47, 0, 481, 946, 572, 0, 22, 0, 704, 533, 0, 25, 0, 677, 0, 21, 0, 381, 496, 377, 0, 20, 0, 192, 578, 891, 490, 717, 740, 0, 16, 0, 686, 540, 308, 0, 25, 0, 0, 19, 0, 1124, 432, 990, 940, 0, 18, 0, 409, 720, 1036, 930, 480, 328, 0, 18, 0, 192, 665, 327, 488, 0, 22, 0, 343, 0, 16, 0, 454, 845, 437, 483, 0, 30, 0, 0, 37, 0, 30, 0, 0, 24, 0, 297, 380, 422, 0, 15, 0, 0, 25, 0, 642, 859, 0, 28, 0, 372, 496, 1137, 740, 369, 472, 0, 21, 0, 805, 1046, 353, 0, 20, 0, 134, 971, 1097, 0, 0, 20, 0, 660, 484, 234, 521, 0, 21, 0, 1084, 790, 0, 36, 0, 917, 586, 1231, 414, 1200, 0, 27, 0, 675, 864, 1336, 380, 0, 18, 0, 1050, 953, 668, 0, 29, 0, 1106, 889, 1242, 140, 0, 33, 0, 816, 955, 1320, 157, 0, 20, 0, 1793, 1767, 0, 19, 0, 1023, 594, 0, 25, 0, 1078, 0, 24, 0, 93, 106, 102, 97, 0, 32, 0, 66, 0, 34, 0, 67, 0, 36, 0, 0, 0, 20, 0, 387, 585, 396, 0, 31, 0, 568, 0, 41, 0, 411, 638, 471, 228, 0, 19, 0, 1445, 892, 0, 47, 0, 725, 666, 0, 57, 0, 1130, 1060, 0, 19, 0, 400, 533, 0, 16, 0, 240, 0, 0, 23, 0, 676, 394, 310, 527, 0, 23, 0, 726, 426, 1027, 0, 33, 0, 0, 30, 0, 959, 0, 50, 0, 316, 1514, 0, 28, 0, 708, 1246, 1433, 1564, 332, 349, 394, 512, 341, 395, 0, 28, 0, 780, 0, 28, 0, 390, 1274, 180, 368, 182, 332, 153, 297, 0, 35, 0, 977, 795, 274, 0, 44, 0, 982, 734, 0, 0, 22, 0, 485, 762, 0, 30, 0, 480, 0, 30, 0, 1431, 690, 659, 1204, 658, 672, 0, 31, 0, 608, 657, 1146, 659, 0, 27, 0, 586, 304, 558, 0, 0, 17, 0, 679, 460, 942, 0, 20, 0, 375, 0, 25, 0, 550, 980, 0, 25, 0, 970, 679, 590, 929, 0, 25, 0, 1281, 795, 726, 433, 0, 26, 0, 0, 40, 0, 693, 947, 760, 1365, 0, 31, 0, 538, 724, 2002, 0, 36, 0, 492, 0, 44, 0, 843, 548, 615, 569, 0, 16, 0, 1279, 909, 529, 0, 34, 0, 443, 1065, 859, 0, 30, 0, 541, 685, 616, 0, 29, 0, 1107, 700, 386, 767, 0, 0, 35, 0, 962, 1067, 0, 28, 0, 1459, 1126, 1033, 1068, 0, 18, 0, 0, 35, 0, 251, 0, 34, 0, 0, 37, 0, 901, 429, 549, 381, 567, 0, 41, 0, 791, 646, 625, 0, 37, 0, 1473, 1127, 0, 20, 0, 29, 0, 0, 34, 0, 399, 897, 292, 0, 18, 0, 0, 31, 0, 874, 1155, 386, 150, 372, 206, 0, 27, 0, 1243, 0, 30, 0, 469, 545, 0, 26, 0, 689, 692, 275, 0, 0, 21, 0, 303, 1116, 0, 21, 0, 508, 403, 509, 0, 16, 0, 544, 745, 767, 0, 16, 0, 602, 564, 0, 17, 0, 476, 650, 367, 338, 0, 0, 34, 0, 362, 589, 0, 36, 0, 850, 515, 0, 36, 0, 1625, 349, 0, 40, 0, 665, 970, 0, 35, 0, 431, 777, 707, 0, 19, 0, 226, 545, 897, 0, 17, 0, 325, 773, 268, 0, 0, 23, 0, 600, 496, 0, 21, 0, 856, 0, 22, 0, 960, 1061, 0, 20, 0, 704, 0, 18, 0, 581, 533, 0, 24, 0, 0, 32, 0, 44, 22, 20, 0, 17, 0, 0, 25, 0, 0, 26, 0, 0, 0, 20, 0, 419, 613, 955, 734, 0, 24, 0, 0, 39, 0, 704, 701, 0, 21, 0, 567, 0, 40, 0, 1097, 815, 0, 24, 0, 0, 40, 0, 657, 0, 69, 0, 1014, 672, 0, 44, 0, 557, 0, 40, 0, 462, 580, 0, 45, 0, 452, 729, 366, 0, 40, 0, 635, 878, 541, 154, 0, 46, 0, 921, 697, 482, 945, 459, 0, 68, 0, 261, 736, 375, 0, 86, 0, 299, 633, 136, 0, 44, 0, 481, 525, 424, 643, 0, 51, 0, 740, 601, 695, 0, 82, 0, 170, 145, 530, 261, 828, 401, 408, 0, 38, 0, 244, 709, 613, 119, 0, 67, 0, 362, 200, 659, 434, 548, 890, 0, 79, 0, 789, 305, 411, 682, 495, 0, 72, 0, 2094, 154, 0, 20, 0, 0, 32, 0, 127, 508, 1158, 0, 35, 0, 958, 1112, 0, 33, 0, 962, 518, 0, 34, 0, 443, 459, 0, 33, 0, 1087, 153, 0, 33, 0, 1282, 0, 36, 0, 873, 0, 32, 0, 1024, 0, 37, 0, 735, 0, 34, 0, 1197, 0, 17, 0, 739, 614, 0, 24, 0, 221, 917, 887, 935, 0, 32, 0, 0, 24, 0, 1040, 0, 22, 0, 500, 0, 23, 0, 654, 0, 28, 0, 0, 57, 0, 225, 0, 64, 0, 0, 61, 0, 0, 86, 0, 17, 0, 22, 0, 0, 50, 0, 0, 35, 0, 58, 51, 52, 0, 20, 0, 150, 154, 152, 0, 23, 0, 59, 55, 33, 47, 0, 30, 0, 408, 704, 502, 0, 19, 0, 1139, 484, 0, 22, 0, 0, 31, 0, 1594, 1700, 1939, 0, 42, 0, 1284, 1567, 0, 25, 0, 1316, 1314, 0, 20, 0, 1472, 1438, 557, 0, 0, 37, 0, 1044, 1098, 0, 25, 0, 1155, 1406, 505, 0, 17, 0, 0, 39, 0, 1121, 0, 36, 0, 578, 622, 0, 31, 0, 934, 926, 0, 30, 0, 1067, 1256, 0, 30, 0, 1208, 0, 34, 0, 810, 588, 0, 30, 0, 1127, 0, 31, 0, 851, 833, 0, 29, 0, 1030, 896, 0, 30, 0, 762, 875, 0, 30, 0, 1101, 1198, 0, 36, 0, 841, 0, 36, 0, 908, 0, 30, 0, 920, 698, 0, 22, 0, 542, 0, 0, 16, 0, 753, 850, 0, 19, 0, 1137, 981, 0, 21, 0, 0, 25, 0, 746, 803, 0, 33, 0, 458, 448, 0, 25, 0, 1043, 1047, 0, 34, 0, 550, 599, 455, 0, 32, 0, 0, 23, 0, 785, 648, 0, 21, 0, 1486, 357, 672, 0, 21, 0, 485, 1017, 527, 0, 0, 20, 0, 287, 852, 318, 774, 0, 34, 0, 505, 912, 0, 25, 0, 0, 26, 0, 0, 32, 0, 870, 1171, 872, 762, 196, 0, 26, 0, 977, 682, 0, 26, 0, 2454, 0, 40, 0, 1487, 969, 1107, 0, 35, 0, 866, 0, 35, 0, 920, 568, 685, 0, 41, 0, 0, 36, 0, 698, 713, 0, 28, 0, 90, 1140, 849, 574, 1265, 1504, 0, 25, 0, 1588, 576, 1014, 1071, 659, 0, 22, 0, 611, 0, 38, 0, 156, 0, 24, 0, 882, 0, 28, 0, 0, 22, 0, 0, 23, 0, 0, 32, 0, 0, 42, 0, 57, 0, 25, 0, 20, 0, 18, 0, 0, 21, 0, 16, 43, 53, 10, 106, 42, 42, 0, 22, 0, 13, 60, 0, 25, 0, 31, 32, 24, 72, 40, 0, 0, 34, 0, 914, 718, 0, 22, 0, 869, 0, 36, 0, 468, 548, 87, 42, 33, 82, 88, 29, 58, 61, 28, 30, 38, 83, 86, 54, 32, 91, 103, 25, 0, 28, 0, 713, 0, 28, 0, 924, 410, 730, 0, 28, 0, 699, 481, 790, 0, 22, 0, 1065, 404, 0, 26, 0, 1205, 0, 26, 0, 990, 0, 20, 0, 1245, 711, 213, 0, 32, 0, 528, 355, 0, 0, 23, 0, 740, 703, 863, 1599, 0, 21, 0, 613, 545, 594, 510, 339, 0, 18, 0, 372, 891, 905, 604, 542, 0, 39, 0, 495, 632, 934, 336, 134, 440, 0, 29, 0, 594, 455, 1304, 605, 76, 700, 177, 189, 539, 0, 49, 0, 682, 1338, 792, 0, 52, 0, 1321, 1391, 526, 0, 20, 0, 482, 681, 574, 0, 29, 0, 1335, 1481, 1344, 620, 1046, 1102, 856, 679, 0, 29, 0, 1217, 203, 0, 42, 0, 990, 569, 658, 827, 1114, 837, 1141, 0, 29, 0, 786, 156, 250, 149, 152, 209, 269, 789, 0, 47, 0, 2056, 0, 60, 0, 1634, 1109, 728, 1696, 281, 442, 542, 0, 25, 0, 336, 1203, 689, 0, 51, 0, 842, 691, 248, 0, 44, 0, 733, 592, 0, 43, 0, 372, 0, 48, 0, 364, 1538, 0, 33, 0, 507, 1054, 1204, 1021, 580, 608, 0, 43, 0, 195, 520, 400, 229, 0, 25, 0, 100, 132, 146, 608, 601, 773, 0, 20, 0, 505, 305, 1064, 515, 217, 684, 0, 30, 0, 840, 986, 1447, 132, 0, 21, 0, 188, 274, 465, 189, 230, 836, 0, 0, 21, 0, 547, 563, 506, 0, 21, 0, 437, 459, 0, 22, 0, 362, 407, 0, 15, 0, 953, 572, 512, 1019, 512, 1604, 794, 0, 33, 0, 237, 226, 145, 114, 72, 36, 97, 81, 31, 32, 24, 102, 82, 28, 0, 26, 0, 1655, 774, 673, 762, 0, 29, 0, 275, 0, 24, 0, 907, 659, 570, 0, 24, 0, 616, 0, 0, 20, 0, 205, 321, 293, 264, 0, 21, 0, 227, 395, 681, 0, 22, 0, 0, 29, 0, 366, 336, 403, 441, 0, 22, 0, 267, 452, 537, 0, 33, 0, 265, 554, 396, 0, 0, 24, 0, 637, 0, 19, 0, 1292, 232, 18, 29, 27, 17, 25, 28, 29, 31, 15, 27, 20, 27, 29, 25, 27, 27, 35, 400, 0, 22, 0, 747, 570, 0, 34, 0, 1346, 0, 18, 0, 560, 166, 0, 31, 0, 179, 0, 41, 0, 399, 637, 724, 0, 34, 0, 495, 282, 356, 0, 25, 0, 602, 354, 916, 0, 0, 25, 0, 550, 544, 404, 0, 15, 0, 698, 721, 243, 0, 21, 0, 1073, 268, 0, 30, 0, 128, 209, 150, 97, 109, 0, 20, 0, 931, 597, 0, 21, 0, 577, 0, 0, 18, 0, 783, 0, 39, 0, 1002, 532, 0, 22, 0, 1275, 953, 0, 0, 31, 0, 824, 630, 929, 0, 28, 0, 0, 29, 0, 689, 891, 0, 32, 0, 1085, 0, 34, 0, 1270, 0, 40, 0, 1235, 0, 26, 0, 1022, 1454, 1479, 0, 29, 0, 1853, 0, 27, 0, 0, 41, 0, 832, 1465, 0, 30, 0, 600, 612, 1213, 698, 0, 40, 0, 1730, 0, 0, 20, 0, 526, 381, 0, 28, 0, 113, 455, 0, 18, 0, 109, 244, 71, 856, 0, 18, 0, 494, 777, 1427, 0, 43, 0, 135, 62, 147, 88, 144, 100, 87, 309, 450, 161, 87, 363, 0, 29, 0, 1509, 1115, 558, 291, 0, 21, 0, 588, 195, 170, 0, 0, 27, 0, 559, 521, 428, 0, 21, 0, 886, 423, 938, 0, 22, 0, 842, 332, 246, 890, 0, 40, 0, 908, 902, 572, 910, 1008, 0, 37, 0, 902, 384, 412, 584, 359, 325, 0, 16, 0, 800, 896, 1247, 0, 16, 0, 721, 1169, 424, 0, 23, 0, 823, 437, 1239, 372, 750, 234, 0, 21, 0, 648, 927, 0, 26, 0, 0, 0, 40, 0, 639, 889, 145, 512, 0, 18, 0, 1118, 1022, 557, 736, 413, 909, 438, 583, 551, 651, 618, 570, 606, 618, 399, 515, 877, 299, 545, 462, 493, 0, 21, 0, 606, 592, 477, 194, 0, 40, 0, 1083, 1166, 0, 16, 0, 651, 671, 757, 1733, 0, 17, 0, 0, 26, 0, 728, 0, 24, 0, 125, 315, 243, 232, 221, 613, 83, 159, 216, 0, 22, 0, 1072, 226, 0, 18, 0, 0, 28, 0, 524, 128, 55, 0, 30, 0, 171, 513, 516, 412, 777, 909, 582, 389, 519, 782, 0, 33, 0, 381, 0, 19, 0, 660, 0, 34, 0, 802, 1325, 0, 22, 0, 276, 23, 0, 25, 0, 361, 0, 17, 0, 0, 26, 0, 385, 565, 0, 20, 0, 0, 20, 0, 660, 547, 800, 0, 25, 0, 1049, 619, 468, 1199, 818, 0, 26, 0, 648, 334, 716, 386, 772, 0, 35, 0, 1010, 379, 1236, 870, 1871, 1635, 410, 0, 17, 0, 1197, 584, 0, 42, 0, 673, 599, 843, 269, 0, 0, 36, 0, 971, 0, 38, 0, 1333, 0, 20, 0, 969, 0, 32, 0, 51, 0, 17, 0, 0, 0, 32, 0, 650, 0, 33, 0, 538, 1005, 524, 0, 30, 0, 423, 967, 270, 0, 19, 0, 854, 737, 1013, 103, 0, 26, 0, 283, 0, 0, 30, 0, 634, 1059, 0, 21, 0, 1149, 742, 492, 459, 0, 17, 0, 704, 1071, 386, 0, 39, 0, 1426, 1060, 778, 0, 0, 20, 0, 761, 302, 0, 18, 0, 1276, 980, 812, 1330, 948, 1480, 0, 20, 0, 285, 1382, 1128, 1581, 0, 0, 40, 0, 410, 575, 553, 0, 21, 0, 324, 598, 972, 0, 21, 0, 0, 24, 0, 293, 804, 658, 543, 311, 626, 0, 26, 0, 452, 163, 0, 19, 0, 184, 387, 762, 932, 413, 350, 0, 18, 0, 0, 33, 0, 227, 373, 0, 33, 0, 122, 0, 31, 0, 344, 840, 349, 245, 0, 20, 0, 0, 44, 0, 743, 712, 880, 324, 0, 36, 0, 617, 409, 0, 0, 16, 0, 217, 812, 362, 0, 19, 0, 828, 0, 20, 0, 837, 0, 18, 0, 534, 833, 315, 890, 941, 781, 400, 386, 1004, 592, 0, 22, 0, 504, 200, 156, 171, 188, 119, 470, 233, 0, 23, 0, 549, 0, 0, 23, 0, 903, 1191, 0, 33, 0, 1296, 951, 1063, 0, 34, 0, 1132, 1096, 1081, 926, 325, 0, 35, 0, 1338, 363, 0, 0, 21, 0, 900, 1072, 0, 33, 0, 878, 1294, 820, 0, 23, 0, 1077, 749, 0, 17, 0, 0, 26, 0, 1041, 1302, 0, 24, 0, 482, 234, 710, 754, 1004, 0, 20, 0, 1403, 174, 0, 0, 33, 0, 1354, 687, 0, 33, 0, 1062, 754, 892, 1051, 881, 0, 23, 0, 1113, 860, 0, 17, 0, 0, 19, 0, 1321, 0, 28, 0, 1549, 0, 0, 38, 0, 705, 774, 0, 21, 0, 0, 39, 0, 1288, 877, 0, 49, 0, 679, 2035, 0, 20, 0, 784, 0, 31, 0, 645, 753, 459, 0, 20, 0, 2393, 0, 25, 0, 681, 0, 0, 32, 0, 347, 482, 606, 0, 15, 0, 627, 493, 0, 21, 0, 0, 22, 0, 463, 597, 525, 0, 22, 0, 354, 892, 0, 29, 0, 480, 0, 30, 0, 559, 0, 20, 0, 368, 824, 0, 0, 21, 0, 565, 478, 462, 0, 31, 0, 1179, 308, 884, 360, 0, 20, 0, 0, 23, 0, 979, 767, 635, 0, 20, 0, 341, 917, 365, 0, 20, 0, 1005, 440, 0, 24, 0, 746, 593, 453, 0, 0, 22, 0, 772, 356, 0, 34, 0, 686, 880, 0, 23, 0, 215, 773, 1168, 0, 19, 0, 705, 0, 16, 0, 299, 0, 17, 0, 307, 151, 384, 424, 447, 0, 20, 0, 319, 0, 29, 0, 1127, 0, 21, 0, 0, 15, 0, 306, 349, 0, 0, 31, 0, 541, 0, 33, 0, 893, 486, 0, 20, 0, 850, 0, 28, 0, 472, 504, 0, 22, 0, 602, 0, 24, 0, 20, 43, 67, 47, 68, 41, 0, 17, 0, 0, 28, 0, 0, 25, 0, 0, 0, 37, 0, 747, 763, 0, 21, 0, 588, 925, 0, 22, 0, 715, 0, 29, 0, 824, 801, 0, 24, 0, 0, 28, 0, 812, 838, 0, 22, 0, 978, 0, 23, 0, 972, 0, 37, 0, 0, 32, 0, 12, 205, 41, 12, 95, 0, 17, 0, 0, 25, 0, 0, 26, 0, 0, 0, 21, 0, 405, 356, 397, 0, 20, 0, 0, 25, 0, 475, 691, 0, 21, 0, 964, 1125, 793, 1298, 0, 17, 0, 1449, 398, 662, 217, 0, 39, 0, 1538, 0, 16, 0, 0, 26, 0, 14, 14, 75, 74, 117, 69, 154, 0, 20, 0, 65, 63, 68, 63, 51, 82, 61, 23, 32, 59, 67, 56, 46, 64, 79, 38, 52, 55, 51, 0, 0, 23, 0, 344, 292, 0, 15, 0, 431, 436, 391, 285, 124, 0, 21, 0, 402, 667, 410, 0, 20, 0, 315, 548, 246, 0, 0, 31, 0, 351, 1121, 387, 510, 0, 36, 0, 0, 40, 0, 409, 534, 0, 48, 0, 523, 0, 61, 0, 804, 654, 597, 0, 53, 0, 263, 862, 420, 997, 0, 24, 0, 359, 511, 181, 325, 0, 29, 0, 130, 79, 68, 0, 29, 0, 29, 71, 105, 121, 0, 21, 0, 0, 28, 0, 213, 713, 800, 1074, 0, 29, 0, 1021, 0, 29, 0, 1172, 0, 21, 0, 0, 24, 0, 987, 0, 21, 0, 732, 0, 24, 0, 661, 0, 24, 0, 634, 0, 30, 0, 1038, 0, 20, 0, 835, 0, 29, 0, 339, 300, 0, 28, 0, 1170, 0, 63, 0, 44, 42, 53, 45, 38, 35, 54, 33, 36, 34, 77, 0, 0, 24, 0, 788, 0, 21, 0, 672, 536, 0, 24, 0, 0, 49, 0, 940, 0, 51, 0, 316, 1105, 498, 0, 50, 0, 708, 1075, 835, 0, 50, 0, 463, 1167, 434, 232, 0, 49, 0, 1063, 618, 0, 22, 0, 694, 0, 19, 0, 0, 0, 42, 0, 460, 451, 578, 0, 15, 0, 720, 645, 668, 777, 0, 17, 0, 530, 923, 1029, 0, 21, 0, 719, 828, 677, 0, 18, 0, 532, 513, 543, 680, 0, 20, 0, 988, 1100, 0, 28, 0, 773, 920, 451, 0, 25, 0, 705, 692, 0, 18, 0, 0, 32, 0, 530, 748, 0, 33, 0, 1181, 1368, 1145, 0, 34, 0, 1163, 1249, 1046, 895, 0, 0, 24, 0, 255, 698, 745, 0, 22, 0, 0, 24, 0, 686, 510, 954, 0, 34, 0, 970, 0, 29, 0, 679, 0, 32, 0, 546, 574, 671, 0, 27, 0, 1390, 717, 0, 25, 0, 1238, 0, 31, 0, 806, 998, 0, 34, 0, 926, 0, 31, 0, 470, 0, 26, 0, 985, 0, 24, 0, 338, 0, 28, 0, 37, 0, 32, 0, 26, 0, 18, 0, 13, 57, 13, 51, 0, 0, 16, 0, 469, 545, 0, 21, 0, 350, 0, 33, 0, 688, 1248, 0, 21, 0, 1237, 1569, 1053, 0, 27, 0, 560, 0, 0, 12, 0, 352, 377, 432, 0, 18, 0, 574, 378, 733, 1118, 383, 0, 26, 0, 784, 497, 302, 337, 282, 0, 36, 0, 224, 994, 825, 599, 0, 40, 0, 836, 818, 735, 939, 243, 1304, 748, 0, 20, 0, 243, 0, 22, 0, 34, 10, 14, 127, 41, 154, 38, 24, 23, 54, 6, 134, 7, 31, 12, 17, 36, 38, 19, 6, 142, 443, 106, 80, 52, 0, 36, 0, 57, 32, 387, 94, 6, 6, 10, 11, 11, 6, 96, 116, 12, 101, 5, 7, 10, 6, 13, 10, 11, 4, 174, 60, 11, 10, 5, 14, 5, 11, 36, 98, 48, 12, 5, 11, 47, 29, 31, 7, 62, 5, 11, 39, 99, 12, 0, 30, 0, 357, 4, 5, 24, 50, 6, 5, 6, 6, 4, 5, 43, 34, 7, 24, 4, 5, 12, 4, 6, 5, 8, 8, 100, 7, 20, 70, 6, 20, 81, 74, 9, 5, 7, 165, 18, 6, 5, 109, 470, 0, 38, 0, 762, 497, 646, 0, 23, 0, 126, 0, 38, 0, 0, 42, 0, 437, 826, 278, 547, 0, 25, 0, 546, 0, 22, 0, 0, 29, 0, 250, 1080, 186, 445, 0, 34, 0, 883, 360, 0, 25, 0, 526, 0, 26, 0, 227, 574, 0, 31, 0, 377, 508, 0, 20, 0, 440, 477, 661, 636, 0, 22, 0, 270, 484, 849, 919, 0, 0, 16, 0, 337, 896, 701, 448, 0, 21, 0, 0, 30, 0, 511, 420, 726, 436, 0, 20, 0, 493, 742, 0, 35, 0, 797, 731, 443, 369, 1362, 340, 0, 45, 0, 805, 738, 835, 0, 24, 0, 0, 35, 0, 965, 2227, 0, 49, 0, 529, 687, 0, 24, 0, 1239, 525, 221, 211, 452, 604, 692, 610, 875, 0, 45, 0, 0, 29, 0, 616, 980, 1216, 814, 1183, 1036, 0, 58, 0, 568, 572, 707, 0, 37, 0, 0, 43, 0, 478, 422, 618, 610, 0, 31, 0, 783, 996, 0, 65, 0, 436, 144, 0, 30, 0, 0, 20, 0, 817, 0, 23, 0, 397, 523, 566, 547, 390, 857, 0, 29, 0, 1005, 490, 0, 49, 0, 730, 702, 704, 0, 34, 0, 1164, 599, 0, 31, 0, 0, 42, 0, 222, 507, 262, 590, 386, 885, 192, 562, 410, 682, 117, 562, 799, 0, 37, 0, 1225, 279, 579, 393, 485, 919, 933, 0, 44, 0, 1007, 635, 943, 0, 0, 22, 0, 564, 466, 361, 0, 30, 0, 663, 347, 1367, 1491, 0, 15, 0, 1110, 925, 479, 0, 20, 0, 276, 606, 1237, 0, 0, 23, 0, 644, 716, 624, 0, 23, 0, 940, 953, 1168, 1026, 0, 15, 0, 28, 33, 31, 45, 37, 34, 39, 28, 28, 0, 31, 0, 715, 829, 705, 0, 21, 0, 0, 38, 0, 1168, 1433, 1287, 0, 21, 0, 1646, 926, 0, 22, 0, 1511, 0, 32, 0, 605, 1236, 559, 0, 24, 0, 0, 26, 0, 698, 352, 0, 22, 0, 803, 1046, 0, 0, 22, 0, 527, 967, 621, 582, 0, 21, 0, 631, 963, 825, 578, 799, 0, 28, 0, 0, 27, 0, 654, 570, 0, 24, 0, 704, 925, 0, 28, 0, 1058, 551, 421, 969, 1046, 734, 510, 567, 485, 0, 27, 0, 317, 366, 527, 608, 935, 1241, 0, 24, 0, 876, 429, 452, 0, 36, 0, 0, 23, 0, 435, 616, 443, 835, 0, 19, 0, 696, 568, 587, 600, 0, 20, 0, 469, 462, 0, 17, 0, 294, 281, 549, 0, 0, 28, 0, 370, 559, 753, 0, 18, 0, 1351, 1359, 0, 34, 0, 1556, 420, 0, 21, 0, 1066, 0, 32, 0, 531, 1013, 0, 24, 0, 1060, 0, 18, 0, 1169, 0, 28, 0, 674, 0, 20, 0, 942, 465, 541, 0, 37, 0, 479, 1074, 536, 704, 0, 20, 0, 320, 626, 1344, 461, 255, 0, 27, 0, 909, 522, 1043, 0, 21, 0, 1312, 0, 24, 0, 541, 0, 32, 0, 496, 0, 27, 0, 1216, 0, 0, 13, 0, 564, 464, 614, 362, 0, 15, 0, 597, 656, 698, 606, 561, 449, 0, 15, 0, 0, 21, 0, 0, 21, 0, 1204, 952, 0, 28, 0, 902, 784, 440, 0, 22, 0, 651, 623, 510, 0, 16, 0, 763, 866, 0, 32, 0, 750, 0, 33, 0, 662, 657, 0, 25, 0, 854, 639, 0, 21, 0, 0, 18, 0, 518, 0, 17, 0, 684, 554, 604, 816, 0, 0, 30, 0, 407, 597, 414, 0, 17, 0, 0, 25, 0, 420, 590, 501, 509, 393, 619, 0, 38, 0, 1303, 710, 1541, 0, 19, 0, 1182, 704, 490, 839, 0, 28, 0, 547, 299, 322, 1200, 368, 0, 25, 0, 0, 25, 0, 0, 19, 0, 0, 48, 0, 79, 0, 0, 21, 0, 636, 252, 259, 0, 17, 0, 1436, 0, 22, 0, 0, 35, 0, 159, 1074, 602, 557, 340, 0, 25, 0, 571, 422, 873, 0, 18, 0, 201, 375, 96, 292, 0, 0, 16, 0, 345, 386, 269, 0, 23, 0, 849, 0, 22, 0, 487, 588, 342, 708, 701, 349, 0, 35, 0, 923, 383, 517, 0, 0, 17, 0, 519, 733, 587, 0, 21, 0, 0, 35, 0, 933, 611, 665, 0, 38, 0, 1096, 849, 1239, 502, 0, 51, 0, 738, 504, 1131, 446, 0, 23, 0, 0, 26, 0, 1058, 814, 884, 826, 489, 0, 30, 0, 691, 941, 596, 0, 61, 0, 674, 727, 1346, 1222, 0, 23, 0, 1047, 1078, 958, 0, 40, 0, 1093, 568, 0, 34, 0, 466, 711, 0, 34, 0, 979, 951, 567, 740, 924, 0, 20, 0, 0, 44, 0, 762, 1100, 1599, 417, 511, 0, 37, 0, 797, 0, 24, 0, 1344, 1034, 0, 34, 0, 1136, 1089, 0, 31, 0, 608, 501, 0, 29, 0, 539, 574, 808, 794, 607, 0, 0, 35, 0, 976, 477, 0, 33, 0, 1218, 1375, 0, 34, 0, 1072, 728, 727, 0, 0, 41, 0, 538, 671, 731, 690, 0, 21, 0, 870, 770, 912, 0, 33, 0, 928, 825, 926, 762, 1050, 540, 683, 0, 18, 0, 0, 30, 0, 663, 756, 1370, 674, 0, 21, 0, 1039, 844, 0, 45, 0, 1038, 1162, 0, 17, 0, 652, 624, 0, 0, 18, 0, 963, 521, 0, 20, 0, 1232, 792, 1599, 1262, 400, 0, 30, 0, 1441, 716, 0, 36, 0, 849, 1566, 0, 0, 20, 0, 481, 609, 706, 482, 0, 20, 0, 0, 37, 0, 965, 803, 0, 44, 0, 769, 688, 1193, 862, 0, 48, 0, 473, 2179, 1240, 377, 1124, 704, 0, 44, 0, 905, 1648, 0, 31, 0, 682, 625, 964, 785, 527, 392, 0, 18, 0, 0, 34, 0, 786, 586, 508, 0, 27, 0, 1082, 426, 748, 623, 650, 344, 400, 447, 0, 0, 18, 0, 308, 240, 417, 394, 198, 184, 0, 20, 0, 0, 34, 0, 763, 563, 657, 0, 42, 0, 708, 717, 0, 45, 0, 654, 193, 0, 45, 0, 1275, 913, 783, 520, 0, 41, 0, 444, 577, 700, 710, 557, 0, 32, 0, 691, 0, 25, 0, 1185, 0, 24, 0, 0, 31, 0, 1063, 1087, 449, 433, 0, 31, 0, 910, 0, 31, 0, 0, 20, 0, 907, 953, 0, 19, 0, 776, 275, 717, 897, 0, 21, 0, 501, 196, 388, 75, 101, 0, 22, 0, 0, 21, 0, 0, 28, 0, 0, 0, 14, 0, 666, 0, 18, 0, 1301, 1162, 0, 28, 0, 1107, 0, 23, 0, 78, 0, 35, 0, 65, 13, 18, 14, 10, 12, 21, 0, 16, 0, 64, 481, 0, 19, 0, 0, 20, 0, 0, 33, 0, 272, 0, 34, 0, 365, 0, 42, 0, 398, 0, 23, 0, 747, 0, 21, 0, 329, 0, 37, 0, 433, 0, 0, 34, 0, 855, 599, 543, 0, 21, 0, 891, 555, 1451, 431, 0, 23, 0, 0, 40, 0, 532, 619, 874, 471, 0, 26, 0, 906, 993, 659, 895, 618, 0, 20, 0, 1299, 706, 910, 1348, 484, 372, 0, 17, 0, 495, 772, 347, 0, 0, 27, 0, 484, 837, 0, 21, 0, 1111, 973, 0, 27, 0, 1223, 746, 462, 0, 28, 0, 1076, 1054, 806, 1106, 0, 35, 0, 927, 0, 23, 0, 51, 38, 37, 0, 19, 0, 0, 21, 0, 0, 0, 39, 0, 385, 344, 229, 0, 21, 0, 819, 897, 1092, 0, 22, 0, 572, 511, 408, 0, 24, 0, 83, 0, 20, 0, 0, 32, 0, 227, 1271, 868, 0, 0, 70, 0, 498, 0, 18, 0, 0, 25, 0, 982, 620, 602, 0, 32, 0, 802, 0, 17, 0, 556, 395, 0, 0, 34, 0, 382, 0, 28, 0, 568, 662, 0, 18, 0, 680, 0, 30, 0, 45, 0, 0, 35, 0, 316, 398, 0, 33, 0, 914, 1119, 0, 34, 0, 422, 650, 455, 207, 0, 0, 29, 0, 601, 324, 0, 21, 0, 1355, 0, 21, 0, 1005, 927, 658, 0, 31, 0, 632, 717, 335, 0, 22, 0, 790, 657, 0, 17, 0, 891, 790, 528, 0, 22, 0, 1136, 625, 399, 0, 0, 28, 0, 531, 856, 0, 15, 0, 599, 604, 341, 0, 15, 0, 50, 56, 47, 32, 0, 21, 0, 1150, 699, 0, 18, 0, 496, 0, 31, 0, 1176, 310, 0, 0, 23, 0, 871, 715, 671, 0, 15, 0, 1119, 964, 682, 1225, 0, 21, 0, 0, 37, 0, 805, 795, 0, 22, 0, 1048, 1004, 910, 0, 22, 0, 550, 507, 732, 1068, 869, 735, 0, 20, 0, 773, 345, 610, 0, 20, 0, 0, 22, 0, 490, 0, 33, 0, 885, 931, 787, 353, 0, 24, 0, 0, 0, 31, 0, 920, 522, 0, 26, 0, 975, 593, 0, 22, 0, 2071, 1235, 862, 0, 35, 0, 1251, 1866, 942, 0, 20, 0, 240, 1961, 1825, 319, 0, 0, 33, 0, 701, 447, 0, 22, 0, 393, 970, 416, 513, 0, 22, 0, 275, 879, 0, 29, 0, 1054, 0, 28, 0, 703, 0, 22, 0, 283, 540, 615, 816, 0, 28, 0, 491, 0, 0, 37, 0, 239, 496, 0, 28, 0, 845, 0, 18, 0, 626, 992, 0, 30, 0, 64, 0, 0, 17, 0, 403, 587, 0, 19, 0, 572, 354, 0, 22, 0, 646, 1063, 616, 0, 20, 0, 1262, 789, 0, 0, 19, 0, 396, 497, 448, 0, 21, 0, 454, 537, 482, 755, 0, 30, 0, 0, 26, 0, 393, 478, 717, 747, 469, 0, 28, 0, 594, 985, 551, 617, 598, 526, 673, 603, 512, 0, 27, 0, 511, 543, 621, 523, 0, 21, 0, 779, 638, 183, 0, 17, 0, 358, 497, 910, 0, 0, 26, 0, 1070, 1385, 576, 0, 26, 0, 1155, 0, 20, 0, 847, 933, 0, 22, 0, 1073, 827, 0, 20, 0, 656, 1294, 925, 0, 43, 0, 0, 44, 0, 0, 20, 0, 932, 1636, 502, 0, 27, 0, 1526, 427, 1429, 0, 18, 0, 0, 41, 0, 1331, 1194, 0, 42, 0, 1203, 627, 0, 29, 0, 784, 1355, 678, 0, 0, 26, 0, 257, 570, 551, 616, 0, 34, 0, 834, 0, 50, 0, 1163, 0, 46, 0, 352, 1193, 292, 0, 38, 0, 865, 656, 0, 40, 0, 763, 297, 645, 0, 36, 0, 973, 0, 35, 0, 85, 234, 587, 969, 92, 0, 29, 0, 0, 28, 0, 321, 862, 485, 384, 1187, 373, 0, 52, 0, 637, 262, 305, 762, 0, 29, 0, 119, 139, 202, 212, 182, 1346, 986, 0, 36, 0, 777, 543, 0, 29, 0, 673, 524, 1376, 421, 420, 0, 41, 0, 739, 131, 490, 915, 986, 139, 336, 795, 0, 24, 0, 128, 121, 121, 103, 154, 75, 118, 72, 0, 0, 20, 0, 334, 358, 553, 177, 0, 23, 0, 326, 0, 26, 0, 724, 889, 1151, 0, 25, 0, 0, 29, 0, 1429, 1138, 0, 33, 0, 658, 1356, 1131, 0, 30, 0, 0, 19, 0, 542, 0, 19, 0, 345, 0, 0, 34, 0, 516, 654, 0, 15, 0, 563, 1290, 555, 0, 21, 0, 1211, 449, 0, 30, 0, 1567, 0, 20, 0, 307, 1730, 904, 233, 0, 0, 28, 0, 316, 0, 18, 0, 684, 594, 519, 455, 362, 0, 29, 0, 108, 241, 0, 0, 23, 0, 413, 1280, 551, 588, 0, 26, 0, 0, 61, 0, 997, 745, 1026, 595, 0, 48, 0, 494, 1131, 579, 426, 806, 0, 40, 0, 643, 641, 906, 721, 1377, 560, 820, 0, 53, 0, 1446, 568, 1128, 1220, 860, 0, 63, 0, 1621, 979, 505, 919, 1189, 1837, 0, 57, 0, 996, 1309, 890, 1287, 1057, 1042, 0, 41, 0, 577, 1098, 1687, 0, 58, 0, 1348, 631, 377, 675, 0, 50, 0, 391, 418, 495, 620, 545, 0, 55, 0, 444, 489, 1530, 1008, 695, 741, 976, 0, 31, 0, 0, 28, 0, 874, 792, 1725, 581, 945, 0, 28, 0, 951, 534, 756, 791, 0, 40, 0, 715, 729, 806, 833, 482, 237, 275, 0, 41, 0, 528, 385, 616, 282, 530, 0, 35, 0, 920, 859, 643, 494, 380, 715, 400, 899, 0, 38, 0, 0, 0, 20, 0, 597, 946, 0, 35, 0, 1379, 420, 0, 26, 0, 1207, 1430, 0, 20, 0, 1136, 1427, 0, 22, 0, 0, 34, 0, 795, 859, 0, 37, 0, 1052, 0, 28, 0, 1099, 900, 1201, 0, 25, 0, 124, 118, 65, 0, 28, 0, 0, 32, 0, 46, 27, 70, 46, 26, 49, 43, 28, 0, 0, 42, 0, 859, 829, 0, 17, 0, 732, 1258, 477, 583, 0, 38, 0, 1176, 816, 0, 24, 0, 1052, 1375, 0, 23, 0, 1685, 910, 847, 857, 0, 20, 0, 859, 718, 0, 23, 0, 422, 1006, 0, 16, 0, 0, 30, 0, 959, 1113, 776, 0, 25, 0, 1184, 1152, 802, 0, 29, 0, 1192, 392, 0, 0, 35, 0, 372, 585, 943, 845, 0, 21, 0, 1124, 0, 17, 0, 550, 823, 372, 857, 0, 58, 0, 601, 1263, 0, 23, 0, 770, 0, 25, 0, 376, 895, 605, 0, 41, 0, 400, 396, 363, 0, 42, 0, 490, 755, 260, 0, 40, 0, 348, 522, 377, 0, 41, 0, 335, 801, 785, 0, 40, 0, 379, 522, 262, 0, 41, 0, 352, 655, 618, 0, 0, 39, 0, 578, 735, 0, 37, 0, 976, 628, 0, 20, 0, 679, 558, 0, 43, 0, 716, 894, 455, 0, 32, 0, 32, 0, 17, 0, 0, 29, 0, 0, 36, 0, 0, 0, 67, 0, 349, 426, 604, 0, 15, 0, 566, 846, 621, 652, 0, 21, 0, 443, 1022, 603, 771, 0, 20, 0, 312, 772, 646, 0, 29, 0, 337, 0, 0, 11, 0, 438, 817, 907, 612, 0, 29, 0, 974, 0, 16, 0, 582, 357, 0, 22, 0, 933, 0, 23, 0, 679, 0, 25, 0, 563, 405, 0, 24, 0, 932, 0, 29, 0, 627, 421, 0, 26, 0, 557, 467, 220, 0, 20, 0, 584, 0, 19, 0, 309, 520, 0, 23, 0, 537, 0, 21, 0, 706, 0, 21, 0, 744, 0, 33, 0, 1169, 535, 0, 25, 0, 666, 528, 0, 26, 0, 708, 757, 0, 22, 0, 479, 0, 35, 0, 583, 605, 0, 20, 0, 1157, 0, 28, 0, 461, 794, 0, 23, 0, 616, 665, 0, 34, 0, 572, 0, 35, 0, 553, 0, 18, 0, 726, 645, 0, 0, 37, 0, 730, 0, 33, 0, 730, 577, 352, 0, 34, 0, 108, 718, 472, 551, 908, 0, 0, 25, 0, 374, 579, 0, 21, 0, 905, 0, 33, 0, 522, 752, 0, 22, 0, 463, 0, 24, 0, 1053, 1095, 502, 0, 28, 0, 1357, 0, 40, 0, 806, 0, 21, 0, 845, 623, 676, 0, 17, 0, 51, 46, 51, 48, 44, 85, 51, 0, 21, 0, 278, 30, 25, 26, 37, 30, 47, 50, 0, 0, 35, 0, 660, 672, 159, 0, 15, 0, 976, 1122, 954, 698, 563, 0, 21, 0, 1022, 0, 22, 0, 1364, 0, 19, 0, 51, 0, 22, 0, 302, 819, 0, 22, 0, 401, 0, 20, 0, 0, 22, 0, 857, 860, 861, 897, 914, 380, 0, 24, 0, 1101, 595, 0, 0, 22, 0, 292, 389, 699, 759, 0, 18, 0, 0, 54, 0, 961, 964, 876, 0, 45, 0, 492, 735, 622, 1208, 0, 33, 0, 463, 1369, 0, 41, 0, 422, 1265, 0, 44, 0, 1683, 1113, 0, 67, 0, 1205, 474, 873, 0, 42, 0, 1036, 432, 0, 52, 0, 1360, 660, 387, 251, 0, 71, 0, 616, 740, 694, 0, 77, 0, 737, 678, 648, 253, 304, 613, 0, 24, 0, 1368, 539, 639, 547, 0, 17, 0, 616, 1405, 901, 0, 23, 0, 0, 23, 0, 0, 22, 0, 20, 16, 27, 35, 40, 0, 33, 0, 392, 309, 24, 89, 16, 98, 25, 87, 0, 0, 23, 0, 751, 958, 0, 28, 0, 646, 484, 554, 524, 0, 31, 0, 710, 0, 63, 0, 881, 535, 0, 63, 0, 705, 438, 0, 23, 0, 1222, 0, 28, 0, 539, 218, 400, 75, 0, 29, 0, 314, 509, 597, 792, 56, 0, 28, 0, 329, 273, 426, 412, 76, 0, 29, 0, 919, 798, 523, 989, 0, 27, 0, 751, 500, 0, 44, 0, 417, 388, 602, 613, 862, 284, 0, 46, 0, 764, 811, 916, 261, 0, 28, 0, 529, 0, 0, 25, 0, 372, 140, 0, 21, 0, 709, 481, 1315, 298, 0, 16, 0, 734, 0, 15, 0, 1003, 378, 0, 19, 0, 461, 0, 0, 25, 0, 385, 512, 576, 0, 27, 0, 0, 23, 0, 1393, 1392, 1007, 694, 636, 1087, 691, 0, 25, 0, 882, 1545, 725, 0, 30, 0, 1715, 466, 748, 1034, 1559, 0, 42, 0, 1437, 1174, 1195, 988, 1642, 0, 39, 0, 1089, 1029, 984, 0, 28, 0, 652, 730, 772, 1307, 0, 40, 0, 1542, 1459, 1146, 0, 0, 36, 0, 303, 0, 17, 0, 0, 28, 0, 152, 0, 44, 0, 193, 0, 37, 0, 126, 0, 36, 0, 244, 0, 36, 0, 142, 0, 28, 0, 327, 0, 30, 0, 540, 0, 37, 0, 375, 0, 29, 0, 421, 296, 0, 28, 0, 662, 857, 0, 0, 29, 0, 327, 380, 491, 307, 0, 15, 0, 447, 578, 713, 316, 825, 505, 0, 15, 0, 0, 23, 0, 49, 25, 47, 48, 39, 40, 44, 27, 23, 23, 0, 20, 0, 49, 47, 66, 27, 26, 32, 0, 31, 0, 55, 39, 22, 23, 35, 28, 40, 0, 21, 0, 0, 26, 0, 864, 0, 22, 0, 558, 1201, 577, 0, 22, 0, 502, 161, 0, 29, 0, 1180, 0, 20, 0, 52, 0, 18, 0, 277, 535, 0, 30, 0, 1187, 0, 24, 0, 1143, 749, 0, 25, 0, 269, 176, 0, 20, 0, 0, 32, 0, 625, 1791, 988, 484, 708, 162, 0, 25, 0, 436, 482, 0, 17, 0, 2190, 0, 0, 19, 0, 577, 722, 0, 15, 0, 774, 803, 662, 0, 21, 0, 815, 1028, 0, 30, 0, 55, 141, 56, 274, 133, 142, 133, 130, 162, 174, 0, 20, 0, 389, 809, 169, 0, 0, 13, 0, 850, 784, 826, 0, 31, 0, 1025, 123, 997, 469, 201, 0, 33, 0, 1220, 458, 466, 0, 25, 0, 347, 62, 66, 60, 79, 119, 56, 249, 70, 143, 64, 104, 16, 34, 485, 0, 31, 0, 0, 39, 0, 1178, 296, 911, 661, 588, 0, 31, 0, 962, 507, 277, 711, 382, 556, 0, 42, 0, 581, 802, 580, 633, 0, 46, 0, 211, 897, 395, 541, 0, 18, 0, 0, 39, 0, 539, 1509, 384, 230, 317, 463, 261, 0, 36, 0, 167, 0, 30, 0, 999, 1088, 249, 368, 695, 165, 0, 18, 0, 560, 439, 0, 30, 0, 302, 928, 708, 2500, 544, 141, 0, 36, 0, 0, 27, 0, 425, 444, 0, 34, 0, 1456, 990, 0, 32, 0, 0, 44, 0, 67, 505, 299, 305, 517, 839, 309, 0, 35, 0, 1162, 0, 0, 31, 0, 644, 0, 28, 0, 651, 0, 18, 0, 552, 0, 30, 0, 53, 0, 0, 14, 0, 650, 564, 0, 26, 0, 590, 288, 0, 20, 0, 765, 0, 19, 0, 897, 477, 1231, 0, 18, 0, 1080, 841, 1226, 725, 560, 0, 21, 0, 518, 0, 0, 12, 0, 741, 625, 782, 0, 20, 0, 510, 282, 458, 221, 382, 417, 90, 723, 501, 0, 18, 0, 0, 28, 0, 746, 627, 200, 609, 0, 49, 0, 570, 486, 569, 0, 26, 0, 240, 615, 335, 235, 354, 453, 697, 357, 0, 30, 0, 603, 635, 589, 291, 904, 589, 500, 201, 701, 0, 30, 0, 612, 307, 259, 181, 178, 160, 281, 0, 23, 0, 381, 135, 546, 0, 47, 0, 886, 617, 324, 0, 20, 0, 788, 0, 26, 0, 377, 0, 18, 0, 657, 0, 24, 0, 591, 537, 465, 574, 0, 28, 0, 551, 401, 581, 1092, 372, 401, 227, 440, 0, 18, 0, 609, 456, 192, 227, 522, 141, 308, 199, 0, 22, 0, 545, 244, 340, 0, 27, 0, 606, 426, 215, 0, 22, 0, 1450, 0, 21, 0, 350, 239, 785, 832, 0, 21, 0, 0, 29, 0, 503, 233, 0, 20, 0, 474, 453, 384, 579, 159, 0, 25, 0, 869, 127, 80, 88, 199, 434, 526, 499, 868, 352, 467, 0, 36, 0, 382, 0, 20, 0, 546, 0, 17, 0, 273, 249, 334, 226, 210, 153, 259, 0, 37, 0, 47, 0, 0, 31, 0, 460, 481, 0, 28, 0, 602, 381, 0, 18, 0, 390, 429, 362, 0, 30, 0, 54, 0, 0, 22, 0, 193, 388, 930, 490, 0, 23, 0, 439, 574, 0, 22, 0, 0, 30, 0, 989, 1612, 1364, 0, 24, 0, 0, 35, 0, 723, 1390, 856, 0, 35, 0, 1388, 1244, 719, 0, 35, 0, 1675, 0, 35, 0, 668, 591, 0, 22, 0, 858, 0, 35, 0, 1268, 719, 0, 35, 0, 583, 746, 568, 1082, 0, 35, 0, 423, 386, 0, 20, 0, 505, 0, 40, 0, 965, 304, 147, 310, 206, 108, 0, 31, 0, 755, 422, 702, 1083, 177, 471, 465, 492, 577, 589, 519, 0, 24, 0, 295, 0, 24, 0, 747, 566, 0, 28, 0, 0, 19, 0, 35, 0, 28, 0, 36, 0, 18, 0, 0, 19, 0, 18, 31, 10, 21, 36, 33, 0, 28, 0, 12, 49, 12, 49, 8, 43, 24, 66, 0, 25, 0, 74, 60, 74, 60, 62, 70, 53, 42, 42, 31, 37, 35, 51, 34, 45, 29, 31, 45, 14, 45, 55, 0, 0, 21, 0, 552, 0, 36, 0, 514, 0, 26, 0, 839, 751, 671, 752, 0, 30, 0, 373, 691, 727, 386, 0, 0, 13, 0, 738, 510, 632, 711, 0, 19, 0, 1189, 1604, 717, 790, 0, 22, 0, 1013, 571, 1218, 1589, 948, 1173, 1748, 750, 0, 18, 0, 1580, 878, 615, 0, 37, 0, 1053, 0, 35, 0, 1506, 1715, 260, 0, 21, 0, 952, 370, 0, 29, 0, 612, 0, 31, 0, 1292, 1006, 739, 764, 0, 35, 0, 1474, 0, 26, 0, 1265, 0, 0, 67, 0, 887, 0, 19, 0, 805, 603, 0, 19, 0, 0, 22, 0, 925, 0, 19, 0, 632, 786, 904, 0, 22, 0, 854, 0, 20, 0, 961, 1830, 271, 0, 0, 21, 0, 504, 543, 342, 0, 15, 0, 821, 682, 1179, 389, 0, 21, 0, 1000, 997, 1185, 0, 20, 0, 0, 36, 0, 652, 234, 0, 22, 0, 1053, 551, 680, 293, 0, 0, 33, 0, 578, 681, 0, 34, 0, 660, 550, 554, 0, 20, 0, 0, 32, 0, 1126, 454, 0, 32, 0, 813, 999, 0, 23, 0, 0, 31, 0, 680, 799, 0, 40, 0, 1150, 648, 1002, 0, 28, 0, 821, 792, 0, 36, 0, 0, 32, 0, 39, 53, 32, 35, 24, 28, 27, 34, 50, 0, 17, 0, 0, 25, 0, 0, 0, 21, 0, 580, 924, 0, 19, 0, 384, 394, 911, 0, 22, 0, 526, 490, 975, 0, 35, 0, 415, 329, 435, 0, 20, 0, 435, 403, 869, 0, 17, 0, 738, 537, 0, 0, 24, 0, 427, 734, 423, 452, 0, 21, 0, 815, 0, 31, 0, 680, 616, 0, 24, 0, 1467, 651, 530, 0, 21, 0, 0, 34, 0, 585, 522, 501, 499, 1237, 1330, 1169, 663, 1516, 0, 31, 0, 927, 674, 0, 28, 0, 0, 29, 0, 906, 637, 0, 30, 0, 558, 1265, 811, 1325, 1038, 755, 594, 0, 36, 0, 0, 29, 0, 685, 368, 799, 850, 0, 29, 0, 1445, 0, 27, 0, 1449, 0, 38, 0, 1486, 0, 32, 0, 836, 0, 19, 0, 0, 42, 0, 834, 829, 0, 35, 0, 1213, 683, 1145, 0, 32, 0, 1085, 0, 68, 0, 1035, 495, 0, 41, 0, 1229, 1385, 550, 530, 1659, 682, 321, 737, 754, 0, 19, 0, 885, 918, 749, 999, 882, 761, 769, 0, 28, 0, 281, 151, 281, 183, 139, 286, 245, 140, 0, 30, 0, 628, 547, 666, 438, 441, 0, 25, 0, 198, 256, 178, 0, 28, 0, 569, 850, 664, 313, 0, 24, 0, 534, 0, 21, 0, 509, 0, 22, 0, 453, 0, 36, 0, 664, 0, 23, 0, 0, 22, 0, 392, 803, 0, 22, 0, 1107, 0, 23, 0, 374, 720, 125, 406, 0, 22, 0, 517, 243, 0, 36, 0, 522, 406, 0, 42, 0, 249, 1221, 0, 30, 0, 519, 0, 27, 0, 0, 22, 0, 497, 0, 23, 0, 169, 584, 796, 998, 109, 0, 37, 0, 614, 0, 36, 0, 1122, 335, 300, 0, 29, 0, 887, 0, 18, 0, 537, 99, 0, 21, 0, 324, 382, 199, 0, 28, 0, 256, 605, 191, 82, 0, 24, 0, 0, 0, 22, 0, 377, 487, 0, 33, 0, 836, 401, 917, 0, 22, 0, 399, 680, 100, 0, 20, 0, 51, 35, 29, 41, 0, 34, 0, 665, 408, 0, 20, 0, 646, 554, 272, 0, 47, 0, 1521, 0, 25, 0, 706, 0, 39, 0, 57, 322, 157, 144, 118, 114, 110, 151, 0, 25, 0, 19, 46, 38, 31, 61, 45, 35, 29, 0, 36, 0, 0, 0, 25, 0, 1220, 0, 15, 0, 0, 26, 0, 463, 1387, 876, 0, 27, 0, 154, 281, 889, 0, 31, 0, 337, 433, 1055, 0, 27, 0, 839, 0, 20, 0, 0, 29, 0, 1163, 147, 46, 32, 72, 53, 64, 34, 80, 535, 0, 21, 0, 344, 355, 508, 0, 0, 35, 0, 503, 525, 0, 33, 0, 1169, 504, 588, 0, 22, 0, 960, 0, 20, 0, 866, 892, 341, 0, 22, 0, 925, 760, 482, 0, 25, 0, 26, 46, 13, 39, 44, 44, 47, 0, 32, 0, 58, 0, 17, 0, 0, 26, 0, 0, 0, 33, 0, 859, 0, 28, 0, 1356, 739, 0, 18, 0, 1085, 0, 30, 0, 41, 0, 0, 19, 0, 295, 607, 0, 21, 0, 403, 702, 0, 26, 0, 624, 1044, 889, 662, 0, 34, 0, 317, 537, 0, 0, 21, 0, 461, 1274, 939, 592, 0, 23, 0, 0, 38, 0, 454, 490, 0, 33, 0, 829, 899, 0, 17, 0, 0, 22, 0, 477, 0, 21, 0, 1262, 400, 0, 19, 0, 406, 749, 564, 551, 0, 24, 0, 536, 0, 21, 0, 261, 926, 748, 0, 16, 0, 1286, 0, 31, 0, 1610, 794, 0, 34, 0, 787, 827, 246, 0, 39, 0, 0, 52, 0, 1312, 504, 375, 248, 0, 34, 0, 498, 599, 746, 205, 0, 26, 0, 585, 0, 18, 0, 365, 410, 751, 278, 0, 17, 0, 0, 36, 0, 1410, 416, 0, 28, 0, 0, 30, 0, 803, 606, 409, 0, 30, 0, 388, 541, 0, 0, 44, 0, 849, 506, 0, 28, 0, 0, 23, 0, 900, 247, 0, 27, 0, 682, 269, 0, 18, 0, 0, 23, 0, 937, 0, 27, 0, 572, 0, 30, 0, 0, 0, 25, 0, 555, 384, 303, 0, 25, 0, 208, 111, 208, 0, 16, 0, 762, 754, 711, 586, 0, 18, 0, 142, 220, 284, 266, 0, 19, 0, 719, 918, 0, 20, 0, 763, 502, 535, 135, 568, 302, 555, 223, 833, 430, 515, 0, 25, 0, 115, 640, 199, 0, 42, 0, 316, 226, 329, 0, 0, 23, 0, 721, 0, 18, 0, 429, 297, 436, 889, 529, 0, 18, 0, 374, 105, 0, 21, 0, 194, 0, 23, 0, 718, 0, 0, 39, 0, 776, 0, 17, 0, 615, 473, 0, 26, 0, 43, 15, 16, 15, 15, 46, 16, 15, 15, 26, 28, 0, 18, 0, 0, 24, 0, 348, 518, 0, 41, 0, 501, 669, 533, 93, 0, 18, 0, 0, 20, 0, 1000, 0, 20, 0, 0, 33, 0, 980, 364, 0, 32, 0, 700, 0, 30, 0, 493, 341, 0, 26, 0, 433, 0, 0, 33, 0, 929, 496, 0, 18, 0, 912, 510, 0, 51, 0, 582, 743, 0, 35, 0, 457, 1004, 0, 41, 0, 752, 294, 204, 504, 0, 22, 0, 1138, 687, 390, 0, 27, 0, 851, 363, 0, 29, 0, 957, 830, 0, 0, 31, 0, 882, 479, 0, 15, 0, 92, 304, 203, 237, 270, 282, 129, 215, 145, 79, 184, 173, 201, 0, 22, 0, 831, 918, 0, 18, 0, 249, 543, 0, 20, 0, 2148, 0, 0, 30, 0, 1024, 0, 33, 0, 828, 541, 787, 0, 34, 0, 0, 30, 0, 453, 1728, 0, 51, 0, 655, 855, 134, 0, 0, 46, 0, 653, 836, 0, 28, 0, 613, 908, 710, 0, 33, 0, 679, 0, 31, 0, 543, 0, 19, 0, 469, 745, 852, 68, 0, 25, 0, 486, 0, 21, 0, 0, 29, 0, 938, 614, 0, 25, 0, 612, 608, 0, 19, 0, 344, 574, 704, 0, 23, 0, 546, 1141, 0, 22, 0, 671, 906, 0, 29, 0, 684, 625, 863, 0, 23, 0, 888, 290, 0, 24, 0, 545, 839, 866, 0, 18, 0, 399, 792, 0, 32, 0, 853, 546, 587, 0, 28, 0, 559, 813, 474, 587, 0, 21, 0, 560, 528, 573, 0, 29, 0, 791, 795, 593, 0, 22, 0, 25, 0, 19, 0, 762, 0, 27, 0, 434, 0, 31, 0, 838, 0, 21, 0, 543, 1079, 540, 0, 31, 0, 838, 0, 24, 0, 964, 0, 0, 25, 0, 670, 397, 0, 21, 0, 755, 859, 0, 17, 0, 482, 1242, 497, 536, 651, 0, 29, 0, 766, 49, 716, 679, 1487, 0, 16, 0, 321, 507, 0, 17, 0, 339, 594, 681, 636, 211, 0, 26, 0, 97, 88, 82, 80, 55, 106, 101, 0, 0, 20, 0, 540, 276, 201, 0, 26, 0, 0, 27, 0, 306, 472, 0, 35, 0, 823, 742, 689, 0, 39, 0, 862, 0, 24, 0, 352, 0, 36, 0, 203, 944, 281, 0, 19, 0, 584, 472, 0, 0, 38, 0, 182, 954, 0, 21, 0, 876, 697, 663, 1079, 1049, 0, 21, 0, 755, 969, 614, 941, 0, 17, 0, 442, 597, 0, 33, 0, 444, 692, 0, 0, 33, 0, 424, 113, 394, 365, 0, 34, 0, 1120, 399, 337, 379, 0, 30, 0, 616, 349, 598, 296, 0, 22, 0, 668, 759, 146, 0, 31, 0, 436, 543, 0, 0, 22, 0, 894, 340, 0, 20, 0, 400, 887, 662, 312, 528, 673, 427, 352, 553, 402, 0, 19, 0, 471, 0, 24, 0, 300, 289, 0, 17, 0, 218, 52, 68, 73, 80, 71, 80, 72, 59, 146, 0, 22, 0, 76, 28, 43, 30, 55, 89, 60, 47, 112, 28, 91, 83, 52, 90, 51, 60, 80, 50, 45, 35, 63, 25, 44, 68, 66, 94, 0, 0, 38, 0, 267, 252, 249, 0, 15, 0, 538, 400, 743, 0, 15, 0, 359, 28, 32, 36, 46, 26, 36, 36, 35, 23, 28, 0, 21, 0, 0, 26, 0, 616, 143, 222, 0, 22, 0, 213, 516, 604, 435, 0, 20, 0, 549, 861, 298, 0, 31, 0, 823, 425, 402, 0, 38, 0, 375, 938, 0, 0, 23, 0, 584, 639, 0, 44, 0, 362, 805, 300, 0, 22, 0, 730, 781, 976, 0, 35, 0, 418, 738, 0, 30, 0, 911, 0, 18, 0, 606, 1202, 633, 0, 35, 0, 419, 891, 0, 15, 0, 292, 212, 0, 20, 0, 499, 472, 0, 0, 20, 0, 506, 724, 818, 0, 40, 0, 0, 43, 0, 352, 877, 0, 59, 0, 444, 886, 700, 647, 0, 57, 0, 0, 52, 0, 296, 743, 595, 0, 53, 0, 408, 1070, 1421, 0, 68, 0, 1251, 1050, 886, 664, 318, 0, 74, 0, 997, 983, 69, 0, 53, 0, 572, 362, 469, 0, 64, 0, 469, 0, 24, 0, 629, 750, 723, 460, 250, 0, 23, 0, 18, 110, 70, 74, 26, 34, 29, 18, 16, 14, 75, 38, 24, 15, 48, 22, 22, 34, 21, 39, 60, 9, 16, 120, 13, 11, 16, 8, 15, 14, 14, 20, 13, 17, 12, 16, 15, 12, 19, 18, 31, 48, 36, 49, 32, 114, 101, 72, 0, 44, 0, 43, 50, 25, 59, 26, 60, 15, 69, 15, 49, 48, 63, 28, 77, 30, 56, 34, 42, 60, 30, 48, 31, 63, 31, 39, 44, 45, 39, 39, 45, 76, 31, 48, 32, 24, 0, 38, 0, 0, 0, 30, 0, 635, 617, 401, 635, 0, 28, 0, 374, 0, 42, 0, 698, 650, 652, 607, 0, 30, 0, 594, 849, 897, 0, 28, 0, 567, 0, 40, 0, 604, 798, 717, 806, 450, 0, 34, 0, 703, 750, 664, 529, 0, 18, 0, 0, 24, 0, 539, 661, 0, 26, 0, 703, 427, 0, 26, 0, 247, 212, 0, 30, 0, 0, 0, 27, 0, 1170, 1544, 856, 0, 21, 0, 1429, 860, 919, 0, 31, 0, 782, 1051, 1191, 809, 0, 48, 0, 521, 904, 977, 0, 37, 0, 898, 681, 846, 1055, 393, 1033, 875, 925, 0, 36, 0, 1155, 642, 1166, 640, 0, 73, 0, 683, 808, 551, 837, 0, 19, 0, 743, 1755, 1067, 1075, 713, 0, 17, 0, 578, 657, 705, 971, 0, 0, 22, 0, 771, 0, 30, 0, 1589, 0, 17, 0, 546, 1079, 906, 0, 0, 25, 0, 872, 349, 0, 18, 0, 862, 489, 700, 0, 17, 0, 521, 555, 262, 0, 24, 0, 874, 701, 0, 0, 31, 0, 470, 540, 356, 0, 21, 0, 448, 350, 1275, 1273, 299, 727, 0, 16, 0, 1109, 890, 1121, 1453, 454, 1331, 706, 1040, 0, 20, 0, 554, 682, 370, 482, 315, 0, 24, 0, 594, 479, 712, 345, 0, 18, 0, 0, 48, 0, 6, 0, 0, 19, 0, 545, 0, 15, 0, 487, 373, 383, 0, 21, 0, 707, 239, 0, 32, 0, 566, 770, 690, 0, 28, 0, 0, 0, 24, 0, 732, 0, 34, 0, 801, 796, 234, 0, 26, 0, 530, 861, 461, 0, 50, 0, 757, 1369, 1009, 689, 1245, 0, 23, 0, 253, 0, 46, 0, 0, 0, 41, 0, 270, 471, 749, 426, 0, 21, 0, 274, 0, 51, 0, 680, 0, 25, 0, 480, 0, 31, 0, 673, 466, 794, 762, 666, 0, 31, 0, 606, 261, 0, 59, 0, 312, 0, 52, 0, 694, 247, 540, 0, 29, 0, 711, 0, 22, 0, 411, 0, 56, 0, 330, 612, 0, 58, 0, 908, 0, 39, 0, 630, 0, 23, 0, 125, 0, 38, 0, 332, 349, 532, 0, 35, 0, 218, 334, 414, 0, 35, 0, 502, 497, 0, 27, 0, 83, 224, 109, 136, 160, 0, 24, 0, 690, 385, 0, 42, 0, 636, 0, 27, 0, 449, 1189, 489, 572, 342, 365, 0, 33, 0, 911, 624, 0, 43, 0, 875, 798, 495, 0, 60, 0, 1038, 0, 55, 0, 1114, 416, 0, 49, 0, 807, 865, 0, 27, 0, 448, 0, 41, 0, 453, 362, 528, 0, 39, 0, 729, 483, 193, 0, 63, 0, 411, 414, 0, 43, 0, 449, 381, 0, 50, 0, 408, 0, 24, 0, 341, 431, 433, 260, 299, 0, 80, 0, 557, 550, 578, 0, 28, 0, 978, 0, 42, 0, 475, 528, 538, 0, 33, 0, 520, 528, 515, 0, 39, 0, 667, 396, 0, 35, 0, 365, 413, 617, 0, 34, 0, 338, 811, 0, 0, 21, 0, 812, 0, 33, 0, 1008, 499, 365, 0, 17, 0, 872, 87, 0, 0, 36, 0, 765, 0, 18, 0, 469, 607, 413, 822, 723, 0, 32, 0, 532, 963, 282, 280, 0, 23, 0, 579, 457, 772, 0, 17, 0, 280, 469, 493, 180, 0, 29, 0, 788, 134, 0, 27, 0, 578, 0, 33, 0, 425, 538, 0, 32, 0, 748, 0, 0, 39, 0, 640, 0, 18, 0, 1235, 0, 26, 0, 127, 929, 0, 20, 0, 688, 0, 21, 0, 322, 0, 20, 0, 329, 0, 21, 0, 251, 52, 0, 0, 26, 0, 1027, 0, 17, 0, 827, 1608, 1681, 811, 722, 0, 30, 0, 726, 0, 19, 0, 8, 171, 8, 129, 8, 188, 188, 0, 20, 0, 17, 42, 0, 25, 0, 42, 26, 19, 40, 43, 37, 47, 48, 49, 102, 14, 86, 85, 44, 50, 56, 11, 121, 63, 51, 73, 0, 0, 17, 0, 780, 682, 775, 381, 0, 15, 0, 1264, 1162, 1068, 773, 0, 15, 0, 373, 410, 380, 333, 237, 296, 163, 140, 129, 20, 77, 102, 75, 38, 21, 43, 0, 21, 0, 0, 26, 0, 1083, 419, 543, 0, 22, 0, 955, 810, 594, 0, 30, 0, 915, 1164, 0, 22, 0, 1021, 1175, 963, 2065, 0, 29, 0, 1416, 782, 894, 0, 21, 0, 803, 0, 32, 0, 712, 578, 0, 16, 0, 415, 0, 18, 0, 873, 0, 27, 0, 1093, 1262, 0, 22, 0, 569, 0, 39, 0, 976, 597, 0, 25, 0, 905, 616, 0, 20, 0, 0, 33, 0, 1332, 688, 1034, 668, 0, 25, 0, 812, 1051, 984, 0, 17, 0, 905, 1470, 1447, 856, 0, 33, 0, 201, 0, 18, 0, 1303, 0, 0, 32, 0, 781, 0, 33, 0, 934, 0, 23, 0, 446, 0, 17, 0, 0, 29, 0, 913, 0, 28, 0, 773, 946, 686, 118, 0, 0, 25, 0, 327, 854, 624, 0, 21, 0, 1143, 1182, 1140, 0, 18, 0, 850, 896, 932, 0, 17, 0, 1508, 1797, 1399, 2006, 1648, 0, 20, 0, 799, 784, 872, 0, 44, 0, 0, 24, 0, 101, 101, 18, 18, 18, 18, 16, 28, 0, 46, 0, 25, 25, 25, 23, 24, 24, 24, 24, 24, 72, 0, 0, 48, 0, 699, 871, 968, 0, 21, 0, 1078, 1444, 847, 778, 599, 1224, 538, 756, 0, 18, 0, 1134, 1008, 1372, 860, 1154, 488, 0, 19, 0, 681, 0, 27, 0, 1028, 830, 0, 22, 0, 1075, 1390, 0, 22, 0, 1158, 607, 501, 712, 0, 27, 0, 525, 1242, 1049, 1144, 819, 0, 27, 0, 1465, 1493, 1035, 0, 25, 0, 1336, 1258, 0, 20, 0, 1088, 921, 0, 0, 27, 0, 540, 866, 0, 15, 0, 141, 0, 26, 0, 102, 3387, 0, 26, 0, 2008, 0, 19, 0, 649, 1134, 540, 935, 0, 22, 0, 541, 436, 685, 0, 20, 0, 1770, 643, 0, 0, 26, 0, 423, 419, 494, 0, 50, 0, 456, 325, 570, 1199, 539, 915, 0, 36, 0, 324, 602, 477, 566, 502, 0, 20, 0, 389, 549, 497, 572, 0, 36, 0, 0, 33, 0, 0, 26, 0, 0, 30, 0, 0, 24, 0, 38, 35, 28, 25, 26, 27, 38, 32, 26, 41, 28, 40, 41, 0, 20, 0, 0, 0, 23, 0, 499, 522, 720, 0, 30, 0, 565, 1167, 1444, 0, 29, 0, 920, 360, 61, 1664, 0, 22, 0, 1122, 718, 953, 0, 35, 0, 1016, 778, 0, 19, 0, 350, 708, 775, 352, 0, 27, 0, 510, 1032, 615, 618, 0, 23, 0, 386, 853, 0, 24, 0, 354, 1257, 0, 31, 0, 741, 532, 0, 22, 0, 1185, 566, 0, 35, 0, 863, 0, 22, 0, 662, 0, 19, 0, 432, 0, 22, 0, 0, 19, 0, 1221, 0, 27, 0, 1115, 0, 23, 0, 818, 590, 544, 0, 23, 0, 0, 24, 0, 486, 0, 30, 0, 188, 0, 29, 0, 141, 0, 30, 0, 689, 0, 25, 0, 1293, 0, 0, 34, 0, 290, 621, 310, 0, 39, 0, 0, 22, 0, 909, 1186, 0, 21, 0, 686, 621, 0, 36, 0, 474, 1512, 545, 0, 29, 0, 860, 1240, 744, 133, 571, 86, 502, 978, 0, 20, 0, 1669, 289, 744, 0, 0, 22, 0, 323, 820, 288, 0, 20, 0, 499, 496, 547, 0, 18, 0, 511, 848, 785, 0, 22, 0, 371, 603, 639, 1366, 704, 979, 754, 993, 0, 25, 0, 503, 1337, 858, 1085, 512, 939, 0, 19, 0, 876, 745, 0, 28, 0, 160, 629, 0, 30, 0, 518, 682, 431, 132, 0, 0, 21, 0, 289, 516, 347, 0, 19, 0, 991, 941, 567, 0, 21, 0, 463, 504, 0, 20, 0, 0, 22, 0, 235, 0, 22, 0, 1193, 774, 0, 0, 18, 0, 857, 590, 320, 0, 21, 0, 955, 0, 30, 0, 0, 29, 0, 1160, 1533, 1019, 866, 0, 29, 0, 1051, 914, 0, 34, 0, 1002, 1335, 0, 30, 0, 1312, 612, 0, 21, 0, 735, 922, 162, 0, 0, 18, 0, 231, 540, 1348, 0, 21, 0, 637, 0, 30, 0, 0, 34, 0, 371, 595, 488, 0, 36, 0, 0, 23, 0, 1082, 0, 23, 0, 661, 1446, 0, 23, 0, 435, 247, 762, 733, 726, 38, 545, 174, 0, 23, 0, 415, 1426, 964, 147, 533, 394, 0, 23, 0, 616, 498, 588, 664, 0, 23, 0, 504, 677, 325, 253, 0, 23, 0, 284, 224, 414, 375, 378, 0, 23, 0, 343, 972, 444, 162, 0, 23, 0, 338, 726, 0, 23, 0, 305, 634, 0, 28, 0, 609, 815, 480, 237, 458, 0, 26, 0, 512, 252, 1366, 0, 24, 0, 0, 21, 0, 644, 0, 36, 0, 228, 0, 0, 23, 0, 776, 606, 484, 0, 22, 0, 0, 35, 0, 676, 648, 418, 0, 31, 0, 705, 549, 861, 0, 22, 0, 0, 25, 0, 1136, 1432, 0, 25, 0, 1056, 0, 20, 0, 836, 473, 475, 0, 0, 19, 0, 391, 953, 1057, 0, 19, 0, 520, 332, 739, 771, 188, 247, 550, 0, 35, 0, 1465, 960, 1211, 0, 36, 0, 527, 1608, 1543, 660, 0, 24, 0, 958, 350, 0, 22, 0, 330, 400, 1048, 1307, 0, 32, 0, 666, 185, 662, 597, 0, 21, 0, 409, 435, 137, 1028, 737, 0, 0, 42, 0, 1123, 1096, 1293, 699, 0, 21, 0, 1179, 872, 0, 39, 0, 763, 1401, 638, 0, 51, 0, 982, 389, 1882, 0, 51, 0, 2274, 1071, 1305, 1081, 0, 33, 0, 1026, 1021, 0, 33, 0, 1128, 822, 999, 0, 41, 0, 644, 1068, 1183, 1331, 1800, 1014, 0, 31, 0, 663, 1477, 0, 19, 0, 440, 1536, 1052, 1652, 0, 0, 58, 0, 617, 670, 0, 21, 0, 618, 1101, 1032, 0, 23, 0, 92, 790, 893, 602, 0, 20, 0, 725, 903, 983, 0, 0, 25, 0, 459, 479, 0, 18, 0, 1022, 1325, 961, 1050, 0, 19, 0, 321, 696, 2040, 0, 20, 0, 564, 1015, 0, 19, 0, 986, 421, 0, 0, 36, 0, 493, 405, 0, 25, 0, 1174, 524, 0, 17, 0, 0, 29, 0, 426, 895, 0, 30, 0, 1751, 790, 0, 38, 0, 497, 719, 0, 37, 0, 932, 744, 0, 30, 0, 1204, 303, 0, 44, 0, 611, 482, 0, 31, 0, 657, 728, 0, 34, 0, 824, 614, 0, 31, 0, 502, 768, 456, 0, 31, 0, 653, 564, 0, 47, 0, 449, 0, 33, 0, 743, 0, 40, 0, 769, 0, 44, 0, 581, 0, 47, 0, 456, 0, 30, 0, 892, 0, 30, 0, 1146, 0, 31, 0, 974, 603, 0, 30, 0, 611, 825, 0, 32, 0, 492, 644, 0, 49, 0, 854, 0, 30, 0, 812, 609, 0, 36, 0, 1014, 298, 0, 29, 0, 340, 775, 0, 35, 0, 709, 736, 0, 30, 0, 908, 493, 0, 30, 0, 770, 0, 52, 0, 419, 152, 356, 0, 27, 0, 322, 97, 0, 0, 22, 0, 441, 1033, 442, 287, 164, 0, 18, 0, 808, 699, 1581, 956, 465, 947, 692, 1116, 1210, 940, 708, 0, 17, 0, 645, 580, 438, 75, 0, 22, 0, 0, 26, 0, 777, 793, 523, 0, 34, 0, 468, 658, 747, 205, 0, 32, 0, 608, 592, 550, 0, 30, 0, 653, 989, 769, 0, 27, 0, 1293, 620, 964, 0, 22, 0, 0, 28, 0, 811, 634, 0, 30, 0, 796, 446, 0, 28, 0, 466, 718, 0, 29, 0, 816, 635, 0, 23, 0, 174, 0, 27, 0, 936, 480, 0, 31, 0, 835, 0, 32, 0, 828, 1023, 0, 31, 0, 791, 785, 0, 30, 0, 647, 376, 0, 18, 0, 0, 22, 0, 1274, 785, 900, 0, 21, 0, 723, 442, 524, 118, 0, 16, 0, 0, 26, 0, 402, 0, 27, 0, 453, 324, 638, 691, 727, 265, 0, 35, 0, 584, 305, 0, 29, 0, 717, 809, 0, 26, 0, 249, 1583, 2098, 0, 20, 0, 594, 0, 24, 0, 717, 0, 23, 0, 0, 61, 0, 561, 731, 0, 34, 0, 511, 940, 0, 37, 0, 610, 588, 0, 23, 0, 539, 302, 606, 0, 18, 0, 706, 1095, 663, 0, 17, 0, 1102, 1166, 1312, 0, 25, 0, 626, 279, 0, 0, 22, 0, 449, 1098, 959, 0, 20, 0, 0, 37, 0, 685, 579, 420, 0, 46, 0, 1203, 1228, 1662, 1142, 612, 577, 1601, 213, 0, 79, 0, 1447, 1333, 1034, 617, 190, 284, 0, 17, 0, 1184, 1604, 1039, 1077, 295, 1074, 446, 0, 0, 19, 0, 664, 880, 0, 14, 0, 649, 1039, 2095, 729, 0, 22, 0, 1925, 0, 22, 0, 1186, 1655, 553, 0, 20, 0, 2358, 1393, 0, 0, 38, 0, 332, 509, 286, 103, 0, 15, 0, 1262, 872, 998, 0, 21, 0, 783, 1011, 633, 0, 30, 0, 244, 0, 20, 0, 1233, 0, 0, 22, 0, 634, 788, 0, 18, 0, 573, 0, 33, 0, 476, 832, 462, 526, 0, 35, 0, 555, 1236, 0, 31, 0, 628, 572, 819, 0, 26, 0, 610, 0, 20, 0, 717, 0, 19, 0, 709, 0, 19, 0, 228, 607, 0, 23, 0, 331, 538, 607, 309, 0, 32, 0, 236, 809, 269, 0, 20, 0, 501, 0, 23, 0, 732, 0, 25, 0, 178, 233, 166, 0, 26, 0, 287, 740, 800, 0, 18, 0, 644, 763, 904, 985, 426, 873, 295, 226, 170, 525, 330, 674, 0, 23, 0, 441, 613, 0, 22, 0, 279, 450, 248, 0, 0, 46, 0, 528, 0, 43, 0, 1882, 772, 495, 308, 0, 32, 0, 367, 0, 0, 35, 0, 864, 0, 33, 0, 821, 889, 1125, 0, 34, 0, 827, 1002, 379, 0, 0, 29, 0, 840, 502, 1021, 0, 15, 0, 854, 871, 597, 0, 37, 0, 882, 304, 615, 0, 30, 0, 725, 1139, 638, 674, 660, 0, 20, 0, 753, 1328, 783, 370, 457, 117, 0, 0, 16, 0, 465, 479, 435, 0, 21, 0, 616, 460, 232, 0, 26, 0, 0, 27, 0, 441, 703, 283, 753, 865, 0, 33, 0, 824, 541, 972, 500, 0, 31, 0, 412, 551, 727, 352, 676, 943, 0, 24, 0, 484, 96, 285, 0, 17, 0, 432, 207, 269, 0, 0, 19, 0, 732, 0, 20, 0, 1021, 828, 0, 18, 0, 1738, 1448, 321, 647, 0, 0, 15, 0, 522, 748, 503, 0, 15, 0, 271, 792, 564, 578, 0, 21, 0, 0, 22, 0, 1036, 554, 0, 34, 0, 818, 1006, 0, 34, 0, 905, 1058, 609, 0, 0, 18, 0, 1126, 517, 0, 31, 0, 1168, 1423, 651, 0, 22, 0, 1059, 1212, 0, 25, 0, 1205, 406, 0, 23, 0, 1131, 0, 0, 38, 0, 681, 603, 1031, 0, 40, 0, 1396, 563, 1391, 1914, 1195, 0, 44, 0, 674, 1559, 686, 0, 40, 0, 1086, 1266, 1234, 0, 45, 0, 1354, 915, 774, 1108, 0, 59, 0, 692, 1312, 1259, 1153, 646, 1026, 1109, 0, 0, 26, 0, 409, 413, 427, 0, 22, 0, 0, 32, 0, 624, 1549, 0, 47, 0, 417, 1098, 300, 530, 0, 32, 0, 873, 687, 395, 0, 31, 0, 769, 553, 660, 1506, 981, 0, 24, 0, 349, 859, 0, 20, 0, 1269, 1466, 529, 0, 0, 39, 0, 756, 0, 21, 0, 664, 298, 413, 0, 32, 0, 381, 0, 29, 0, 639, 925, 0, 32, 0, 56, 51, 46, 26, 30, 32, 0, 28, 0, 0, 24, 0, 0, 0, 22, 0, 283, 645, 418, 708, 0, 19, 0, 483, 470, 0, 18, 0, 0, 25, 0, 407, 906, 0, 28, 0, 193, 814, 0, 35, 0, 1612, 1225, 1137, 359, 0, 26, 0, 389, 0, 26, 0, 467, 1279, 0, 23, 0, 0, 30, 0, 507, 564, 415, 504, 0, 30, 0, 247, 326, 213, 777, 0, 19, 0, 468, 575, 488, 0, 0, 40, 0, 967, 603, 0, 32, 0, 972, 652, 492, 667, 0, 24, 0, 317, 988, 0, 42, 0, 694, 470, 0, 24, 0, 195, 696, 0, 26, 0, 1083, 425, 0, 24, 0, 826, 0, 0, 35, 0, 501, 501, 855, 1346, 0, 21, 0, 373, 959, 897, 865, 330, 710, 484, 621, 0, 35, 0, 441, 403, 652, 301, 370, 538, 394, 0, 16, 0, 855, 1022, 310, 498, 364, 221, 0, 27, 0, 792, 692, 636, 417, 970, 396, 519, 626, 304, 886, 0, 33, 0, 1101, 960, 859, 856, 367, 631, 545, 315, 884, 0, 22, 0, 447, 521, 709, 530, 452, 893, 1080, 575, 780, 392, 452, 284, 0, 18, 0, 866, 975, 877, 625, 388, 458, 1350, 583, 777, 0, 40, 0, 153, 178, 452, 954, 552, 598, 0, 34, 0, 761, 509, 707, 1129, 453, 0, 37, 0, 282, 570, 892, 595, 0, 29, 0, 314, 576, 366, 0, 0, 20, 0, 584, 423, 0, 20, 0, 623, 0, 45, 0, 477, 178, 583, 695, 766, 0, 46, 0, 702, 580, 0, 21, 0, 0, 32, 0, 127, 1096, 125, 203, 1028, 499, 550, 82, 0, 54, 0, 724, 499, 654, 459, 899, 0, 25, 0, 533, 1605, 725, 851, 0, 26, 0, 722, 148, 0, 59, 0, 934, 0, 40, 0, 1234, 0, 0, 14, 0, 585, 508, 204, 0, 18, 0, 465, 259, 0, 24, 0, 392, 88, 100, 209, 150, 169, 226, 187, 98, 210, 532, 159, 58, 220, 0, 26, 0, 453, 470, 601, 0, 28, 0, 1087, 525, 619, 673, 0, 27, 0, 651, 54, 791, 158, 369, 544, 351, 0, 28, 0, 472, 452, 411, 77, 0, 20, 0, 477, 0, 32, 0, 808, 417, 322, 219, 0, 25, 0, 706, 385, 237, 23, 347, 380, 344, 777, 1001, 363, 0, 31, 0, 579, 282, 421, 939, 0, 0, 31, 0, 531, 0, 28, 0, 454, 623, 0, 18, 0, 949, 971, 1065, 661, 0, 30, 0, 46, 0, 0, 31, 0, 764, 373, 0, 33, 0, 967, 866, 1271, 0, 38, 0, 888, 238, 146, 0, 0, 38, 0, 643, 604, 0, 33, 0, 1265, 0, 33, 0, 1066, 0, 20, 0, 1469, 422, 0, 22, 0, 630, 841, 779, 0, 24, 0, 19, 26, 0, 32, 0, 51, 0, 17, 0, 0, 26, 0, 0, 0, 13, 0, 252, 1279, 1159, 0, 44, 0, 1117, 302, 0, 22, 0, 1195, 1391, 545, 208, 500, 0, 22, 0, 813, 344, 0, 32, 0, 805, 145, 272, 436, 298, 1336, 446, 0, 19, 0, 827, 661, 0, 27, 0, 445, 631, 921, 1034, 629, 986, 881, 965, 0, 23, 0, 460, 0, 27, 0, 1119, 797, 601, 0, 39, 0, 552, 419, 335, 0, 45, 0, 876, 1121, 480, 560, 0, 40, 0, 1357, 799, 614, 840, 721, 385, 803, 278, 171, 290, 0, 27, 0, 653, 0, 40, 0, 331, 1123, 693, 346, 0, 27, 0, 1577, 0, 0, 21, 0, 650, 0, 18, 0, 668, 567, 136, 319, 238, 633, 468, 0, 17, 0, 1223, 968, 505, 407, 538, 395, 0, 33, 0, 2460, 0, 21, 0, 26, 31, 28, 32, 28, 39, 39, 34, 43, 18, 16, 0, 0, 28, 0, 399, 1022, 1256, 521, 0, 32, 0, 1441, 1180, 0, 20, 0, 934, 1396, 189, 883, 0, 29, 0, 754, 0, 37, 0, 673, 795, 776, 0, 37, 0, 1127, 1374, 422, 23, 24, 17, 22, 36, 66, 47, 43, 47, 42, 43, 48, 22, 0, 17, 0, 733, 322, 1222, 1087, 0, 0, 45, 0, 698, 0, 18, 0, 562, 522, 0, 23, 0, 511, 493, 503, 0, 21, 0, 971, 521, 0, 0, 17, 0, 617, 456, 833, 0, 15, 0, 552, 726, 840, 0, 21, 0, 1020, 743, 640, 0, 17, 0, 700, 780, 512, 0, 20, 0, 598, 852, 1285, 0, 0, 21, 0, 527, 180, 0, 20, 0, 624, 0, 57, 0, 239, 295, 491, 165, 909, 803, 130, 0, 45, 0, 504, 422, 278, 279, 336, 0, 16, 0, 79, 99, 104, 0, 0, 32, 0, 629, 313, 464, 0, 32, 0, 760, 0, 18, 0, 0, 26, 0, 1013, 0, 27, 0, 954, 634, 0, 32, 0, 539, 1157, 0, 26, 0, 521, 498, 449, 291, 583, 185, 282, 0, 36, 0, 369, 822, 0, 44, 0, 986, 526, 0, 31, 0, 0, 58, 0, 701, 0, 45, 0, 353, 282, 650, 885, 0, 31, 0, 1170, 0, 36, 0, 636, 0, 42, 0, 511, 0, 32, 0, 262, 0, 39, 0, 76, 0, 22, 0, 271, 0, 0, 29, 0, 573, 1229, 981, 664, 0, 22, 0, 626, 495, 674, 0, 34, 0, 0, 75, 0, 651, 835, 487, 619, 0, 35, 0, 592, 233, 0, 40, 0, 280, 80, 59, 12, 529, 0, 41, 0, 222, 292, 0, 33, 0, 0, 50, 0, 853, 378, 0, 46, 0, 509, 552, 0, 58, 0, 422, 475, 0, 30, 0, 496, 0, 30, 0, 638, 0, 23, 0, 0, 25, 0, 855, 830, 867, 0, 39, 0, 224, 680, 516, 337, 0, 32, 0, 330, 469, 381, 0, 44, 0, 614, 322, 1019, 0, 31, 0, 1208, 854, 0, 0, 24, 0, 478, 251, 0, 15, 0, 1138, 818, 833, 0, 21, 0, 756, 1060, 1181, 349, 0, 20, 0, 0, 22, 0, 225, 0, 22, 0, 1184, 0, 0, 39, 0, 418, 352, 561, 337, 0, 15, 0, 270, 593, 672, 555, 904, 330, 397, 0, 21, 0, 0, 21, 0, 0, 26, 0, 1200, 0, 21, 0, 446, 840, 153, 0, 24, 0, 609, 678, 786, 341, 412, 0, 30, 0, 238, 789, 0, 41, 0, 506, 513, 0, 24, 0, 287, 490, 0, 19, 0, 509, 201, 668, 0, 20, 0, 431, 957, 347, 0, 32, 0, 1365, 0, 26, 0, 590, 0, 0, 40, 0, 669, 731, 0, 33, 0, 745, 692, 0, 18, 0, 1191, 0, 45, 0, 717, 764, 0, 22, 0, 0, 23, 0, 891, 0, 36, 0, 1389, 0, 28, 0, 851, 0, 17, 0, 76, 0, 41, 0, 0, 26, 0, 0, 0, 20, 0, 250, 497, 485, 152, 0, 21, 0, 387, 0, 22, 0, 0, 24, 0, 182, 1059, 738, 0, 35, 0, 484, 118, 150, 829, 730, 588, 690, 0, 29, 0, 488, 375, 1106, 0, 41, 0, 429, 543, 504, 641, 0, 38, 0, 1279, 0, 27, 0, 585, 491, 569, 0, 30, 0, 836, 558, 700, 576, 0, 34, 0, 280, 262, 589, 1067, 581, 242, 437, 538, 0, 27, 0, 687, 909, 587, 0, 31, 0, 913, 628, 219, 0, 36, 0, 408, 522, 519, 724, 0, 26, 0, 724, 0, 32, 0, 684, 299, 0, 47, 0, 348, 600, 211, 209, 213, 0, 25, 0, 176, 0, 31, 0, 646, 521, 463, 843, 0, 26, 0, 0, 33, 0, 325, 0, 32, 0, 425, 0, 32, 0, 117, 133, 0, 24, 0, 537, 0, 24, 0, 174, 156, 822, 329, 262, 572, 89, 0, 28, 0, 0, 32, 0, 0, 18, 0, 0, 19, 0, 12, 21, 37, 27, 23, 24, 0, 28, 0, 10, 58, 0, 25, 0, 51, 30, 30, 50, 43, 60, 33, 68, 0, 0, 23, 0, 700, 732, 0, 21, 0, 442, 748, 951, 0, 20, 0, 351, 516, 305, 0, 15, 0, 296, 47, 57, 45, 50, 46, 45, 48, 52, 46, 62, 190, 57, 44, 44, 51, 50, 44, 40, 50, 47, 50, 262, 49, 45, 42, 54, 45, 49, 46, 44, 47, 65, 134, 49, 49, 42, 42, 46, 49, 48, 49, 48, 62, 0, 17, 0, 1213, 1178, 1409, 322, 392, 346, 0, 28, 0, 489, 664, 689, 749, 0, 0, 21, 0, 377, 695, 0, 15, 0, 378, 967, 393, 259, 0, 17, 0, 540, 1247, 111, 0, 31, 0, 543, 489, 1445, 751, 1370, 570, 183, 1161, 325, 0, 16, 0, 0, 26, 0, 649, 0, 35, 0, 316, 1227, 0, 22, 0, 765, 1013, 286, 0, 33, 0, 282, 0, 21, 0, 628, 0, 33, 0, 498, 676, 0, 36, 0, 615, 0, 29, 0, 778, 790, 94, 29, 917, 742, 594, 401, 774, 663, 802, 0, 36, 0, 630, 201, 160, 161, 227, 161, 209, 541, 0, 28, 0, 530, 806, 0, 20, 0, 42, 123, 95, 135, 118, 0, 25, 0, 173, 143, 134, 134, 115, 118, 114, 75, 122, 136, 76, 114, 0, 0, 16, 0, 797, 723, 801, 0, 21, 0, 506, 969, 0, 22, 0, 1269, 0, 22, 0, 673, 1205, 695, 0, 29, 0, 1646, 1544, 0, 26, 0, 983, 0, 28, 0, 1183, 865, 0, 22, 0, 1470, 596, 580, 0, 46, 0, 1203, 1644, 0, 32, 0, 76, 70, 85, 73, 31, 30, 26, 0, 37, 0, 0, 17, 0, 0, 25, 0, 0, 26, 0, 0, 0, 26, 0, 313, 971, 673, 1059, 0, 35, 0, 249, 925, 0, 17, 0, 523, 965, 345, 0, 52, 0, 735, 757, 946, 1330, 0, 33, 0, 412, 978, 475, 740, 1721, 0, 28, 0, 1296, 846, 453, 2108, 0, 30, 0, 915, 531, 589, 0, 26, 0, 1060, 718, 1410, 994, 1541, 0, 35, 0, 665, 745, 476, 647, 724, 0, 23, 0, 906, 562, 895, 285, 0, 19, 0, 952, 600, 548, 545, 532, 0, 0, 27, 0, 863, 459, 0, 26, 0, 469, 942, 0, 30, 0, 0, 26, 0, 974, 391, 507, 0, 26, 0, 475, 598, 444, 481, 0, 26, 0, 408, 383, 0, 33, 0, 474, 787, 817, 867, 350, 0, 20, 0, 784, 0, 0, 34, 0, 1264, 726, 0, 19, 0, 913, 1140, 867, 0, 16, 0, 859, 1144, 0, 22, 0, 629, 757, 804, 532, 693, 826, 1017, 0, 20, 0, 1068, 1211, 1244, 1478, 0, 20, 0, 1185, 1172, 815, 1117, 628, 0, 0, 17, 0, 736, 602, 1029, 902, 0, 21, 0, 0, 33, 0, 731, 781, 826, 0, 30, 0, 1327, 993, 1441, 520, 0, 30, 0, 1231, 1118, 0, 26, 0, 0, 29, 0, 89, 61, 42, 32, 32, 62, 40, 40, 40, 65, 39, 37, 38, 20, 78, 71, 104, 88, 60, 64, 27, 27, 64, 51, 77, 36, 66, 40, 37, 39, 80, 70, 61, 33, 43, 40, 64, 46, 40, 70, 58, 61, 72, 47, 59, 46, 45, 130, 104, 61, 78, 26, 27, 31, 37, 45, 35, 28, 41, 50, 35, 49, 37, 54, 41, 34, 88, 39, 27, 47, 65, 52, 44, 34, 75, 89, 81, 40, 69, 0, 28, 0, 557, 129, 76, 76, 259, 84, 85, 0, 19, 0, 1211, 0, 26, 0, 1134, 1426, 567, 0, 25, 0, 2292, 688, 0, 28, 0, 856, 732, 0, 30, 0, 1300, 1416, 304, 0, 20, 0, 0, 23, 0, 540, 0, 38, 0, 452, 148, 434, 1479, 0, 36, 0, 952, 0, 18, 0, 679, 0, 0, 22, 0, 668, 333, 478, 0, 19, 0, 674, 521, 0, 18, 0, 372, 404, 1577, 0, 19, 0, 214, 353, 470, 743, 0, 17, 0, 0, 0, 28, 0, 532, 636, 450, 428, 0, 22, 0, 1001, 858, 651, 0, 36, 0, 881, 1287, 905, 1138, 0, 33, 0, 1130, 381, 501, 876, 1299, 0, 34, 0, 1487, 969, 0, 18, 0, 504, 0, 0, 15, 0, 615, 913, 0, 22, 0, 0, 29, 0, 1117, 505, 1690, 1181, 465, 428, 1595, 522, 0, 25, 0, 1805, 1812, 0, 27, 0, 852, 1216, 0, 32, 0, 1136, 1030, 273, 989, 262, 0, 20, 0, 959, 976, 563, 791, 0, 43, 0, 708, 551, 0, 0, 26, 0, 808, 0, 30, 0, 484, 1295, 0, 22, 0, 904, 0, 35, 0, 511, 0, 30, 0, 262, 0, 35, 0, 357, 0, 33, 0, 789, 0, 0, 45, 0, 284, 759, 407, 473, 0, 22, 0, 661, 425, 700, 1211, 355, 0, 20, 0, 280, 834, 1657, 387, 1477, 762, 0, 19, 0, 880, 948, 0, 41, 0, 404, 1165, 631, 768, 1102, 1157, 1113, 0, 23, 0, 289, 720, 432, 885, 0, 19, 0, 599, 2036, 697, 494, 1503, 2126, 1994, 2453, 763, 0, 23, 0, 548, 305, 471, 580, 132, 0, 27, 0, 634, 204, 1575, 672, 226, 497, 61, 394, 821, 428, 955, 1882, 160, 438, 0, 0, 22, 0, 928, 678, 0, 33, 0, 1101, 1250, 1343, 565, 0, 34, 0, 697, 548, 0, 0, 30, 0, 458, 379, 744, 0, 17, 0, 0, 25, 0, 984, 1407, 505, 0, 28, 0, 1173, 1083, 835, 0, 25, 0, 704, 792, 925, 0, 19, 0, 1072, 1076, 1076, 0, 28, 0, 1123, 1285, 1937, 577, 606, 0, 25, 0, 0, 25, 0, 0, 19, 0, 8, 152, 0, 39, 0, 79, 0, 0, 37, 0, 637, 615, 528, 669, 0, 33, 0, 1770, 420, 1396, 186, 0, 22, 0, 2144, 0, 35, 0, 1960, 0, 29, 0, 1758, 0, 28, 0, 1089, 1540, 0, 16, 0, 1148, 0, 22, 0, 0, 23, 0, 1301, 0, 24, 0, 1062, 0, 37, 0, 0, 32, 0, 62, 69, 31, 29, 24, 36, 25, 28, 26, 31, 28, 30, 43, 17, 37, 8, 33, 34, 33, 35, 0, 36, 0, 0, 0, 12, 0, 363, 542, 0, 20, 0, 648, 612, 0, 16, 0, 0, 39, 0, 1473, 0, 27, 0, 718, 637, 203, 378, 247, 150, 241, 230, 161, 134, 0, 20, 0, 145, 498, 453, 252, 506, 639, 434, 0, 24, 0, 0, 51, 0, 492, 602, 174, 0, 48, 0, 903, 1134, 273, 0, 45, 0, 139, 38, 18, 147, 25, 23, 26, 22, 25, 31, 48, 19, 17, 19, 49, 52, 48, 29, 24, 81, 18, 0, 21, 0, 301, 214, 80, 148, 63, 0, 22, 0, 417, 163, 0, 0, 26, 0, 813, 672, 0, 32, 0, 1093, 1876, 785, 0, 22, 0, 1127, 317, 0, 20, 0, 1406, 1661, 318, 0, 28, 0, 2329, 0, 17, 0, 805, 521, 158, 0, 17, 0, 0, 20, 0, 39, 24, 43, 31, 40, 63, 44, 63, 0, 0, 19, 0, 483, 0, 22, 0, 423, 789, 638, 397, 555, 0, 23, 0, 128, 366, 0, 27, 0, 472, 0, 18, 0, 398, 660, 0, 19, 0, 658, 245, 335, 674, 703, 0, 18, 0, 742, 0, 23, 0, 998, 394, 0, 16, 0, 635, 881, 679, 531, 638, 0, 21, 0, 0, 19, 0, 364, 0, 0, 27, 0, 487, 661, 423, 0, 15, 0, 555, 442, 621, 482, 515, 0, 21, 0, 752, 826, 631, 917, 0, 20, 0, 0, 22, 0, 960, 0, 22, 0, 2245, 585, 0, 0, 28, 0, 582, 546, 0, 19, 0, 486, 679, 0, 15, 0, 0, 20, 0, 823, 0, 30, 0, 687, 779, 0, 34, 0, 736, 1154, 0, 24, 0, 0, 37, 0, 1010, 0, 20, 0, 332, 624, 0, 34, 0, 587, 359, 0, 20, 0, 640, 595, 0, 0, 18, 0, 469, 0, 21, 0, 331, 0, 22, 0, 1377, 0, 31, 0, 811, 970, 149, 0, 19, 0, 0, 0, 34, 0, 357, 529, 547, 0, 15, 0, 155, 0, 20, 0, 1362, 0, 20, 0, 1162, 0, 18, 0, 656, 422, 0, 23, 0, 673, 0, 21, 0, 529, 65, 963, 72, 831, 370, 663, 222, 66, 685, 0, 20, 0, 0, 33, 0, 1159, 1125, 1178, 0, 22, 0, 151, 0, 21, 0, 182, 0, 0, 43, 0, 496, 635, 604, 0, 15, 0, 702, 667, 699, 0, 21, 0, 677, 750, 886, 655, 0, 35, 0, 715, 1117, 220, 0, 0, 19, 0, 447, 704, 353, 0, 22, 0, 1101, 0, 33, 0, 508, 46, 14, 17, 16, 14, 23, 15, 15, 18, 16, 27, 21, 15, 24, 411, 398, 0, 19, 0, 456, 0, 25, 0, 1235, 0, 24, 0, 232, 405, 485, 0, 19, 0, 807, 1845, 366, 0, 19, 0, 391, 0, 54, 0, 1847, 0, 23, 0, 885, 0, 68, 0, 1278, 1794, 1140, 658, 0, 23, 0, 475, 960, 0, 27, 0, 0, 23, 0, 409, 0, 22, 0, 215, 176, 0, 0, 25, 0, 1143, 0, 28, 0, 1039, 909, 1182, 184, 0, 18, 0, 900, 825, 641, 550, 900, 0, 24, 0, 0, 27, 0, 217, 299, 179, 234, 221, 237, 234, 0, 0, 29, 0, 692, 0, 21, 0, 626, 469, 0, 39, 0, 832, 877, 123, 0, 38, 0, 322, 583, 989, 0, 0, 22, 0, 795, 1045, 1314, 1299, 0, 42, 0, 684, 716, 1120, 867, 882, 0, 40, 0, 0, 54, 0, 997, 377, 0, 29, 0, 203, 0, 35, 0, 781, 0, 41, 0, 744, 756, 615, 736, 0, 30, 0, 370, 715, 0, 42, 0, 465, 719, 662, 0, 39, 0, 806, 1210, 0, 38, 0, 0, 49, 0, 0, 54, 0, 1369, 1051, 864, 355, 0, 33, 0, 1110, 554, 1720, 980, 1025, 0, 37, 0, 729, 1300, 1985, 0, 58, 0, 1605, 800, 739, 0, 33, 0, 391, 649, 0, 32, 0, 0, 48, 0, 1446, 1553, 1147, 0, 34, 0, 1379, 1016, 775, 991, 0, 64, 0, 1835, 1235, 0, 41, 0, 1136, 0, 34, 0, 0, 47, 0, 483, 1688, 790, 489, 732, 1137, 0, 32, 0, 1067, 1012, 950, 0, 0, 34, 0, 289, 387, 0, 25, 0, 723, 0, 33, 0, 581, 0, 22, 0, 493, 493, 0, 26, 0, 517, 539, 770, 0, 0, 25, 0, 699, 458, 0, 21, 0, 1630, 0, 20, 0, 1383, 976, 0, 18, 0, 1173, 502, 1042, 0, 38, 0, 675, 996, 0, 20, 0, 444, 0, 18, 0, 0, 20, 0, 1353, 1311, 326, 0, 22, 0, 1111, 0, 24, 0, 40, 29, 33, 33, 31, 27, 27, 25, 31, 70, 27, 34, 28, 34, 29, 0, 20, 0, 26, 0, 17, 0, 70, 55, 65, 68, 63, 0, 17, 0, 10, 490, 0, 0, 35, 0, 394, 1030, 1086, 0, 34, 0, 845, 486, 728, 834, 1011, 0, 45, 0, 650, 1184, 1241, 0, 35, 0, 903, 454, 800, 0, 36, 0, 850, 523, 663, 912, 957, 679, 1283, 0, 50, 0, 353, 1101, 823, 807, 293, 460, 214, 0, 20, 0, 31, 24, 21, 30, 0, 36, 0, 0, 28, 0, 0, 0, 23, 0, 374, 322, 0, 44, 0, 1246, 0, 39, 0, 367, 0, 28, 0, 576, 0, 22, 0, 941, 0, 0, 21, 0, 833, 718, 678, 662, 0, 29, 0, 162, 514, 492, 691, 609, 371, 506, 0, 23, 0, 289, 341, 616, 459, 382, 309, 360, 166, 0, 20, 0, 670, 404, 0, 21, 0, 577, 195, 107, 80, 293, 604, 601, 0, 21, 0, 595, 0, 25, 0, 428, 501, 434, 0, 28, 0, 736, 0, 23, 0, 439, 617, 497, 437, 548, 784, 764, 0, 18, 0, 655, 774, 469, 800, 0, 19, 0, 594, 335, 372, 0, 0, 23, 0, 844, 1170, 0, 33, 0, 962, 728, 0, 35, 0, 557, 735, 0, 22, 0, 696, 979, 0, 30, 0, 842, 1095, 1427, 0, 29, 0, 830, 1133, 0, 0, 43, 0, 680, 952, 0, 32, 0, 950, 1286, 988, 280, 528, 0, 30, 0, 446, 216, 0, 28, 0, 553, 1088, 643, 1211, 993, 1214, 944, 0, 29, 0, 817, 889, 0, 52, 0, 504, 332, 964, 624, 728, 0, 44, 0, 900, 1313, 446, 964, 184, 644, 0, 30, 0, 97, 719, 422, 877, 884, 839, 1021, 164, 0, 53, 0, 675, 711, 685, 0, 17, 0, 793, 464, 243, 0, 0, 49, 0, 786, 1126, 568, 764, 0, 22, 0, 1122, 291, 911, 992, 1086, 785, 0, 19, 0, 101, 631, 1281, 223, 457, 333, 473, 0, 41, 0, 1104, 720, 711, 0, 41, 0, 764, 694, 0, 54, 0, 1201, 1285, 1230, 930, 1097, 0, 36, 0, 1631, 741, 1124, 559, 1719, 0, 21, 0, 737, 0, 35, 0, 1772, 970, 0, 40, 0, 1248, 0, 34, 0, 927, 563, 0, 18, 0, 1299, 0, 36, 0, 745, 1289, 0, 24, 0, 494, 0, 65, 0, 1098, 648, 960, 1361, 0, 43, 0, 1682, 1125, 0, 24, 0, 1176, 922, 1783, 0, 0, 32, 0, 1149, 442, 0, 18, 0, 0, 22, 0, 507, 1104, 710, 1038, 0, 26, 0, 394, 493, 1335, 518, 843, 109, 134, 87, 44, 37, 77, 70, 153, 83, 61, 107, 513, 821, 918, 0, 25, 0, 407, 374, 320, 387, 0, 26, 0, 386, 823, 453, 262, 0, 49, 0, 1067, 668, 1105, 816, 0, 37, 0, 1225, 1059, 348, 222, 0, 22, 0, 858, 597, 1199, 368, 489, 1328, 253, 1491, 706, 439, 346, 0, 38, 0, 277, 391, 289, 0, 37, 0, 1112, 0, 21, 0, 709, 234, 0, 25, 0, 421, 0, 15, 0, 833, 908, 143, 0, 18, 0, 910, 1926, 741, 966, 1024, 332, 0, 52, 0, 753, 2456, 304, 304, 0, 23, 0, 804, 1255, 235, 754, 518, 200, 427, 670, 900, 971, 516, 140, 281, 637, 451, 395, 360, 1323, 248, 536, 0, 21, 0, 367, 1562, 513, 905, 0, 29, 0, 457, 0, 41, 0, 855, 575, 0, 17, 0, 1609, 1109, 807, 312, 0, 0, 40, 0, 762, 696, 528, 0, 18, 0, 606, 0, 27, 0, 611, 740, 558, 0, 41, 0, 1303, 567, 0, 26, 0, 847, 1027, 646, 705, 519, 587, 0, 25, 0, 508, 407, 388, 0, 32, 0, 1291, 0, 20, 0, 717, 893, 0, 20, 0, 593, 687, 0, 20, 0, 465, 614, 274, 399, 0, 22, 0, 521, 397, 703, 0, 19, 0, 790, 243, 0, 0, 23, 0, 771, 0, 21, 0, 388, 313, 0, 20, 0, 881, 0, 15, 0, 139, 42, 39, 39, 45, 44, 36, 37, 34, 40, 31, 38, 48, 265, 41, 43, 43, 49, 137, 39, 41, 40, 60, 161, 39, 41, 33, 37, 32, 119, 32, 39, 37, 59, 229, 41, 34, 38, 49, 0, 17, 0, 731, 1268, 1508, 1191, 0, 28, 0, 185, 852, 452, 1000, 0, 0, 33, 0, 704, 500, 932, 0, 48, 0, 1198, 1070, 654, 590, 668, 0, 32, 0, 1326, 549, 1223, 1272, 0, 28, 0, 455, 1126, 801, 827, 782, 0, 20, 0, 1533, 1271, 1704, 297, 0, 20, 0, 0, 0, 24, 0, 746, 744, 580, 0, 34, 0, 912, 886, 789, 0, 22, 0, 516, 935, 492, 714, 846, 638, 181, 0, 21, 0, 764, 0, 35, 0, 788, 854, 0, 0, 18, 0, 937, 962, 815, 1084, 0, 19, 0, 1127, 1192, 867, 0, 22, 0, 0, 25, 0, 882, 192, 0, 42, 0, 921, 326, 0, 28, 0, 1390, 1230, 900, 182, 0, 35, 0, 732, 1030, 1820, 1571, 0, 20, 0, 0, 34, 0, 177, 1470, 1396, 0, 34, 0, 1670, 1361, 465, 442, 557, 0, 41, 0, 478, 949, 1001, 564, 0, 38, 0, 937, 0, 22, 0, 856, 694, 760, 820, 0, 23, 0, 1420, 1684, 1363, 969, 0, 33, 0, 562, 0, 30, 0, 1729, 1135, 0, 0, 41, 0, 921, 0, 17, 0, 954, 0, 52, 0, 686, 923, 0, 33, 0, 666, 283, 0, 16, 0, 0, 26, 0, 612, 488, 0, 0, 19, 0, 310, 868, 978, 0, 18, 0, 345, 332, 749, 1283, 0, 21, 0, 409, 0, 41, 0, 703, 1263, 898, 0, 29, 0, 393, 855, 631, 394, 0, 26, 0, 518, 841, 480, 0, 24, 0, 741, 569, 615, 0, 38, 0, 498, 334, 0, 40, 0, 549, 888, 0, 39, 0, 455, 0, 29, 0, 1091, 0, 36, 0, 1538, 0, 31, 0, 521, 702, 0, 40, 0, 206, 0, 19, 0, 329, 265, 0, 40, 0, 1000, 883, 441, 0, 30, 0, 357, 527, 0, 41, 0, 757, 710, 0, 34, 0, 0, 32, 0, 1078, 466, 526, 0, 39, 0, 1025, 1205, 486, 919, 446, 0, 43, 0, 252, 0, 26, 0, 240, 0, 31, 0, 889, 71, 0, 35, 0, 750, 291, 0, 20, 0, 275, 1047, 466, 862, 398, 0, 18, 0, 0, 0, 34, 0, 1020, 755, 0, 37, 0, 1242, 953, 0, 22, 0, 1017, 508, 0, 28, 0, 871, 770, 0, 20, 0, 0, 33, 0, 1466, 855, 0, 35, 0, 504, 0, 24, 0, 48, 0, 20, 0, 48, 0, 36, 0, 0, 27, 0, 0, 26, 0, 0, 29, 0, 6, 0, 0, 29, 0, 866, 243, 464, 1216, 6, 107, 80, 0, 18, 0, 0, 24, 0, 1145, 1111, 670, 237, 0, 19, 0, 560, 243, 313, 267, 0, 29, 0, 451, 732, 1171, 1405, 0, 16, 0, 155, 95, 45, 778, 561, 0, 25, 0, 538, 0, 45, 0, 423, 0, 34, 0, 507, 0, 18, 0, 543, 0, 22, 0, 657, 370, 0, 45, 0, 968, 469, 0, 39, 0, 1241, 329, 0, 33, 0, 1276, 0, 21, 0, 120, 807, 1061, 0, 31, 0, 765, 794, 618, 0, 33, 0, 374, 0, 38, 0, 0, 26, 0, 710, 63, 111, 94, 101, 121, 180, 110, 125, 0, 26, 0, 1246, 415, 436, 1171, 225, 119, 0, 15, 0, 0, 33, 0, 224, 0, 18, 0, 0, 36, 0, 0, 25, 0, 0, 0, 11, 0, 520, 757, 684, 0, 20, 0, 730, 838, 130, 0, 20, 0, 764, 626, 829, 412, 1056, 0, 33, 0, 800, 0, 22, 0, 1244, 0, 18, 0, 0, 25, 0, 686, 634, 0, 28, 0, 728, 529, 0, 38, 0, 693, 1020, 48, 959, 750, 0, 25, 0, 1256, 0, 44, 0, 710, 431, 344, 0, 21, 0, 864, 0, 34, 0, 589, 688, 0, 18, 0, 792, 626, 561, 339, 0, 20, 0, 251, 392, 314, 210, 251, 0, 39, 0, 350, 1007, 780, 703, 460, 0, 19, 0, 203, 740, 42, 611, 910, 769, 472, 0, 0, 34, 0, 1024, 541, 462, 0, 18, 0, 0, 28, 0, 745, 297, 227, 0, 35, 0, 473, 383, 411, 0, 29, 0, 694, 798, 534, 788, 0, 20, 0, 0, 22, 0, 486, 497, 509, 589, 708, 502, 976, 0, 23, 0, 353, 488, 807, 529, 1125, 714, 0, 23, 0, 1385, 0, 17, 0, 925, 455, 0, 41, 0, 0, 29, 0, 698, 628, 229, 0, 53, 0, 819, 0, 38, 0, 0, 40, 0, 762, 0, 24, 0, 1278, 581, 0, 34, 0, 428, 0, 40, 0, 0, 72, 0, 368, 0, 30, 0, 0, 57, 0, 339, 0, 20, 0, 919, 779, 612, 348, 0, 25, 0, 117, 862, 550, 582, 478, 0, 23, 0, 0, 31, 0, 822, 768, 708, 800, 663, 0, 30, 0, 0, 50, 0, 1000, 543, 625, 0, 25, 0, 677, 0, 17, 0, 1200, 0, 0, 32, 0, 464, 550, 251, 0, 17, 0, 860, 697, 437, 602, 564, 226, 0, 19, 0, 242, 327, 204, 158, 361, 162, 149, 154, 0, 32, 0, 375, 586, 309, 368, 439, 777, 600, 128, 0, 18, 0, 453, 0, 0, 21, 0, 569, 809, 586, 606, 0, 17, 0, 762, 879, 824, 1088, 0, 20, 0, 828, 1299, 851, 655, 879, 1100, 890, 0, 32, 0, 405, 832, 661, 489, 0, 24, 0, 505, 966, 617, 832, 0, 41, 0, 665, 112, 0, 18, 0, 937, 940, 1297, 1099, 0, 24, 0, 696, 696, 965, 1256, 0, 35, 0, 1136, 1216, 515, 603, 1137, 661, 509, 1114, 717, 0, 28, 0, 0, 24, 0, 533, 837, 957, 782, 951, 0, 36, 0, 849, 1219, 1132, 643, 1147, 878, 0, 31, 0, 672, 670, 846, 827, 151, 857, 670, 956, 1006, 438, 0, 21, 0, 220, 668, 514, 792, 766, 0, 36, 0, 915, 591, 833, 476, 440, 0, 30, 0, 773, 1019, 340, 0, 18, 0, 0, 30, 0, 1030, 1258, 0, 28, 0, 1097, 724, 485, 796, 0, 33, 0, 662, 638, 560, 646, 497, 648, 0, 0, 31, 0, 444, 446, 292, 0, 15, 0, 455, 962, 559, 0, 21, 0, 1186, 872, 0, 30, 0, 1051, 0, 20, 0, 553, 1286, 0, 0, 28, 0, 318, 723, 657, 264, 0, 21, 0, 841, 0, 24, 0, 717, 793, 392, 1021, 0, 29, 0, 743, 359, 919, 0, 21, 0, 568, 0, 34, 0, 529, 1023, 910, 718, 0, 35, 0, 709, 1080, 0, 31, 0, 1133, 642, 0, 19, 0, 194, 600, 1000, 962, 0, 26, 0, 477, 335, 359, 393, 701, 0, 25, 0, 705, 1416, 0, 32, 0, 1096, 0, 22, 0, 373, 0, 26, 0, 521, 1552, 1621, 0, 26, 0, 2058, 1293, 0, 25, 0, 335, 1622, 0, 37, 0, 545, 1161, 0, 20, 0, 1371, 1194, 544, 0, 20, 0, 972, 655, 848, 835, 703, 0, 20, 0, 814, 696, 341, 1754, 847, 0, 25, 0, 936, 393, 0, 24, 0, 1101, 0, 0, 24, 0, 341, 0, 24, 0, 831, 0, 19, 0, 734, 968, 0, 0, 25, 0, 384, 537, 595, 0, 23, 0, 910, 693, 757, 906, 0, 21, 0, 607, 440, 346, 350, 931, 0, 16, 0, 745, 1045, 922, 0, 17, 0, 406, 903, 815, 1266, 0, 28, 0, 1332, 590, 1042, 941, 0, 20, 0, 583, 781, 850, 703, 661, 731, 0, 30, 0, 587, 0, 0, 48, 0, 887, 0, 43, 0, 739, 502, 448, 0, 28, 0, 666, 707, 0, 28, 0, 546, 357, 522, 0, 31, 0, 859, 521, 0, 23, 0, 697, 731, 0, 20, 0, 0, 0, 19, 0, 891, 1157, 0, 15, 0, 570, 1055, 1231, 316, 0, 21, 0, 1245, 440, 266, 0, 20, 0, 0, 22, 0, 717, 615, 0, 33, 0, 955, 1123, 998, 2336, 1207, 0, 37, 0, 482, 847, 1026, 885, 0, 28, 0, 440, 0, 0, 23, 0, 473, 394, 368, 0, 23, 0, 736, 1158, 1308, 0, 21, 0, 964, 0, 30, 0, 976, 1383, 0, 20, 0, 783, 1178, 1378, 0, 22, 0, 234, 0, 0, 35, 0, 616, 434, 0, 21, 0, 1204, 0, 29, 0, 1554, 0, 24, 0, 19, 21, 0, 17, 0, 0, 0, 22, 0, 645, 413, 950, 378, 0, 17, 0, 973, 0, 18, 0, 1214, 235, 644, 0, 52, 0, 1204, 813, 996, 0, 36, 0, 357, 964, 1182, 0, 32, 0, 307, 542, 637, 1152, 0, 16, 0, 673, 659, 0, 0, 25, 0, 703, 0, 21, 0, 717, 0, 32, 0, 786, 616, 713, 638, 0, 27, 0, 430, 0, 0, 31, 0, 591, 702, 0, 24, 0, 936, 0, 30, 0, 460, 9, 81, 81, 10, 70, 97, 0, 17, 0, 954, 652, 0, 20, 0, 1322, 0, 26, 0, 1225, 520, 0, 0, 13, 0, 669, 701, 0, 23, 0, 0, 28, 0, 543, 304, 0, 46, 0, 576, 506, 429, 412, 461, 0, 32, 0, 549, 318, 467, 494, 344, 601, 410, 430, 0, 26, 0, 318, 0, 14, 0, 729, 481, 0, 34, 0, 522, 0, 28, 0, 496, 426, 0, 36, 0, 318, 747, 758, 396, 0, 25, 0, 183, 273, 399, 162, 140, 0, 16, 0, 496, 0, 28, 0, 363, 0, 24, 0, 0, 32, 0, 572, 873, 0, 28, 0, 186, 157, 579, 193, 452, 0, 27, 0, 1083, 0, 25, 0, 450, 588, 0, 33, 0, 525, 0, 28, 0, 946, 852, 0, 20, 0, 177, 144, 190, 0, 21, 0, 582, 0, 18, 0, 0, 38, 0, 683, 634, 568, 287, 127, 523, 569, 0, 33, 0, 713, 493, 806, 469, 717, 538, 0, 48, 0, 913, 981, 501, 0, 30, 0, 349, 816, 494, 749, 432, 349, 611, 283, 502, 0, 40, 0, 428, 525, 262, 0, 30, 0, 155, 654, 650, 0, 24, 0, 293, 634, 253, 723, 0, 43, 0, 613, 569, 930, 384, 0, 39, 0, 467, 670, 850, 440, 1049, 778, 188, 0, 34, 0, 456, 0, 19, 0, 272, 419, 546, 0, 0, 42, 0, 532, 696, 492, 0, 33, 0, 867, 1367, 728, 1783, 1344, 0, 38, 0, 612, 711, 371, 0, 24, 0, 470, 853, 689, 0, 23, 0, 738, 606, 784, 653, 0, 27, 0, 1132, 0, 25, 0, 556, 1962, 429, 809, 1109, 0, 23, 0, 766, 1693, 489, 252, 0, 29, 0, 1041, 0, 33, 0, 871, 0, 33, 0, 309, 0, 37, 0, 480, 0, 0, 20, 0, 269, 442, 537, 0, 15, 0, 472, 651, 404, 419, 0, 21, 0, 522, 546, 439, 522, 351, 0, 17, 0, 487, 314, 0, 32, 0, 412, 465, 841, 0, 0, 37, 0, 632, 600, 595, 0, 15, 0, 581, 706, 631, 591, 0, 21, 0, 494, 518, 548, 551, 0, 20, 0, 496, 1327, 0, 0, 19, 0, 833, 0, 17, 0, 922, 575, 355, 0, 18, 0, 353, 349, 428, 891, 1068, 598, 0, 28, 0, 343, 0, 25, 0, 320, 0, 0, 16, 0, 994, 618, 634, 0, 22, 0, 531, 1042, 698, 0, 37, 0, 735, 967, 70, 0, 24, 0, 0, 22, 0, 862, 913, 1176, 0, 35, 0, 831, 712, 760, 1069, 0, 26, 0, 489, 404, 0, 40, 0, 416, 493, 485, 0, 29, 0, 260, 0, 32, 0, 0, 81, 0, 2841, 817, 541, 1457, 820, 783, 0, 25, 0, 1920, 2244, 876, 549, 0, 31, 0, 345, 486, 957, 330, 0, 18, 0, 619, 643, 0, 50, 0, 76, 362, 132, 0, 33, 0, 237, 180, 352, 138, 163, 112, 226, 180, 603, 191, 95, 572, 406, 287, 330, 94, 292, 142, 116, 0, 106, 0, 402, 223, 227, 301, 81, 0, 30, 0, 70, 505, 180, 204, 0, 29, 0, 627, 568, 602, 611, 0, 0, 39, 0, 657, 0, 33, 0, 1075, 915, 820, 0, 34, 0, 833, 930, 280, 0, 0, 41, 0, 690, 548, 0, 19, 0, 805, 791, 1132, 0, 22, 0, 716, 940, 551, 623, 699, 0, 20, 0, 927, 594, 1007, 1089, 850, 656, 0, 0, 42, 0, 710, 770, 761, 0, 35, 0, 705, 1831, 267, 0, 19, 0, 812, 850, 864, 720, 789, 0, 20, 0, 1850, 1245, 0, 0, 28, 0, 1242, 490, 0, 35, 0, 698, 582, 716, 0, 17, 0, 0, 47, 0, 303, 676, 1274, 16, 0, 43, 0, 525, 338, 0, 82, 0, 804, 527, 0, 17, 0, 1106, 883, 0, 0, 36, 0, 513, 700, 0, 28, 0, 786, 707, 0, 18, 0, 661, 673, 1443, 352, 0, 24, 0, 620, 0, 30, 0, 29, 0, 0, 32, 0, 1071, 0, 15, 0, 1530, 1077, 0, 21, 0, 1246, 0, 32, 0, 929, 1980, 0, 0, 17, 0, 326, 1554, 676, 0, 32, 0, 1072, 1012, 1176, 501, 519, 0, 19, 0, 1195, 584, 704, 628, 0, 24, 0, 387, 524, 974, 0, 28, 0, 656, 638, 1373, 1094, 821, 1038, 0, 49, 0, 715, 439, 1045, 1336, 0, 26, 0, 778, 1078, 0, 25, 0, 0, 26, 0, 785, 1306, 1691, 0, 26, 0, 406, 3863, 1177, 239, 849, 861, 1208, 174, 0, 26, 0, 652, 858, 1284, 0, 26, 0, 405, 799, 2291, 1192, 687, 376, 723, 829, 0, 18, 0, 58, 77, 60, 74, 40, 36, 49, 54, 55, 71, 0, 23, 0, 44, 44, 39, 116, 42, 153, 51, 74, 0, 22, 0, 901, 338, 630, 458, 271, 441, 0, 19, 0, 0, 0, 47, 0, 242, 938, 408, 0, 23, 0, 247, 441, 0, 18, 0, 0, 22, 0, 592, 295, 812, 847, 0, 40, 0, 1596, 1291, 0, 38, 0, 922, 1086, 969, 1687, 804, 769, 0, 34, 0, 916, 923, 1616, 1190, 0, 37, 0, 532, 439, 526, 76, 0, 33, 0, 627, 94, 0, 61, 0, 451, 1686, 0, 41, 0, 1184, 373, 380, 342, 0, 17, 0, 0, 31, 0, 0, 33, 0, 0, 0, 20, 0, 600, 821, 275, 0, 32, 0, 1134, 790, 418, 1079, 0, 22, 0, 0, 19, 0, 1035, 213, 0, 20, 0, 920, 424, 1055, 1066, 357, 0, 26, 0, 758, 981, 262, 0, 45, 0, 405, 1424, 0, 25, 0, 354, 999, 606, 353, 0, 23, 0, 596, 0, 29, 0, 1179, 462, 0, 21, 0, 1081, 776, 474, 0, 19, 0, 621, 0, 23, 0, 881, 550, 1144, 522, 0, 0, 69, 0, 467, 502, 349, 0, 15, 0, 645, 846, 966, 553, 856, 0, 15, 0, 0, 21, 0, 531, 728, 297, 289, 0, 19, 0, 613, 672, 348, 0, 20, 0, 1096, 225, 0, 0, 21, 0, 113, 312, 526, 0, 18, 0, 852, 668, 581, 152, 578, 926, 0, 22, 0, 367, 521, 0, 0, 38, 0, 392, 623, 454, 382, 0, 18, 0, 0, 42, 0, 912, 0, 51, 0, 381, 1052, 390, 662, 0, 49, 0, 984, 665, 867, 1158, 0, 52, 0, 623, 745, 368, 425, 891, 0, 43, 0, 444, 561, 480, 659, 768, 553, 0, 41, 0, 527, 421, 555, 673, 0, 16, 0, 608, 794, 0, 18, 0, 881, 0, 18, 0, 841, 416, 1013, 0, 17, 0, 0, 26, 0, 837, 0, 24, 0, 1703, 0, 22, 0, 997, 456, 71, 0, 18, 0, 0, 28, 0, 187, 139, 179, 90, 106, 40, 38, 0, 19, 0, 421, 942, 770, 500, 0, 33, 0, 323, 393, 0, 43, 0, 115, 57, 49, 151, 0, 27, 0, 1155, 376, 597, 41, 46, 67, 82, 87, 104, 61, 236, 962, 158, 384, 0, 27, 0, 1388, 0, 64, 0, 1384, 151, 595, 1470, 504, 1126, 0, 52, 0, 198, 1005, 1001, 0, 34, 0, 301, 0, 22, 0, 973, 407, 0, 28, 0, 1055, 98, 173, 108, 119, 238, 354, 0, 27, 0, 360, 435, 396, 384, 418, 0, 55, 0, 1038, 1149, 0, 20, 0, 395, 0, 58, 0, 711, 188, 651, 325, 0, 50, 0, 1486, 884, 0, 54, 0, 1009, 1525, 0, 20, 0, 845, 143, 250, 992, 547, 585, 370, 0, 0, 37, 0, 634, 0, 21, 0, 401, 522, 594, 0, 19, 0, 1162, 474, 556, 694, 876, 0, 41, 0, 721, 0, 0, 19, 0, 483, 691, 761, 0, 17, 0, 581, 0, 26, 0, 252, 263, 270, 147, 304, 285, 0, 28, 0, 190, 178, 203, 211, 0, 26, 0, 0, 23, 0, 523, 857, 733, 1168, 1040, 0, 37, 0, 588, 1171, 0, 22, 0, 771, 809, 1143, 1270, 0, 23, 0, 564, 912, 693, 408, 0, 20, 0, 529, 524, 851, 500, 0, 46, 0, 1441, 669, 0, 0, 25, 0, 513, 657, 448, 0, 24, 0, 0, 25, 0, 862, 451, 560, 0, 57, 0, 842, 653, 609, 585, 579, 725, 0, 23, 0, 751, 578, 665, 1162, 639, 701, 0, 24, 0, 681, 473, 383, 740, 0, 21, 0, 0, 36, 0, 914, 641, 0, 42, 0, 939, 515, 994, 680, 650, 641, 637, 0, 36, 0, 842, 773, 629, 559, 419, 0, 36, 0, 950, 711, 468, 575, 960, 613, 554, 580, 0, 40, 0, 399, 522, 761, 538, 679, 784, 0, 20, 0, 1001, 999, 682, 835, 444, 0, 21, 0, 725, 909, 1066, 1158, 243, 0, 51, 0, 90, 0, 49, 0, 149, 127, 158, 62, 27, 37, 37, 0, 37, 0, 103, 142, 139, 96, 76, 106, 122, 102, 100, 115, 150, 119, 140, 131, 184, 170, 186, 0, 32, 0, 79, 93, 94, 94, 97, 83, 90, 83, 91, 72, 78, 71, 83, 79, 81, 99, 76, 88, 86, 82, 95, 83, 91, 82, 91, 80, 93, 89, 91, 84, 82, 0, 21, 0, 783, 696, 0, 44, 0, 823, 381, 0, 22, 0, 949, 1227, 0, 24, 0, 1142, 0, 30, 0, 851, 0, 45, 0, 1207, 571, 0, 0, 15, 0, 715, 1897, 1432, 0, 20, 0, 331, 337, 287, 215, 0, 18, 0, 493, 0, 38, 0, 779, 0, 29, 0, 977, 0, 30, 0, 89, 110, 67, 497, 0, 48, 0, 223, 1310, 827, 722, 534, 250, 0, 32, 0, 0, 24, 0, 1154, 446, 0, 22, 0, 957, 0, 25, 0, 0, 31, 0, 448, 0, 25, 0, 588, 1015, 0, 33, 0, 849, 739, 434, 0, 23, 0, 173, 454, 4, 0, 18, 0, 404, 351, 779, 551, 651, 360, 0, 28, 0, 586, 0, 28, 0, 411, 0, 28, 0, 985, 0, 20, 0, 755, 532, 769, 491, 301, 0, 22, 0, 46, 253, 753, 688, 1355, 464, 0, 22, 0, 480, 538, 1194, 0, 46, 0, 316, 0, 18, 0, 0, 25, 0, 620, 417, 0, 18, 0, 374, 417, 0, 20, 0, 653, 643, 0, 24, 0, 618, 359, 877, 339, 340, 0, 20, 0, 970, 411, 411, 1055, 0, 16, 0, 303, 159, 335, 257, 0, 20, 0, 302, 538, 1468, 0, 37, 0, 29, 16, 0, 0, 54, 0, 742, 0, 26, 0, 427, 1135, 1084, 704, 1141, 310, 0, 33, 0, 550, 443, 942, 383, 605, 585, 0, 21, 0, 464, 733, 621, 924, 0, 0, 37, 0, 550, 715, 609, 0, 25, 0, 1184, 1179, 1312, 0, 17, 0, 0, 30, 0, 810, 591, 407, 0, 37, 0, 947, 0, 31, 0, 843, 606, 892, 0, 39, 0, 850, 660, 655, 0, 35, 0, 1126, 768, 0, 41, 0, 566, 627, 0, 30, 0, 859, 1034, 0, 43, 0, 753, 713, 0, 39, 0, 814, 876, 0, 35, 0, 531, 576, 675, 0, 27, 0, 1297, 921, 1330, 0, 22, 0, 444, 0, 38, 0, 270, 0, 25, 0, 312, 0, 0, 50, 0, 642, 1025, 895, 0, 18, 0, 0, 37, 0, 2230, 1212, 1343, 1623, 0, 52, 0, 1601, 399, 1063, 0, 26, 0, 971, 1382, 1364, 854, 0, 32, 0, 1680, 1822, 1459, 1056, 954, 1676, 0, 30, 0, 575, 1239, 0, 41, 0, 950, 720, 1359, 0, 30, 0, 40, 0, 25, 0, 120, 32, 0, 0, 49, 0, 361, 681, 436, 345, 0, 21, 0, 922, 849, 0, 32, 0, 0, 27, 0, 1083, 950, 0, 28, 0, 747, 1137, 0, 30, 0, 556, 0, 31, 0, 1647, 1620, 1626, 1194, 1558, 1709, 0, 41, 0, 618, 197, 373, 527, 794, 0, 27, 0, 1698, 433, 408, 0, 24, 0, 1423, 0, 22, 0, 2107, 0, 23, 0, 1789, 0, 27, 0, 841, 359, 0, 20, 0, 778, 799, 0, 23, 0, 0, 0, 21, 0, 669, 745, 0, 33, 0, 757, 783, 583, 0, 17, 0, 1343, 478, 683, 0, 0, 46, 0, 896, 0, 21, 0, 844, 839, 0, 53, 0, 1282, 1063, 0, 22, 0, 797, 1798, 364, 0, 20, 0, 835, 0, 0, 23, 0, 776, 1083, 192, 0, 18, 0, 0, 18, 0, 229, 944, 888, 833, 536, 0, 22, 0, 461, 128, 543, 0, 42, 0, 287, 682, 115, 167, 119, 0, 39, 0, 712, 95, 264, 65, 93, 351, 76, 0, 41, 0, 88, 0, 19, 0, 402, 289, 0, 39, 0, 252, 124, 121, 0, 38, 0, 85, 0, 48, 0, 500, 0, 20, 0, 240, 580, 312, 0, 40, 0, 478, 132, 86, 58, 0, 39, 0, 56, 0, 57, 0, 186, 147, 235, 132, 137, 73, 262, 0, 47, 0, 168, 131, 136, 116, 97, 114, 0, 39, 0, 86, 336, 95, 103, 111, 188, 0, 28, 0, 364, 79, 65, 189, 216, 53, 72, 299, 120, 114, 76, 96, 0, 34, 0, 89, 139, 232, 182, 47, 0, 52, 0, 136, 88, 64, 372, 57, 74, 155, 44, 83, 0, 21, 0, 276, 0, 22, 0, 263, 10, 1162, 69, 23, 30, 0, 18, 0, 519, 0, 53, 0, 39, 37, 127, 128, 125, 124, 142, 265, 226, 215, 66, 0, 20, 0, 0, 22, 0, 531, 128, 0, 25, 0, 275, 0, 31, 0, 111, 0, 18, 0, 60, 0, 37, 0, 0, 34, 0, 0, 35, 0, 0, 0, 24, 0, 488, 484, 212, 0, 36, 0, 376, 488, 596, 409, 545, 817, 341, 0, 18, 0, 413, 0, 25, 0, 1055, 0, 23, 0, 1203, 1012, 659, 0, 29, 0, 1142, 443, 0, 34, 0, 1211, 732, 356, 0, 0, 15, 0, 764, 0, 26, 0, 0, 34, 0, 308, 293, 103, 17, 0, 34, 0, 248, 38, 248, 24, 141, 61, 11, 0, 43, 0, 1324, 0, 23, 0, 255, 785, 282, 0, 56, 0, 158, 217, 184, 494, 252, 150, 0, 25, 0, 173, 414, 499, 0, 21, 0, 348, 1404, 975, 0, 20, 0, 379, 0, 22, 0, 48, 47, 438, 0, 42, 0, 610, 36, 57, 0, 27, 0, 337, 505, 1126, 681, 0, 23, 0, 204, 1297, 306, 247, 0, 22, 0, 491, 0, 0, 46, 0, 978, 0, 18, 0, 0, 27, 0, 653, 1201, 1128, 1107, 1558, 1594, 1389, 1271, 0, 52, 0, 1545, 562, 128, 0, 26, 0, 59, 26, 38, 32, 30, 24, 38, 28, 45, 45, 45, 30, 49, 51, 0, 0, 19, 0, 733, 0, 35, 0, 530, 0, 22, 0, 460, 917, 0, 33, 0, 663, 564, 458, 0, 0, 17, 0, 242, 626, 628, 0, 18, 0, 587, 898, 0, 28, 0, 266, 511, 278, 479, 0, 21, 0, 101, 66, 0, 62, 0, 1241, 0, 30, 0, 118, 292, 0, 28, 0, 592, 0, 35, 0, 416, 0, 37, 0, 279, 193, 0, 33, 0, 718, 786, 347, 0, 39, 0, 480, 297, 0, 31, 0, 357, 257, 0, 36, 0, 663, 373, 606, 722, 390, 146, 72, 147, 61, 29, 44, 66, 53, 761, 0, 37, 0, 1007, 0, 37, 0, 559, 0, 32, 0, 962, 0, 44, 0, 0, 21, 0, 0, 35, 0, 624, 462, 0, 32, 0, 587, 0, 42, 0, 909, 0, 31, 0, 0, 23, 0, 393, 0, 40, 0, 366, 282, 0, 19, 0, 378, 763, 0, 29, 0, 1372, 0, 26, 0, 333, 0, 0, 25, 0, 823, 839, 0, 18, 0, 640, 1029, 1704, 919, 948, 902, 0, 22, 0, 1133, 953, 788, 252, 0, 17, 0, 622, 1059, 1315, 985, 0, 0, 19, 0, 552, 704, 627, 511, 0, 20, 0, 0, 26, 0, 381, 589, 714, 754, 482, 429, 0, 49, 0, 1059, 390, 777, 752, 1050, 0, 36, 0, 763, 1780, 612, 774, 0, 30, 0, 805, 343, 859, 1121, 366, 1077, 994, 0, 37, 0, 1202, 1194, 895, 1281, 1275, 0, 24, 0, 775, 1001, 627, 335, 687, 553, 0, 21, 0, 382, 315, 1531, 222, 0, 16, 0, 560, 0, 25, 0, 340, 397, 736, 651, 0, 25, 0, 839, 31, 370, 1033, 1143, 510, 848, 381, 607, 0, 26, 0, 847, 746, 0, 0, 27, 0, 477, 369, 626, 0, 21, 0, 425, 704, 0, 31, 0, 547, 737, 701, 615, 0, 29, 0, 1426, 860, 0, 19, 0, 0, 0, 39, 0, 696, 415, 356, 0, 15, 0, 342, 746, 981, 777, 778, 0, 21, 0, 810, 1261, 740, 539, 0, 20, 0, 0, 22, 0, 348, 0, 22, 0, 1782, 194, 0, 0, 33, 0, 576, 602, 561, 560, 0, 20, 0, 669, 159, 175, 135, 103, 142, 379, 995, 0, 21, 0, 382, 806, 1103, 844, 600, 0, 22, 0, 685, 1002, 1025, 813, 1004, 562, 476, 0, 37, 0, 538, 556, 936, 784, 814, 412, 0, 33, 0, 526, 919, 425, 0, 26, 0, 701, 977, 796, 864, 547, 1165, 827, 0, 34, 0, 671, 1121, 795, 785, 816, 644, 1173, 581, 822, 0, 33, 0, 519, 591, 478, 0, 20, 0, 805, 916, 692, 213, 0, 20, 0, 656, 527, 312, 598, 859, 0, 20, 0, 578, 1003, 1249, 1040, 1109, 1303, 1060, 653, 0, 22, 0, 745, 550, 809, 0, 28, 0, 310, 0, 19, 0, 428, 422, 311, 0, 17, 0, 634, 484, 631, 840, 402, 0, 20, 0, 575, 532, 263, 555, 252, 0, 0, 23, 0, 533, 719, 0, 20, 0, 387, 0, 17, 0, 969, 2053, 1550, 0, 22, 0, 0, 19, 0, 0, 22, 0, 0, 33, 0, 0, 0, 17, 0, 363, 523, 381, 281, 0, 18, 0, 586, 417, 1040, 0, 21, 0, 409, 297, 0, 20, 0, 416, 665, 0, 21, 0, 878, 323, 0, 18, 0, 142, 405, 1152, 0, 20, 0, 532, 0, 20, 0, 702, 416, 0, 20, 0, 758, 655, 0, 0, 25, 0, 591, 514, 687, 0, 21, 0, 446, 200, 385, 1001, 0, 18, 0, 500, 292, 317, 0, 16, 0, 0, 41, 0, 346, 682, 0, 29, 0, 869, 511, 685, 0, 34, 0, 432, 1050, 577, 0, 16, 0, 723, 107, 0, 0, 35, 0, 870, 654, 707, 0, 21, 0, 582, 566, 698, 0, 33, 0, 241, 764, 714, 0, 23, 0, 1004, 510, 864, 530, 897, 439, 423, 245, 0, 21, 0, 0, 26, 0, 483, 990, 405, 0, 28, 0, 1013, 0, 28, 0, 1368, 0, 51, 0, 973, 0, 50, 0, 893, 0, 31, 0, 1527, 0, 23, 0, 0, 23, 0, 849, 966, 0, 32, 0, 976, 1026, 0, 28, 0, 767, 1089, 0, 44, 0, 729, 816, 565, 0, 38, 0, 772, 552, 0, 34, 0, 1052, 807, 574, 0, 55, 0, 440, 643, 426, 682, 837, 0, 16, 0, 1077, 664, 0, 20, 0, 743, 1295, 1107, 307, 0, 30, 0, 245, 136, 0, 0, 23, 0, 828, 1004, 0, 18, 0, 0, 19, 0, 258, 0, 25, 0, 526, 246, 0, 42, 0, 1146, 585, 0, 37, 0, 1140, 1081, 283, 0, 24, 0, 1313, 1298, 0, 21, 0, 415, 1486, 740, 0, 43, 0, 478, 278, 0, 0, 51, 0, 704, 660, 443, 0, 21, 0, 592, 362, 549, 0, 22, 0, 480, 1013, 338, 380, 0, 19, 0, 739, 121, 617, 570, 0, 20, 0, 1756, 557, 798, 0, 17, 0, 846, 491, 602, 523, 0, 0, 37, 0, 342, 670, 707, 494, 984, 0, 21, 0, 0, 39, 0, 710, 650, 619, 675, 0, 30, 0, 527, 890, 1131, 771, 412, 264, 0, 44, 0, 531, 372, 580, 598, 0, 19, 0, 0, 54, 0, 711, 637, 368, 1107, 520, 0, 43, 0, 834, 530, 468, 712, 558, 417, 700, 300, 0, 45, 0, 705, 582, 925, 0, 48, 0, 558, 445, 613, 392, 0, 43, 0, 698, 430, 607, 148, 81, 135, 114, 253, 707, 0, 65, 0, 449, 624, 495, 588, 578, 1688, 708, 406, 0, 64, 0, 802, 492, 309, 808, 0, 20, 0, 754, 339, 619, 0, 30, 0, 0, 29, 0, 0, 0, 34, 0, 366, 542, 394, 0, 19, 0, 1003, 0, 15, 0, 861, 778, 748, 0, 22, 0, 0, 33, 0, 905, 835, 1262, 890, 0, 44, 0, 1157, 2431, 425, 0, 30, 0, 945, 1359, 0, 20, 0, 1364, 1349, 1130, 634, 0, 30, 0, 1924, 0, 17, 0, 491, 518, 0, 0, 23, 0, 840, 678, 673, 0, 17, 0, 391, 493, 257, 385, 0, 18, 0, 0, 36, 0, 1402, 0, 27, 0, 497, 310, 598, 0, 34, 0, 239, 355, 500, 377, 58, 0, 31, 0, 556, 716, 0, 25, 0, 644, 229, 0, 19, 0, 711, 461, 0, 39, 0, 320, 660, 880, 950, 441, 335, 912, 0, 19, 0, 1063, 0, 30, 0, 603, 989, 297, 292, 0, 20, 0, 920, 0, 0, 20, 0, 306, 300, 484, 0, 28, 0, 518, 425, 0, 15, 0, 0, 24, 0, 673, 580, 771, 491, 531, 663, 0, 20, 0, 533, 1150, 0, 21, 0, 543, 599, 849, 612, 632, 0, 44, 0, 951, 429, 0, 24, 0, 1247, 415, 0, 25, 0, 422, 603, 976, 972, 0, 15, 0, 536, 0, 29, 0, 213, 0, 70, 0, 967, 302, 262, 179, 578, 1246, 0, 36, 0, 553, 0, 39, 0, 198, 449, 445, 191, 0, 25, 0, 704, 1034, 0, 23, 0, 912, 697, 894, 0, 39, 0, 382, 1048, 561, 0, 24, 0, 1290, 465, 0, 23, 0, 559, 856, 66, 580, 397, 0, 42, 0, 917, 383, 1250, 0, 27, 0, 740, 500, 165, 0, 22, 0, 1271, 0, 17, 0, 625, 578, 516, 0, 34, 0, 794, 1180, 0, 38, 0, 475, 592, 739, 0, 32, 0, 0, 0, 21, 0, 734, 454, 353, 554, 0, 29, 0, 969, 0, 34, 0, 368, 1026, 0, 30, 0, 1250, 498, 821, 0, 31, 0, 966, 840, 976, 0, 39, 0, 350, 1168, 745, 592, 714, 1209, 1043, 1022, 396, 986, 0, 35, 0, 0, 24, 0, 409, 516, 0, 24, 0, 1465, 0, 34, 0, 1215, 438, 647, 0, 27, 0, 667, 0, 24, 0, 941, 1175, 0, 19, 0, 562, 0, 29, 0, 682, 1212, 626, 0, 0, 18, 0, 747, 415, 0, 18, 0, 518, 468, 508, 185, 212, 0, 20, 0, 206, 325, 208, 280, 333, 0, 23, 0, 386, 228, 724, 762, 422, 430, 185, 0, 29, 0, 604, 657, 326, 0, 31, 0, 705, 335, 230, 333, 0, 21, 0, 482, 396, 0, 18, 0, 0, 0, 23, 0, 341, 858, 172, 0, 24, 0, 1344, 792, 0, 17, 0, 882, 624, 505, 0, 32, 0, 579, 816, 696, 0, 21, 0, 75, 74, 61, 106, 39, 0, 0, 28, 0, 324, 359, 0, 18, 0, 317, 865, 0, 27, 0, 1056, 542, 512, 482, 0, 32, 0, 492, 0, 24, 0, 0, 26, 0, 0, 20, 0, 35, 38, 72, 28, 40, 32, 41, 26, 42, 60, 42, 40, 0, 0, 11, 0, 779, 1190, 1090, 395, 0, 30, 0, 793, 285, 418, 531, 852, 1180, 342, 719, 517, 1568, 613, 884, 0, 23, 0, 466, 526, 546, 785, 0, 31, 0, 202, 274, 0, 34, 0, 647, 486, 475, 449, 321, 297, 0, 29, 0, 516, 577, 475, 285, 720, 0, 28, 0, 606, 471, 1090, 741, 0, 35, 0, 453, 726, 415, 0, 32, 0, 207, 550, 697, 0, 27, 0, 704, 686, 564, 315, 0, 31, 0, 586, 0, 23, 0, 612, 517, 491, 513, 463, 0, 26, 0, 170, 0, 18, 0, 463, 361, 0, 35, 0, 479, 593, 0, 23, 0, 446, 476, 360, 0, 25, 0, 346, 587, 528, 0, 29, 0, 987, 600, 0, 19, 0, 743, 590, 542, 389, 0, 23, 0, 822, 689, 0, 26, 0, 586, 310, 309, 0, 20, 0, 424, 415, 712, 649, 0, 25, 0, 418, 489, 0, 24, 0, 461, 531, 517, 12, 12, 269, 640, 520, 0, 25, 0, 508, 680, 614, 329, 292, 0, 25, 0, 214, 389, 236, 544, 300, 0, 20, 0, 720, 539, 373, 614, 603, 352, 784, 254, 0, 43, 0, 340, 342, 127, 45, 38, 44, 36, 51, 47, 517, 139, 209, 30, 33, 33, 31, 31, 416, 233, 0, 0, 25, 0, 588, 790, 483, 0, 35, 0, 1473, 2417, 403, 0, 20, 0, 0, 38, 0, 504, 613, 808, 0, 21, 0, 789, 636, 0, 26, 0, 794, 1753, 477, 0, 20, 0, 674, 801, 126, 0, 25, 0, 1060, 0, 0, 19, 0, 429, 385, 683, 0, 43, 0, 725, 243, 0, 29, 0, 568, 959, 977, 0, 22, 0, 0, 26, 0, 823, 0, 26, 0, 708, 329, 513, 0, 23, 0, 314, 522, 0, 18, 0, 1474, 0, 28, 0, 784, 0, 38, 0, 672, 0, 47, 0, 1250, 722, 0, 0, 33, 0, 381, 1067, 536, 396, 0, 15, 0, 0, 21, 0, 552, 764, 0, 38, 0, 776, 812, 445, 1383, 0, 41, 0, 1126, 1348, 0, 55, 0, 975, 616, 1172, 0, 38, 0, 1369, 794, 882, 289, 0, 43, 0, 1013, 743, 403, 0, 20, 0, 312, 812, 0, 22, 0, 138, 524, 627, 429, 690, 642, 0, 18, 0, 1073, 1051, 466, 0, 16, 0, 0, 25, 0, 1405, 851, 504, 0, 20, 0, 768, 473, 164, 550, 861, 0, 20, 0, 0, 30, 0, 1965, 0, 33, 0, 1540, 637, 0, 33, 0, 1048, 886, 537, 709, 736, 181, 0, 31, 0, 1129, 1406, 430, 0, 30, 0, 214, 88, 120, 181, 150, 165, 205, 163, 168, 140, 0, 26, 0, 71, 114, 41, 35, 54, 20, 0, 41, 0, 62, 69, 57, 61, 72, 0, 38, 0, 79, 60, 75, 77, 84, 81, 76, 65, 135, 0, 37, 0, 326, 351, 0, 15, 0, 916, 506, 745, 0, 21, 0, 1647, 416, 0, 20, 0, 969, 0, 0, 36, 0, 566, 579, 0, 28, 0, 1016, 996, 866, 0, 18, 0, 695, 328, 860, 0, 30, 0, 0, 0, 22, 0, 718, 1033, 887, 0, 35, 0, 772, 960, 0, 25, 0, 277, 13, 414, 862, 0, 22, 0, 2590, 636, 728, 339, 0, 20, 0, 1156, 710, 817, 0, 32, 0, 1075, 644, 0, 22, 0, 1055, 762, 1024, 0, 22, 0, 512, 648, 500, 0, 23, 0, 631, 1389, 559, 0, 34, 0, 1091, 805, 516, 867, 815, 247, 0, 35, 0, 519, 1193, 962, 0, 37, 0, 275, 0, 32, 0, 601, 0, 28, 0, 1086, 0, 30, 0, 626, 0, 32, 0, 779, 0, 28, 0, 478, 0, 31, 0, 1138, 0, 30, 0, 303, 0, 17, 0, 1297, 991, 0, 35, 0, 0, 36, 0, 701, 569, 566, 309, 382, 0, 22, 0, 914, 496, 352, 697, 852, 0, 37, 0, 779, 728, 892, 310, 0]\n"
          ]
        }
      ]
    },
    {
      "cell_type": "code",
      "source": [
        "import matplotlib.pyplot as plt\n",
        "plt.hist(length_sequence , bins=100)\n",
        "plt.title(\"Histogram \")\n",
        "plt.ylabel(\"word count\")\n",
        "plt.show()"
      ],
      "metadata": {
        "colab": {
          "base_uri": "https://localhost:8080/",
          "height": 452
        },
        "id": "_BDYSr4HN3UA",
        "outputId": "67dd2339-60d6-4afd-e8cb-9f8bd37f97a4"
      },
      "execution_count": 13,
      "outputs": [
        {
          "output_type": "display_data",
          "data": {
            "text/plain": [
              "<Figure size 640x480 with 1 Axes>"
            ],
            "image/png": "[encoded data removed]"
          },
          "metadata": {}
        }
      ]
    },
    {
      "cell_type": "code",
      "source": [
        "import numpy as np\n",
        "print(f\"Mean value {np.mean(length_sequence )}, Standard deviation {np.std(length_sequence )}\")"
      ],
      "metadata": {
        "colab": {
          "base_uri": "https://localhost:8080/"
        },
        "id": "Ghhsxex-TNuc",
        "outputId": "18ec9b3b-8845-4a74-a59b-d08ce7011baa"
      },
      "execution_count": 14,
      "outputs": [
        {
          "output_type": "stream",
          "name": "stdout",
          "text": [
            "Mean value 296.6662127566861, Standard deviation 413.4041548373277\n"
          ]
        }
      ]
    },
    {
      "cell_type": "code",
      "source": [
        "count=0\n",
        "count1=0\n",
        "for i in length_sequence  :\n",
        "  count1+=1\n",
        "  if i==0:\n",
        "    count+=1\n",
        "print(f\"Proportion {(count/count1)*100}\")"
      ],
      "metadata": {
        "colab": {
          "base_uri": "https://localhost:8080/"
        },
        "id": "PUBzBi9YQAhu",
        "outputId": "683aca82-4ac6-4e3e-aac1-6704a9c2b0aa"
      },
      "execution_count": 15,
      "outputs": [
        {
          "output_type": "stream",
          "name": "stdout",
          "text": [
            "Proportion 35.27152895037856\n"
          ]
        }
      ]
    },
    {
      "cell_type": "markdown",
      "metadata": {
        "id": "WHUmphG3IrI3"
      },
      "source": [
        "To get a sense of what the data looks like, the following function will show some examples picked randomly in the dataset."
      ]
    },
    {
      "cell_type": "code",
      "execution_count": 16,
      "metadata": {
        "id": "ur5sNUcZ3l-g"
      },
      "outputs": [],
      "source": [
        "from datasets import ClassLabel\n",
        "import random\n",
        "import pandas as pd\n",
        "from IPython.display import display, HTML\n",
        "\n",
        "def show_random_elements(dataset, num_examples=10):\n",
        "    assert num_examples <= len(dataset), \"Can't pick more elements than there are in the dataset.\"\n",
        "    picks = []\n",
        "    for _ in range(num_examples):\n",
        "        pick = random.randint(0, len(dataset)-1)\n",
        "        while pick in picks:\n",
        "            pick = random.randint(0, len(dataset)-1)\n",
        "        picks.append(pick)\n",
        "\n",
        "    df = pd.DataFrame(dataset[picks])\n",
        "    for column, typ in dataset.features.items():\n",
        "        if isinstance(typ, ClassLabel):\n",
        "            df[column] = df[column].transform(lambda i: typ.names[i])\n",
        "    display(HTML(df.to_html()))"
      ]
    },
    {
      "cell_type": "code",
      "execution_count": 17,
      "metadata": {
        "id": "1Uk8NROQ3l-k",
        "outputId": "116e04d1-1d4a-451b-98de-f990c56f2df4",
        "colab": {
          "base_uri": "https://localhost:8080/",
          "height": 519
        }
      },
      "outputs": [
        {
          "output_type": "display_data",
          "data": {
            "text/plain": [
              "<IPython.core.display.HTML object>"
            ],
            "text/html": [
              "<table border=\"1\" class=\"dataframe\">\n",
              "  <thead>\n",
              "    <tr style=\"text-align: right;\">\n",
              "      <th></th>\n",
              "      <th>text</th>\n",
              "    </tr>\n",
              "  </thead>\n",
              "  <tbody>\n",
              "    <tr>\n",
              "      <th>0</th>\n",
              "      <td></td>\n",
              "    </tr>\n",
              "    <tr>\n",
              "      <th>1</th>\n",
              "      <td>The interiors of each wing have separate uses . In the west wing is the baptistry , in the north is the main altar , the main entrance and a notary area , separated by inside corner walls made of chiluca stone and tezontle . Chiluca , a white stone , covers the walls and floors and the tezontle frames the doors and windows . At the crossing of the structure is an octagonal dome framed by arches that form curved triangles where they meet at the top of the dome . The principal altar is in the ornate Churrigueresque style and crafted by indigenous artist Pedro Patiño Ixtolinque . It was inaugurated in 1829 . \\n</td>\n",
              "    </tr>\n",
              "    <tr>\n",
              "      <th>2</th>\n",
              "      <td>= = = Recognition = = = \\n</td>\n",
              "    </tr>\n",
              "    <tr>\n",
              "      <th>3</th>\n",
              "      <td>Filming started on September 23 , 2004 , and concentrated on Enterprise ship scenes on the standing sets for the first two days . After that production moved to the cave sets , which were dressed with Vulcan artifacts . On the fourth day of production , those artifacts were removed so that the same sets could use used to film the visions that Archer has of Surak . All exterior scenes in the Vulcan desert @-@ like Forge were shot on a soundstage . The final day of filming took place on October 1 , when all the scenes set in the Vulcan High Command were filmed . These involved only Foxworth , Graham and Rubinstein as well as a handful of extras . \\n</td>\n",
              "    </tr>\n",
              "    <tr>\n",
              "      <th>4</th>\n",
              "      <td></td>\n",
              "    </tr>\n",
              "    <tr>\n",
              "      <th>5</th>\n",
              "      <td>= = = Enzymes = = = \\n</td>\n",
              "    </tr>\n",
              "    <tr>\n",
              "      <th>6</th>\n",
              "      <td>= = History = = \\n</td>\n",
              "    </tr>\n",
              "    <tr>\n",
              "      <th>7</th>\n",
              "      <td>\" President Evil \" is the fifth episode of the third season of the American mystery television series Veronica Mars , and the forty @-@ ninth episode overall . Written by Jonathan Moskin and David Mulei and directed by Nick Marck , the episode premiered on The CW on October 31 , 2006 . \\n</td>\n",
              "    </tr>\n",
              "    <tr>\n",
              "      <th>8</th>\n",
              "      <td>Two tramps , named Dusty and Weary , awake from their slumber in a hay stock and are overcome with thirst . The two drink from a horse trough and Dusty complains of toothache . The two go to the dentist office only to be kicked out . When the dentist departs on a cruise the two tramps then pose as dentists and occupy the office and pull teeth with pincers and tongs . When the rightful owners return they drive off again . The tramps continue in their venture and quickly make a large sum of money before they desire their old way of life . The two tramps then surrender the office to its rightful owners . \\n</td>\n",
              "    </tr>\n",
              "    <tr>\n",
              "      <th>9</th>\n",
              "      <td>Gerard agreed to a compromise on the matter of obedience to Anselm . King Henry proposed that Anselm accept a witnessed oath from Gerard that he would remain bound by the profession he made to Anselm on his consecration as Bishop of Hereford . Gerard made this oath at the Council of Westminster in 1107 . It was a victory for Canterbury , but not a complete one , as Gerard avoided making a written profession , and it was specific to Gerard , not to his office . Gerard continued to oppose Anselm 's attempts to assert Canterbury 's primacy , but the two were reconciled before Gerard 's death . \\n</td>\n",
              "    </tr>\n",
              "  </tbody>\n",
              "</table>"
            ]
          },
          "metadata": {}
        }
      ],
      "source": [
        "\n",
        "show_random_elements(datasets[\"train\"])"
      ]
    },
    {
      "cell_type": "markdown",
      "metadata": {
        "id": "CKerdF353l-o"
      },
      "source": [
        "As we can see, some of the texts are a full paragraph of a Wikipedia article while others are just titles or empty lines."
      ]
    },
    {
      "cell_type": "markdown",
      "metadata": {
        "id": "JEA1ju653l-p"
      },
      "source": [
        "## Causal Language modeling"
      ]
    },
    {
      "cell_type": "markdown",
      "metadata": {
        "id": "v5GTGKZS3l-q"
      },
      "source": [
        "For causal language modeling (CLM) we are going to take all the texts in our dataset and concatenate them after they are tokenized. Then we will split them in examples of a certain sequence length. This way the model will receive chunks of contiguous text that may look like:\n",
        "```\n",
        "part of text 1\n",
        "```\n",
        "or\n",
        "```\n",
        "end of text 1 [BOS_TOKEN] beginning of text 2\n",
        "```\n",
        "depending on whether they span over several of the original texts in the dataset or not. The labels will be the same as the inputs, shifted to the left.\n",
        "\n",
        "We will use the [`distilgpt2`](https://huggingface.co/distilgpt2) model for this example. You can pick any of the checkpoints listed [here](https://huggingface.co/models?filter=causal-lm) instead:"
      ]
    },
    {
      "cell_type": "code",
      "execution_count": null,
      "metadata": {
        "id": "-WGBCO343l-q"
      },
      "outputs": [],
      "source": [
        "model_checkpoint = \"distilgpt2\""
      ]
    },
    {
      "cell_type": "markdown",
      "metadata": {
        "id": "5io6fY_d3l-u"
      },
      "source": [
        "To tokenize all our texts with the same vocabulary that was used when training the model, we have to download a pretrained tokenizer. This is all done by the `AutoTokenizer` class:"
      ]
    },
    {
      "cell_type": "code",
      "execution_count": null,
      "metadata": {
        "id": "iAYlS40Z3l-v"
      },
      "outputs": [],
      "source": [
        "from transformers import AutoTokenizer\n",
        "\n",
        "tokenizer = AutoTokenizer.from_pretrained(model_checkpoint, use_fast=True)"
      ]
    },
    {
      "cell_type": "markdown",
      "metadata": {
        "id": "rpOiBrJ13l-y"
      },
      "source": [
        "We can now call the tokenizer on all our texts. This is very simple, using the [`map`](https://huggingface.co/docs/datasets/package_reference/main_classes.html#datasets.Dataset.map) method from the Datasets library. First we define a function that call the tokenizer on our texts:"
      ]
    },
    {
      "cell_type": "code",
      "execution_count": null,
      "metadata": {
        "id": "lS2m25YM3l-z"
      },
      "outputs": [],
      "source": [
        "def tokenize_function(examples):\n",
        "    return tokenizer(examples[\"text\"])"
      ]
    },
    {
      "cell_type": "markdown",
      "metadata": {
        "id": "M9xVAa3s3l-2"
      },
      "source": [
        "Then we apply it to all the splits in our `datasets` object, using `batched=True` and 4 processes to speed up the preprocessing. We won't need the `text` column afterward, so we discard it."
      ]
    },
    {
      "cell_type": "code",
      "execution_count": null,
      "metadata": {
        "id": "NVAO0H8u3l-3",
        "outputId": "9ab6d377-c1d3-46bc-f758-ea69e89acb45",
        "colab": {
          "base_uri": "https://localhost:8080/"
        }
      },
      "outputs": [
        {
          "output_type": "stream",
          "name": "stderr",
          "text": [
            "WARNING:datasets.arrow_dataset:Loading cached processed dataset at /root/.cache/huggingface/datasets/wikitext/wikitext-2-raw-v1/1.0.0/a241db52902eaf2c6aa732210bead40c090019a499ceb13bcbfa3f8ab646a126/cache-262948adfd561d96_*_of_00004.arrow\n",
            "WARNING:datasets.arrow_dataset:Loading cached processed dataset at /root/.cache/huggingface/datasets/wikitext/wikitext-2-raw-v1/1.0.0/a241db52902eaf2c6aa732210bead40c090019a499ceb13bcbfa3f8ab646a126/cache-f2fa497fbe27fc6c_*_of_00004.arrow\n",
            "WARNING:datasets.arrow_dataset:Loading cached processed dataset at /root/.cache/huggingface/datasets/wikitext/wikitext-2-raw-v1/1.0.0/a241db52902eaf2c6aa732210bead40c090019a499ceb13bcbfa3f8ab646a126/cache-4d919120a52d1192_*_of_00004.arrow\n"
          ]
        }
      ],
      "source": [
        "tokenized_datasets = datasets.map(tokenize_function, batched=True, num_proc=4, remove_columns=[\"text\"])"
      ]
    },
    {
      "cell_type": "markdown",
      "metadata": {
        "id": "8qik3J_C3l-7"
      },
      "source": [
        "If we now look at an element of our datasets, we will see the text have been replaced by the `input_ids` the model will need:"
      ]
    },
    {
      "cell_type": "code",
      "execution_count": null,
      "metadata": {
        "id": "nYv_mcKk3l-7",
        "outputId": "ed64688d-ecea-46ed-a7a7-73f790d21263",
        "colab": {
          "base_uri": "https://localhost:8080/"
        }
      },
      "outputs": [
        {
          "output_type": "execute_result",
          "data": {
            "text/plain": [
              "[796, 569, 18354, 7496, 17740, 6711, 796, 220, 198]"
            ]
          },
          "metadata": {},
          "execution_count": 26
        }
      ],
      "source": [
        "tokenized_datasets[\"train\"][\"input_ids\"][1]"
      ]
    },
    {
      "cell_type": "code",
      "source": [
        "tokens = [len(i) for i in tokenized_datasets[\"train\"][\"input_ids\"]]\n",
        "average_length = np.mean(tokens)\n",
        "print(\"Average length of tokens:\", average_length)"
      ],
      "metadata": {
        "colab": {
          "base_uri": "https://localhost:8080/"
        },
        "id": "bGCMUtKLYfhz",
        "outputId": "7e0e7a07-8151-40ba-ff86-b040e545b55b"
      },
      "execution_count": null,
      "outputs": [
        {
          "output_type": "stream",
          "name": "stdout",
          "text": [
            "Average length of tokens: 65.14200119832235\n"
          ]
        }
      ]
    },
    {
      "cell_type": "markdown",
      "metadata": {
        "id": "obvgcXda3l--"
      },
      "source": [
        "Now for the harder part: we need to concatenate all our texts together then split the result in small chunks of a certain `block_size`. To do this, we will use the `map` method again, with the option `batched=True`. This option actually lets us change the number of examples in the datasets by returning a different number of examples than we got. This way, we can create our new samples from a batch of examples.\n",
        "\n",
        "First, we grab the maximum length our model was pretrained with. This might be a big too big to fit in your GPU RAM, so here we take a bit less at just 128."
      ]
    },
    {
      "cell_type": "code",
      "execution_count": null,
      "metadata": {
        "id": "DVHs5aCA3l-_"
      },
      "outputs": [],
      "source": [
        "# block_size = tokenizer.model_max_length\n",
        "block_size = 128"
      ]
    },
    {
      "cell_type": "markdown",
      "metadata": {
        "id": "RpNfGiMw3l_A"
      },
      "source": [
        "Then we write the preprocessing function that will group our texts:"
      ]
    },
    {
      "cell_type": "code",
      "execution_count": null,
      "metadata": {
        "id": "iaAJy5Hu3l_B"
      },
      "outputs": [],
      "source": [
        "def group_texts(examples):\n",
        "    # Concatenate all texts.\n",
        "    concatenated_examples = {k: sum(examples[k], []) for k in examples.keys()}\n",
        "    total_length = len(concatenated_examples[list(examples.keys())[0]])\n",
        "    # We drop the small remainder, we could add padding if the model supported it instead of this drop, you can\n",
        "        # customize this part to your needs.\n",
        "    total_length = (total_length // block_size) * block_size\n",
        "    # Split by chunks of max_len.\n",
        "    result = {\n",
        "        k: [t[i : i + block_size] for i in range(0, total_length, block_size)]\n",
        "        for k, t in concatenated_examples.items()\n",
        "    }\n",
        "    result[\"labels\"] = result[\"input_ids\"].copy()\n",
        "    return result"
      ]
    },
    {
      "cell_type": "markdown",
      "metadata": {
        "id": "LGJWXtNv3l_C"
      },
      "source": [
        "First note that we duplicate the inputs for our labels. This is because the model of the 🤗 Transformers library apply the shifting to the right, so we don't need to do it manually.\n",
        "\n",
        "Also note that by default, the `map` method will send a batch of 1,000 examples to be treated by the preprocessing function. So here, we will drop the remainder to make the concatenated tokenized texts a multiple of `block_size` every 1,000 examples. You can adjust this behavior by passing a higher batch size (which will also be processed slower). You can also speed-up the preprocessing by using multiprocessing:"
      ]
    },
    {
      "cell_type": "code",
      "execution_count": null,
      "metadata": {
        "id": "gXUSfBrq3l_C",
        "outputId": "0b091ea8-a493-43ac-9973-f9ddb45133a6",
        "colab": {
          "base_uri": "https://localhost:8080/"
        }
      },
      "outputs": [
        {
          "output_type": "stream",
          "name": "stderr",
          "text": [
            "WARNING:datasets.arrow_dataset:Loading cached processed dataset at /root/.cache/huggingface/datasets/wikitext/wikitext-2-raw-v1/1.0.0/a241db52902eaf2c6aa732210bead40c090019a499ceb13bcbfa3f8ab646a126/cache-b63c9c50f73ecfd8_*_of_00004.arrow\n",
            "WARNING:datasets.arrow_dataset:Loading cached processed dataset at /root/.cache/huggingface/datasets/wikitext/wikitext-2-raw-v1/1.0.0/a241db52902eaf2c6aa732210bead40c090019a499ceb13bcbfa3f8ab646a126/cache-a53b8672348a13a5_*_of_00004.arrow\n",
            "WARNING:datasets.arrow_dataset:Loading cached processed dataset at /root/.cache/huggingface/datasets/wikitext/wikitext-2-raw-v1/1.0.0/a241db52902eaf2c6aa732210bead40c090019a499ceb13bcbfa3f8ab646a126/cache-d460adc6154718f1_*_of_00004.arrow\n"
          ]
        }
      ],
      "source": [
        "lm_datasets = tokenized_datasets.map(\n",
        "    group_texts,\n",
        "    batched=True,\n",
        "    batch_size=1000,\n",
        "    num_proc=4,\n",
        ")"
      ]
    },
    {
      "cell_type": "markdown",
      "metadata": {
        "id": "6n84V8Gc3l_G"
      },
      "source": [
        "And we can check our datasets have changed: now the samples contain chunks of `block_size` contiguous tokens, potentially spanning over several of our original texts."
      ]
    },
    {
      "cell_type": "code",
      "execution_count": null,
      "metadata": {
        "id": "hTeGCLl_3l_G",
        "outputId": "170a15f9-3679-4596-f95e-0d8793a23fe0",
        "colab": {
          "base_uri": "https://localhost:8080/",
          "height": 89
        }
      },
      "outputs": [
        {
          "output_type": "execute_result",
          "data": {
            "text/plain": [
              "' game and follows the \" Nameless \", a penal military unit serving the nation of Gallia during the Second Europan War who perform secret black operations and are pitted against the Imperial unit \" Calamaty Raven \". \\n The game began development in 2010, carrying over a large portion of the work done on Valkyria Chronicles II. While it retained the standard features of the series, it also underwent multiple adjustments, such as making the game more forgiving for series newcomers. Character designer Raita Honjou and composer Hitoshi Sakimoto both returned from previous entries, along with Valkyria Chronicles II director Takeshi Oz'"
            ],
            "application/vnd.google.colaboratory.intrinsic+json": {
              "type": "string"
            }
          },
          "metadata": {},
          "execution_count": 31
        }
      ],
      "source": [
        "tokenizer.decode(lm_datasets[\"train\"][1][\"input_ids\"])"
      ]
    },
    {
      "cell_type": "markdown",
      "metadata": {
        "id": "iEmeQ7Xm3l_H"
      },
      "source": [
        "Now that the data has been cleaned, we're ready to instantiate our `Trainer`. We will a model:"
      ]
    },
    {
      "cell_type": "code",
      "execution_count": null,
      "metadata": {
        "id": "sPqQA3TT3l_I"
      },
      "outputs": [],
      "source": [
        "from transformers import AutoModelForCausalLM\n",
        "model = AutoModelForCausalLM.from_pretrained(model_checkpoint)"
      ]
    },
    {
      "cell_type": "markdown",
      "metadata": {
        "id": "VyPQTOF_3l_J"
      },
      "source": [
        "And some `TrainingArguments`:"
      ]
    },
    {
      "cell_type": "code",
      "execution_count": null,
      "metadata": {
        "id": "jElf8LJ33l_K"
      },
      "outputs": [],
      "source": [
        "from transformers import Trainer, TrainingArguments"
      ]
    },
    {
      "cell_type": "code",
      "source": [
        "!pip install accelerate -U\n",
        "!pip install transformers[torch]\n",
        "!pip install accelerate>=0.20.1"
      ],
      "metadata": {
        "colab": {
          "base_uri": "https://localhost:8080/"
        },
        "id": "k67v9tSgdvXd",
        "outputId": "5fa6d3fd-56f8-4d29-80b9-13e1e9b227b1"
      },
      "execution_count": null,
      "outputs": [
        {
          "output_type": "stream",
          "name": "stdout",
          "text": [
            "Looking in indexes: https://pypi.org/simple, https://us-python.pkg.dev/colab-wheels/public/simple/\n",
            "Requirement already satisfied: accelerate in /usr/local/lib/python3.10/dist-packages (0.20.3)\n",
            "Requirement already satisfied: numpy>=1.17 in /usr/local/lib/python3.10/dist-packages (from accelerate) (1.22.4)\n",
            "Requirement already satisfied: packaging>=20.0 in /usr/local/lib/python3.10/dist-packages (from accelerate) (23.1)\n",
            "Requirement already satisfied: psutil in /usr/local/lib/python3.10/dist-packages (from accelerate) (5.9.5)\n",
            "Requirement already satisfied: pyyaml in /usr/local/lib/python3.10/dist-packages (from accelerate) (6.0)\n",
            "Requirement already satisfied: torch>=1.6.0 in /usr/local/lib/python3.10/dist-packages (from accelerate) (2.0.1+cu118)\n",
            "Requirement already satisfied: filelock in /usr/local/lib/python3.10/dist-packages (from torch>=1.6.0->accelerate) (3.12.2)\n",
            "Requirement already satisfied: typing-extensions in /usr/local/lib/python3.10/dist-packages (from torch>=1.6.0->accelerate) (4.6.3)\n",
            "Requirement already satisfied: sympy in /usr/local/lib/python3.10/dist-packages (from torch>=1.6.0->accelerate) (1.11.1)\n",
            "Requirement already satisfied: networkx in /usr/local/lib/python3.10/dist-packages (from torch>=1.6.0->accelerate) (3.1)\n",
            "Requirement already satisfied: jinja2 in /usr/local/lib/python3.10/dist-packages (from torch>=1.6.0->accelerate) (3.1.2)\n",
            "Requirement already satisfied: triton==2.0.0 in /usr/local/lib/python3.10/dist-packages (from torch>=1.6.0->accelerate) (2.0.0)\n",
            "Requirement already satisfied: cmake in /usr/local/lib/python3.10/dist-packages (from triton==2.0.0->torch>=1.6.0->accelerate) (3.25.2)\n",
            "Requirement already satisfied: lit in /usr/local/lib/python3.10/dist-packages (from triton==2.0.0->torch>=1.6.0->accelerate) (16.0.6)\n",
            "Requirement already satisfied: MarkupSafe>=2.0 in /usr/local/lib/python3.10/dist-packages (from jinja2->torch>=1.6.0->accelerate) (2.1.3)\n",
            "Requirement already satisfied: mpmath>=0.19 in /usr/local/lib/python3.10/dist-packages (from sympy->torch>=1.6.0->accelerate) (1.3.0)\n",
            "Looking in indexes: https://pypi.org/simple, https://us-python.pkg.dev/colab-wheels/public/simple/\n",
            "Requirement already satisfied: transformers[torch] in /usr/local/lib/python3.10/dist-packages (4.30.2)\n",
            "Requirement already satisfied: filelock in /usr/local/lib/python3.10/dist-packages (from transformers[torch]) (3.12.2)\n",
            "Requirement already satisfied: huggingface-hub<1.0,>=0.14.1 in /usr/local/lib/python3.10/dist-packages (from transformers[torch]) (0.15.1)\n",
            "Requirement already satisfied: numpy>=1.17 in /usr/local/lib/python3.10/dist-packages (from transformers[torch]) (1.22.4)\n",
            "Requirement already satisfied: packaging>=20.0 in /usr/local/lib/python3.10/dist-packages (from transformers[torch]) (23.1)\n",
            "Requirement already satisfied: pyyaml>=5.1 in /usr/local/lib/python3.10/dist-packages (from transformers[torch]) (6.0)\n",
            "Requirement already satisfied: regex!=2019.12.17 in /usr/local/lib/python3.10/dist-packages (from transformers[torch]) (2022.10.31)\n",
            "Requirement already satisfied: requests in /usr/local/lib/python3.10/dist-packages (from transformers[torch]) (2.27.1)\n",
            "Requirement already satisfied: tokenizers!=0.11.3,<0.14,>=0.11.1 in /usr/local/lib/python3.10/dist-packages (from transformers[torch]) (0.13.3)\n",
            "Requirement already satisfied: safetensors>=0.3.1 in /usr/local/lib/python3.10/dist-packages (from transformers[torch]) (0.3.1)\n",
            "Requirement already satisfied: tqdm>=4.27 in /usr/local/lib/python3.10/dist-packages (from transformers[torch]) (4.65.0)\n",
            "Requirement already satisfied: torch!=1.12.0,>=1.9 in /usr/local/lib/python3.10/dist-packages (from transformers[torch]) (2.0.1+cu118)\n",
            "Requirement already satisfied: accelerate>=0.20.2 in /usr/local/lib/python3.10/dist-packages (from transformers[torch]) (0.20.3)\n",
            "Requirement already satisfied: psutil in /usr/local/lib/python3.10/dist-packages (from accelerate>=0.20.2->transformers[torch]) (5.9.5)\n",
            "Requirement already satisfied: fsspec in /usr/local/lib/python3.10/dist-packages (from huggingface-hub<1.0,>=0.14.1->transformers[torch]) (2023.6.0)\n",
            "Requirement already satisfied: typing-extensions>=3.7.4.3 in /usr/local/lib/python3.10/dist-packages (from huggingface-hub<1.0,>=0.14.1->transformers[torch]) (4.6.3)\n",
            "Requirement already satisfied: sympy in /usr/local/lib/python3.10/dist-packages (from torch!=1.12.0,>=1.9->transformers[torch]) (1.11.1)\n",
            "Requirement already satisfied: networkx in /usr/local/lib/python3.10/dist-packages (from torch!=1.12.0,>=1.9->transformers[torch]) (3.1)\n",
            "Requirement already satisfied: jinja2 in /usr/local/lib/python3.10/dist-packages (from torch!=1.12.0,>=1.9->transformers[torch]) (3.1.2)\n",
            "Requirement already satisfied: triton==2.0.0 in /usr/local/lib/python3.10/dist-packages (from torch!=1.12.0,>=1.9->transformers[torch]) (2.0.0)\n",
            "Requirement already satisfied: cmake in /usr/local/lib/python3.10/dist-packages (from triton==2.0.0->torch!=1.12.0,>=1.9->transformers[torch]) (3.25.2)\n",
            "Requirement already satisfied: lit in /usr/local/lib/python3.10/dist-packages (from triton==2.0.0->torch!=1.12.0,>=1.9->transformers[torch]) (16.0.6)\n",
            "Requirement already satisfied: urllib3<1.27,>=1.21.1 in /usr/local/lib/python3.10/dist-packages (from requests->transformers[torch]) (1.26.16)\n",
            "Requirement already satisfied: certifi>=2017.4.17 in /usr/local/lib/python3.10/dist-packages (from requests->transformers[torch]) (2023.5.7)\n",
            "Requirement already satisfied: charset-normalizer~=2.0.0 in /usr/local/lib/python3.10/dist-packages (from requests->transformers[torch]) (2.0.12)\n",
            "Requirement already satisfied: idna<4,>=2.5 in /usr/local/lib/python3.10/dist-packages (from requests->transformers[torch]) (3.4)\n",
            "Requirement already satisfied: MarkupSafe>=2.0 in /usr/local/lib/python3.10/dist-packages (from jinja2->torch!=1.12.0,>=1.9->transformers[torch]) (2.1.3)\n",
            "Requirement already satisfied: mpmath>=0.19 in /usr/local/lib/python3.10/dist-packages (from sympy->torch!=1.12.0,>=1.9->transformers[torch]) (1.3.0)\n"
          ]
        }
      ]
    },
    {
      "cell_type": "code",
      "source": [
        "import accelerate"
      ],
      "metadata": {
        "id": "8m78_FA5gX40"
      },
      "execution_count": null,
      "outputs": []
    },
    {
      "cell_type": "code",
      "execution_count": null,
      "metadata": {
        "id": "YbSwEhQ63l_L"
      },
      "outputs": [],
      "source": [
        "model_name = model_checkpoint.split(\"/\")[-1]\n",
        "training_args = TrainingArguments(\n",
        "    f\"{model_name}-finetuned-wikitext2\",\n",
        "    evaluation_strategy = \"epoch\",\n",
        "    learning_rate=2e-5,\n",
        "    weight_decay=0.01,\n",
        "    push_to_hub=False,\n",
        ")"
      ]
    },
    {
      "cell_type": "markdown",
      "metadata": {
        "id": "r_fiVH94t0kk"
      },
      "source": [
        "The last argument to setup everything so we can push the model to the [Hub](https://huggingface.co/models) regularly during training. Remove it if you didn't follow the installation steps at the top of the notebook. If you want to save your model locally in a name that is different than the name of the repository it will be pushed, or if you want to push your model under an organization and not your name space, use the `hub_model_id` argument to set the repo name (it needs to be the full name, including your namespace: for instance `\"sgugger/gpt-finetuned-wikitext2\"` or `\"huggingface/gpt-finetuned-wikitext2\"`)."
      ]
    },
    {
      "cell_type": "markdown",
      "metadata": {
        "id": "sZRbT9ui3l_N"
      },
      "source": [
        "We pass along all of those to the `Trainer` class:"
      ]
    },
    {
      "cell_type": "code",
      "execution_count": null,
      "metadata": {
        "id": "OEuqwIra3l_N"
      },
      "outputs": [],
      "source": [
        "trainer = Trainer(\n",
        "    model=model,\n",
        "    args=training_args,\n",
        "    train_dataset=lm_datasets[\"train\"],\n",
        "    eval_dataset=lm_datasets[\"validation\"],\n",
        ")"
      ]
    },
    {
      "cell_type": "markdown",
      "metadata": {
        "id": "6Vvz34Td3l_O"
      },
      "source": [
        "And we can train our model:"
      ]
    },
    {
      "cell_type": "code",
      "execution_count": null,
      "metadata": {
        "id": "NyZvu_MF3l_P",
        "outputId": "9caef24f-2d06-458e-cfc9-b9fbd68296ac",
        "colab": {
          "base_uri": "https://localhost:8080/",
          "height": 131
        }
      },
      "outputs": [
        {
          "output_type": "stream",
          "name": "stderr",
          "text": [
            "/usr/local/lib/python3.10/dist-packages/transformers/optimization.py:411: FutureWarning: This implementation of AdamW is deprecated and will be removed in a future version. Use the PyTorch implementation torch.optim.AdamW instead, or set `no_deprecation_warning=True` to disable this warning\n",
            "  warnings.warn(\n"
          ]
        },
        {
          "output_type": "display_data",
          "data": {
            "text/plain": [
              "<IPython.core.display.HTML object>"
            ],
            "text/html": [
              "\n",
              "    <div>\n",
              "      \n",
              "      <progress value='1582' max='7002' style='width:300px; height:20px; vertical-align: middle;'></progress>\n",
              "      [1582/7002 4:48:28 < 16:29:35, 0.09 it/s, Epoch 0.68/3]\n",
              "    </div>\n",
              "    <table border=\"1\" class=\"dataframe\">\n",
              "  <thead>\n",
              " <tr style=\"text-align: left;\">\n",
              "      <th>Epoch</th>\n",
              "      <th>Training Loss</th>\n",
              "      <th>Validation Loss</th>\n",
              "    </tr>\n",
              "  </thead>\n",
              "  <tbody>\n",
              "  </tbody>\n",
              "</table><p>"
            ]
          },
          "metadata": {}
        }
      ],
      "source": [
        "trainer.train()"
      ]
    },
    {
      "cell_type": "markdown",
      "metadata": {
        "id": "3APq-vUc3l_R"
      },
      "source": [
        "Once the training is completed, we can evaluate our model and get its perplexity on the validation set like this:"
      ]
    },
    {
      "cell_type": "code",
      "execution_count": null,
      "metadata": {
        "id": "diKZnB1I3l_R"
      },
      "outputs": [],
      "source": [
        "import math\n",
        "eval_results = trainer.evaluate()\n",
        "print(f\"Perplexity: {math.exp(eval_results['eval_loss']):.2f}\")"
      ]
    },
    {
      "cell_type": "markdown",
      "metadata": {
        "id": "wY82caEX3l_i"
      },
      "source": [
        "You can now upload the result of the training to the Hub, just execute this instruction:"
      ]
    },
    {
      "cell_type": "code",
      "execution_count": null,
      "metadata": {
        "id": "tPaHRjBPt0kl"
      },
      "outputs": [],
      "source": [
        "trainer.push_to_hub()"
      ]
    },
    {
      "cell_type": "markdown",
      "metadata": {
        "id": "d-CvTCD9t0kl"
      },
      "source": [
        "You can now share this model with all your friends, family, favorite pets: they can all load it with the identifier `\"your-username/the-name-you-picked\"` so for instance:\n",
        "\n",
        "```python\n",
        "from transformers import AutoModelForCausalLM\n",
        "\n",
        "model = AutoModelForCausalLM.from_pretrained(\"sgugger/my-awesome-model\")\n",
        "```"
      ]
    },
    {
      "cell_type": "markdown",
      "metadata": {
        "id": "q-EIELH43l_T"
      },
      "source": [
        "## Masked language modeling"
      ]
    },
    {
      "cell_type": "markdown",
      "metadata": {
        "id": "LWk97-Ny3l_T"
      },
      "source": [
        "For masked language modeling (MLM) we are going to use the same preprocessing as before for our dataset with one additional step: we will randomly mask some tokens (by replacing them by `[MASK]`) and the labels will be adjusted to only include the masked tokens (we don't have to predict the non-masked tokens).\n",
        "\n",
        "We will use the [`distilroberta-base`](https://huggingface.co/distilroberta-base) model for this example. You can pick any of the checkpoints listed [here](https://huggingface.co/models?filter=masked-lm) instead:"
      ]
    },
    {
      "cell_type": "code",
      "execution_count": null,
      "metadata": {
        "id": "QRTpmyCc3l_T"
      },
      "outputs": [],
      "source": [
        "model_checkpoint = \"distilroberta-base\""
      ]
    },
    {
      "cell_type": "markdown",
      "metadata": {
        "id": "12F1ulgT3l_V"
      },
      "source": [
        "We can apply the same tokenization function as before, we just need to update our tokenizer to use the checkpoint we just picked:"
      ]
    },
    {
      "cell_type": "code",
      "execution_count": null,
      "metadata": {
        "id": "h8RCYcvr3l_V"
      },
      "outputs": [],
      "source": [
        "tokenizer = AutoTokenizer.from_pretrained(model_checkpoint, use_fast=True)\n",
        "tokenized_datasets = datasets.map(tokenize_function, batched=True, num_proc=4, remove_columns=[\"text\"])"
      ]
    },
    {
      "cell_type": "markdown",
      "metadata": {
        "id": "MTuy8UUs3l_X"
      },
      "source": [
        "And like before, we group texts together and chunk them in samples of length `block_size`. You can skip that step if your dataset is composed of individual sentences."
      ]
    },
    {
      "cell_type": "code",
      "execution_count": null,
      "metadata": {
        "id": "LVYPMwEs3l_X"
      },
      "outputs": [],
      "source": [
        "lm_datasets = tokenized_datasets.map(\n",
        "    group_texts,\n",
        "    batched=True,\n",
        "    batch_size=1000,\n",
        "    num_proc=4,\n",
        ")"
      ]
    },
    {
      "cell_type": "markdown",
      "metadata": {
        "id": "nFJ49iHJ3l_Z"
      },
      "source": [
        "The rest is very similar to what we had, with two exceptions. First we use a model suitable for masked LM:"
      ]
    },
    {
      "cell_type": "code",
      "execution_count": null,
      "metadata": {
        "id": "PM10A9Za3l_Z"
      },
      "outputs": [],
      "source": [
        "from transformers import AutoModelForMaskedLM\n",
        "model = AutoModelForMaskedLM.from_pretrained(model_checkpoint)"
      ]
    },
    {
      "cell_type": "markdown",
      "metadata": {
        "id": "DpeE7Z4Bt0kl"
      },
      "source": [
        "We redefine our `TrainingArguments`:"
      ]
    },
    {
      "cell_type": "code",
      "execution_count": null,
      "metadata": {
        "id": "iuJr5Vcet0kl"
      },
      "outputs": [],
      "source": [
        "model_name = model_checkpoint.split(\"/\")[-1]\n",
        "training_args = TrainingArguments(\n",
        "    f\"{model_name}-finetuned-wikitext2\",\n",
        "    evaluation_strategy = \"epoch\",\n",
        "    learning_rate=2e-5,\n",
        "    weight_decay=0.01,\n",
        "    push_to_hub=True,\n",
        ")"
      ]
    },
    {
      "cell_type": "markdown",
      "metadata": {
        "id": "zwdBpPGnt0kl"
      },
      "source": [
        "Like before, the last argument to setup everything so we can push the model to the [Hub](https://huggingface.co/models) regularly during training. Remove it if you didn't follow the installation steps at the top of the notebook. If you want to save your model locally in a name that is different than the name of the repository it will be pushed, or if you want to push your model under an organization and not your name space, use the `hub_model_id` argument to set the repo name (it needs to be the full name, including your namespace: for instance `\"sgugger/bert-finetuned-wikitext2\"` or `\"huggingface/bert-finetuned-wikitext2\"`)."
      ]
    },
    {
      "cell_type": "markdown",
      "metadata": {
        "id": "z6uuUnvz3l_b"
      },
      "source": [
        "Finally, we use a special `data_collator`. The `data_collator` is a function that is responsible of taking the samples and batching them in tensors. In the previous example, we had nothing special to do, so we just used the default for this argument. Here we want to do the random-masking. We could do it as a pre-processing step (like the tokenization) but then the tokens would always be masked the same way at each epoch. By doing this step inside the `data_collator`, we ensure this random masking is done in a new way each time we go over the data.\n",
        "\n",
        "To do this masking for us, the library provides a `DataCollatorForLanguageModeling`. We can adjust the probability of the masking:"
      ]
    },
    {
      "cell_type": "code",
      "execution_count": null,
      "metadata": {
        "id": "nRZ-5v_P3l_b"
      },
      "outputs": [],
      "source": [
        "from transformers import DataCollatorForLanguageModeling\n",
        "data_collator = DataCollatorForLanguageModeling(tokenizer=tokenizer, mlm_probability=0.15)"
      ]
    },
    {
      "cell_type": "markdown",
      "metadata": {
        "id": "bqHnWcYC3l_d"
      },
      "source": [
        "Then we just have to pass everything to `Trainer` and begin training:"
      ]
    },
    {
      "cell_type": "code",
      "execution_count": null,
      "metadata": {
        "id": "V-Y3gNqV3l_d"
      },
      "outputs": [],
      "source": [
        "trainer = Trainer(\n",
        "    model=model,\n",
        "    args=training_args,\n",
        "    train_dataset=lm_datasets[\"train\"],\n",
        "    eval_dataset=lm_datasets[\"validation\"],\n",
        "    data_collator=data_collator,\n",
        ")"
      ]
    },
    {
      "cell_type": "code",
      "execution_count": null,
      "metadata": {
        "id": "Y9TFqDG_3l_e"
      },
      "outputs": [],
      "source": [
        "trainer.train()"
      ]
    },
    {
      "cell_type": "markdown",
      "metadata": {
        "id": "KDBi0reX3l_g"
      },
      "source": [
        "Like before, we can evaluate our model on the validation set. The perplexity is much lower than for the CLM objective because for the MLM objective, we only have to make predictions for the masked tokens (which represent 15% of the total here) while having access to the rest of the tokens. It's thus an easier task for the model."
      ]
    },
    {
      "cell_type": "code",
      "execution_count": null,
      "metadata": {
        "id": "4hSaANqj3l_g"
      },
      "outputs": [],
      "source": [
        "eval_results = trainer.evaluate()\n",
        "print(f\"Perplexity: {math.exp(eval_results['eval_loss']):.2f}\")"
      ]
    },
    {
      "cell_type": "markdown",
      "metadata": {
        "id": "YE3AQT-Wt0km"
      },
      "source": [
        "You can now upload the result of the training to the Hub, just execute this instruction:"
      ]
    },
    {
      "cell_type": "code",
      "execution_count": null,
      "metadata": {
        "id": "X2yj0KNnt0km"
      },
      "outputs": [],
      "source": [
        "trainer.push_to_hub()"
      ]
    },
    {
      "cell_type": "markdown",
      "metadata": {
        "id": "lqZo8qHrt0kn"
      },
      "source": [
        "You can now share this model with all your friends, family, favorite pets: they can all load it with the identifier `\"your-username/the-name-you-picked\"` so for instance:\n",
        "\n",
        "```python\n",
        "from transformers import AutoModelForMaskedLM\n",
        "\n",
        "model = AutoModelForMaskedLM.from_pretrained(\"sgugger/my-awesome-model\")\n",
        "```"
      ]
    },
    {
      "cell_type": "code",
      "execution_count": null,
      "metadata": {
        "id": "YJ7AxjTJt0ko",
        "colab": {
          "base_uri": "https://localhost:8080/"
        },
        "outputId": "f45bea9a-938b-4bc9-d534-18a6804b7642"
      },
      "outputs": [
        {
          "output_type": "stream",
          "name": "stderr",
          "text": [
            "Xformers is not installed correctly. If you want to use memory_efficient_attention to accelerate training use the following command to install Xformers\n",
            "pip install xformers.\n"
          ]
        },
        {
          "output_type": "execute_result",
          "data": {
            "text/plain": [
              "[{'generated_text': 'What is the capital of Senegal ?\\nCape Verde.\\nCan confirm, there are almost'}]"
            ]
          },
          "metadata": {},
          "execution_count": 4
        }
      ],
      "source": [
        "from transformers import pipeline, set_seed\n",
        "\n",
        "set_seed(32)\n",
        "generator = pipeline('text-generation', model=\"facebook/opt-125m\", do_sample=True)\n",
        "generator(\"What is the capital of Senegal ?\")"
      ]
    },
    {
      "cell_type": "code",
      "source": [
        "from transformers import pipeline\n",
        "\n",
        "generator = pipeline('text-generation', model=\"facebook/opt-iml-1.3b\")\n",
        "\n",
        "generator(\"What is the capital of Senegal ?\")"
      ],
      "metadata": {
        "colab": {
          "base_uri": "https://localhost:8080/"
        },
        "id": "zAGq2gSch7v1",
        "outputId": "e30cba60-b7c9-4c73-83af-db44ee4e2b34"
      },
      "execution_count": null,
      "outputs": [
        {
          "output_type": "stream",
          "name": "stderr",
          "text": [
            "/usr/local/lib/python3.10/dist-packages/transformers/generation/utils.py:1353: UserWarning: Using `max_length`'s default (20) to control the generation length. This behaviour is deprecated and will be removed from the config in v5 of Transformers -- we recommend using `max_new_tokens` to control the maximum length of the generation.\n",
            "  warnings.warn(\n"
          ]
        },
        {
          "output_type": "execute_result",
          "data": {
            "text/plain": [
              "[{'generated_text': 'What is the capital of Senegal ?\\n Dakar'}]"
            ]
          },
          "metadata": {},
          "execution_count": 5
        }
      ]
    },
    {
      "cell_type": "code",
      "source": [
        "few_shot_samples = \"\"\"\n",
        "Input: Senegal\n",
        "Output: Africa\n",
        "Input: Sudan\n",
        "Output: Africa\n",
        "Input: United States\n",
        "Output: America\n",
        "Input: Australia\n",
        "Output: Oceania\n",
        "\"\"\".strip(\"\\n\")\n",
        "\n",
        "new_sample = \"\"\"\n",
        "Input: France\n",
        "Output:\n",
        "\"\"\".strip(\"\\n\")\n",
        "\n",
        "prompt = f\"{few_shot_samples}\\n{new_sample}\"\n",
        "prompt_size = len(generator.tokenizer(prompt)[\"input_ids\"])\n",
        "[result] = generator(prompt, max_length=prompt_size + 20)\n",
        "print(result[\"generated_text\"])"
      ],
      "metadata": {
        "colab": {
          "base_uri": "https://localhost:8080/"
        },
        "id": "Y1OpXZHGivcf",
        "outputId": "5a894b19-ffe7-4501-dbf9-ffb7161be6fe"
      },
      "execution_count": null,
      "outputs": [
        {
          "output_type": "stream",
          "name": "stdout",
          "text": [
            "Input: Senegal\n",
            "Output: Africa\n",
            "Input: Sudan\n",
            "Output: Africa\n",
            "Input: United States\n",
            "Output: America\n",
            "Input: Australia\n",
            "Output: Oceania\n",
            "Input: France\n",
            "Output: France\n",
            "Input: Australia\n",
            "Input: Canada\n",
            "Input: United States\n",
            "Input: Australia\n",
            "Input:\n"
          ]
        }
      ]
    },
    {
      "cell_type": "code",
      "source": [],
      "metadata": {
        "id": "6wuTfdNJkA37"
      },
      "execution_count": null,
      "outputs": []
    }
  ],
  "metadata": {
    "colab": {
      "provenance": [],
      "include_colab_link": true
    },
    "kernelspec": {
      "display_name": "Python 3 (ipykernel)",
      "language": "python",
      "name": "python3"
    },
    "language_info": {
      "codemirror_mode": {
        "name": "ipython",
        "version": 3
      },
      "file_extension": ".py",
      "mimetype": "text/x-python",
      "name": "python",
      "nbconvert_exporter": "python",
      "pygments_lexer": "ipython3",
      "version": "3.10.8"
    },
    "widgets": {
      "application/vnd.jupyter.widget-state+json": {
        "9104f286aea446e8ab9ed840f609666c": {
          "model_module": "@jupyter-widgets/controls",
          "model_name": "VBoxModel",
          "model_module_version": "1.5.0",
          "state": {
            "_dom_classes": [],
            "_model_module": "@jupyter-widgets/controls",
            "_model_module_version": "1.5.0",
            "_model_name": "VBoxModel",
            "_view_count": null,
            "_view_module": "@jupyter-widgets/controls",
            "_view_module_version": "1.5.0",
            "_view_name": "VBoxView",
            "box_style": "",
            "children": [
              "IPY_MODEL_650a7cb573c843fa8d035ce8b7305b19",
              "IPY_MODEL_2a28bb7b8bae47e982ca06ed641d9ec6",
              "IPY_MODEL_bed36f0028f54ccc989ffcdc977c5c33",
              "IPY_MODEL_fec40e24ba1943e18bcb1ea898656925"
            ],
            "layout": "IPY_MODEL_a22379ad4f934eb0bc7e8e6d481d8643"
          }
        },
        "7950baede16342939144518b70c2e5b7": {
          "model_module": "@jupyter-widgets/controls",
          "model_name": "HTMLModel",
          "model_module_version": "1.5.0",
          "state": {
            "_dom_classes": [],
            "_model_module": "@jupyter-widgets/controls",
            "_model_module_version": "1.5.0",
            "_model_name": "HTMLModel",
            "_view_count": null,
            "_view_module": "@jupyter-widgets/controls",
            "_view_module_version": "1.5.0",
            "_view_name": "HTMLView",
            "description": "",
            "description_tooltip": null,
            "layout": "IPY_MODEL_ab490f0003494883a3cc493e41768afb",
            "placeholder": "​",
            "style": "IPY_MODEL_d57d0b6165bd40b0a7123d87babdae0c",
            "value": "<center> <img\nsrc=https://huggingface.co/front/assets/huggingface_logo-noborder.svg\nalt='Hugging Face'> <br> Copy a token from <a\nhref=\"https://huggingface.co/settings/tokens\" target=\"_blank\">your Hugging Face\ntokens page</a> and paste it below. <br> Immediately click login after copying\nyour token or it might be stored in plain text in this notebook file. </center>"
          }
        },
        "e7b6c6bb3e6c44b1a1b23ae3a68140ea": {
          "model_module": "@jupyter-widgets/controls",
          "model_name": "PasswordModel",
          "model_module_version": "1.5.0",
          "state": {
            "_dom_classes": [],
            "_model_module": "@jupyter-widgets/controls",
            "_model_module_version": "1.5.0",
            "_model_name": "PasswordModel",
            "_view_count": null,
            "_view_module": "@jupyter-widgets/controls",
            "_view_module_version": "1.5.0",
            "_view_name": "PasswordView",
            "continuous_update": true,
            "description": "Token:",
            "description_tooltip": null,
            "disabled": false,
            "layout": "IPY_MODEL_790860af5c174f47adb4bd9e2057bd68",
            "placeholder": "​",
            "style": "IPY_MODEL_19384eba494a48bf9a77d01f96a4f76b",
            "value": ""
          }
        },
        "76d031e60b82446a8ed04ec3f3e1288c": {
          "model_module": "@jupyter-widgets/controls",
          "model_name": "CheckboxModel",
          "model_module_version": "1.5.0",
          "state": {
            "_dom_classes": [],
            "_model_module": "@jupyter-widgets/controls",
            "_model_module_version": "1.5.0",
            "_model_name": "CheckboxModel",
            "_view_count": null,
            "_view_module": "@jupyter-widgets/controls",
            "_view_module_version": "1.5.0",
            "_view_name": "CheckboxView",
            "description": "Add token as git credential?",
            "description_tooltip": null,
            "disabled": false,
            "indent": true,
            "layout": "IPY_MODEL_dafb3c5514594d199c073c834b9f05af",
            "style": "IPY_MODEL_7001dbce7aa340e8ba45b0d8e9e32add",
            "value": true
          }
        },
        "885ec82cd6bf409d88b5f7afd1ee0cac": {
          "model_module": "@jupyter-widgets/controls",
          "model_name": "ButtonModel",
          "model_module_version": "1.5.0",
          "state": {
            "_dom_classes": [],
            "_model_module": "@jupyter-widgets/controls",
            "_model_module_version": "1.5.0",
            "_model_name": "ButtonModel",
            "_view_count": null,
            "_view_module": "@jupyter-widgets/controls",
            "_view_module_version": "1.5.0",
            "_view_name": "ButtonView",
            "button_style": "",
            "description": "Login",
            "disabled": false,
            "icon": "",
            "layout": "IPY_MODEL_149552c84fd747b581467d477bca8ac2",
            "style": "IPY_MODEL_3827fd6657bf4d2f8de0183c576a09fe",
            "tooltip": ""
          }
        },
        "b18c2f8cf0d545f6a278631eb28ddca5": {
          "model_module": "@jupyter-widgets/controls",
          "model_name": "HTMLModel",
          "model_module_version": "1.5.0",
          "state": {
            "_dom_classes": [],
            "_model_module": "@jupyter-widgets/controls",
            "_model_module_version": "1.5.0",
            "_model_name": "HTMLModel",
            "_view_count": null,
            "_view_module": "@jupyter-widgets/controls",
            "_view_module_version": "1.5.0",
            "_view_name": "HTMLView",
            "description": "",
            "description_tooltip": null,
            "layout": "IPY_MODEL_ff498c282e7e49a0a947c1b9077bee56",
            "placeholder": "​",
            "style": "IPY_MODEL_cb0b8fdbccf6497eb35a2f7263efaa26",
            "value": "\n<b>Pro Tip:</b> If you don't already have one, you can create a dedicated\n'notebooks' token with 'write' access, that you can then easily reuse for all\nnotebooks. </center>"
          }
        },
        "a22379ad4f934eb0bc7e8e6d481d8643": {
          "model_module": "@jupyter-widgets/base",
          "model_name": "LayoutModel",
          "model_module_version": "1.2.0",
          "state": {
            "_model_module": "@jupyter-widgets/base",
            "_model_module_version": "1.2.0",
            "_model_name": "LayoutModel",
            "_view_count": null,
            "_view_module": "@jupyter-widgets/base",
            "_view_module_version": "1.2.0",
            "_view_name": "LayoutView",
            "align_content": null,
            "align_items": "center",
            "align_self": null,
            "border": null,
            "bottom": null,
            "display": "flex",
            "flex": null,
            "flex_flow": "column",
            "grid_area": null,
            "grid_auto_columns": null,
            "grid_auto_flow": null,
            "grid_auto_rows": null,
            "grid_column": null,
            "grid_gap": null,
            "grid_row": null,
            "grid_template_areas": null,
            "grid_template_columns": null,
            "grid_template_rows": null,
            "height": null,
            "justify_content": null,
            "justify_items": null,
            "left": null,
            "margin": null,
            "max_height": null,
            "max_width": null,
            "min_height": null,
            "min_width": null,
            "object_fit": null,
            "object_position": null,
            "order": null,
            "overflow": null,
            "overflow_x": null,
            "overflow_y": null,
            "padding": null,
            "right": null,
            "top": null,
            "visibility": null,
            "width": "50%"
          }
        },
        "ab490f0003494883a3cc493e41768afb": {
          "model_module": "@jupyter-widgets/base",
          "model_name": "LayoutModel",
          "model_module_version": "1.2.0",
          "state": {
            "_model_module": "@jupyter-widgets/base",
            "_model_module_version": "1.2.0",
            "_model_name": "LayoutModel",
            "_view_count": null,
            "_view_module": "@jupyter-widgets/base",
            "_view_module_version": "1.2.0",
            "_view_name": "LayoutView",
            "align_content": null,
            "align_items": null,
            "align_self": null,
            "border": null,
            "bottom": null,
            "display": null,
            "flex": null,
            "flex_flow": null,
            "grid_area": null,
            "grid_auto_columns": null,
            "grid_auto_flow": null,
            "grid_auto_rows": null,
            "grid_column": null,
            "grid_gap": null,
            "grid_row": null,
            "grid_template_areas": null,
            "grid_template_columns": null,
            "grid_template_rows": null,
            "height": null,
            "justify_content": null,
            "justify_items": null,
            "left": null,
            "margin": null,
            "max_height": null,
            "max_width": null,
            "min_height": null,
            "min_width": null,
            "object_fit": null,
            "object_position": null,
            "order": null,
            "overflow": null,
            "overflow_x": null,
            "overflow_y": null,
            "padding": null,
            "right": null,
            "top": null,
            "visibility": null,
            "width": null
          }
        },
        "d57d0b6165bd40b0a7123d87babdae0c": {
          "model_module": "@jupyter-widgets/controls",
          "model_name": "DescriptionStyleModel",
          "model_module_version": "1.5.0",
          "state": {
            "_model_module": "@jupyter-widgets/controls",
            "_model_module_version": "1.5.0",
            "_model_name": "DescriptionStyleModel",
            "_view_count": null,
            "_view_module": "@jupyter-widgets/base",
            "_view_module_version": "1.2.0",
            "_view_name": "StyleView",
            "description_width": ""
          }
        },
        "790860af5c174f47adb4bd9e2057bd68": {
          "model_module": "@jupyter-widgets/base",
          "model_name": "LayoutModel",
          "model_module_version": "1.2.0",
          "state": {
            "_model_module": "@jupyter-widgets/base",
            "_model_module_version": "1.2.0",
            "_model_name": "LayoutModel",
            "_view_count": null,
            "_view_module": "@jupyter-widgets/base",
            "_view_module_version": "1.2.0",
            "_view_name": "LayoutView",
            "align_content": null,
            "align_items": null,
            "align_self": null,
            "border": null,
            "bottom": null,
            "display": null,
            "flex": null,
            "flex_flow": null,
            "grid_area": null,
            "grid_auto_columns": null,
            "grid_auto_flow": null,
            "grid_auto_rows": null,
            "grid_column": null,
            "grid_gap": null,
            "grid_row": null,
            "grid_template_areas": null,
            "grid_template_columns": null,
            "grid_template_rows": null,
            "height": null,
            "justify_content": null,
            "justify_items": null,
            "left": null,
            "margin": null,
            "max_height": null,
            "max_width": null,
            "min_height": null,
            "min_width": null,
            "object_fit": null,
            "object_position": null,
            "order": null,
            "overflow": null,
            "overflow_x": null,
            "overflow_y": null,
            "padding": null,
            "right": null,
            "top": null,
            "visibility": null,
            "width": null
          }
        },
        "19384eba494a48bf9a77d01f96a4f76b": {
          "model_module": "@jupyter-widgets/controls",
          "model_name": "DescriptionStyleModel",
          "model_module_version": "1.5.0",
          "state": {
            "_model_module": "@jupyter-widgets/controls",
            "_model_module_version": "1.5.0",
            "_model_name": "DescriptionStyleModel",
            "_view_count": null,
            "_view_module": "@jupyter-widgets/base",
            "_view_module_version": "1.2.0",
            "_view_name": "StyleView",
            "description_width": ""
          }
        },
        "dafb3c5514594d199c073c834b9f05af": {
          "model_module": "@jupyter-widgets/base",
          "model_name": "LayoutModel",
          "model_module_version": "1.2.0",
          "state": {
            "_model_module": "@jupyter-widgets/base",
            "_model_module_version": "1.2.0",
            "_model_name": "LayoutModel",
            "_view_count": null,
            "_view_module": "@jupyter-widgets/base",
            "_view_module_version": "1.2.0",
            "_view_name": "LayoutView",
            "align_content": null,
            "align_items": null,
            "align_self": null,
            "border": null,
            "bottom": null,
            "display": null,
            "flex": null,
            "flex_flow": null,
            "grid_area": null,
            "grid_auto_columns": null,
            "grid_auto_flow": null,
            "grid_auto_rows": null,
            "grid_column": null,
            "grid_gap": null,
            "grid_row": null,
            "grid_template_areas": null,
            "grid_template_columns": null,
            "grid_template_rows": null,
            "height": null,
            "justify_content": null,
            "justify_items": null,
            "left": null,
            "margin": null,
            "max_height": null,
            "max_width": null,
            "min_height": null,
            "min_width": null,
            "object_fit": null,
            "object_position": null,
            "order": null,
            "overflow": null,
            "overflow_x": null,
            "overflow_y": null,
            "padding": null,
            "right": null,
            "top": null,
            "visibility": null,
            "width": null
          }
        },
        "7001dbce7aa340e8ba45b0d8e9e32add": {
          "model_module": "@jupyter-widgets/controls",
          "model_name": "DescriptionStyleModel",
          "model_module_version": "1.5.0",
          "state": {
            "_model_module": "@jupyter-widgets/controls",
            "_model_module_version": "1.5.0",
            "_model_name": "DescriptionStyleModel",
            "_view_count": null,
            "_view_module": "@jupyter-widgets/base",
            "_view_module_version": "1.2.0",
            "_view_name": "StyleView",
            "description_width": ""
          }
        },
        "149552c84fd747b581467d477bca8ac2": {
          "model_module": "@jupyter-widgets/base",
          "model_name": "LayoutModel",
          "model_module_version": "1.2.0",
          "state": {
            "_model_module": "@jupyter-widgets/base",
            "_model_module_version": "1.2.0",
            "_model_name": "LayoutModel",
            "_view_count": null,
            "_view_module": "@jupyter-widgets/base",
            "_view_module_version": "1.2.0",
            "_view_name": "LayoutView",
            "align_content": null,
            "align_items": null,
            "align_self": null,
            "border": null,
            "bottom": null,
            "display": null,
            "flex": null,
            "flex_flow": null,
            "grid_area": null,
            "grid_auto_columns": null,
            "grid_auto_flow": null,
            "grid_auto_rows": null,
            "grid_column": null,
            "grid_gap": null,
            "grid_row": null,
            "grid_template_areas": null,
            "grid_template_columns": null,
            "grid_template_rows": null,
            "height": null,
            "justify_content": null,
            "justify_items": null,
            "left": null,
            "margin": null,
            "max_height": null,
            "max_width": null,
            "min_height": null,
            "min_width": null,
            "object_fit": null,
            "object_position": null,
            "order": null,
            "overflow": null,
            "overflow_x": null,
            "overflow_y": null,
            "padding": null,
            "right": null,
            "top": null,
            "visibility": null,
            "width": null
          }
        },
        "3827fd6657bf4d2f8de0183c576a09fe": {
          "model_module": "@jupyter-widgets/controls",
          "model_name": "ButtonStyleModel",
          "model_module_version": "1.5.0",
          "state": {
            "_model_module": "@jupyter-widgets/controls",
            "_model_module_version": "1.5.0",
            "_model_name": "ButtonStyleModel",
            "_view_count": null,
            "_view_module": "@jupyter-widgets/base",
            "_view_module_version": "1.2.0",
            "_view_name": "StyleView",
            "button_color": null,
            "font_weight": ""
          }
        },
        "ff498c282e7e49a0a947c1b9077bee56": {
          "model_module": "@jupyter-widgets/base",
          "model_name": "LayoutModel",
          "model_module_version": "1.2.0",
          "state": {
            "_model_module": "@jupyter-widgets/base",
            "_model_module_version": "1.2.0",
            "_model_name": "LayoutModel",
            "_view_count": null,
            "_view_module": "@jupyter-widgets/base",
            "_view_module_version": "1.2.0",
            "_view_name": "LayoutView",
            "align_content": null,
            "align_items": null,
            "align_self": null,
            "border": null,
            "bottom": null,
            "display": null,
            "flex": null,
            "flex_flow": null,
            "grid_area": null,
            "grid_auto_columns": null,
            "grid_auto_flow": null,
            "grid_auto_rows": null,
            "grid_column": null,
            "grid_gap": null,
            "grid_row": null,
            "grid_template_areas": null,
            "grid_template_columns": null,
            "grid_template_rows": null,
            "height": null,
            "justify_content": null,
            "justify_items": null,
            "left": null,
            "margin": null,
            "max_height": null,
            "max_width": null,
            "min_height": null,
            "min_width": null,
            "object_fit": null,
            "object_position": null,
            "order": null,
            "overflow": null,
            "overflow_x": null,
            "overflow_y": null,
            "padding": null,
            "right": null,
            "top": null,
            "visibility": null,
            "width": null
          }
        },
        "cb0b8fdbccf6497eb35a2f7263efaa26": {
          "model_module": "@jupyter-widgets/controls",
          "model_name": "DescriptionStyleModel",
          "model_module_version": "1.5.0",
          "state": {
            "_model_module": "@jupyter-widgets/controls",
            "_model_module_version": "1.5.0",
            "_model_name": "DescriptionStyleModel",
            "_view_count": null,
            "_view_module": "@jupyter-widgets/base",
            "_view_module_version": "1.2.0",
            "_view_name": "StyleView",
            "description_width": ""
          }
        },
        "9774a5e5fb3146689e4557e81e1f71fe": {
          "model_module": "@jupyter-widgets/controls",
          "model_name": "LabelModel",
          "model_module_version": "1.5.0",
          "state": {
            "_dom_classes": [],
            "_model_module": "@jupyter-widgets/controls",
            "_model_module_version": "1.5.0",
            "_model_name": "LabelModel",
            "_view_count": null,
            "_view_module": "@jupyter-widgets/controls",
            "_view_module_version": "1.5.0",
            "_view_name": "LabelView",
            "description": "",
            "description_tooltip": null,
            "layout": "IPY_MODEL_80e50c2622384edca8385f6d81d83d3c",
            "placeholder": "​",
            "style": "IPY_MODEL_a2e966ed7ad54ba383efc96c1f73d482",
            "value": "Connecting..."
          }
        },
        "80e50c2622384edca8385f6d81d83d3c": {
          "model_module": "@jupyter-widgets/base",
          "model_name": "LayoutModel",
          "model_module_version": "1.2.0",
          "state": {
            "_model_module": "@jupyter-widgets/base",
            "_model_module_version": "1.2.0",
            "_model_name": "LayoutModel",
            "_view_count": null,
            "_view_module": "@jupyter-widgets/base",
            "_view_module_version": "1.2.0",
            "_view_name": "LayoutView",
            "align_content": null,
            "align_items": null,
            "align_self": null,
            "border": null,
            "bottom": null,
            "display": null,
            "flex": null,
            "flex_flow": null,
            "grid_area": null,
            "grid_auto_columns": null,
            "grid_auto_flow": null,
            "grid_auto_rows": null,
            "grid_column": null,
            "grid_gap": null,
            "grid_row": null,
            "grid_template_areas": null,
            "grid_template_columns": null,
            "grid_template_rows": null,
            "height": null,
            "justify_content": null,
            "justify_items": null,
            "left": null,
            "margin": null,
            "max_height": null,
            "max_width": null,
            "min_height": null,
            "min_width": null,
            "object_fit": null,
            "object_position": null,
            "order": null,
            "overflow": null,
            "overflow_x": null,
            "overflow_y": null,
            "padding": null,
            "right": null,
            "top": null,
            "visibility": null,
            "width": null
          }
        },
        "a2e966ed7ad54ba383efc96c1f73d482": {
          "model_module": "@jupyter-widgets/controls",
          "model_name": "DescriptionStyleModel",
          "model_module_version": "1.5.0",
          "state": {
            "_model_module": "@jupyter-widgets/controls",
            "_model_module_version": "1.5.0",
            "_model_name": "DescriptionStyleModel",
            "_view_count": null,
            "_view_module": "@jupyter-widgets/base",
            "_view_module_version": "1.2.0",
            "_view_name": "StyleView",
            "description_width": ""
          }
        },
        "650a7cb573c843fa8d035ce8b7305b19": {
          "model_module": "@jupyter-widgets/controls",
          "model_name": "LabelModel",
          "model_module_version": "1.5.0",
          "state": {
            "_dom_classes": [],
            "_model_module": "@jupyter-widgets/controls",
            "_model_module_version": "1.5.0",
            "_model_name": "LabelModel",
            "_view_count": null,
            "_view_module": "@jupyter-widgets/controls",
            "_view_module_version": "1.5.0",
            "_view_name": "LabelView",
            "description": "",
            "description_tooltip": null,
            "layout": "IPY_MODEL_d271cbed571e4143b2afb8def9521501",
            "placeholder": "​",
            "style": "IPY_MODEL_dc996c35116f4c99a505ea2c93e54131",
            "value": "Token is valid (permission: read)."
          }
        },
        "2a28bb7b8bae47e982ca06ed641d9ec6": {
          "model_module": "@jupyter-widgets/controls",
          "model_name": "LabelModel",
          "model_module_version": "1.5.0",
          "state": {
            "_dom_classes": [],
            "_model_module": "@jupyter-widgets/controls",
            "_model_module_version": "1.5.0",
            "_model_name": "LabelModel",
            "_view_count": null,
            "_view_module": "@jupyter-widgets/controls",
            "_view_module_version": "1.5.0",
            "_view_name": "LabelView",
            "description": "",
            "description_tooltip": null,
            "layout": "IPY_MODEL_383cd5fd49e4431091dcc666e95ed44b",
            "placeholder": "​",
            "style": "IPY_MODEL_45187674214046ae8642fa6f417c3709",
            "value": "Your token has been saved in your configured git credential helpers (store)."
          }
        },
        "bed36f0028f54ccc989ffcdc977c5c33": {
          "model_module": "@jupyter-widgets/controls",
          "model_name": "LabelModel",
          "model_module_version": "1.5.0",
          "state": {
            "_dom_classes": [],
            "_model_module": "@jupyter-widgets/controls",
            "_model_module_version": "1.5.0",
            "_model_name": "LabelModel",
            "_view_count": null,
            "_view_module": "@jupyter-widgets/controls",
            "_view_module_version": "1.5.0",
            "_view_name": "LabelView",
            "description": "",
            "description_tooltip": null,
            "layout": "IPY_MODEL_02839b6e45a248c783b9cf4b5f2106c3",
            "placeholder": "​",
            "style": "IPY_MODEL_5da3d531a27c47418c4f7f77e39e7041",
            "value": "Your token has been saved to /root/.cache/huggingface/token"
          }
        },
        "fec40e24ba1943e18bcb1ea898656925": {
          "model_module": "@jupyter-widgets/controls",
          "model_name": "LabelModel",
          "model_module_version": "1.5.0",
          "state": {
            "_dom_classes": [],
            "_model_module": "@jupyter-widgets/controls",
            "_model_module_version": "1.5.0",
            "_model_name": "LabelModel",
            "_view_count": null,
            "_view_module": "@jupyter-widgets/controls",
            "_view_module_version": "1.5.0",
            "_view_name": "LabelView",
            "description": "",
            "description_tooltip": null,
            "layout": "IPY_MODEL_158bdbc06d0f4da18ea5caabdbdbee1f",
            "placeholder": "​",
            "style": "IPY_MODEL_72f62e1c1f4f4968aee33ac1c81261f8",
            "value": "Login successful"
          }
        },
        "d271cbed571e4143b2afb8def9521501": {
          "model_module": "@jupyter-widgets/base",
          "model_name": "LayoutModel",
          "model_module_version": "1.2.0",
          "state": {
            "_model_module": "@jupyter-widgets/base",
            "_model_module_version": "1.2.0",
            "_model_name": "LayoutModel",
            "_view_count": null,
            "_view_module": "@jupyter-widgets/base",
            "_view_module_version": "1.2.0",
            "_view_name": "LayoutView",
            "align_content": null,
            "align_items": null,
            "align_self": null,
            "border": null,
            "bottom": null,
            "display": null,
            "flex": null,
            "flex_flow": null,
            "grid_area": null,
            "grid_auto_columns": null,
            "grid_auto_flow": null,
            "grid_auto_rows": null,
            "grid_column": null,
            "grid_gap": null,
            "grid_row": null,
            "grid_template_areas": null,
            "grid_template_columns": null,
            "grid_template_rows": null,
            "height": null,
            "justify_content": null,
            "justify_items": null,
            "left": null,
            "margin": null,
            "max_height": null,
            "max_width": null,
            "min_height": null,
            "min_width": null,
            "object_fit": null,
            "object_position": null,
            "order": null,
            "overflow": null,
            "overflow_x": null,
            "overflow_y": null,
            "padding": null,
            "right": null,
            "top": null,
            "visibility": null,
            "width": null
          }
        },
        "dc996c35116f4c99a505ea2c93e54131": {
          "model_module": "@jupyter-widgets/controls",
          "model_name": "DescriptionStyleModel",
          "model_module_version": "1.5.0",
          "state": {
            "_model_module": "@jupyter-widgets/controls",
            "_model_module_version": "1.5.0",
            "_model_name": "DescriptionStyleModel",
            "_view_count": null,
            "_view_module": "@jupyter-widgets/base",
            "_view_module_version": "1.2.0",
            "_view_name": "StyleView",
            "description_width": ""
          }
        },
        "383cd5fd49e4431091dcc666e95ed44b": {
          "model_module": "@jupyter-widgets/base",
          "model_name": "LayoutModel",
          "model_module_version": "1.2.0",
          "state": {
            "_model_module": "@jupyter-widgets/base",
            "_model_module_version": "1.2.0",
            "_model_name": "LayoutModel",
            "_view_count": null,
            "_view_module": "@jupyter-widgets/base",
            "_view_module_version": "1.2.0",
            "_view_name": "LayoutView",
            "align_content": null,
            "align_items": null,
            "align_self": null,
            "border": null,
            "bottom": null,
            "display": null,
            "flex": null,
            "flex_flow": null,
            "grid_area": null,
            "grid_auto_columns": null,
            "grid_auto_flow": null,
            "grid_auto_rows": null,
            "grid_column": null,
            "grid_gap": null,
            "grid_row": null,
            "grid_template_areas": null,
            "grid_template_columns": null,
            "grid_template_rows": null,
            "height": null,
            "justify_content": null,
            "justify_items": null,
            "left": null,
            "margin": null,
            "max_height": null,
            "max_width": null,
            "min_height": null,
            "min_width": null,
            "object_fit": null,
            "object_position": null,
            "order": null,
            "overflow": null,
            "overflow_x": null,
            "overflow_y": null,
            "padding": null,
            "right": null,
            "top": null,
            "visibility": null,
            "width": null
          }
        },
        "45187674214046ae8642fa6f417c3709": {
          "model_module": "@jupyter-widgets/controls",
          "model_name": "DescriptionStyleModel",
          "model_module_version": "1.5.0",
          "state": {
            "_model_module": "@jupyter-widgets/controls",
            "_model_module_version": "1.5.0",
            "_model_name": "DescriptionStyleModel",
            "_view_count": null,
            "_view_module": "@jupyter-widgets/base",
            "_view_module_version": "1.2.0",
            "_view_name": "StyleView",
            "description_width": ""
          }
        },
        "02839b6e45a248c783b9cf4b5f2106c3": {
          "model_module": "@jupyter-widgets/base",
          "model_name": "LayoutModel",
          "model_module_version": "1.2.0",
          "state": {
            "_model_module": "@jupyter-widgets/base",
            "_model_module_version": "1.2.0",
            "_model_name": "LayoutModel",
            "_view_count": null,
            "_view_module": "@jupyter-widgets/base",
            "_view_module_version": "1.2.0",
            "_view_name": "LayoutView",
            "align_content": null,
            "align_items": null,
            "align_self": null,
            "border": null,
            "bottom": null,
            "display": null,
            "flex": null,
            "flex_flow": null,
            "grid_area": null,
            "grid_auto_columns": null,
            "grid_auto_flow": null,
            "grid_auto_rows": null,
            "grid_column": null,
            "grid_gap": null,
            "grid_row": null,
            "grid_template_areas": null,
            "grid_template_columns": null,
            "grid_template_rows": null,
            "height": null,
            "justify_content": null,
            "justify_items": null,
            "left": null,
            "margin": null,
            "max_height": null,
            "max_width": null,
            "min_height": null,
            "min_width": null,
            "object_fit": null,
            "object_position": null,
            "order": null,
            "overflow": null,
            "overflow_x": null,
            "overflow_y": null,
            "padding": null,
            "right": null,
            "top": null,
            "visibility": null,
            "width": null
          }
        },
        "5da3d531a27c47418c4f7f77e39e7041": {
          "model_module": "@jupyter-widgets/controls",
          "model_name": "DescriptionStyleModel",
          "model_module_version": "1.5.0",
          "state": {
            "_model_module": "@jupyter-widgets/controls",
            "_model_module_version": "1.5.0",
            "_model_name": "DescriptionStyleModel",
            "_view_count": null,
            "_view_module": "@jupyter-widgets/base",
            "_view_module_version": "1.2.0",
            "_view_name": "StyleView",
            "description_width": ""
          }
        },
        "158bdbc06d0f4da18ea5caabdbdbee1f": {
          "model_module": "@jupyter-widgets/base",
          "model_name": "LayoutModel",
          "model_module_version": "1.2.0",
          "state": {
            "_model_module": "@jupyter-widgets/base",
            "_model_module_version": "1.2.0",
            "_model_name": "LayoutModel",
            "_view_count": null,
            "_view_module": "@jupyter-widgets/base",
            "_view_module_version": "1.2.0",
            "_view_name": "LayoutView",
            "align_content": null,
            "align_items": null,
            "align_self": null,
            "border": null,
            "bottom": null,
            "display": null,
            "flex": null,
            "flex_flow": null,
            "grid_area": null,
            "grid_auto_columns": null,
            "grid_auto_flow": null,
            "grid_auto_rows": null,
            "grid_column": null,
            "grid_gap": null,
            "grid_row": null,
            "grid_template_areas": null,
            "grid_template_columns": null,
            "grid_template_rows": null,
            "height": null,
            "justify_content": null,
            "justify_items": null,
            "left": null,
            "margin": null,
            "max_height": null,
            "max_width": null,
            "min_height": null,
            "min_width": null,
            "object_fit": null,
            "object_position": null,
            "order": null,
            "overflow": null,
            "overflow_x": null,
            "overflow_y": null,
            "padding": null,
            "right": null,
            "top": null,
            "visibility": null,
            "width": null
          }
        },
        "72f62e1c1f4f4968aee33ac1c81261f8": {
          "model_module": "@jupyter-widgets/controls",
          "model_name": "DescriptionStyleModel",
          "model_module_version": "1.5.0",
          "state": {
            "_model_module": "@jupyter-widgets/controls",
            "_model_module_version": "1.5.0",
            "_model_name": "DescriptionStyleModel",
            "_view_count": null,
            "_view_module": "@jupyter-widgets/base",
            "_view_module_version": "1.2.0",
            "_view_name": "StyleView",
            "description_width": ""
          }
        },
        "d16098fa585a458f8d537785018d722c": {
          "model_module": "@jupyter-widgets/controls",
          "model_name": "HBoxModel",
          "model_module_version": "1.5.0",
          "state": {
            "_dom_classes": [],
            "_model_module": "@jupyter-widgets/controls",
            "_model_module_version": "1.5.0",
            "_model_name": "HBoxModel",
            "_view_count": null,
            "_view_module": "@jupyter-widgets/controls",
            "_view_module_version": "1.5.0",
            "_view_name": "HBoxView",
            "box_style": "",
            "children": [
              "IPY_MODEL_5b483ea92e584c9a99d3f3bcce91f169",
              "IPY_MODEL_778bffe0bb244f0f9d044bd166d4eabe",
              "IPY_MODEL_b93360b3d23f42f3ab1245c48f058c85"
            ],
            "layout": "IPY_MODEL_2336ead224844dfc81d3dd86c796f96d"
          }
        },
        "5b483ea92e584c9a99d3f3bcce91f169": {
          "model_module": "@jupyter-widgets/controls",
          "model_name": "HTMLModel",
          "model_module_version": "1.5.0",
          "state": {
            "_dom_classes": [],
            "_model_module": "@jupyter-widgets/controls",
            "_model_module_version": "1.5.0",
            "_model_name": "HTMLModel",
            "_view_count": null,
            "_view_module": "@jupyter-widgets/controls",
            "_view_module_version": "1.5.0",
            "_view_name": "HTMLView",
            "description": "",
            "description_tooltip": null,
            "layout": "IPY_MODEL_d17da9af095f409abf0c7da05b696758",
            "placeholder": "​",
            "style": "IPY_MODEL_d86c01e3984c483bae980dbd3e4ff7bc",
            "value": "Downloading builder script: "
          }
        },
        "778bffe0bb244f0f9d044bd166d4eabe": {
          "model_module": "@jupyter-widgets/controls",
          "model_name": "FloatProgressModel",
          "model_module_version": "1.5.0",
          "state": {
            "_dom_classes": [],
            "_model_module": "@jupyter-widgets/controls",
            "_model_module_version": "1.5.0",
            "_model_name": "FloatProgressModel",
            "_view_count": null,
            "_view_module": "@jupyter-widgets/controls",
            "_view_module_version": "1.5.0",
            "_view_name": "ProgressView",
            "bar_style": "success",
            "description": "",
            "description_tooltip": null,
            "layout": "IPY_MODEL_13c3f4cfc69a42a99ce3a4e120c54afe",
            "max": 1,
            "min": 0,
            "orientation": "horizontal",
            "style": "IPY_MODEL_4c5fac866f72452eae235d78181fd802",
            "value": 1
          }
        },
        "b93360b3d23f42f3ab1245c48f058c85": {
          "model_module": "@jupyter-widgets/controls",
          "model_name": "HTMLModel",
          "model_module_version": "1.5.0",
          "state": {
            "_dom_classes": [],
            "_model_module": "@jupyter-widgets/controls",
            "_model_module_version": "1.5.0",
            "_model_name": "HTMLModel",
            "_view_count": null,
            "_view_module": "@jupyter-widgets/controls",
            "_view_module_version": "1.5.0",
            "_view_name": "HTMLView",
            "description": "",
            "description_tooltip": null,
            "layout": "IPY_MODEL_b316e413f57140498aff998bbf463ebf",
            "placeholder": "​",
            "style": "IPY_MODEL_c82a4d334a0c4e30bbbf1ffdc9a0befa",
            "value": " 8.48k/? [00:00&lt;00:00, 229kB/s]"
          }
        },
        "2336ead224844dfc81d3dd86c796f96d": {
          "model_module": "@jupyter-widgets/base",
          "model_name": "LayoutModel",
          "model_module_version": "1.2.0",
          "state": {
            "_model_module": "@jupyter-widgets/base",
            "_model_module_version": "1.2.0",
            "_model_name": "LayoutModel",
            "_view_count": null,
            "_view_module": "@jupyter-widgets/base",
            "_view_module_version": "1.2.0",
            "_view_name": "LayoutView",
            "align_content": null,
            "align_items": null,
            "align_self": null,
            "border": null,
            "bottom": null,
            "display": null,
            "flex": null,
            "flex_flow": null,
            "grid_area": null,
            "grid_auto_columns": null,
            "grid_auto_flow": null,
            "grid_auto_rows": null,
            "grid_column": null,
            "grid_gap": null,
            "grid_row": null,
            "grid_template_areas": null,
            "grid_template_columns": null,
            "grid_template_rows": null,
            "height": null,
            "justify_content": null,
            "justify_items": null,
            "left": null,
            "margin": null,
            "max_height": null,
            "max_width": null,
            "min_height": null,
            "min_width": null,
            "object_fit": null,
            "object_position": null,
            "order": null,
            "overflow": null,
            "overflow_x": null,
            "overflow_y": null,
            "padding": null,
            "right": null,
            "top": null,
            "visibility": null,
            "width": null
          }
        },
        "d17da9af095f409abf0c7da05b696758": {
          "model_module": "@jupyter-widgets/base",
          "model_name": "LayoutModel",
          "model_module_version": "1.2.0",
          "state": {
            "_model_module": "@jupyter-widgets/base",
            "_model_module_version": "1.2.0",
            "_model_name": "LayoutModel",
            "_view_count": null,
            "_view_module": "@jupyter-widgets/base",
            "_view_module_version": "1.2.0",
            "_view_name": "LayoutView",
            "align_content": null,
            "align_items": null,
            "align_self": null,
            "border": null,
            "bottom": null,
            "display": null,
            "flex": null,
            "flex_flow": null,
            "grid_area": null,
            "grid_auto_columns": null,
            "grid_auto_flow": null,
            "grid_auto_rows": null,
            "grid_column": null,
            "grid_gap": null,
            "grid_row": null,
            "grid_template_areas": null,
            "grid_template_columns": null,
            "grid_template_rows": null,
            "height": null,
            "justify_content": null,
            "justify_items": null,
            "left": null,
            "margin": null,
            "max_height": null,
            "max_width": null,
            "min_height": null,
            "min_width": null,
            "object_fit": null,
            "object_position": null,
            "order": null,
            "overflow": null,
            "overflow_x": null,
            "overflow_y": null,
            "padding": null,
            "right": null,
            "top": null,
            "visibility": null,
            "width": null
          }
        },
        "d86c01e3984c483bae980dbd3e4ff7bc": {
          "model_module": "@jupyter-widgets/controls",
          "model_name": "DescriptionStyleModel",
          "model_module_version": "1.5.0",
          "state": {
            "_model_module": "@jupyter-widgets/controls",
            "_model_module_version": "1.5.0",
            "_model_name": "DescriptionStyleModel",
            "_view_count": null,
            "_view_module": "@jupyter-widgets/base",
            "_view_module_version": "1.2.0",
            "_view_name": "StyleView",
            "description_width": ""
          }
        },
        "13c3f4cfc69a42a99ce3a4e120c54afe": {
          "model_module": "@jupyter-widgets/base",
          "model_name": "LayoutModel",
          "model_module_version": "1.2.0",
          "state": {
            "_model_module": "@jupyter-widgets/base",
            "_model_module_version": "1.2.0",
            "_model_name": "LayoutModel",
            "_view_count": null,
            "_view_module": "@jupyter-widgets/base",
            "_view_module_version": "1.2.0",
            "_view_name": "LayoutView",
            "align_content": null,
            "align_items": null,
            "align_self": null,
            "border": null,
            "bottom": null,
            "display": null,
            "flex": null,
            "flex_flow": null,
            "grid_area": null,
            "grid_auto_columns": null,
            "grid_auto_flow": null,
            "grid_auto_rows": null,
            "grid_column": null,
            "grid_gap": null,
            "grid_row": null,
            "grid_template_areas": null,
            "grid_template_columns": null,
            "grid_template_rows": null,
            "height": null,
            "justify_content": null,
            "justify_items": null,
            "left": null,
            "margin": null,
            "max_height": null,
            "max_width": null,
            "min_height": null,
            "min_width": null,
            "object_fit": null,
            "object_position": null,
            "order": null,
            "overflow": null,
            "overflow_x": null,
            "overflow_y": null,
            "padding": null,
            "right": null,
            "top": null,
            "visibility": null,
            "width": "20px"
          }
        },
        "4c5fac866f72452eae235d78181fd802": {
          "model_module": "@jupyter-widgets/controls",
          "model_name": "ProgressStyleModel",
          "model_module_version": "1.5.0",
          "state": {
            "_model_module": "@jupyter-widgets/controls",
            "_model_module_version": "1.5.0",
            "_model_name": "ProgressStyleModel",
            "_view_count": null,
            "_view_module": "@jupyter-widgets/base",
            "_view_module_version": "1.2.0",
            "_view_name": "StyleView",
            "bar_color": null,
            "description_width": ""
          }
        },
        "b316e413f57140498aff998bbf463ebf": {
          "model_module": "@jupyter-widgets/base",
          "model_name": "LayoutModel",
          "model_module_version": "1.2.0",
          "state": {
            "_model_module": "@jupyter-widgets/base",
            "_model_module_version": "1.2.0",
            "_model_name": "LayoutModel",
            "_view_count": null,
            "_view_module": "@jupyter-widgets/base",
            "_view_module_version": "1.2.0",
            "_view_name": "LayoutView",
            "align_content": null,
            "align_items": null,
            "align_self": null,
            "border": null,
            "bottom": null,
            "display": null,
            "flex": null,
            "flex_flow": null,
            "grid_area": null,
            "grid_auto_columns": null,
            "grid_auto_flow": null,
            "grid_auto_rows": null,
            "grid_column": null,
            "grid_gap": null,
            "grid_row": null,
            "grid_template_areas": null,
            "grid_template_columns": null,
            "grid_template_rows": null,
            "height": null,
            "justify_content": null,
            "justify_items": null,
            "left": null,
            "margin": null,
            "max_height": null,
            "max_width": null,
            "min_height": null,
            "min_width": null,
            "object_fit": null,
            "object_position": null,
            "order": null,
            "overflow": null,
            "overflow_x": null,
            "overflow_y": null,
            "padding": null,
            "right": null,
            "top": null,
            "visibility": null,
            "width": null
          }
        },
        "c82a4d334a0c4e30bbbf1ffdc9a0befa": {
          "model_module": "@jupyter-widgets/controls",
          "model_name": "DescriptionStyleModel",
          "model_module_version": "1.5.0",
          "state": {
            "_model_module": "@jupyter-widgets/controls",
            "_model_module_version": "1.5.0",
            "_model_name": "DescriptionStyleModel",
            "_view_count": null,
            "_view_module": "@jupyter-widgets/base",
            "_view_module_version": "1.2.0",
            "_view_name": "StyleView",
            "description_width": ""
          }
        },
        "76f8b84b34484d8ea3e04f0f0b070aa6": {
          "model_module": "@jupyter-widgets/controls",
          "model_name": "HBoxModel",
          "model_module_version": "1.5.0",
          "state": {
            "_dom_classes": [],
            "_model_module": "@jupyter-widgets/controls",
            "_model_module_version": "1.5.0",
            "_model_name": "HBoxModel",
            "_view_count": null,
            "_view_module": "@jupyter-widgets/controls",
            "_view_module_version": "1.5.0",
            "_view_name": "HBoxView",
            "box_style": "",
            "children": [
              "IPY_MODEL_1dce253bf0e5489a84cec4d01ed4e256",
              "IPY_MODEL_b172b16335d84193bfbc931e3f604ab8",
              "IPY_MODEL_91dbbc2236a64f7c9b5a0c52826e2e94"
            ],
            "layout": "IPY_MODEL_4f74a76b0b834b87ac39339ea8b56262"
          }
        },
        "1dce253bf0e5489a84cec4d01ed4e256": {
          "model_module": "@jupyter-widgets/controls",
          "model_name": "HTMLModel",
          "model_module_version": "1.5.0",
          "state": {
            "_dom_classes": [],
            "_model_module": "@jupyter-widgets/controls",
            "_model_module_version": "1.5.0",
            "_model_name": "HTMLModel",
            "_view_count": null,
            "_view_module": "@jupyter-widgets/controls",
            "_view_module_version": "1.5.0",
            "_view_name": "HTMLView",
            "description": "",
            "description_tooltip": null,
            "layout": "IPY_MODEL_72f05cfebbdc42e48fbbe92b6942086f",
            "placeholder": "​",
            "style": "IPY_MODEL_4819f7c54e5d40ceab680da954058395",
            "value": "Downloading metadata: "
          }
        },
        "b172b16335d84193bfbc931e3f604ab8": {
          "model_module": "@jupyter-widgets/controls",
          "model_name": "FloatProgressModel",
          "model_module_version": "1.5.0",
          "state": {
            "_dom_classes": [],
            "_model_module": "@jupyter-widgets/controls",
            "_model_module_version": "1.5.0",
            "_model_name": "FloatProgressModel",
            "_view_count": null,
            "_view_module": "@jupyter-widgets/controls",
            "_view_module_version": "1.5.0",
            "_view_name": "ProgressView",
            "bar_style": "success",
            "description": "",
            "description_tooltip": null,
            "layout": "IPY_MODEL_08fcfead9f7848e7a3d94ad60cd24bb2",
            "max": 1,
            "min": 0,
            "orientation": "horizontal",
            "style": "IPY_MODEL_a41c7880e311420aae544711b3330654",
            "value": 1
          }
        },
        "91dbbc2236a64f7c9b5a0c52826e2e94": {
          "model_module": "@jupyter-widgets/controls",
          "model_name": "HTMLModel",
          "model_module_version": "1.5.0",
          "state": {
            "_dom_classes": [],
            "_model_module": "@jupyter-widgets/controls",
            "_model_module_version": "1.5.0",
            "_model_name": "HTMLModel",
            "_view_count": null,
            "_view_module": "@jupyter-widgets/controls",
            "_view_module_version": "1.5.0",
            "_view_name": "HTMLView",
            "description": "",
            "description_tooltip": null,
            "layout": "IPY_MODEL_405597b011b74fc59d089a4daf7f3519",
            "placeholder": "​",
            "style": "IPY_MODEL_e7351693ed4541e6866db19b91682619",
            "value": " 6.84k/? [00:00&lt;00:00, 334kB/s]"
          }
        },
        "4f74a76b0b834b87ac39339ea8b56262": {
          "model_module": "@jupyter-widgets/base",
          "model_name": "LayoutModel",
          "model_module_version": "1.2.0",
          "state": {
            "_model_module": "@jupyter-widgets/base",
            "_model_module_version": "1.2.0",
            "_model_name": "LayoutModel",
            "_view_count": null,
            "_view_module": "@jupyter-widgets/base",
            "_view_module_version": "1.2.0",
            "_view_name": "LayoutView",
            "align_content": null,
            "align_items": null,
            "align_self": null,
            "border": null,
            "bottom": null,
            "display": null,
            "flex": null,
            "flex_flow": null,
            "grid_area": null,
            "grid_auto_columns": null,
            "grid_auto_flow": null,
            "grid_auto_rows": null,
            "grid_column": null,
            "grid_gap": null,
            "grid_row": null,
            "grid_template_areas": null,
            "grid_template_columns": null,
            "grid_template_rows": null,
            "height": null,
            "justify_content": null,
            "justify_items": null,
            "left": null,
            "margin": null,
            "max_height": null,
            "max_width": null,
            "min_height": null,
            "min_width": null,
            "object_fit": null,
            "object_position": null,
            "order": null,
            "overflow": null,
            "overflow_x": null,
            "overflow_y": null,
            "padding": null,
            "right": null,
            "top": null,
            "visibility": null,
            "width": null
          }
        },
        "72f05cfebbdc42e48fbbe92b6942086f": {
          "model_module": "@jupyter-widgets/base",
          "model_name": "LayoutModel",
          "model_module_version": "1.2.0",
          "state": {
            "_model_module": "@jupyter-widgets/base",
            "_model_module_version": "1.2.0",
            "_model_name": "LayoutModel",
            "_view_count": null,
            "_view_module": "@jupyter-widgets/base",
            "_view_module_version": "1.2.0",
            "_view_name": "LayoutView",
            "align_content": null,
            "align_items": null,
            "align_self": null,
            "border": null,
            "bottom": null,
            "display": null,
            "flex": null,
            "flex_flow": null,
            "grid_area": null,
            "grid_auto_columns": null,
            "grid_auto_flow": null,
            "grid_auto_rows": null,
            "grid_column": null,
            "grid_gap": null,
            "grid_row": null,
            "grid_template_areas": null,
            "grid_template_columns": null,
            "grid_template_rows": null,
            "height": null,
            "justify_content": null,
            "justify_items": null,
            "left": null,
            "margin": null,
            "max_height": null,
            "max_width": null,
            "min_height": null,
            "min_width": null,
            "object_fit": null,
            "object_position": null,
            "order": null,
            "overflow": null,
            "overflow_x": null,
            "overflow_y": null,
            "padding": null,
            "right": null,
            "top": null,
            "visibility": null,
            "width": null
          }
        },
        "4819f7c54e5d40ceab680da954058395": {
          "model_module": "@jupyter-widgets/controls",
          "model_name": "DescriptionStyleModel",
          "model_module_version": "1.5.0",
          "state": {
            "_model_module": "@jupyter-widgets/controls",
            "_model_module_version": "1.5.0",
            "_model_name": "DescriptionStyleModel",
            "_view_count": null,
            "_view_module": "@jupyter-widgets/base",
            "_view_module_version": "1.2.0",
            "_view_name": "StyleView",
            "description_width": ""
          }
        },
        "08fcfead9f7848e7a3d94ad60cd24bb2": {
          "model_module": "@jupyter-widgets/base",
          "model_name": "LayoutModel",
          "model_module_version": "1.2.0",
          "state": {
            "_model_module": "@jupyter-widgets/base",
            "_model_module_version": "1.2.0",
            "_model_name": "LayoutModel",
            "_view_count": null,
            "_view_module": "@jupyter-widgets/base",
            "_view_module_version": "1.2.0",
            "_view_name": "LayoutView",
            "align_content": null,
            "align_items": null,
            "align_self": null,
            "border": null,
            "bottom": null,
            "display": null,
            "flex": null,
            "flex_flow": null,
            "grid_area": null,
            "grid_auto_columns": null,
            "grid_auto_flow": null,
            "grid_auto_rows": null,
            "grid_column": null,
            "grid_gap": null,
            "grid_row": null,
            "grid_template_areas": null,
            "grid_template_columns": null,
            "grid_template_rows": null,
            "height": null,
            "justify_content": null,
            "justify_items": null,
            "left": null,
            "margin": null,
            "max_height": null,
            "max_width": null,
            "min_height": null,
            "min_width": null,
            "object_fit": null,
            "object_position": null,
            "order": null,
            "overflow": null,
            "overflow_x": null,
            "overflow_y": null,
            "padding": null,
            "right": null,
            "top": null,
            "visibility": null,
            "width": "20px"
          }
        },
        "a41c7880e311420aae544711b3330654": {
          "model_module": "@jupyter-widgets/controls",
          "model_name": "ProgressStyleModel",
          "model_module_version": "1.5.0",
          "state": {
            "_model_module": "@jupyter-widgets/controls",
            "_model_module_version": "1.5.0",
            "_model_name": "ProgressStyleModel",
            "_view_count": null,
            "_view_module": "@jupyter-widgets/base",
            "_view_module_version": "1.2.0",
            "_view_name": "StyleView",
            "bar_color": null,
            "description_width": ""
          }
        },
        "405597b011b74fc59d089a4daf7f3519": {
          "model_module": "@jupyter-widgets/base",
          "model_name": "LayoutModel",
          "model_module_version": "1.2.0",
          "state": {
            "_model_module": "@jupyter-widgets/base",
            "_model_module_version": "1.2.0",
            "_model_name": "LayoutModel",
            "_view_count": null,
            "_view_module": "@jupyter-widgets/base",
            "_view_module_version": "1.2.0",
            "_view_name": "LayoutView",
            "align_content": null,
            "align_items": null,
            "align_self": null,
            "border": null,
            "bottom": null,
            "display": null,
            "flex": null,
            "flex_flow": null,
            "grid_area": null,
            "grid_auto_columns": null,
            "grid_auto_flow": null,
            "grid_auto_rows": null,
            "grid_column": null,
            "grid_gap": null,
            "grid_row": null,
            "grid_template_areas": null,
            "grid_template_columns": null,
            "grid_template_rows": null,
            "height": null,
            "justify_content": null,
            "justify_items": null,
            "left": null,
            "margin": null,
            "max_height": null,
            "max_width": null,
            "min_height": null,
            "min_width": null,
            "object_fit": null,
            "object_position": null,
            "order": null,
            "overflow": null,
            "overflow_x": null,
            "overflow_y": null,
            "padding": null,
            "right": null,
            "top": null,
            "visibility": null,
            "width": null
          }
        },
        "e7351693ed4541e6866db19b91682619": {
          "model_module": "@jupyter-widgets/controls",
          "model_name": "DescriptionStyleModel",
          "model_module_version": "1.5.0",
          "state": {
            "_model_module": "@jupyter-widgets/controls",
            "_model_module_version": "1.5.0",
            "_model_name": "DescriptionStyleModel",
            "_view_count": null,
            "_view_module": "@jupyter-widgets/base",
            "_view_module_version": "1.2.0",
            "_view_name": "StyleView",
            "description_width": ""
          }
        },
        "2d557c66d1ec48909efb3aa74b6e35f3": {
          "model_module": "@jupyter-widgets/controls",
          "model_name": "HBoxModel",
          "model_module_version": "1.5.0",
          "state": {
            "_dom_classes": [],
            "_model_module": "@jupyter-widgets/controls",
            "_model_module_version": "1.5.0",
            "_model_name": "HBoxModel",
            "_view_count": null,
            "_view_module": "@jupyter-widgets/controls",
            "_view_module_version": "1.5.0",
            "_view_name": "HBoxView",
            "box_style": "",
            "children": [
              "IPY_MODEL_63b709e126444c3188f3cffe635d4c55",
              "IPY_MODEL_1338d76c970d4cd893733a8ebca60e63",
              "IPY_MODEL_6677d263d1014d5492edd2c02929b46a"
            ],
            "layout": "IPY_MODEL_17703e75c8bd4a0b9a8a46cedef2b345"
          }
        },
        "63b709e126444c3188f3cffe635d4c55": {
          "model_module": "@jupyter-widgets/controls",
          "model_name": "HTMLModel",
          "model_module_version": "1.5.0",
          "state": {
            "_dom_classes": [],
            "_model_module": "@jupyter-widgets/controls",
            "_model_module_version": "1.5.0",
            "_model_name": "HTMLModel",
            "_view_count": null,
            "_view_module": "@jupyter-widgets/controls",
            "_view_module_version": "1.5.0",
            "_view_name": "HTMLView",
            "description": "",
            "description_tooltip": null,
            "layout": "IPY_MODEL_5ab026aa05284fcfb6c947005406149a",
            "placeholder": "​",
            "style": "IPY_MODEL_291106ac5b5146af8ab0447ff23851db",
            "value": "Downloading readme: "
          }
        },
        "1338d76c970d4cd893733a8ebca60e63": {
          "model_module": "@jupyter-widgets/controls",
          "model_name": "FloatProgressModel",
          "model_module_version": "1.5.0",
          "state": {
            "_dom_classes": [],
            "_model_module": "@jupyter-widgets/controls",
            "_model_module_version": "1.5.0",
            "_model_name": "FloatProgressModel",
            "_view_count": null,
            "_view_module": "@jupyter-widgets/controls",
            "_view_module_version": "1.5.0",
            "_view_name": "ProgressView",
            "bar_style": "success",
            "description": "",
            "description_tooltip": null,
            "layout": "IPY_MODEL_4a1b889953904984aa85b196e24a1ab6",
            "max": 1,
            "min": 0,
            "orientation": "horizontal",
            "style": "IPY_MODEL_f9f14bb982cf41409fe1dd223e715f64",
            "value": 1
          }
        },
        "6677d263d1014d5492edd2c02929b46a": {
          "model_module": "@jupyter-widgets/controls",
          "model_name": "HTMLModel",
          "model_module_version": "1.5.0",
          "state": {
            "_dom_classes": [],
            "_model_module": "@jupyter-widgets/controls",
            "_model_module_version": "1.5.0",
            "_model_name": "HTMLModel",
            "_view_count": null,
            "_view_module": "@jupyter-widgets/controls",
            "_view_module_version": "1.5.0",
            "_view_name": "HTMLView",
            "description": "",
            "description_tooltip": null,
            "layout": "IPY_MODEL_6c7578e6c9f94369a2b4e7b146218cbb",
            "placeholder": "​",
            "style": "IPY_MODEL_f1017c481b994f899e880d38f8ea89c5",
            "value": " 9.62k/? [00:00&lt;00:00, 236kB/s]"
          }
        },
        "17703e75c8bd4a0b9a8a46cedef2b345": {
          "model_module": "@jupyter-widgets/base",
          "model_name": "LayoutModel",
          "model_module_version": "1.2.0",
          "state": {
            "_model_module": "@jupyter-widgets/base",
            "_model_module_version": "1.2.0",
            "_model_name": "LayoutModel",
            "_view_count": null,
            "_view_module": "@jupyter-widgets/base",
            "_view_module_version": "1.2.0",
            "_view_name": "LayoutView",
            "align_content": null,
            "align_items": null,
            "align_self": null,
            "border": null,
            "bottom": null,
            "display": null,
            "flex": null,
            "flex_flow": null,
            "grid_area": null,
            "grid_auto_columns": null,
            "grid_auto_flow": null,
            "grid_auto_rows": null,
            "grid_column": null,
            "grid_gap": null,
            "grid_row": null,
            "grid_template_areas": null,
            "grid_template_columns": null,
            "grid_template_rows": null,
            "height": null,
            "justify_content": null,
            "justify_items": null,
            "left": null,
            "margin": null,
            "max_height": null,
            "max_width": null,
            "min_height": null,
            "min_width": null,
            "object_fit": null,
            "object_position": null,
            "order": null,
            "overflow": null,
            "overflow_x": null,
            "overflow_y": null,
            "padding": null,
            "right": null,
            "top": null,
            "visibility": null,
            "width": null
          }
        },
        "5ab026aa05284fcfb6c947005406149a": {
          "model_module": "@jupyter-widgets/base",
          "model_name": "LayoutModel",
          "model_module_version": "1.2.0",
          "state": {
            "_model_module": "@jupyter-widgets/base",
            "_model_module_version": "1.2.0",
            "_model_name": "LayoutModel",
            "_view_count": null,
            "_view_module": "@jupyter-widgets/base",
            "_view_module_version": "1.2.0",
            "_view_name": "LayoutView",
            "align_content": null,
            "align_items": null,
            "align_self": null,
            "border": null,
            "bottom": null,
            "display": null,
            "flex": null,
            "flex_flow": null,
            "grid_area": null,
            "grid_auto_columns": null,
            "grid_auto_flow": null,
            "grid_auto_rows": null,
            "grid_column": null,
            "grid_gap": null,
            "grid_row": null,
            "grid_template_areas": null,
            "grid_template_columns": null,
            "grid_template_rows": null,
            "height": null,
            "justify_content": null,
            "justify_items": null,
            "left": null,
            "margin": null,
            "max_height": null,
            "max_width": null,
            "min_height": null,
            "min_width": null,
            "object_fit": null,
            "object_position": null,
            "order": null,
            "overflow": null,
            "overflow_x": null,
            "overflow_y": null,
            "padding": null,
            "right": null,
            "top": null,
            "visibility": null,
            "width": null
          }
        },
        "291106ac5b5146af8ab0447ff23851db": {
          "model_module": "@jupyter-widgets/controls",
          "model_name": "DescriptionStyleModel",
          "model_module_version": "1.5.0",
          "state": {
            "_model_module": "@jupyter-widgets/controls",
            "_model_module_version": "1.5.0",
            "_model_name": "DescriptionStyleModel",
            "_view_count": null,
            "_view_module": "@jupyter-widgets/base",
            "_view_module_version": "1.2.0",
            "_view_name": "StyleView",
            "description_width": ""
          }
        },
        "4a1b889953904984aa85b196e24a1ab6": {
          "model_module": "@jupyter-widgets/base",
          "model_name": "LayoutModel",
          "model_module_version": "1.2.0",
          "state": {
            "_model_module": "@jupyter-widgets/base",
            "_model_module_version": "1.2.0",
            "_model_name": "LayoutModel",
            "_view_count": null,
            "_view_module": "@jupyter-widgets/base",
            "_view_module_version": "1.2.0",
            "_view_name": "LayoutView",
            "align_content": null,
            "align_items": null,
            "align_self": null,
            "border": null,
            "bottom": null,
            "display": null,
            "flex": null,
            "flex_flow": null,
            "grid_area": null,
            "grid_auto_columns": null,
            "grid_auto_flow": null,
            "grid_auto_rows": null,
            "grid_column": null,
            "grid_gap": null,
            "grid_row": null,
            "grid_template_areas": null,
            "grid_template_columns": null,
            "grid_template_rows": null,
            "height": null,
            "justify_content": null,
            "justify_items": null,
            "left": null,
            "margin": null,
            "max_height": null,
            "max_width": null,
            "min_height": null,
            "min_width": null,
            "object_fit": null,
            "object_position": null,
            "order": null,
            "overflow": null,
            "overflow_x": null,
            "overflow_y": null,
            "padding": null,
            "right": null,
            "top": null,
            "visibility": null,
            "width": "20px"
          }
        },
        "f9f14bb982cf41409fe1dd223e715f64": {
          "model_module": "@jupyter-widgets/controls",
          "model_name": "ProgressStyleModel",
          "model_module_version": "1.5.0",
          "state": {
            "_model_module": "@jupyter-widgets/controls",
            "_model_module_version": "1.5.0",
            "_model_name": "ProgressStyleModel",
            "_view_count": null,
            "_view_module": "@jupyter-widgets/base",
            "_view_module_version": "1.2.0",
            "_view_name": "StyleView",
            "bar_color": null,
            "description_width": ""
          }
        },
        "6c7578e6c9f94369a2b4e7b146218cbb": {
          "model_module": "@jupyter-widgets/base",
          "model_name": "LayoutModel",
          "model_module_version": "1.2.0",
          "state": {
            "_model_module": "@jupyter-widgets/base",
            "_model_module_version": "1.2.0",
            "_model_name": "LayoutModel",
            "_view_count": null,
            "_view_module": "@jupyter-widgets/base",
            "_view_module_version": "1.2.0",
            "_view_name": "LayoutView",
            "align_content": null,
            "align_items": null,
            "align_self": null,
            "border": null,
            "bottom": null,
            "display": null,
            "flex": null,
            "flex_flow": null,
            "grid_area": null,
            "grid_auto_columns": null,
            "grid_auto_flow": null,
            "grid_auto_rows": null,
            "grid_column": null,
            "grid_gap": null,
            "grid_row": null,
            "grid_template_areas": null,
            "grid_template_columns": null,
            "grid_template_rows": null,
            "height": null,
            "justify_content": null,
            "justify_items": null,
            "left": null,
            "margin": null,
            "max_height": null,
            "max_width": null,
            "min_height": null,
            "min_width": null,
            "object_fit": null,
            "object_position": null,
            "order": null,
            "overflow": null,
            "overflow_x": null,
            "overflow_y": null,
            "padding": null,
            "right": null,
            "top": null,
            "visibility": null,
            "width": null
          }
        },
        "f1017c481b994f899e880d38f8ea89c5": {
          "model_module": "@jupyter-widgets/controls",
          "model_name": "DescriptionStyleModel",
          "model_module_version": "1.5.0",
          "state": {
            "_model_module": "@jupyter-widgets/controls",
            "_model_module_version": "1.5.0",
            "_model_name": "DescriptionStyleModel",
            "_view_count": null,
            "_view_module": "@jupyter-widgets/base",
            "_view_module_version": "1.2.0",
            "_view_name": "StyleView",
            "description_width": ""
          }
        },
        "7cf6920a2b954e8c9f2135f955570d14": {
          "model_module": "@jupyter-widgets/controls",
          "model_name": "HBoxModel",
          "model_module_version": "1.5.0",
          "state": {
            "_dom_classes": [],
            "_model_module": "@jupyter-widgets/controls",
            "_model_module_version": "1.5.0",
            "_model_name": "HBoxModel",
            "_view_count": null,
            "_view_module": "@jupyter-widgets/controls",
            "_view_module_version": "1.5.0",
            "_view_name": "HBoxView",
            "box_style": "",
            "children": [
              "IPY_MODEL_cc2e072623bb477d9f74a75c731df4ab",
              "IPY_MODEL_1d1e83039cb7470e887cc0bfae2aa773",
              "IPY_MODEL_8e55b2aa84644440b2e9c48726406b5e"
            ],
            "layout": "IPY_MODEL_4e156759903043a2a93eea63561b1451"
          }
        },
        "cc2e072623bb477d9f74a75c731df4ab": {
          "model_module": "@jupyter-widgets/controls",
          "model_name": "HTMLModel",
          "model_module_version": "1.5.0",
          "state": {
            "_dom_classes": [],
            "_model_module": "@jupyter-widgets/controls",
            "_model_module_version": "1.5.0",
            "_model_name": "HTMLModel",
            "_view_count": null,
            "_view_module": "@jupyter-widgets/controls",
            "_view_module_version": "1.5.0",
            "_view_name": "HTMLView",
            "description": "",
            "description_tooltip": null,
            "layout": "IPY_MODEL_f22785d6a4304cdbbc6475caed7fab21",
            "placeholder": "​",
            "style": "IPY_MODEL_ac77801ad961427ea264e546ef6c960f",
            "value": "Downloading data: 100%"
          }
        },
        "1d1e83039cb7470e887cc0bfae2aa773": {
          "model_module": "@jupyter-widgets/controls",
          "model_name": "FloatProgressModel",
          "model_module_version": "1.5.0",
          "state": {
            "_dom_classes": [],
            "_model_module": "@jupyter-widgets/controls",
            "_model_module_version": "1.5.0",
            "_model_name": "FloatProgressModel",
            "_view_count": null,
            "_view_module": "@jupyter-widgets/controls",
            "_view_module_version": "1.5.0",
            "_view_name": "ProgressView",
            "bar_style": "success",
            "description": "",
            "description_tooltip": null,
            "layout": "IPY_MODEL_282a0c29d9ba4a89bdb3b3518dc4b9cc",
            "max": 4721645,
            "min": 0,
            "orientation": "horizontal",
            "style": "IPY_MODEL_8a9eb7c104eb44d4ba946ffe506f59b3",
            "value": 4721645
          }
        },
        "8e55b2aa84644440b2e9c48726406b5e": {
          "model_module": "@jupyter-widgets/controls",
          "model_name": "HTMLModel",
          "model_module_version": "1.5.0",
          "state": {
            "_dom_classes": [],
            "_model_module": "@jupyter-widgets/controls",
            "_model_module_version": "1.5.0",
            "_model_name": "HTMLModel",
            "_view_count": null,
            "_view_module": "@jupyter-widgets/controls",
            "_view_module_version": "1.5.0",
            "_view_name": "HTMLView",
            "description": "",
            "description_tooltip": null,
            "layout": "IPY_MODEL_1c6202db1088471c88914250226a571c",
            "placeholder": "​",
            "style": "IPY_MODEL_b730f4e66b3f40b2951a71e20c841ac1",
            "value": " 4.72M/4.72M [00:00&lt;00:00, 49.0MB/s]"
          }
        },
        "4e156759903043a2a93eea63561b1451": {
          "model_module": "@jupyter-widgets/base",
          "model_name": "LayoutModel",
          "model_module_version": "1.2.0",
          "state": {
            "_model_module": "@jupyter-widgets/base",
            "_model_module_version": "1.2.0",
            "_model_name": "LayoutModel",
            "_view_count": null,
            "_view_module": "@jupyter-widgets/base",
            "_view_module_version": "1.2.0",
            "_view_name": "LayoutView",
            "align_content": null,
            "align_items": null,
            "align_self": null,
            "border": null,
            "bottom": null,
            "display": null,
            "flex": null,
            "flex_flow": null,
            "grid_area": null,
            "grid_auto_columns": null,
            "grid_auto_flow": null,
            "grid_auto_rows": null,
            "grid_column": null,
            "grid_gap": null,
            "grid_row": null,
            "grid_template_areas": null,
            "grid_template_columns": null,
            "grid_template_rows": null,
            "height": null,
            "justify_content": null,
            "justify_items": null,
            "left": null,
            "margin": null,
            "max_height": null,
            "max_width": null,
            "min_height": null,
            "min_width": null,
            "object_fit": null,
            "object_position": null,
            "order": null,
            "overflow": null,
            "overflow_x": null,
            "overflow_y": null,
            "padding": null,
            "right": null,
            "top": null,
            "visibility": null,
            "width": null
          }
        },
        "f22785d6a4304cdbbc6475caed7fab21": {
          "model_module": "@jupyter-widgets/base",
          "model_name": "LayoutModel",
          "model_module_version": "1.2.0",
          "state": {
            "_model_module": "@jupyter-widgets/base",
            "_model_module_version": "1.2.0",
            "_model_name": "LayoutModel",
            "_view_count": null,
            "_view_module": "@jupyter-widgets/base",
            "_view_module_version": "1.2.0",
            "_view_name": "LayoutView",
            "align_content": null,
            "align_items": null,
            "align_self": null,
            "border": null,
            "bottom": null,
            "display": null,
            "flex": null,
            "flex_flow": null,
            "grid_area": null,
            "grid_auto_columns": null,
            "grid_auto_flow": null,
            "grid_auto_rows": null,
            "grid_column": null,
            "grid_gap": null,
            "grid_row": null,
            "grid_template_areas": null,
            "grid_template_columns": null,
            "grid_template_rows": null,
            "height": null,
            "justify_content": null,
            "justify_items": null,
            "left": null,
            "margin": null,
            "max_height": null,
            "max_width": null,
            "min_height": null,
            "min_width": null,
            "object_fit": null,
            "object_position": null,
            "order": null,
            "overflow": null,
            "overflow_x": null,
            "overflow_y": null,
            "padding": null,
            "right": null,
            "top": null,
            "visibility": null,
            "width": null
          }
        },
        "ac77801ad961427ea264e546ef6c960f": {
          "model_module": "@jupyter-widgets/controls",
          "model_name": "DescriptionStyleModel",
          "model_module_version": "1.5.0",
          "state": {
            "_model_module": "@jupyter-widgets/controls",
            "_model_module_version": "1.5.0",
            "_model_name": "DescriptionStyleModel",
            "_view_count": null,
            "_view_module": "@jupyter-widgets/base",
            "_view_module_version": "1.2.0",
            "_view_name": "StyleView",
            "description_width": ""
          }
        },
        "282a0c29d9ba4a89bdb3b3518dc4b9cc": {
          "model_module": "@jupyter-widgets/base",
          "model_name": "LayoutModel",
          "model_module_version": "1.2.0",
          "state": {
            "_model_module": "@jupyter-widgets/base",
            "_model_module_version": "1.2.0",
            "_model_name": "LayoutModel",
            "_view_count": null,
            "_view_module": "@jupyter-widgets/base",
            "_view_module_version": "1.2.0",
            "_view_name": "LayoutView",
            "align_content": null,
            "align_items": null,
            "align_self": null,
            "border": null,
            "bottom": null,
            "display": null,
            "flex": null,
            "flex_flow": null,
            "grid_area": null,
            "grid_auto_columns": null,
            "grid_auto_flow": null,
            "grid_auto_rows": null,
            "grid_column": null,
            "grid_gap": null,
            "grid_row": null,
            "grid_template_areas": null,
            "grid_template_columns": null,
            "grid_template_rows": null,
            "height": null,
            "justify_content": null,
            "justify_items": null,
            "left": null,
            "margin": null,
            "max_height": null,
            "max_width": null,
            "min_height": null,
            "min_width": null,
            "object_fit": null,
            "object_position": null,
            "order": null,
            "overflow": null,
            "overflow_x": null,
            "overflow_y": null,
            "padding": null,
            "right": null,
            "top": null,
            "visibility": null,
            "width": null
          }
        },
        "8a9eb7c104eb44d4ba946ffe506f59b3": {
          "model_module": "@jupyter-widgets/controls",
          "model_name": "ProgressStyleModel",
          "model_module_version": "1.5.0",
          "state": {
            "_model_module": "@jupyter-widgets/controls",
            "_model_module_version": "1.5.0",
            "_model_name": "ProgressStyleModel",
            "_view_count": null,
            "_view_module": "@jupyter-widgets/base",
            "_view_module_version": "1.2.0",
            "_view_name": "StyleView",
            "bar_color": null,
            "description_width": ""
          }
        },
        "1c6202db1088471c88914250226a571c": {
          "model_module": "@jupyter-widgets/base",
          "model_name": "LayoutModel",
          "model_module_version": "1.2.0",
          "state": {
            "_model_module": "@jupyter-widgets/base",
            "_model_module_version": "1.2.0",
            "_model_name": "LayoutModel",
            "_view_count": null,
            "_view_module": "@jupyter-widgets/base",
            "_view_module_version": "1.2.0",
            "_view_name": "LayoutView",
            "align_content": null,
            "align_items": null,
            "align_self": null,
            "border": null,
            "bottom": null,
            "display": null,
            "flex": null,
            "flex_flow": null,
            "grid_area": null,
            "grid_auto_columns": null,
            "grid_auto_flow": null,
            "grid_auto_rows": null,
            "grid_column": null,
            "grid_gap": null,
            "grid_row": null,
            "grid_template_areas": null,
            "grid_template_columns": null,
            "grid_template_rows": null,
            "height": null,
            "justify_content": null,
            "justify_items": null,
            "left": null,
            "margin": null,
            "max_height": null,
            "max_width": null,
            "min_height": null,
            "min_width": null,
            "object_fit": null,
            "object_position": null,
            "order": null,
            "overflow": null,
            "overflow_x": null,
            "overflow_y": null,
            "padding": null,
            "right": null,
            "top": null,
            "visibility": null,
            "width": null
          }
        },
        "b730f4e66b3f40b2951a71e20c841ac1": {
          "model_module": "@jupyter-widgets/controls",
          "model_name": "DescriptionStyleModel",
          "model_module_version": "1.5.0",
          "state": {
            "_model_module": "@jupyter-widgets/controls",
            "_model_module_version": "1.5.0",
            "_model_name": "DescriptionStyleModel",
            "_view_count": null,
            "_view_module": "@jupyter-widgets/base",
            "_view_module_version": "1.2.0",
            "_view_name": "StyleView",
            "description_width": ""
          }
        },
        "20bc9bc9736341dd984493834ef53607": {
          "model_module": "@jupyter-widgets/controls",
          "model_name": "HBoxModel",
          "model_module_version": "1.5.0",
          "state": {
            "_dom_classes": [],
            "_model_module": "@jupyter-widgets/controls",
            "_model_module_version": "1.5.0",
            "_model_name": "HBoxModel",
            "_view_count": null,
            "_view_module": "@jupyter-widgets/controls",
            "_view_module_version": "1.5.0",
            "_view_name": "HBoxView",
            "box_style": "",
            "children": [
              "IPY_MODEL_407aa51501d14292b417d9448976adaa",
              "IPY_MODEL_57b5a34607bb4cde86d8ac90511c783e",
              "IPY_MODEL_6429116ca5f44db3b01f3adaf29095ea"
            ],
            "layout": "IPY_MODEL_fb4ed63a6b9447d5975d7b43cc6aa943"
          }
        },
        "407aa51501d14292b417d9448976adaa": {
          "model_module": "@jupyter-widgets/controls",
          "model_name": "HTMLModel",
          "model_module_version": "1.5.0",
          "state": {
            "_dom_classes": [],
            "_model_module": "@jupyter-widgets/controls",
            "_model_module_version": "1.5.0",
            "_model_name": "HTMLModel",
            "_view_count": null,
            "_view_module": "@jupyter-widgets/controls",
            "_view_module_version": "1.5.0",
            "_view_name": "HTMLView",
            "description": "",
            "description_tooltip": null,
            "layout": "IPY_MODEL_265b5a8efc2a43c3bb2c33f6bd21ef41",
            "placeholder": "​",
            "style": "IPY_MODEL_a1c3d662d3ab4178bb27af5f59367311",
            "value": "Generating test split:  83%"
          }
        },
        "57b5a34607bb4cde86d8ac90511c783e": {
          "model_module": "@jupyter-widgets/controls",
          "model_name": "FloatProgressModel",
          "model_module_version": "1.5.0",
          "state": {
            "_dom_classes": [],
            "_model_module": "@jupyter-widgets/controls",
            "_model_module_version": "1.5.0",
            "_model_name": "FloatProgressModel",
            "_view_count": null,
            "_view_module": "@jupyter-widgets/controls",
            "_view_module_version": "1.5.0",
            "_view_name": "ProgressView",
            "bar_style": "",
            "description": "",
            "description_tooltip": null,
            "layout": "IPY_MODEL_f61be81e1e8a4d30a09dcc0c5c726305",
            "max": 4358,
            "min": 0,
            "orientation": "horizontal",
            "style": "IPY_MODEL_5d3cb884d86143e680287d13b4931df1",
            "value": 4358
          }
        },
        "6429116ca5f44db3b01f3adaf29095ea": {
          "model_module": "@jupyter-widgets/controls",
          "model_name": "HTMLModel",
          "model_module_version": "1.5.0",
          "state": {
            "_dom_classes": [],
            "_model_module": "@jupyter-widgets/controls",
            "_model_module_version": "1.5.0",
            "_model_name": "HTMLModel",
            "_view_count": null,
            "_view_module": "@jupyter-widgets/controls",
            "_view_module_version": "1.5.0",
            "_view_name": "HTMLView",
            "description": "",
            "description_tooltip": null,
            "layout": "IPY_MODEL_d00787167dfe4b9ea00b6e78452267d5",
            "placeholder": "​",
            "style": "IPY_MODEL_198249abd68a423088c56cd386af7182",
            "value": " 3598/4358 [00:00&lt;00:00, 27647.14 examples/s]"
          }
        },
        "fb4ed63a6b9447d5975d7b43cc6aa943": {
          "model_module": "@jupyter-widgets/base",
          "model_name": "LayoutModel",
          "model_module_version": "1.2.0",
          "state": {
            "_model_module": "@jupyter-widgets/base",
            "_model_module_version": "1.2.0",
            "_model_name": "LayoutModel",
            "_view_count": null,
            "_view_module": "@jupyter-widgets/base",
            "_view_module_version": "1.2.0",
            "_view_name": "LayoutView",
            "align_content": null,
            "align_items": null,
            "align_self": null,
            "border": null,
            "bottom": null,
            "display": null,
            "flex": null,
            "flex_flow": null,
            "grid_area": null,
            "grid_auto_columns": null,
            "grid_auto_flow": null,
            "grid_auto_rows": null,
            "grid_column": null,
            "grid_gap": null,
            "grid_row": null,
            "grid_template_areas": null,
            "grid_template_columns": null,
            "grid_template_rows": null,
            "height": null,
            "justify_content": null,
            "justify_items": null,
            "left": null,
            "margin": null,
            "max_height": null,
            "max_width": null,
            "min_height": null,
            "min_width": null,
            "object_fit": null,
            "object_position": null,
            "order": null,
            "overflow": null,
            "overflow_x": null,
            "overflow_y": null,
            "padding": null,
            "right": null,
            "top": null,
            "visibility": "hidden",
            "width": null
          }
        },
        "265b5a8efc2a43c3bb2c33f6bd21ef41": {
          "model_module": "@jupyter-widgets/base",
          "model_name": "LayoutModel",
          "model_module_version": "1.2.0",
          "state": {
            "_model_module": "@jupyter-widgets/base",
            "_model_module_version": "1.2.0",
            "_model_name": "LayoutModel",
            "_view_count": null,
            "_view_module": "@jupyter-widgets/base",
            "_view_module_version": "1.2.0",
            "_view_name": "LayoutView",
            "align_content": null,
            "align_items": null,
            "align_self": null,
            "border": null,
            "bottom": null,
            "display": null,
            "flex": null,
            "flex_flow": null,
            "grid_area": null,
            "grid_auto_columns": null,
            "grid_auto_flow": null,
            "grid_auto_rows": null,
            "grid_column": null,
            "grid_gap": null,
            "grid_row": null,
            "grid_template_areas": null,
            "grid_template_columns": null,
            "grid_template_rows": null,
            "height": null,
            "justify_content": null,
            "justify_items": null,
            "left": null,
            "margin": null,
            "max_height": null,
            "max_width": null,
            "min_height": null,
            "min_width": null,
            "object_fit": null,
            "object_position": null,
            "order": null,
            "overflow": null,
            "overflow_x": null,
            "overflow_y": null,
            "padding": null,
            "right": null,
            "top": null,
            "visibility": null,
            "width": null
          }
        },
        "a1c3d662d3ab4178bb27af5f59367311": {
          "model_module": "@jupyter-widgets/controls",
          "model_name": "DescriptionStyleModel",
          "model_module_version": "1.5.0",
          "state": {
            "_model_module": "@jupyter-widgets/controls",
            "_model_module_version": "1.5.0",
            "_model_name": "DescriptionStyleModel",
            "_view_count": null,
            "_view_module": "@jupyter-widgets/base",
            "_view_module_version": "1.2.0",
            "_view_name": "StyleView",
            "description_width": ""
          }
        },
        "f61be81e1e8a4d30a09dcc0c5c726305": {
          "model_module": "@jupyter-widgets/base",
          "model_name": "LayoutModel",
          "model_module_version": "1.2.0",
          "state": {
            "_model_module": "@jupyter-widgets/base",
            "_model_module_version": "1.2.0",
            "_model_name": "LayoutModel",
            "_view_count": null,
            "_view_module": "@jupyter-widgets/base",
            "_view_module_version": "1.2.0",
            "_view_name": "LayoutView",
            "align_content": null,
            "align_items": null,
            "align_self": null,
            "border": null,
            "bottom": null,
            "display": null,
            "flex": null,
            "flex_flow": null,
            "grid_area": null,
            "grid_auto_columns": null,
            "grid_auto_flow": null,
            "grid_auto_rows": null,
            "grid_column": null,
            "grid_gap": null,
            "grid_row": null,
            "grid_template_areas": null,
            "grid_template_columns": null,
            "grid_template_rows": null,
            "height": null,
            "justify_content": null,
            "justify_items": null,
            "left": null,
            "margin": null,
            "max_height": null,
            "max_width": null,
            "min_height": null,
            "min_width": null,
            "object_fit": null,
            "object_position": null,
            "order": null,
            "overflow": null,
            "overflow_x": null,
            "overflow_y": null,
            "padding": null,
            "right": null,
            "top": null,
            "visibility": null,
            "width": null
          }
        },
        "5d3cb884d86143e680287d13b4931df1": {
          "model_module": "@jupyter-widgets/controls",
          "model_name": "ProgressStyleModel",
          "model_module_version": "1.5.0",
          "state": {
            "_model_module": "@jupyter-widgets/controls",
            "_model_module_version": "1.5.0",
            "_model_name": "ProgressStyleModel",
            "_view_count": null,
            "_view_module": "@jupyter-widgets/base",
            "_view_module_version": "1.2.0",
            "_view_name": "StyleView",
            "bar_color": null,
            "description_width": ""
          }
        },
        "d00787167dfe4b9ea00b6e78452267d5": {
          "model_module": "@jupyter-widgets/base",
          "model_name": "LayoutModel",
          "model_module_version": "1.2.0",
          "state": {
            "_model_module": "@jupyter-widgets/base",
            "_model_module_version": "1.2.0",
            "_model_name": "LayoutModel",
            "_view_count": null,
            "_view_module": "@jupyter-widgets/base",
            "_view_module_version": "1.2.0",
            "_view_name": "LayoutView",
            "align_content": null,
            "align_items": null,
            "align_self": null,
            "border": null,
            "bottom": null,
            "display": null,
            "flex": null,
            "flex_flow": null,
            "grid_area": null,
            "grid_auto_columns": null,
            "grid_auto_flow": null,
            "grid_auto_rows": null,
            "grid_column": null,
            "grid_gap": null,
            "grid_row": null,
            "grid_template_areas": null,
            "grid_template_columns": null,
            "grid_template_rows": null,
            "height": null,
            "justify_content": null,
            "justify_items": null,
            "left": null,
            "margin": null,
            "max_height": null,
            "max_width": null,
            "min_height": null,
            "min_width": null,
            "object_fit": null,
            "object_position": null,
            "order": null,
            "overflow": null,
            "overflow_x": null,
            "overflow_y": null,
            "padding": null,
            "right": null,
            "top": null,
            "visibility": null,
            "width": null
          }
        },
        "198249abd68a423088c56cd386af7182": {
          "model_module": "@jupyter-widgets/controls",
          "model_name": "DescriptionStyleModel",
          "model_module_version": "1.5.0",
          "state": {
            "_model_module": "@jupyter-widgets/controls",
            "_model_module_version": "1.5.0",
            "_model_name": "DescriptionStyleModel",
            "_view_count": null,
            "_view_module": "@jupyter-widgets/base",
            "_view_module_version": "1.2.0",
            "_view_name": "StyleView",
            "description_width": ""
          }
        },
        "ea761171fccc44a19bc2ae8da4d252a3": {
          "model_module": "@jupyter-widgets/controls",
          "model_name": "HBoxModel",
          "model_module_version": "1.5.0",
          "state": {
            "_dom_classes": [],
            "_model_module": "@jupyter-widgets/controls",
            "_model_module_version": "1.5.0",
            "_model_name": "HBoxModel",
            "_view_count": null,
            "_view_module": "@jupyter-widgets/controls",
            "_view_module_version": "1.5.0",
            "_view_name": "HBoxView",
            "box_style": "",
            "children": [
              "IPY_MODEL_4a6318e793b2427e9f1fb87ea4745927",
              "IPY_MODEL_576a204142854840979c47fd2bd020dc",
              "IPY_MODEL_d90fe01c9aae41ae9aceda1daf64c31a"
            ],
            "layout": "IPY_MODEL_fd41b495563d4331a2ec09840c1f050a"
          }
        },
        "4a6318e793b2427e9f1fb87ea4745927": {
          "model_module": "@jupyter-widgets/controls",
          "model_name": "HTMLModel",
          "model_module_version": "1.5.0",
          "state": {
            "_dom_classes": [],
            "_model_module": "@jupyter-widgets/controls",
            "_model_module_version": "1.5.0",
            "_model_name": "HTMLModel",
            "_view_count": null,
            "_view_module": "@jupyter-widgets/controls",
            "_view_module_version": "1.5.0",
            "_view_name": "HTMLView",
            "description": "",
            "description_tooltip": null,
            "layout": "IPY_MODEL_d270456eae01458bb184ea81b422bf8f",
            "placeholder": "​",
            "style": "IPY_MODEL_7f2402ef7add4a97a3983d7fa039be38",
            "value": "Generating train split:  95%"
          }
        },
        "576a204142854840979c47fd2bd020dc": {
          "model_module": "@jupyter-widgets/controls",
          "model_name": "FloatProgressModel",
          "model_module_version": "1.5.0",
          "state": {
            "_dom_classes": [],
            "_model_module": "@jupyter-widgets/controls",
            "_model_module_version": "1.5.0",
            "_model_name": "FloatProgressModel",
            "_view_count": null,
            "_view_module": "@jupyter-widgets/controls",
            "_view_module_version": "1.5.0",
            "_view_name": "ProgressView",
            "bar_style": "",
            "description": "",
            "description_tooltip": null,
            "layout": "IPY_MODEL_d7c5dbf94afa4f5ab0295d6b6cc841a1",
            "max": 36718,
            "min": 0,
            "orientation": "horizontal",
            "style": "IPY_MODEL_1e17a578a64c4c95bd679072be4a3076",
            "value": 36718
          }
        },
        "d90fe01c9aae41ae9aceda1daf64c31a": {
          "model_module": "@jupyter-widgets/controls",
          "model_name": "HTMLModel",
          "model_module_version": "1.5.0",
          "state": {
            "_dom_classes": [],
            "_model_module": "@jupyter-widgets/controls",
            "_model_module_version": "1.5.0",
            "_model_name": "HTMLModel",
            "_view_count": null,
            "_view_module": "@jupyter-widgets/controls",
            "_view_module_version": "1.5.0",
            "_view_name": "HTMLView",
            "description": "",
            "description_tooltip": null,
            "layout": "IPY_MODEL_2459d46ae8c14a9eab312640ad67e70f",
            "placeholder": "​",
            "style": "IPY_MODEL_64eb86b7e8ea4a93a786b24ec8e5a1a6",
            "value": " 34744/36718 [00:00&lt;00:00, 47128.79 examples/s]"
          }
        },
        "fd41b495563d4331a2ec09840c1f050a": {
          "model_module": "@jupyter-widgets/base",
          "model_name": "LayoutModel",
          "model_module_version": "1.2.0",
          "state": {
            "_model_module": "@jupyter-widgets/base",
            "_model_module_version": "1.2.0",
            "_model_name": "LayoutModel",
            "_view_count": null,
            "_view_module": "@jupyter-widgets/base",
            "_view_module_version": "1.2.0",
            "_view_name": "LayoutView",
            "align_content": null,
            "align_items": null,
            "align_self": null,
            "border": null,
            "bottom": null,
            "display": null,
            "flex": null,
            "flex_flow": null,
            "grid_area": null,
            "grid_auto_columns": null,
            "grid_auto_flow": null,
            "grid_auto_rows": null,
            "grid_column": null,
            "grid_gap": null,
            "grid_row": null,
            "grid_template_areas": null,
            "grid_template_columns": null,
            "grid_template_rows": null,
            "height": null,
            "justify_content": null,
            "justify_items": null,
            "left": null,
            "margin": null,
            "max_height": null,
            "max_width": null,
            "min_height": null,
            "min_width": null,
            "object_fit": null,
            "object_position": null,
            "order": null,
            "overflow": null,
            "overflow_x": null,
            "overflow_y": null,
            "padding": null,
            "right": null,
            "top": null,
            "visibility": "hidden",
            "width": null
          }
        },
        "d270456eae01458bb184ea81b422bf8f": {
          "model_module": "@jupyter-widgets/base",
          "model_name": "LayoutModel",
          "model_module_version": "1.2.0",
          "state": {
            "_model_module": "@jupyter-widgets/base",
            "_model_module_version": "1.2.0",
            "_model_name": "LayoutModel",
            "_view_count": null,
            "_view_module": "@jupyter-widgets/base",
            "_view_module_version": "1.2.0",
            "_view_name": "LayoutView",
            "align_content": null,
            "align_items": null,
            "align_self": null,
            "border": null,
            "bottom": null,
            "display": null,
            "flex": null,
            "flex_flow": null,
            "grid_area": null,
            "grid_auto_columns": null,
            "grid_auto_flow": null,
            "grid_auto_rows": null,
            "grid_column": null,
            "grid_gap": null,
            "grid_row": null,
            "grid_template_areas": null,
            "grid_template_columns": null,
            "grid_template_rows": null,
            "height": null,
            "justify_content": null,
            "justify_items": null,
            "left": null,
            "margin": null,
            "max_height": null,
            "max_width": null,
            "min_height": null,
            "min_width": null,
            "object_fit": null,
            "object_position": null,
            "order": null,
            "overflow": null,
            "overflow_x": null,
            "overflow_y": null,
            "padding": null,
            "right": null,
            "top": null,
            "visibility": null,
            "width": null
          }
        },
        "7f2402ef7add4a97a3983d7fa039be38": {
          "model_module": "@jupyter-widgets/controls",
          "model_name": "DescriptionStyleModel",
          "model_module_version": "1.5.0",
          "state": {
            "_model_module": "@jupyter-widgets/controls",
            "_model_module_version": "1.5.0",
            "_model_name": "DescriptionStyleModel",
            "_view_count": null,
            "_view_module": "@jupyter-widgets/base",
            "_view_module_version": "1.2.0",
            "_view_name": "StyleView",
            "description_width": ""
          }
        },
        "d7c5dbf94afa4f5ab0295d6b6cc841a1": {
          "model_module": "@jupyter-widgets/base",
          "model_name": "LayoutModel",
          "model_module_version": "1.2.0",
          "state": {
            "_model_module": "@jupyter-widgets/base",
            "_model_module_version": "1.2.0",
            "_model_name": "LayoutModel",
            "_view_count": null,
            "_view_module": "@jupyter-widgets/base",
            "_view_module_version": "1.2.0",
            "_view_name": "LayoutView",
            "align_content": null,
            "align_items": null,
            "align_self": null,
            "border": null,
            "bottom": null,
            "display": null,
            "flex": null,
            "flex_flow": null,
            "grid_area": null,
            "grid_auto_columns": null,
            "grid_auto_flow": null,
            "grid_auto_rows": null,
            "grid_column": null,
            "grid_gap": null,
            "grid_row": null,
            "grid_template_areas": null,
            "grid_template_columns": null,
            "grid_template_rows": null,
            "height": null,
            "justify_content": null,
            "justify_items": null,
            "left": null,
            "margin": null,
            "max_height": null,
            "max_width": null,
            "min_height": null,
            "min_width": null,
            "object_fit": null,
            "object_position": null,
            "order": null,
            "overflow": null,
            "overflow_x": null,
            "overflow_y": null,
            "padding": null,
            "right": null,
            "top": null,
            "visibility": null,
            "width": null
          }
        },
        "1e17a578a64c4c95bd679072be4a3076": {
          "model_module": "@jupyter-widgets/controls",
          "model_name": "ProgressStyleModel",
          "model_module_version": "1.5.0",
          "state": {
            "_model_module": "@jupyter-widgets/controls",
            "_model_module_version": "1.5.0",
            "_model_name": "ProgressStyleModel",
            "_view_count": null,
            "_view_module": "@jupyter-widgets/base",
            "_view_module_version": "1.2.0",
            "_view_name": "StyleView",
            "bar_color": null,
            "description_width": ""
          }
        },
        "2459d46ae8c14a9eab312640ad67e70f": {
          "model_module": "@jupyter-widgets/base",
          "model_name": "LayoutModel",
          "model_module_version": "1.2.0",
          "state": {
            "_model_module": "@jupyter-widgets/base",
            "_model_module_version": "1.2.0",
            "_model_name": "LayoutModel",
            "_view_count": null,
            "_view_module": "@jupyter-widgets/base",
            "_view_module_version": "1.2.0",
            "_view_name": "LayoutView",
            "align_content": null,
            "align_items": null,
            "align_self": null,
            "border": null,
            "bottom": null,
            "display": null,
            "flex": null,
            "flex_flow": null,
            "grid_area": null,
            "grid_auto_columns": null,
            "grid_auto_flow": null,
            "grid_auto_rows": null,
            "grid_column": null,
            "grid_gap": null,
            "grid_row": null,
            "grid_template_areas": null,
            "grid_template_columns": null,
            "grid_template_rows": null,
            "height": null,
            "justify_content": null,
            "justify_items": null,
            "left": null,
            "margin": null,
            "max_height": null,
            "max_width": null,
            "min_height": null,
            "min_width": null,
            "object_fit": null,
            "object_position": null,
            "order": null,
            "overflow": null,
            "overflow_x": null,
            "overflow_y": null,
            "padding": null,
            "right": null,
            "top": null,
            "visibility": null,
            "width": null
          }
        },
        "64eb86b7e8ea4a93a786b24ec8e5a1a6": {
          "model_module": "@jupyter-widgets/controls",
          "model_name": "DescriptionStyleModel",
          "model_module_version": "1.5.0",
          "state": {
            "_model_module": "@jupyter-widgets/controls",
            "_model_module_version": "1.5.0",
            "_model_name": "DescriptionStyleModel",
            "_view_count": null,
            "_view_module": "@jupyter-widgets/base",
            "_view_module_version": "1.2.0",
            "_view_name": "StyleView",
            "description_width": ""
          }
        },
        "3f45df23b1ce4c9694bd4bfff045e80e": {
          "model_module": "@jupyter-widgets/controls",
          "model_name": "HBoxModel",
          "model_module_version": "1.5.0",
          "state": {
            "_dom_classes": [],
            "_model_module": "@jupyter-widgets/controls",
            "_model_module_version": "1.5.0",
            "_model_name": "HBoxModel",
            "_view_count": null,
            "_view_module": "@jupyter-widgets/controls",
            "_view_module_version": "1.5.0",
            "_view_name": "HBoxView",
            "box_style": "",
            "children": [
              "IPY_MODEL_07ddb303425b4329aaf7ea5a7b8eec1c",
              "IPY_MODEL_28f872ab4c814737ad859b7b6079acea",
              "IPY_MODEL_c7f8d584773d4c03acdea30cbf0bafa2"
            ],
            "layout": "IPY_MODEL_d3e7627f90114cddab59738817d91f58"
          }
        },
        "07ddb303425b4329aaf7ea5a7b8eec1c": {
          "model_module": "@jupyter-widgets/controls",
          "model_name": "HTMLModel",
          "model_module_version": "1.5.0",
          "state": {
            "_dom_classes": [],
            "_model_module": "@jupyter-widgets/controls",
            "_model_module_version": "1.5.0",
            "_model_name": "HTMLModel",
            "_view_count": null,
            "_view_module": "@jupyter-widgets/controls",
            "_view_module_version": "1.5.0",
            "_view_name": "HTMLView",
            "description": "",
            "description_tooltip": null,
            "layout": "IPY_MODEL_06a3ecd707fd4b4fbcf98e6203444050",
            "placeholder": "​",
            "style": "IPY_MODEL_4214a269767c40dfb6e2b5cbe32250e4",
            "value": "Generating validation split: 100%"
          }
        },
        "28f872ab4c814737ad859b7b6079acea": {
          "model_module": "@jupyter-widgets/controls",
          "model_name": "FloatProgressModel",
          "model_module_version": "1.5.0",
          "state": {
            "_dom_classes": [],
            "_model_module": "@jupyter-widgets/controls",
            "_model_module_version": "1.5.0",
            "_model_name": "FloatProgressModel",
            "_view_count": null,
            "_view_module": "@jupyter-widgets/controls",
            "_view_module_version": "1.5.0",
            "_view_name": "ProgressView",
            "bar_style": "",
            "description": "",
            "description_tooltip": null,
            "layout": "IPY_MODEL_e3b782ebee99413bb2a557892370f77c",
            "max": 3760,
            "min": 0,
            "orientation": "horizontal",
            "style": "IPY_MODEL_1981800ab58240bea04ad06755ee86e8",
            "value": 3760
          }
        },
        "c7f8d584773d4c03acdea30cbf0bafa2": {
          "model_module": "@jupyter-widgets/controls",
          "model_name": "HTMLModel",
          "model_module_version": "1.5.0",
          "state": {
            "_dom_classes": [],
            "_model_module": "@jupyter-widgets/controls",
            "_model_module_version": "1.5.0",
            "_model_name": "HTMLModel",
            "_view_count": null,
            "_view_module": "@jupyter-widgets/controls",
            "_view_module_version": "1.5.0",
            "_view_name": "HTMLView",
            "description": "",
            "description_tooltip": null,
            "layout": "IPY_MODEL_2626e0b206d74b328275c54bd4688b5a",
            "placeholder": "​",
            "style": "IPY_MODEL_549185537d924f3bbb4487e7ed36e405",
            "value": " 3760/3760 [00:00&lt;00:00, 33440.59 examples/s]"
          }
        },
        "d3e7627f90114cddab59738817d91f58": {
          "model_module": "@jupyter-widgets/base",
          "model_name": "LayoutModel",
          "model_module_version": "1.2.0",
          "state": {
            "_model_module": "@jupyter-widgets/base",
            "_model_module_version": "1.2.0",
            "_model_name": "LayoutModel",
            "_view_count": null,
            "_view_module": "@jupyter-widgets/base",
            "_view_module_version": "1.2.0",
            "_view_name": "LayoutView",
            "align_content": null,
            "align_items": null,
            "align_self": null,
            "border": null,
            "bottom": null,
            "display": null,
            "flex": null,
            "flex_flow": null,
            "grid_area": null,
            "grid_auto_columns": null,
            "grid_auto_flow": null,
            "grid_auto_rows": null,
            "grid_column": null,
            "grid_gap": null,
            "grid_row": null,
            "grid_template_areas": null,
            "grid_template_columns": null,
            "grid_template_rows": null,
            "height": null,
            "justify_content": null,
            "justify_items": null,
            "left": null,
            "margin": null,
            "max_height": null,
            "max_width": null,
            "min_height": null,
            "min_width": null,
            "object_fit": null,
            "object_position": null,
            "order": null,
            "overflow": null,
            "overflow_x": null,
            "overflow_y": null,
            "padding": null,
            "right": null,
            "top": null,
            "visibility": "hidden",
            "width": null
          }
        },
        "06a3ecd707fd4b4fbcf98e6203444050": {
          "model_module": "@jupyter-widgets/base",
          "model_name": "LayoutModel",
          "model_module_version": "1.2.0",
          "state": {
            "_model_module": "@jupyter-widgets/base",
            "_model_module_version": "1.2.0",
            "_model_name": "LayoutModel",
            "_view_count": null,
            "_view_module": "@jupyter-widgets/base",
            "_view_module_version": "1.2.0",
            "_view_name": "LayoutView",
            "align_content": null,
            "align_items": null,
            "align_self": null,
            "border": null,
            "bottom": null,
            "display": null,
            "flex": null,
            "flex_flow": null,
            "grid_area": null,
            "grid_auto_columns": null,
            "grid_auto_flow": null,
            "grid_auto_rows": null,
            "grid_column": null,
            "grid_gap": null,
            "grid_row": null,
            "grid_template_areas": null,
            "grid_template_columns": null,
            "grid_template_rows": null,
            "height": null,
            "justify_content": null,
            "justify_items": null,
            "left": null,
            "margin": null,
            "max_height": null,
            "max_width": null,
            "min_height": null,
            "min_width": null,
            "object_fit": null,
            "object_position": null,
            "order": null,
            "overflow": null,
            "overflow_x": null,
            "overflow_y": null,
            "padding": null,
            "right": null,
            "top": null,
            "visibility": null,
            "width": null
          }
        },
        "4214a269767c40dfb6e2b5cbe32250e4": {
          "model_module": "@jupyter-widgets/controls",
          "model_name": "DescriptionStyleModel",
          "model_module_version": "1.5.0",
          "state": {
            "_model_module": "@jupyter-widgets/controls",
            "_model_module_version": "1.5.0",
            "_model_name": "DescriptionStyleModel",
            "_view_count": null,
            "_view_module": "@jupyter-widgets/base",
            "_view_module_version": "1.2.0",
            "_view_name": "StyleView",
            "description_width": ""
          }
        },
        "e3b782ebee99413bb2a557892370f77c": {
          "model_module": "@jupyter-widgets/base",
          "model_name": "LayoutModel",
          "model_module_version": "1.2.0",
          "state": {
            "_model_module": "@jupyter-widgets/base",
            "_model_module_version": "1.2.0",
            "_model_name": "LayoutModel",
            "_view_count": null,
            "_view_module": "@jupyter-widgets/base",
            "_view_module_version": "1.2.0",
            "_view_name": "LayoutView",
            "align_content": null,
            "align_items": null,
            "align_self": null,
            "border": null,
            "bottom": null,
            "display": null,
            "flex": null,
            "flex_flow": null,
            "grid_area": null,
            "grid_auto_columns": null,
            "grid_auto_flow": null,
            "grid_auto_rows": null,
            "grid_column": null,
            "grid_gap": null,
            "grid_row": null,
            "grid_template_areas": null,
            "grid_template_columns": null,
            "grid_template_rows": null,
            "height": null,
            "justify_content": null,
            "justify_items": null,
            "left": null,
            "margin": null,
            "max_height": null,
            "max_width": null,
            "min_height": null,
            "min_width": null,
            "object_fit": null,
            "object_position": null,
            "order": null,
            "overflow": null,
            "overflow_x": null,
            "overflow_y": null,
            "padding": null,
            "right": null,
            "top": null,
            "visibility": null,
            "width": null
          }
        },
        "1981800ab58240bea04ad06755ee86e8": {
          "model_module": "@jupyter-widgets/controls",
          "model_name": "ProgressStyleModel",
          "model_module_version": "1.5.0",
          "state": {
            "_model_module": "@jupyter-widgets/controls",
            "_model_module_version": "1.5.0",
            "_model_name": "ProgressStyleModel",
            "_view_count": null,
            "_view_module": "@jupyter-widgets/base",
            "_view_module_version": "1.2.0",
            "_view_name": "StyleView",
            "bar_color": null,
            "description_width": ""
          }
        },
        "2626e0b206d74b328275c54bd4688b5a": {
          "model_module": "@jupyter-widgets/base",
          "model_name": "LayoutModel",
          "model_module_version": "1.2.0",
          "state": {
            "_model_module": "@jupyter-widgets/base",
            "_model_module_version": "1.2.0",
            "_model_name": "LayoutModel",
            "_view_count": null,
            "_view_module": "@jupyter-widgets/base",
            "_view_module_version": "1.2.0",
            "_view_name": "LayoutView",
            "align_content": null,
            "align_items": null,
            "align_self": null,
            "border": null,
            "bottom": null,
            "display": null,
            "flex": null,
            "flex_flow": null,
            "grid_area": null,
            "grid_auto_columns": null,
            "grid_auto_flow": null,
            "grid_auto_rows": null,
            "grid_column": null,
            "grid_gap": null,
            "grid_row": null,
            "grid_template_areas": null,
            "grid_template_columns": null,
            "grid_template_rows": null,
            "height": null,
            "justify_content": null,
            "justify_items": null,
            "left": null,
            "margin": null,
            "max_height": null,
            "max_width": null,
            "min_height": null,
            "min_width": null,
            "object_fit": null,
            "object_position": null,
            "order": null,
            "overflow": null,
            "overflow_x": null,
            "overflow_y": null,
            "padding": null,
            "right": null,
            "top": null,
            "visibility": null,
            "width": null
          }
        },
        "549185537d924f3bbb4487e7ed36e405": {
          "model_module": "@jupyter-widgets/controls",
          "model_name": "DescriptionStyleModel",
          "model_module_version": "1.5.0",
          "state": {
            "_model_module": "@jupyter-widgets/controls",
            "_model_module_version": "1.5.0",
            "_model_name": "DescriptionStyleModel",
            "_view_count": null,
            "_view_module": "@jupyter-widgets/base",
            "_view_module_version": "1.2.0",
            "_view_name": "StyleView",
            "description_width": ""
          }
        },
        "71c0de5291a1422ea865824cab489143": {
          "model_module": "@jupyter-widgets/controls",
          "model_name": "HBoxModel",
          "model_module_version": "1.5.0",
          "state": {
            "_dom_classes": [],
            "_model_module": "@jupyter-widgets/controls",
            "_model_module_version": "1.5.0",
            "_model_name": "HBoxModel",
            "_view_count": null,
            "_view_module": "@jupyter-widgets/controls",
            "_view_module_version": "1.5.0",
            "_view_name": "HBoxView",
            "box_style": "",
            "children": [
              "IPY_MODEL_0a9a5d99422e448da1559af456ac7460",
              "IPY_MODEL_965084cf0e9f43eea8dcb692aeef8295",
              "IPY_MODEL_468b69f8dcfb433c830447340662ddac"
            ],
            "layout": "IPY_MODEL_13dbd065a14d47139a8cd5ac2f506aef"
          }
        },
        "0a9a5d99422e448da1559af456ac7460": {
          "model_module": "@jupyter-widgets/controls",
          "model_name": "HTMLModel",
          "model_module_version": "1.5.0",
          "state": {
            "_dom_classes": [],
            "_model_module": "@jupyter-widgets/controls",
            "_model_module_version": "1.5.0",
            "_model_name": "HTMLModel",
            "_view_count": null,
            "_view_module": "@jupyter-widgets/controls",
            "_view_module_version": "1.5.0",
            "_view_name": "HTMLView",
            "description": "",
            "description_tooltip": null,
            "layout": "IPY_MODEL_28e296c4034f4820828ada34b4e16945",
            "placeholder": "​",
            "style": "IPY_MODEL_ff40d6ea2c064b08ad61f86c49d66618",
            "value": "100%"
          }
        },
        "965084cf0e9f43eea8dcb692aeef8295": {
          "model_module": "@jupyter-widgets/controls",
          "model_name": "FloatProgressModel",
          "model_module_version": "1.5.0",
          "state": {
            "_dom_classes": [],
            "_model_module": "@jupyter-widgets/controls",
            "_model_module_version": "1.5.0",
            "_model_name": "FloatProgressModel",
            "_view_count": null,
            "_view_module": "@jupyter-widgets/controls",
            "_view_module_version": "1.5.0",
            "_view_name": "ProgressView",
            "bar_style": "success",
            "description": "",
            "description_tooltip": null,
            "layout": "IPY_MODEL_980c032bb396425abe23461a15092d7b",
            "max": 3,
            "min": 0,
            "orientation": "horizontal",
            "style": "IPY_MODEL_9f8b7071505b4601b38bcaf65a4d28ab",
            "value": 3
          }
        },
        "468b69f8dcfb433c830447340662ddac": {
          "model_module": "@jupyter-widgets/controls",
          "model_name": "HTMLModel",
          "model_module_version": "1.5.0",
          "state": {
            "_dom_classes": [],
            "_model_module": "@jupyter-widgets/controls",
            "_model_module_version": "1.5.0",
            "_model_name": "HTMLModel",
            "_view_count": null,
            "_view_module": "@jupyter-widgets/controls",
            "_view_module_version": "1.5.0",
            "_view_name": "HTMLView",
            "description": "",
            "description_tooltip": null,
            "layout": "IPY_MODEL_4c547c460de44508b58c8cb3b42897e2",
            "placeholder": "​",
            "style": "IPY_MODEL_bca29aa53a6b4c28904ecc5103cdc5bf",
            "value": " 3/3 [00:00&lt;00:00, 81.32it/s]"
          }
        },
        "13dbd065a14d47139a8cd5ac2f506aef": {
          "model_module": "@jupyter-widgets/base",
          "model_name": "LayoutModel",
          "model_module_version": "1.2.0",
          "state": {
            "_model_module": "@jupyter-widgets/base",
            "_model_module_version": "1.2.0",
            "_model_name": "LayoutModel",
            "_view_count": null,
            "_view_module": "@jupyter-widgets/base",
            "_view_module_version": "1.2.0",
            "_view_name": "LayoutView",
            "align_content": null,
            "align_items": null,
            "align_self": null,
            "border": null,
            "bottom": null,
            "display": null,
            "flex": null,
            "flex_flow": null,
            "grid_area": null,
            "grid_auto_columns": null,
            "grid_auto_flow": null,
            "grid_auto_rows": null,
            "grid_column": null,
            "grid_gap": null,
            "grid_row": null,
            "grid_template_areas": null,
            "grid_template_columns": null,
            "grid_template_rows": null,
            "height": null,
            "justify_content": null,
            "justify_items": null,
            "left": null,
            "margin": null,
            "max_height": null,
            "max_width": null,
            "min_height": null,
            "min_width": null,
            "object_fit": null,
            "object_position": null,
            "order": null,
            "overflow": null,
            "overflow_x": null,
            "overflow_y": null,
            "padding": null,
            "right": null,
            "top": null,
            "visibility": null,
            "width": null
          }
        },
        "28e296c4034f4820828ada34b4e16945": {
          "model_module": "@jupyter-widgets/base",
          "model_name": "LayoutModel",
          "model_module_version": "1.2.0",
          "state": {
            "_model_module": "@jupyter-widgets/base",
            "_model_module_version": "1.2.0",
            "_model_name": "LayoutModel",
            "_view_count": null,
            "_view_module": "@jupyter-widgets/base",
            "_view_module_version": "1.2.0",
            "_view_name": "LayoutView",
            "align_content": null,
            "align_items": null,
            "align_self": null,
            "border": null,
            "bottom": null,
            "display": null,
            "flex": null,
            "flex_flow": null,
            "grid_area": null,
            "grid_auto_columns": null,
            "grid_auto_flow": null,
            "grid_auto_rows": null,
            "grid_column": null,
            "grid_gap": null,
            "grid_row": null,
            "grid_template_areas": null,
            "grid_template_columns": null,
            "grid_template_rows": null,
            "height": null,
            "justify_content": null,
            "justify_items": null,
            "left": null,
            "margin": null,
            "max_height": null,
            "max_width": null,
            "min_height": null,
            "min_width": null,
            "object_fit": null,
            "object_position": null,
            "order": null,
            "overflow": null,
            "overflow_x": null,
            "overflow_y": null,
            "padding": null,
            "right": null,
            "top": null,
            "visibility": null,
            "width": null
          }
        },
        "ff40d6ea2c064b08ad61f86c49d66618": {
          "model_module": "@jupyter-widgets/controls",
          "model_name": "DescriptionStyleModel",
          "model_module_version": "1.5.0",
          "state": {
            "_model_module": "@jupyter-widgets/controls",
            "_model_module_version": "1.5.0",
            "_model_name": "DescriptionStyleModel",
            "_view_count": null,
            "_view_module": "@jupyter-widgets/base",
            "_view_module_version": "1.2.0",
            "_view_name": "StyleView",
            "description_width": ""
          }
        },
        "980c032bb396425abe23461a15092d7b": {
          "model_module": "@jupyter-widgets/base",
          "model_name": "LayoutModel",
          "model_module_version": "1.2.0",
          "state": {
            "_model_module": "@jupyter-widgets/base",
            "_model_module_version": "1.2.0",
            "_model_name": "LayoutModel",
            "_view_count": null,
            "_view_module": "@jupyter-widgets/base",
            "_view_module_version": "1.2.0",
            "_view_name": "LayoutView",
            "align_content": null,
            "align_items": null,
            "align_self": null,
            "border": null,
            "bottom": null,
            "display": null,
            "flex": null,
            "flex_flow": null,
            "grid_area": null,
            "grid_auto_columns": null,
            "grid_auto_flow": null,
            "grid_auto_rows": null,
            "grid_column": null,
            "grid_gap": null,
            "grid_row": null,
            "grid_template_areas": null,
            "grid_template_columns": null,
            "grid_template_rows": null,
            "height": null,
            "justify_content": null,
            "justify_items": null,
            "left": null,
            "margin": null,
            "max_height": null,
            "max_width": null,
            "min_height": null,
            "min_width": null,
            "object_fit": null,
            "object_position": null,
            "order": null,
            "overflow": null,
            "overflow_x": null,
            "overflow_y": null,
            "padding": null,
            "right": null,
            "top": null,
            "visibility": null,
            "width": null
          }
        },
        "9f8b7071505b4601b38bcaf65a4d28ab": {
          "model_module": "@jupyter-widgets/controls",
          "model_name": "ProgressStyleModel",
          "model_module_version": "1.5.0",
          "state": {
            "_model_module": "@jupyter-widgets/controls",
            "_model_module_version": "1.5.0",
            "_model_name": "ProgressStyleModel",
            "_view_count": null,
            "_view_module": "@jupyter-widgets/base",
            "_view_module_version": "1.2.0",
            "_view_name": "StyleView",
            "bar_color": null,
            "description_width": ""
          }
        },
        "4c547c460de44508b58c8cb3b42897e2": {
          "model_module": "@jupyter-widgets/base",
          "model_name": "LayoutModel",
          "model_module_version": "1.2.0",
          "state": {
            "_model_module": "@jupyter-widgets/base",
            "_model_module_version": "1.2.0",
            "_model_name": "LayoutModel",
            "_view_count": null,
            "_view_module": "@jupyter-widgets/base",
            "_view_module_version": "1.2.0",
            "_view_name": "LayoutView",
            "align_content": null,
            "align_items": null,
            "align_self": null,
            "border": null,
            "bottom": null,
            "display": null,
            "flex": null,
            "flex_flow": null,
            "grid_area": null,
            "grid_auto_columns": null,
            "grid_auto_flow": null,
            "grid_auto_rows": null,
            "grid_column": null,
            "grid_gap": null,
            "grid_row": null,
            "grid_template_areas": null,
            "grid_template_columns": null,
            "grid_template_rows": null,
            "height": null,
            "justify_content": null,
            "justify_items": null,
            "left": null,
            "margin": null,
            "max_height": null,
            "max_width": null,
            "min_height": null,
            "min_width": null,
            "object_fit": null,
            "object_position": null,
            "order": null,
            "overflow": null,
            "overflow_x": null,
            "overflow_y": null,
            "padding": null,
            "right": null,
            "top": null,
            "visibility": null,
            "width": null
          }
        },
        "bca29aa53a6b4c28904ecc5103cdc5bf": {
          "model_module": "@jupyter-widgets/controls",
          "model_name": "DescriptionStyleModel",
          "model_module_version": "1.5.0",
          "state": {
            "_model_module": "@jupyter-widgets/controls",
            "_model_module_version": "1.5.0",
            "_model_name": "DescriptionStyleModel",
            "_view_count": null,
            "_view_module": "@jupyter-widgets/base",
            "_view_module_version": "1.2.0",
            "_view_name": "StyleView",
            "description_width": ""
          }
        }
      }
    }
  },
  "nbformat": 4,
  "nbformat_minor": 0
}