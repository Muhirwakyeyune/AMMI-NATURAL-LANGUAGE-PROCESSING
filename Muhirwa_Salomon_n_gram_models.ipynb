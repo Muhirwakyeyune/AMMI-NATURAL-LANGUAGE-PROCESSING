{
  "cells": [
    {
      "cell_type": "markdown",
      "metadata": {
        "id": "view-in-github",
        "colab_type": "text"
      },
      "source": [
        "<a href=\"https://colab.research.google.com/github/Muhirwakyeyune/AMMI-NATURAL-LANGUAGE-PROCESSING/blob/main/Muhirwa_Salomon_n_gram_models.ipynb\" target=\"_parent\"><img src=\"https://colab.research.google.com/assets/colab-badge.svg\" alt=\"Open In Colab\"/></a>"
      ]
    },
    {
      "cell_type": "markdown",
      "metadata": {
        "id": "Ty33lKOr5_h9"
      },
      "source": [
        "\n",
        "<h1 style=\"font-family:verdana;font-size:300%;text-align:center;background-color:#f2f2f2;color:#0d0d0d\">AMMI NLP - Review sessions</h1>\n",
        "\n",
        "<h1 style=\"font-family:verdana;font-size:180%;text-align:Center;color:#993333\"> Lab 3: n-gram models </h1>"
      ]
    },
    {
      "cell_type": "markdown",
      "metadata": {
        "id": "yvQ85N0a5_h-"
      },
      "source": []
    },
    {
      "cell_type": "code",
      "source": [
        "from google.colab import drive\n",
        "drive.mount('/content/drive')"
      ],
      "metadata": {
        "id": "gCNd5jNa6FDC",
        "outputId": "fe8b23f2-d32b-4439-fc82-64e50ac98b89",
        "colab": {
          "base_uri": "https://localhost:8080/"
        }
      },
      "execution_count": 1,
      "outputs": [
        {
          "output_type": "stream",
          "name": "stdout",
          "text": [
            "Mounted at /content/drive\n"
          ]
        }
      ]
    },
    {
      "cell_type": "code",
      "execution_count": 26,
      "metadata": {
        "id": "xxwiUTFc5_h-"
      },
      "outputs": [],
      "source": [
        "import io, sys, math, re\n",
        "from collections import defaultdict\n",
        "import numpy as np"
      ]
    },
    {
      "cell_type": "code",
      "execution_count": 39,
      "metadata": {
        "id": "FR5l2Mjy5_h_"
      },
      "outputs": [],
      "source": [
        "# data_loader\n",
        "def load_data(filename):\n",
        "    '''\n",
        "    parameters:\n",
        "    filename (string): datafile\n",
        "\n",
        "    Returns:\n",
        "    data (list of lists): each list is a sentence of the text\n",
        "    vocab (dictionary): {word: no of times it appears in the text}\n",
        "    '''\n",
        "    fin = io.open(filename, 'r', encoding='utf-8')\n",
        "    data = []\n",
        "    vocab = defaultdict(lambda:0)\n",
        "    for line in fin:\n",
        "        sentence = line.split()\n",
        "        data.append(sentence)\n",
        "        for word in sentence:\n",
        "            vocab[word] += 1\n",
        "    return data, vocab"
      ]
    },
    {
      "cell_type": "code",
      "execution_count": 40,
      "metadata": {
        "id": "v2FDCjDx5_h_",
        "colab": {
          "base_uri": "https://localhost:8080/"
        },
        "outputId": "aa754750-29ce-40c6-c209-80f1f76507fc"
      },
      "outputs": [
        {
          "output_type": "stream",
          "name": "stdout",
          "text": [
            "load training set..\n",
            "\n",
            "\n",
            "['<s>', 'my', 'fathers', \"don't\", 'speak', 'dutch.', '</s>']\n",
            "\n",
            "\n",
            "how : 107\n",
            "load validation set\n"
          ]
        }
      ],
      "source": [
        "\n",
        "print(\"load training set..\")\n",
        "print(\"\\n\")\n",
        "train_data, vocab = load_data(\"/content/drive/MyDrive/session3/train1.txt\")\n",
        "print(train_data[0])\n",
        "print(\"\\n\")\n",
        "print(\"how :\",vocab['how'])\n",
        "print(\"load validation set\")\n",
        "valid_data, _ = load_data(\"/content/drive/MyDrive/session3/valid1.txt\")\n"
      ]
    },
    {
      "cell_type": "code",
      "execution_count": 41,
      "metadata": {
        "id": "sgjHtQ835_h_"
      },
      "outputs": [],
      "source": [
        "def remove_rare_words(data, vocab, mincount = 1):\n",
        "    '''\n",
        "    Parameters:\n",
        "    data (list of lists): each list is a sentence of the text\n",
        "    vocab (dictionary): {word: no of times it appears in the text}\n",
        "    mincount(int): the minimum count\n",
        "\n",
        "    Returns:\n",
        "    data_with_unk(list of lists): data after replacing rare words with <unk> token\n",
        "    '''\n",
        "    # replace words in data that are not in the vocab\n",
        "    # or have a count that is below mincount\n",
        "    data_with_unk = []\n",
        "\n",
        "    ## FILL CODE\n",
        "    for sentence in data:\n",
        "      sentence_with_unk=[]\n",
        "      for word in sentence:\n",
        "        if word not in vocab or vocab[word] <= mincount:\n",
        "          sentence_with_unk.append('<unk>')\n",
        "        else:\n",
        "          sentence_with_unk.append(word)\n",
        "      data_with_unk.append(sentence_with_unk)\n",
        "    return data_with_unk"
      ]
    },
    {
      "cell_type": "code",
      "execution_count": 42,
      "metadata": {
        "id": "Thx30a3i5_h_",
        "colab": {
          "base_uri": "https://localhost:8080/"
        },
        "outputId": "f5fa36de-f55f-4dda-e4e8-1e1f15cf918d"
      },
      "outputs": [
        {
          "output_type": "stream",
          "name": "stdout",
          "text": [
            "remove rare words\n",
            "['<s>', 'my', '<unk>', \"don't\", 'speak', '<unk>', '</s>']\n"
          ]
        }
      ],
      "source": [
        "\n",
        "print(\"remove rare words\")\n",
        "train_data = remove_rare_words(train_data, vocab, mincount = 1)\n",
        "valid_data = remove_rare_words(valid_data, vocab, mincount = 1)\n",
        "#train_data\n",
        "print(train_data[0])\n"
      ]
    },
    {
      "cell_type": "code",
      "execution_count": 53,
      "metadata": {
        "id": "vLgbO2sK5_h_"
      },
      "outputs": [],
      "source": [
        "def build_ngram(data, n):\n",
        "    '''\n",
        "    Parameters:\n",
        "    data (list of lists): each list is a sentence of the text\n",
        "    n (int): size of the n-gram\n",
        "\n",
        "    Returns:\n",
        "    prob (dictionary of dictionary)\n",
        "    {\n",
        "        context: {word:probability of this word given context}\n",
        "    }\n",
        "    '''\n",
        "    total_number_words = 0\n",
        "    counts = defaultdict(lambda: defaultdict(lambda: 0.0))\n",
        "\n",
        "    for sentence in data:\n",
        "        sentence = tuple(sentence)\n",
        "        ## FILL CODE\n",
        "        # dict can be indexed by tuples\n",
        "        # store in the same dict all the ngrams\n",
        "        # by using the context as a key and the word as a value\n",
        "        for i in range(len(sentence) -n + 1):\n",
        "          context=sentence[i:i + n-1]\n",
        "          word=sentence[i +  n- 1]\n",
        "          counts[context][word] +=1\n",
        "          total_number_words +=1\n",
        "\n",
        "\n",
        "    prob = defaultdict(lambda: defaultdict(lambda: 0.0))\n",
        "    # Build the probabilities from the counts\n",
        "    # Be careful with how you normalize!\n",
        "\n",
        "    for context in counts.keys():\n",
        "    ## FILL CODE\n",
        "      context_total = sum(counts[context].values())\n",
        "      for word in counts[context].keys():\n",
        "          prob[context][word] = counts[context][word] / context_total\n",
        "\n",
        "    return prob"
      ]
    },
    {
      "cell_type": "code",
      "execution_count": 54,
      "metadata": {
        "id": "1_vBiAX05_h_",
        "colab": {
          "base_uri": "https://localhost:8080/"
        },
        "outputId": "6bde733c-9f7d-4911-ea4f-84accaf64a87"
      },
      "outputs": [
        {
          "output_type": "stream",
          "name": "stdout",
          "text": [
            "build ngram model with n =  2\n"
          ]
        }
      ],
      "source": [
        "# RUN TO BUILD NGRAM MODEL\n",
        "\n",
        "n = 2\n",
        "print(\"build ngram model with n = \", n)\n",
        "model = build_ngram(train_data, n)"
      ]
    },
    {
      "cell_type": "markdown",
      "metadata": {
        "id": "Y9C51dyz5_h_"
      },
      "source": [
        "Here, implement a recursive function over shorter and shorter context to compute a \"stupid backoff model\". An interpolation model can also be implemented this way."
      ]
    },
    {
      "cell_type": "code",
      "source": [
        "def get_prob(model, context, w):\n",
        "    '''\n",
        "    Parameters:\n",
        "    model (dictionary of dictionary)\n",
        "    {\n",
        "        context: {word: probability of this word given context}\n",
        "    }\n",
        "    context (list of strings): a sentence\n",
        "    w(string): the word we need to find its probability given the context\n",
        "\n",
        "    Returns:\n",
        "    prob(float): probability of this word given the context\n",
        "    '''\n",
        "    # code a recursive function over\n",
        "    # smaller and smaller context\n",
        "    # to compute the backoff model\n",
        "\n",
        "    ## FILL CODE\n",
        "\n",
        "\n",
        "    if len(context) == 0:\n",
        "        return 0.0\n",
        "\n",
        "    # Convert the context to a tuple\n",
        "    context = tuple(context)\n",
        "\n",
        "    if context in model and w in model[context]:\n",
        "        return model[context][w]\n",
        "\n",
        "    # If the context is not in the model, recursively backoff to smaller context\n",
        "    return get_prob(model, context[1:], w)"
      ],
      "metadata": {
        "id": "rQr6SGxjGFlI"
      },
      "execution_count": 55,
      "outputs": []
    },
    {
      "cell_type": "code",
      "execution_count": null,
      "metadata": {
        "id": "3LxR9oH55_iA"
      },
      "outputs": [],
      "source": [
        "def perplexity(model, data, n):\n",
        "    '''\n",
        "    Parameters:\n",
        "    model (dictionary of dictionary)\n",
        "    {\n",
        "        context: {word:probability of this word given context}\n",
        "    }\n",
        "    data (list of lists): each list is a sentence of the text\n",
        "    n(int): size of the n-gram\n",
        "\n",
        "    Retunrs:\n",
        "    perp(float): the perplexity of the model\n",
        "    '''\n",
        "    ## FILL CODE\n",
        "\n",
        "    return 0.0"
      ]
    },
    {
      "cell_type": "code",
      "source": [
        "\n",
        "\n",
        "def perplexity(model, data, n):\n",
        "    '''\n",
        "    Parameters:\n",
        "    model (dictionary of dictionary)\n",
        "    {\n",
        "        context: {word: probability of this word given context}\n",
        "    }\n",
        "    data (list of lists): each list is a sentence of the text\n",
        "    n (int): size of the n-gram\n",
        "\n",
        "    Returns:\n",
        "    perp (float): the perplexity of the model\n",
        "    '''\n",
        "\n",
        "    total_log_prob = 0.0\n",
        "    total_words = 0\n",
        "\n",
        "    for sentence in data:\n",
        "        sentence = tuple(sentence)\n",
        "\n",
        "        for i in range(n - 1, len(sentence)):\n",
        "            context = sentence[i - n + 1:i]\n",
        "            word = sentence[i]\n",
        "\n",
        "            # Compute the log probability of the word given the context\n",
        "            log_prob = np.log(get_prob(model, context, word) + 1e-10)\n",
        "\n",
        "            total_log_prob += log_prob\n",
        "            total_words += 1\n",
        "\n",
        "    # Compute the average log probability\n",
        "    avg_log_prob = total_log_prob / total_words\n",
        "\n",
        "    # Compute perplexity as the exponentiation of the negative average log probability\n",
        "    perp = math.exp(-avg_log_prob)\n",
        "\n",
        "    return perp"
      ],
      "metadata": {
        "id": "sMbyZMGHHBT8"
      },
      "execution_count": 60,
      "outputs": []
    },
    {
      "cell_type": "code",
      "execution_count": 61,
      "metadata": {
        "id": "9YNYSxQo5_iA",
        "colab": {
          "base_uri": "https://localhost:8080/"
        },
        "outputId": "448a38c1-12cb-4159-fd8c-5e02ec45a650"
      },
      "outputs": [
        {
          "output_type": "stream",
          "name": "stdout",
          "text": [
            "The perplexity is 819.468085403767\n"
          ]
        }
      ],
      "source": [
        "# COMPUTE PERPLEXITY ON VALIDATION SET\n",
        "\n",
        "print(\"The perplexity is\", perplexity(model, valid_data, n=n))"
      ]
    },
    {
      "cell_type": "code",
      "execution_count": null,
      "metadata": {
        "id": "Z34tqnNX5_iA"
      },
      "outputs": [],
      "source": [
        "def get_proba_distrib(model, context):\n",
        "    ## need to get the the words after the context and their probability of appearance\n",
        "    ## after this context\n",
        "    '''\n",
        "    Parameters:\n",
        "    model (dictionary of dictionary)\n",
        "    {\n",
        "        context: {word:probability of this word given context}\n",
        "    }\n",
        "    context (list of strings): the sentence we need to find the words after it and\n",
        "    thier probabilites\n",
        "\n",
        "    Retunrs:\n",
        "    words_and_probs(dic): {word: probability of word given context}\n",
        "\n",
        "    '''\n",
        "    # code a recursive function over context\n",
        "    # to find the longest available ngram\n",
        "\n",
        "    ## FILL CODE\n",
        "\n",
        "    return None"
      ]
    },
    {
      "cell_type": "code",
      "source": [
        "def get_proba_distrib(model, context):\n",
        "    '''\n",
        "    Parameters:\n",
        "    model (dictionary of dictionary)\n",
        "    {\n",
        "        context: {word: probability of this word given context}\n",
        "    }\n",
        "    context (list of strings): the sentence we need to find the words after it and\n",
        "    their probabilities\n",
        "\n",
        "    Returns:\n",
        "    words_and_probs (dict): {word: probability of word given context}\n",
        "    '''\n",
        "\n",
        "    words_and_probs = {}\n",
        "\n",
        "    # Start with the full context and gradually reduce it until a matching n-gram is found\n",
        "    while len(context) > 0:\n",
        "        if tuple(context) in model:\n",
        "            words_and_probs = model[tuple(context)]\n",
        "            break\n",
        "        else:\n",
        "            context = context[1:]\n",
        "\n",
        "    return words_and_probs"
      ],
      "metadata": {
        "id": "RT2cc0VqIXhh"
      },
      "execution_count": 62,
      "outputs": []
    },
    {
      "cell_type": "code",
      "execution_count": null,
      "metadata": {
        "id": "3GfX1onP5_iA"
      },
      "outputs": [],
      "source": [
        "def generate(model):\n",
        "    '''\n",
        "    Parameters:\n",
        "    model (dictionary of dictionary)\n",
        "    {\n",
        "        context: {word:probability of this word given context}\n",
        "    }\n",
        "\n",
        "    Retunrs:\n",
        "    sentence (list of strings): a sentence sampled according to the language model.\n",
        "\n",
        "\n",
        "    '''\n",
        "    # generate a sentence. A sentence starts with a <s> and ends with a </s>\n",
        "    # Possiblly a use function is:\n",
        "    # np.random.choice(x, 1, p = y)\n",
        "\n",
        "    # where x is a list of things to sample from\n",
        "    # and y is a list of probability (of the same length as x)\n",
        "    sentence = [\"<s>\"]\n",
        "    while sentence[-1] != \"</s>\" and len(sentence)<100:\n",
        "        ## FILL CODE\n",
        "\n",
        "    return sentence"
      ]
    },
    {
      "cell_type": "code",
      "source": [
        "import numpy as np\n",
        "\n",
        "def generate(model):\n",
        "    '''\n",
        "    Parameters:\n",
        "    model (dictionary of dictionary)\n",
        "    {\n",
        "        context: {word: probability of this word given context}\n",
        "    }\n",
        "\n",
        "    Returns:\n",
        "    sentence (list of strings): a sentence sampled according to the language model.\n",
        "    '''\n",
        "\n",
        "    sentence = [\"<s>\"]\n",
        "    while sentence[-1] != \"</s>\" and len(sentence) < 100:\n",
        "        context = sentence[-n:]  # Get the last n words as the context\n",
        "        word_probs = get_proba_distrib(model, context)  # Get the word probability distribution given the context\n",
        "        words = list(word_probs.keys())\n",
        "        probs = list(word_probs.values())\n",
        "        next_word = np.random.choice(words, 1, p=probs)[0]  # Sample the next word based on the probabilities\n",
        "        sentence.append(next_word)\n",
        "\n",
        "    return sentence"
      ],
      "metadata": {
        "id": "xZgE3tgpJDvs"
      },
      "execution_count": 63,
      "outputs": []
    },
    {
      "cell_type": "code",
      "execution_count": 64,
      "metadata": {
        "id": "nBIg84Z95_iA",
        "colab": {
          "base_uri": "https://localhost:8080/"
        },
        "outputId": "e1002fb6-ab39-48ec-aa0c-d55ddefde8d1"
      },
      "outputs": [
        {
          "output_type": "stream",
          "name": "stdout",
          "text": [
            "Generated sentence:  ['<s>', 'as', 'it', 'was', 'traveling', 'by', 'ourselves.', '</s>']\n"
          ]
        }
      ],
      "source": [
        "# GENERATE A SENTENCE FROM THE MODEL\n",
        "\n",
        "print(\"Generated sentence: \",generate(model))"
      ]
    },
    {
      "cell_type": "markdown",
      "metadata": {
        "id": "ovU1BPIW5_iA"
      },
      "source": [
        "Once you are done implementing the model, evaluation and generation code, you can try changing the value of `n`, and play with a larger training set (`train2.txt` and `valid2.txt`). You can also try to implement an interpolation model."
      ]
    },
    {
      "cell_type": "code",
      "execution_count": null,
      "metadata": {
        "id": "e691n3ir5_iA"
      },
      "outputs": [],
      "source": []
    }
  ],
  "metadata": {
    "kernelspec": {
      "display_name": "Python 3",
      "language": "python",
      "name": "python3"
    },
    "language_info": {
      "codemirror_mode": {
        "name": "ipython",
        "version": 3
      },
      "file_extension": ".py",
      "mimetype": "text/x-python",
      "name": "python",
      "nbconvert_exporter": "python",
      "pygments_lexer": "ipython3",
      "version": "3.6.2+"
    },
    "colab": {
      "provenance": [],
      "include_colab_link": true
    }
  },
  "nbformat": 4,
  "nbformat_minor": 0
}